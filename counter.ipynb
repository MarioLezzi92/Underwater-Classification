{
 "cells": [
  {
   "cell_type": "code",
   "execution_count": 1,
   "id": "initial_id",
   "metadata": {
    "collapsed": true,
    "ExecuteTime": {
     "end_time": "2024-07-05T10:24:32.309186Z",
     "start_time": "2024-07-05T10:24:32.280489Z"
    }
   },
   "outputs": [],
   "source": [
    "import pandas as pd\n",
    "\n",
    "import preprocessing"
   ]
  },
  {
   "cell_type": "markdown",
   "source": [
    "lettura del csv e conversione in un dataset pandas"
   ],
   "metadata": {
    "collapsed": false
   },
   "id": "948298ce8148398b"
  },
  {
   "cell_type": "code",
   "outputs": [
    {
     "data": {
      "text/plain": "                                       Nome file      Classe    Sottoclasse  \\\n0           0f9867d8-fcf7-40d1-b846-3f7fb8100eb7  Non-Target  Ambient Noise   \n1           2b68b3a9-7c0d-4452-bbe5-cc99b5d4fb61  Non-Target  Ambient Noise   \n2           2f574049-3325-446c-a8ac-2e5b31e9e32f  Non-Target  Ambient Noise   \n3           30679527-fd7a-4cad-8c7d-cb1bcc07604d  Non-Target  Ambient Noise   \n4           f9652ad2-39f5-41b4-a8e4-89171a864f03  Non-Target  Ambient Noise   \n...                                          ...         ...            ...   \n2608    SanctSound_OC01_03_ship_20191106T223751Z      Target         Vessel   \n2609    SanctSound_OC02_01_ship_20190419T233040Z      Target         Vessel   \n2610    SanctSound_OC03_02_ship_20200228T080107Z      Target         Vessel   \n2611  SanctSound_SB03_09_vessel_20200415T161235Z      Target         Vessel   \n2612                                  ship_small      Target         Vessel   \n\n      Ampiezza del segnale     Durata  Frequenza  Numero di canali      Fase  \\\n0                 0.226044  31.207619      44100                 1 -0.068604   \n1                 0.646515  31.207619      44100                 1  0.003296   \n2                 0.391663  31.207619      44100                 1 -0.031097   \n3                 0.200378  31.207619      44100                 1  0.013184   \n4                 0.753693  31.207619      44100                 1  0.050873   \n...                    ...        ...        ...               ...       ...   \n2608              0.251190   5.305042      48000                 1  0.000000   \n2609              0.326782  60.000000      48000                 1  0.000000   \n2610              0.251190  60.000000      48000                 1  0.000000   \n2611              0.251099   5.000021      48000                 1  0.000000   \n2612              0.690460  51.876000      32000                 1  0.000000   \n\n      Frequenza massima interna Bit Depth Forma d'onda  \n0                           0.0    Signed   (1376256,)  \n1                           0.0    Signed   (1376256,)  \n2                           0.0    Signed   (1376256,)  \n3                           0.0    Signed   (1376256,)  \n4                           0.0    Signed   (1376256,)  \n...                         ...       ...          ...  \n2608                        0.0    Signed    (254642,)  \n2609                        0.0    Signed   (2880000,)  \n2610                        0.0    Signed   (2880000,)  \n2611                        0.0    Signed    (240001,)  \n2612                        0.0    Signed   (1660032,)  \n\n[2613 rows x 11 columns]",
      "text/html": "<div>\n<style scoped>\n    .dataframe tbody tr th:only-of-type {\n        vertical-align: middle;\n    }\n\n    .dataframe tbody tr th {\n        vertical-align: top;\n    }\n\n    .dataframe thead th {\n        text-align: right;\n    }\n</style>\n<table border=\"1\" class=\"dataframe\">\n  <thead>\n    <tr style=\"text-align: right;\">\n      <th></th>\n      <th>Nome file</th>\n      <th>Classe</th>\n      <th>Sottoclasse</th>\n      <th>Ampiezza del segnale</th>\n      <th>Durata</th>\n      <th>Frequenza</th>\n      <th>Numero di canali</th>\n      <th>Fase</th>\n      <th>Frequenza massima interna</th>\n      <th>Bit Depth</th>\n      <th>Forma d'onda</th>\n    </tr>\n  </thead>\n  <tbody>\n    <tr>\n      <th>0</th>\n      <td>0f9867d8-fcf7-40d1-b846-3f7fb8100eb7</td>\n      <td>Non-Target</td>\n      <td>Ambient Noise</td>\n      <td>0.226044</td>\n      <td>31.207619</td>\n      <td>44100</td>\n      <td>1</td>\n      <td>-0.068604</td>\n      <td>0.0</td>\n      <td>Signed</td>\n      <td>(1376256,)</td>\n    </tr>\n    <tr>\n      <th>1</th>\n      <td>2b68b3a9-7c0d-4452-bbe5-cc99b5d4fb61</td>\n      <td>Non-Target</td>\n      <td>Ambient Noise</td>\n      <td>0.646515</td>\n      <td>31.207619</td>\n      <td>44100</td>\n      <td>1</td>\n      <td>0.003296</td>\n      <td>0.0</td>\n      <td>Signed</td>\n      <td>(1376256,)</td>\n    </tr>\n    <tr>\n      <th>2</th>\n      <td>2f574049-3325-446c-a8ac-2e5b31e9e32f</td>\n      <td>Non-Target</td>\n      <td>Ambient Noise</td>\n      <td>0.391663</td>\n      <td>31.207619</td>\n      <td>44100</td>\n      <td>1</td>\n      <td>-0.031097</td>\n      <td>0.0</td>\n      <td>Signed</td>\n      <td>(1376256,)</td>\n    </tr>\n    <tr>\n      <th>3</th>\n      <td>30679527-fd7a-4cad-8c7d-cb1bcc07604d</td>\n      <td>Non-Target</td>\n      <td>Ambient Noise</td>\n      <td>0.200378</td>\n      <td>31.207619</td>\n      <td>44100</td>\n      <td>1</td>\n      <td>0.013184</td>\n      <td>0.0</td>\n      <td>Signed</td>\n      <td>(1376256,)</td>\n    </tr>\n    <tr>\n      <th>4</th>\n      <td>f9652ad2-39f5-41b4-a8e4-89171a864f03</td>\n      <td>Non-Target</td>\n      <td>Ambient Noise</td>\n      <td>0.753693</td>\n      <td>31.207619</td>\n      <td>44100</td>\n      <td>1</td>\n      <td>0.050873</td>\n      <td>0.0</td>\n      <td>Signed</td>\n      <td>(1376256,)</td>\n    </tr>\n    <tr>\n      <th>...</th>\n      <td>...</td>\n      <td>...</td>\n      <td>...</td>\n      <td>...</td>\n      <td>...</td>\n      <td>...</td>\n      <td>...</td>\n      <td>...</td>\n      <td>...</td>\n      <td>...</td>\n      <td>...</td>\n    </tr>\n    <tr>\n      <th>2608</th>\n      <td>SanctSound_OC01_03_ship_20191106T223751Z</td>\n      <td>Target</td>\n      <td>Vessel</td>\n      <td>0.251190</td>\n      <td>5.305042</td>\n      <td>48000</td>\n      <td>1</td>\n      <td>0.000000</td>\n      <td>0.0</td>\n      <td>Signed</td>\n      <td>(254642,)</td>\n    </tr>\n    <tr>\n      <th>2609</th>\n      <td>SanctSound_OC02_01_ship_20190419T233040Z</td>\n      <td>Target</td>\n      <td>Vessel</td>\n      <td>0.326782</td>\n      <td>60.000000</td>\n      <td>48000</td>\n      <td>1</td>\n      <td>0.000000</td>\n      <td>0.0</td>\n      <td>Signed</td>\n      <td>(2880000,)</td>\n    </tr>\n    <tr>\n      <th>2610</th>\n      <td>SanctSound_OC03_02_ship_20200228T080107Z</td>\n      <td>Target</td>\n      <td>Vessel</td>\n      <td>0.251190</td>\n      <td>60.000000</td>\n      <td>48000</td>\n      <td>1</td>\n      <td>0.000000</td>\n      <td>0.0</td>\n      <td>Signed</td>\n      <td>(2880000,)</td>\n    </tr>\n    <tr>\n      <th>2611</th>\n      <td>SanctSound_SB03_09_vessel_20200415T161235Z</td>\n      <td>Target</td>\n      <td>Vessel</td>\n      <td>0.251099</td>\n      <td>5.000021</td>\n      <td>48000</td>\n      <td>1</td>\n      <td>0.000000</td>\n      <td>0.0</td>\n      <td>Signed</td>\n      <td>(240001,)</td>\n    </tr>\n    <tr>\n      <th>2612</th>\n      <td>ship_small</td>\n      <td>Target</td>\n      <td>Vessel</td>\n      <td>0.690460</td>\n      <td>51.876000</td>\n      <td>32000</td>\n      <td>1</td>\n      <td>0.000000</td>\n      <td>0.0</td>\n      <td>Signed</td>\n      <td>(1660032,)</td>\n    </tr>\n  </tbody>\n</table>\n<p>2613 rows × 11 columns</p>\n</div>"
     },
     "execution_count": 2,
     "metadata": {},
     "output_type": "execute_result"
    }
   ],
   "source": [
    "audio_pp = pd.read_csv('audio_features_dataset_prep.csv')\n",
    "audio_pp "
   ],
   "metadata": {
    "collapsed": false,
    "ExecuteTime": {
     "end_time": "2024-07-05T10:24:32.339813Z",
     "start_time": "2024-07-05T10:24:32.310272Z"
    }
   },
   "id": "102bf4596c2d4ffe",
   "execution_count": 2
  }
 ],
 "metadata": {
  "kernelspec": {
   "display_name": "Python 3",
   "language": "python",
   "name": "python3"
  },
  "language_info": {
   "codemirror_mode": {
    "name": "ipython",
    "version": 2
   },
   "file_extension": ".py",
   "mimetype": "text/x-python",
   "name": "python",
   "nbconvert_exporter": "python",
   "pygments_lexer": "ipython2",
   "version": "2.7.6"
  }
 },
 "nbformat": 4,
 "nbformat_minor": 5
}
