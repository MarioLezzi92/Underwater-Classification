{
 "cells": [
  {
   "cell_type": "code",
   "execution_count": 77,
   "id": "initial_id",
   "metadata": {
    "collapsed": true,
    "ExecuteTime": {
     "end_time": "2024-06-28T12:31:44.554240Z",
     "start_time": "2024-06-28T12:31:44.549973Z"
    }
   },
   "outputs": [],
   "source": [
    "import pandas as pd"
   ]
  },
  {
   "cell_type": "markdown",
   "source": [
    "lettura del csv e conversione in un dataset pandas"
   ],
   "metadata": {
    "collapsed": false
   },
   "id": "948298ce8148398b"
  },
  {
   "cell_type": "code",
   "outputs": [],
   "source": [
    "audio_df = pd.read_csv('audio_features_dataset.csv')"
   ],
   "metadata": {
    "collapsed": false,
    "ExecuteTime": {
     "end_time": "2024-06-28T12:31:44.608261Z",
     "start_time": "2024-06-28T12:31:44.592594Z"
    }
   },
   "id": "a46cca7d0a656a7e",
   "execution_count": 78
  },
  {
   "cell_type": "markdown",
   "source": [
    "stampa tutti i file audio "
   ],
   "metadata": {
    "collapsed": false
   },
   "id": "61a1b368d6303337"
  },
  {
   "cell_type": "code",
   "outputs": [
    {
     "data": {
      "text/plain": "                                       Nome file      Classe    Sottoclasse  \\\n0           0f9867d8-fcf7-40d1-b846-3f7fb8100eb7  Non-Target  Ambient Noise   \n1           2b68b3a9-7c0d-4452-bbe5-cc99b5d4fb61  Non-Target  Ambient Noise   \n2           2f574049-3325-446c-a8ac-2e5b31e9e32f  Non-Target  Ambient Noise   \n3           30679527-fd7a-4cad-8c7d-cb1bcc07604d  Non-Target  Ambient Noise   \n4           f9652ad2-39f5-41b4-a8e4-89171a864f03  Non-Target  Ambient Noise   \n...                                          ...         ...            ...   \n2658    SanctSound_OC01_03_ship_20191106T223751Z      Target         Vessel   \n2659    SanctSound_OC02_01_ship_20190419T233040Z      Target         Vessel   \n2660    SanctSound_OC03_02_ship_20200228T080107Z      Target         Vessel   \n2661  SanctSound_SB03_09_vessel_20200415T161235Z      Target         Vessel   \n2662                                  ship_small      Target         Vessel   \n\n      Ampiezza del segnale     Durata  Frequenza  Numero di canali      Fase  \\\n0                 0.226026  31.207619      44100                 1 -0.068573   \n1                 0.646487  31.207619      44100                 1  0.003324   \n2                 0.391676  31.207619      44100                 1 -0.031078   \n3                 0.200377  31.207619      44100                 1  0.013213   \n4                 0.753663  31.207619      44100                 1  0.050887   \n...                    ...        ...        ...               ...       ...   \n2658              0.251221   5.305042      48000                 1  0.000000   \n2659              0.326813  60.000000      48000                 1  0.000000   \n2660              0.251221  60.000000      48000                 1 -0.000031   \n2661              0.251129   5.000021      48000                 1  0.000000   \n2662              0.690488  51.876000      32000                 2  0.000000   \n\n      Frequenza massima interna Bit Depth Forma d'onda  \n0                           0.0      MPEG   (1376256,)  \n1                           0.0      MPEG   (1376256,)  \n2                           0.0      MPEG   (1376256,)  \n3                           0.0      MPEG   (1376256,)  \n4                           0.0      MPEG   (1376256,)  \n...                         ...       ...          ...  \n2658                        0.0    Signed    (254642,)  \n2659                        0.0    Signed   (2880000,)  \n2660                        0.0    Signed   (2880000,)  \n2661                        0.0    Signed    (240001,)  \n2662                        0.0      MPEG   (1660032,)  \n\n[2663 rows x 11 columns]",
      "text/html": "<div>\n<style scoped>\n    .dataframe tbody tr th:only-of-type {\n        vertical-align: middle;\n    }\n\n    .dataframe tbody tr th {\n        vertical-align: top;\n    }\n\n    .dataframe thead th {\n        text-align: right;\n    }\n</style>\n<table border=\"1\" class=\"dataframe\">\n  <thead>\n    <tr style=\"text-align: right;\">\n      <th></th>\n      <th>Nome file</th>\n      <th>Classe</th>\n      <th>Sottoclasse</th>\n      <th>Ampiezza del segnale</th>\n      <th>Durata</th>\n      <th>Frequenza</th>\n      <th>Numero di canali</th>\n      <th>Fase</th>\n      <th>Frequenza massima interna</th>\n      <th>Bit Depth</th>\n      <th>Forma d'onda</th>\n    </tr>\n  </thead>\n  <tbody>\n    <tr>\n      <th>0</th>\n      <td>0f9867d8-fcf7-40d1-b846-3f7fb8100eb7</td>\n      <td>Non-Target</td>\n      <td>Ambient Noise</td>\n      <td>0.226026</td>\n      <td>31.207619</td>\n      <td>44100</td>\n      <td>1</td>\n      <td>-0.068573</td>\n      <td>0.0</td>\n      <td>MPEG</td>\n      <td>(1376256,)</td>\n    </tr>\n    <tr>\n      <th>1</th>\n      <td>2b68b3a9-7c0d-4452-bbe5-cc99b5d4fb61</td>\n      <td>Non-Target</td>\n      <td>Ambient Noise</td>\n      <td>0.646487</td>\n      <td>31.207619</td>\n      <td>44100</td>\n      <td>1</td>\n      <td>0.003324</td>\n      <td>0.0</td>\n      <td>MPEG</td>\n      <td>(1376256,)</td>\n    </tr>\n    <tr>\n      <th>2</th>\n      <td>2f574049-3325-446c-a8ac-2e5b31e9e32f</td>\n      <td>Non-Target</td>\n      <td>Ambient Noise</td>\n      <td>0.391676</td>\n      <td>31.207619</td>\n      <td>44100</td>\n      <td>1</td>\n      <td>-0.031078</td>\n      <td>0.0</td>\n      <td>MPEG</td>\n      <td>(1376256,)</td>\n    </tr>\n    <tr>\n      <th>3</th>\n      <td>30679527-fd7a-4cad-8c7d-cb1bcc07604d</td>\n      <td>Non-Target</td>\n      <td>Ambient Noise</td>\n      <td>0.200377</td>\n      <td>31.207619</td>\n      <td>44100</td>\n      <td>1</td>\n      <td>0.013213</td>\n      <td>0.0</td>\n      <td>MPEG</td>\n      <td>(1376256,)</td>\n    </tr>\n    <tr>\n      <th>4</th>\n      <td>f9652ad2-39f5-41b4-a8e4-89171a864f03</td>\n      <td>Non-Target</td>\n      <td>Ambient Noise</td>\n      <td>0.753663</td>\n      <td>31.207619</td>\n      <td>44100</td>\n      <td>1</td>\n      <td>0.050887</td>\n      <td>0.0</td>\n      <td>MPEG</td>\n      <td>(1376256,)</td>\n    </tr>\n    <tr>\n      <th>...</th>\n      <td>...</td>\n      <td>...</td>\n      <td>...</td>\n      <td>...</td>\n      <td>...</td>\n      <td>...</td>\n      <td>...</td>\n      <td>...</td>\n      <td>...</td>\n      <td>...</td>\n      <td>...</td>\n    </tr>\n    <tr>\n      <th>2658</th>\n      <td>SanctSound_OC01_03_ship_20191106T223751Z</td>\n      <td>Target</td>\n      <td>Vessel</td>\n      <td>0.251221</td>\n      <td>5.305042</td>\n      <td>48000</td>\n      <td>1</td>\n      <td>0.000000</td>\n      <td>0.0</td>\n      <td>Signed</td>\n      <td>(254642,)</td>\n    </tr>\n    <tr>\n      <th>2659</th>\n      <td>SanctSound_OC02_01_ship_20190419T233040Z</td>\n      <td>Target</td>\n      <td>Vessel</td>\n      <td>0.326813</td>\n      <td>60.000000</td>\n      <td>48000</td>\n      <td>1</td>\n      <td>0.000000</td>\n      <td>0.0</td>\n      <td>Signed</td>\n      <td>(2880000,)</td>\n    </tr>\n    <tr>\n      <th>2660</th>\n      <td>SanctSound_OC03_02_ship_20200228T080107Z</td>\n      <td>Target</td>\n      <td>Vessel</td>\n      <td>0.251221</td>\n      <td>60.000000</td>\n      <td>48000</td>\n      <td>1</td>\n      <td>-0.000031</td>\n      <td>0.0</td>\n      <td>Signed</td>\n      <td>(2880000,)</td>\n    </tr>\n    <tr>\n      <th>2661</th>\n      <td>SanctSound_SB03_09_vessel_20200415T161235Z</td>\n      <td>Target</td>\n      <td>Vessel</td>\n      <td>0.251129</td>\n      <td>5.000021</td>\n      <td>48000</td>\n      <td>1</td>\n      <td>0.000000</td>\n      <td>0.0</td>\n      <td>Signed</td>\n      <td>(240001,)</td>\n    </tr>\n    <tr>\n      <th>2662</th>\n      <td>ship_small</td>\n      <td>Target</td>\n      <td>Vessel</td>\n      <td>0.690488</td>\n      <td>51.876000</td>\n      <td>32000</td>\n      <td>2</td>\n      <td>0.000000</td>\n      <td>0.0</td>\n      <td>MPEG</td>\n      <td>(1660032,)</td>\n    </tr>\n  </tbody>\n</table>\n<p>2663 rows × 11 columns</p>\n</div>"
     },
     "execution_count": 79,
     "metadata": {},
     "output_type": "execute_result"
    }
   ],
   "source": [
    "audio_df"
   ],
   "metadata": {
    "collapsed": false,
    "ExecuteTime": {
     "end_time": "2024-06-28T12:31:44.625032Z",
     "start_time": "2024-06-28T12:31:44.609783Z"
    }
   },
   "id": "291dff8ebf8a43fc",
   "execution_count": 79
  },
  {
   "cell_type": "markdown",
   "source": [
    "risultano duplicati. Ricerca e stampa dei duplicati"
   ],
   "metadata": {
    "collapsed": false
   },
   "id": "c06b35d45b28fa5a"
  },
  {
   "cell_type": "code",
   "outputs": [],
   "source": [
    "\n",
    "duplicates = audio_df[audio_df.duplicated(subset=['Nome file'],keep=False)]"
   ],
   "metadata": {
    "collapsed": false,
    "ExecuteTime": {
     "end_time": "2024-06-28T12:31:44.635807Z",
     "start_time": "2024-06-28T12:31:44.626040Z"
    }
   },
   "id": "5cd568682f658446",
   "execution_count": 80
  },
  {
   "cell_type": "code",
   "outputs": [
    {
     "data": {
      "text/plain": "     Nome file      Classe                         Sottoclasse  \\\n103   72021005  Non-Target                        Bearded Seal   \n104   7202100T  Non-Target                        Bearded Seal   \n105   7202100V  Non-Target                        Bearded Seal   \n106   7202100Z  Non-Target                        Bearded Seal   \n108   78018002  Non-Target                        Bearded Seal   \n109   78018003  Non-Target                        Bearded Seal   \n111   7801800B  Non-Target                        Bearded Seal   \n112   7801800D  Non-Target                        Bearded Seal   \n113   7801800H  Non-Target                        Bearded Seal   \n114   7801800J  Non-Target                        Bearded Seal   \n209   72021005  Non-Target                       Bowhead Whale   \n211   7202100T  Non-Target                       Bowhead Whale   \n212   7202100V  Non-Target                       Bowhead Whale   \n213   7202100Z  Non-Target                       Bowhead Whale   \n214   78018002  Non-Target                       Bowhead Whale   \n215   78018003  Non-Target                       Bowhead Whale   \n216   7801800B  Non-Target                       Bowhead Whale   \n217   7801800D  Non-Target                       Bowhead Whale   \n218   7801800H  Non-Target                       Bowhead Whale   \n219   7801800J  Non-Target                       Bowhead Whale   \n954   7702800U  Non-Target             Long-Finned Pilot Whale   \n955   7702800V  Non-Target             Long-Finned Pilot Whale   \n956   7702800X  Non-Target             Long-Finned Pilot Whale   \n962   7702801F  Non-Target             Long-Finned Pilot Whale   \n965   7702801M  Non-Target             Long-Finned Pilot Whale   \n998   91012009  Non-Target                  Melon Headed Whale   \n999   9101200B  Non-Target                  Melon Headed Whale   \n1002  9101200K  Non-Target                  Melon Headed Whale   \n1007  9101201E  Non-Target                  Melon Headed Whale   \n1013  91012022  Non-Target                  Melon Headed Whale   \n1042  91012048  Non-Target                  Melon Headed Whale   \n1043  91012049  Non-Target                  Melon Headed Whale   \n1230  84021003  Non-Target         Pantropical Spotted Dolphin   \n1461  84016002  Non-Target  Short-Finned (Pacific) Pilot Whale   \n1462  8401600B  Non-Target  Short-Finned (Pacific) Pilot Whale   \n1561  7702800U  Non-Target                         Sperm Whale   \n1562  7702800V  Non-Target                         Sperm Whale   \n1563  7702800X  Non-Target                         Sperm Whale   \n1564  7702801F  Non-Target                         Sperm Whale   \n1565  7702801M  Non-Target                         Sperm Whale   \n1573  84016002  Non-Target                         Sperm Whale   \n1574  8401600B  Non-Target                         Sperm Whale   \n1577  84021003  Non-Target                         Sperm Whale   \n1601  91012009  Non-Target                         Sperm Whale   \n1602  9101200B  Non-Target                         Sperm Whale   \n1603  9101200K  Non-Target                         Sperm Whale   \n1604  9101201E  Non-Target                         Sperm Whale   \n1605  91012022  Non-Target                         Sperm Whale   \n1606  91012048  Non-Target                         Sperm Whale   \n1607  91012049  Non-Target                         Sperm Whale   \n\n      Ampiezza del segnale       Durata  Frequenza  Numero di canali  \\\n103               0.550293   142.500000      10240                 1   \n104               0.449707     2.835938      10240                 1   \n105               0.341309     2.835938      10240                 1   \n106               0.509766     2.465625      10240                 1   \n108               0.749512    45.300000      10240                 1   \n109               0.547363    11.343750      10240                 1   \n111               0.557129     2.751562      10240                 1   \n112               0.618164     2.751562      10240                 1   \n113               0.665527     3.618750      10240                 1   \n114               0.600098     3.618750      10240                 1   \n209               0.550293   142.500000      10240                 1   \n211               0.449707     2.835938      10240                 1   \n212               0.341309     2.835938      10240                 1   \n213               0.509766     2.465625      10240                 1   \n214               0.749512    45.300000      10240                 1   \n215               0.547363    11.343750      10240                 1   \n216               0.557129     2.751562      10240                 1   \n217               0.618164     2.751562      10240                 1   \n218               0.665527     3.618750      10240                 1   \n219               0.600098     3.618750      10240                 1   \n954               0.634277     0.939844      81920                 1   \n955               0.725586     1.040625      81920                 1   \n956               0.654297     1.328906      81920                 1   \n962               0.584961     1.296094      81920                 1   \n965               0.363770     0.099988      81920                 1   \n998               0.544922     0.945300      81920                 1   \n999               0.613281     1.130969      81920                 1   \n1002              0.377930     1.048181      81920                 1   \n1007              0.299316     0.603113      81920                 1   \n1013              0.856934     0.853113      81920                 1   \n1042              0.351074     0.163916      81920                 1   \n1043              0.703613     0.163916      81920                 1   \n1230              0.611816     2.835938      40960                 1   \n1461              0.947266    43.962325      40000                 1   \n1462              0.996521  1260.000000      44100                 1   \n1561              0.634277     0.939844      81920                 1   \n1562              0.725586     1.040625      81920                 1   \n1563              0.654297     1.328906      81920                 1   \n1564              0.584961     1.296094      81920                 1   \n1565              0.363770     0.099988      81920                 1   \n1573              0.947266    43.962325      40000                 1   \n1574              0.996521  1260.000000      44100                 1   \n1577              0.611816     2.835938      40960                 1   \n1601              0.544922     0.945300      81920                 1   \n1602              0.613281     1.130969      81920                 1   \n1603              0.377930     1.048181      81920                 1   \n1604              0.299316     0.603113      81920                 1   \n1605              0.856934     0.853113      81920                 1   \n1606              0.351074     0.163916      81920                 1   \n1607              0.703613     0.163916      81920                 1   \n\n          Fase  Frequenza massima interna Bit Depth Forma d'onda  \n103   0.000977                        0.0    Signed   (1459200,)  \n104  -0.010254                        0.0    Signed     (29040,)  \n105  -0.021973                        0.0    Signed     (29040,)  \n106  -0.019043                        0.0    Signed     (25248,)  \n108  -0.169434                        0.0    Signed    (463872,)  \n109  -0.102539                        0.0    Signed    (116160,)  \n111  -0.203613                        0.0    Signed     (28176,)  \n112  -0.048828                        0.0    Signed     (28176,)  \n113  -0.229980                        0.0    Signed     (37056,)  \n114   0.175781                        0.0    Signed     (37056,)  \n209   0.000977                        0.0    Signed   (1459200,)  \n211  -0.010254                        0.0    Signed     (29040,)  \n212  -0.021973                        0.0    Signed     (29040,)  \n213  -0.019043                        0.0    Signed     (25248,)  \n214  -0.169434                        0.0    Signed    (463872,)  \n215  -0.102539                        0.0    Signed    (116160,)  \n216  -0.203613                        0.0    Signed     (28176,)  \n217  -0.048828                        0.0    Signed     (28176,)  \n218  -0.229980                        0.0    Signed     (37056,)  \n219   0.175781                        0.0    Signed     (37056,)  \n954   0.052246                        0.0    Signed     (76992,)  \n955   0.007324                        0.0    Signed     (85248,)  \n956  -0.008301                        0.0    Signed    (108864,)  \n962  -0.053711                        0.0    Signed    (106176,)  \n965  -0.039551                        0.0    Signed      (8191,)  \n998   0.033203                        0.0    Signed     (77439,)  \n999  -0.014648                        0.0    Signed     (92649,)  \n1002  0.066406                        0.0    Signed     (85867,)  \n1007 -0.012207                        0.0    Signed     (49407,)  \n1013 -0.016113                        0.0    Signed     (69887,)  \n1042  0.138184                        0.0    Signed     (13428,)  \n1043 -0.020020                        0.0    Signed     (13428,)  \n1230  0.045410                        0.0    Signed    (116160,)  \n1461 -0.050781                        0.0    Signed   (1758493,)  \n1462  0.005249                        0.0    Signed  (55566000,)  \n1561  0.052246                        0.0    Signed     (76992,)  \n1562  0.007324                        0.0    Signed     (85248,)  \n1563 -0.008301                        0.0    Signed    (108864,)  \n1564 -0.053711                        0.0    Signed    (106176,)  \n1565 -0.039551                        0.0    Signed      (8191,)  \n1573 -0.050781                        0.0    Signed   (1758493,)  \n1574  0.005249                        0.0    Signed  (55566000,)  \n1577  0.045410                        0.0    Signed    (116160,)  \n1601  0.033203                        0.0    Signed     (77439,)  \n1602 -0.014648                        0.0    Signed     (92649,)  \n1603  0.066406                        0.0    Signed     (85867,)  \n1604 -0.012207                        0.0    Signed     (49407,)  \n1605 -0.016113                        0.0    Signed     (69887,)  \n1606  0.138184                        0.0    Signed     (13428,)  \n1607 -0.020020                        0.0    Signed     (13428,)  ",
      "text/html": "<div>\n<style scoped>\n    .dataframe tbody tr th:only-of-type {\n        vertical-align: middle;\n    }\n\n    .dataframe tbody tr th {\n        vertical-align: top;\n    }\n\n    .dataframe thead th {\n        text-align: right;\n    }\n</style>\n<table border=\"1\" class=\"dataframe\">\n  <thead>\n    <tr style=\"text-align: right;\">\n      <th></th>\n      <th>Nome file</th>\n      <th>Classe</th>\n      <th>Sottoclasse</th>\n      <th>Ampiezza del segnale</th>\n      <th>Durata</th>\n      <th>Frequenza</th>\n      <th>Numero di canali</th>\n      <th>Fase</th>\n      <th>Frequenza massima interna</th>\n      <th>Bit Depth</th>\n      <th>Forma d'onda</th>\n    </tr>\n  </thead>\n  <tbody>\n    <tr>\n      <th>103</th>\n      <td>72021005</td>\n      <td>Non-Target</td>\n      <td>Bearded Seal</td>\n      <td>0.550293</td>\n      <td>142.500000</td>\n      <td>10240</td>\n      <td>1</td>\n      <td>0.000977</td>\n      <td>0.0</td>\n      <td>Signed</td>\n      <td>(1459200,)</td>\n    </tr>\n    <tr>\n      <th>104</th>\n      <td>7202100T</td>\n      <td>Non-Target</td>\n      <td>Bearded Seal</td>\n      <td>0.449707</td>\n      <td>2.835938</td>\n      <td>10240</td>\n      <td>1</td>\n      <td>-0.010254</td>\n      <td>0.0</td>\n      <td>Signed</td>\n      <td>(29040,)</td>\n    </tr>\n    <tr>\n      <th>105</th>\n      <td>7202100V</td>\n      <td>Non-Target</td>\n      <td>Bearded Seal</td>\n      <td>0.341309</td>\n      <td>2.835938</td>\n      <td>10240</td>\n      <td>1</td>\n      <td>-0.021973</td>\n      <td>0.0</td>\n      <td>Signed</td>\n      <td>(29040,)</td>\n    </tr>\n    <tr>\n      <th>106</th>\n      <td>7202100Z</td>\n      <td>Non-Target</td>\n      <td>Bearded Seal</td>\n      <td>0.509766</td>\n      <td>2.465625</td>\n      <td>10240</td>\n      <td>1</td>\n      <td>-0.019043</td>\n      <td>0.0</td>\n      <td>Signed</td>\n      <td>(25248,)</td>\n    </tr>\n    <tr>\n      <th>108</th>\n      <td>78018002</td>\n      <td>Non-Target</td>\n      <td>Bearded Seal</td>\n      <td>0.749512</td>\n      <td>45.300000</td>\n      <td>10240</td>\n      <td>1</td>\n      <td>-0.169434</td>\n      <td>0.0</td>\n      <td>Signed</td>\n      <td>(463872,)</td>\n    </tr>\n    <tr>\n      <th>109</th>\n      <td>78018003</td>\n      <td>Non-Target</td>\n      <td>Bearded Seal</td>\n      <td>0.547363</td>\n      <td>11.343750</td>\n      <td>10240</td>\n      <td>1</td>\n      <td>-0.102539</td>\n      <td>0.0</td>\n      <td>Signed</td>\n      <td>(116160,)</td>\n    </tr>\n    <tr>\n      <th>111</th>\n      <td>7801800B</td>\n      <td>Non-Target</td>\n      <td>Bearded Seal</td>\n      <td>0.557129</td>\n      <td>2.751562</td>\n      <td>10240</td>\n      <td>1</td>\n      <td>-0.203613</td>\n      <td>0.0</td>\n      <td>Signed</td>\n      <td>(28176,)</td>\n    </tr>\n    <tr>\n      <th>112</th>\n      <td>7801800D</td>\n      <td>Non-Target</td>\n      <td>Bearded Seal</td>\n      <td>0.618164</td>\n      <td>2.751562</td>\n      <td>10240</td>\n      <td>1</td>\n      <td>-0.048828</td>\n      <td>0.0</td>\n      <td>Signed</td>\n      <td>(28176,)</td>\n    </tr>\n    <tr>\n      <th>113</th>\n      <td>7801800H</td>\n      <td>Non-Target</td>\n      <td>Bearded Seal</td>\n      <td>0.665527</td>\n      <td>3.618750</td>\n      <td>10240</td>\n      <td>1</td>\n      <td>-0.229980</td>\n      <td>0.0</td>\n      <td>Signed</td>\n      <td>(37056,)</td>\n    </tr>\n    <tr>\n      <th>114</th>\n      <td>7801800J</td>\n      <td>Non-Target</td>\n      <td>Bearded Seal</td>\n      <td>0.600098</td>\n      <td>3.618750</td>\n      <td>10240</td>\n      <td>1</td>\n      <td>0.175781</td>\n      <td>0.0</td>\n      <td>Signed</td>\n      <td>(37056,)</td>\n    </tr>\n    <tr>\n      <th>209</th>\n      <td>72021005</td>\n      <td>Non-Target</td>\n      <td>Bowhead Whale</td>\n      <td>0.550293</td>\n      <td>142.500000</td>\n      <td>10240</td>\n      <td>1</td>\n      <td>0.000977</td>\n      <td>0.0</td>\n      <td>Signed</td>\n      <td>(1459200,)</td>\n    </tr>\n    <tr>\n      <th>211</th>\n      <td>7202100T</td>\n      <td>Non-Target</td>\n      <td>Bowhead Whale</td>\n      <td>0.449707</td>\n      <td>2.835938</td>\n      <td>10240</td>\n      <td>1</td>\n      <td>-0.010254</td>\n      <td>0.0</td>\n      <td>Signed</td>\n      <td>(29040,)</td>\n    </tr>\n    <tr>\n      <th>212</th>\n      <td>7202100V</td>\n      <td>Non-Target</td>\n      <td>Bowhead Whale</td>\n      <td>0.341309</td>\n      <td>2.835938</td>\n      <td>10240</td>\n      <td>1</td>\n      <td>-0.021973</td>\n      <td>0.0</td>\n      <td>Signed</td>\n      <td>(29040,)</td>\n    </tr>\n    <tr>\n      <th>213</th>\n      <td>7202100Z</td>\n      <td>Non-Target</td>\n      <td>Bowhead Whale</td>\n      <td>0.509766</td>\n      <td>2.465625</td>\n      <td>10240</td>\n      <td>1</td>\n      <td>-0.019043</td>\n      <td>0.0</td>\n      <td>Signed</td>\n      <td>(25248,)</td>\n    </tr>\n    <tr>\n      <th>214</th>\n      <td>78018002</td>\n      <td>Non-Target</td>\n      <td>Bowhead Whale</td>\n      <td>0.749512</td>\n      <td>45.300000</td>\n      <td>10240</td>\n      <td>1</td>\n      <td>-0.169434</td>\n      <td>0.0</td>\n      <td>Signed</td>\n      <td>(463872,)</td>\n    </tr>\n    <tr>\n      <th>215</th>\n      <td>78018003</td>\n      <td>Non-Target</td>\n      <td>Bowhead Whale</td>\n      <td>0.547363</td>\n      <td>11.343750</td>\n      <td>10240</td>\n      <td>1</td>\n      <td>-0.102539</td>\n      <td>0.0</td>\n      <td>Signed</td>\n      <td>(116160,)</td>\n    </tr>\n    <tr>\n      <th>216</th>\n      <td>7801800B</td>\n      <td>Non-Target</td>\n      <td>Bowhead Whale</td>\n      <td>0.557129</td>\n      <td>2.751562</td>\n      <td>10240</td>\n      <td>1</td>\n      <td>-0.203613</td>\n      <td>0.0</td>\n      <td>Signed</td>\n      <td>(28176,)</td>\n    </tr>\n    <tr>\n      <th>217</th>\n      <td>7801800D</td>\n      <td>Non-Target</td>\n      <td>Bowhead Whale</td>\n      <td>0.618164</td>\n      <td>2.751562</td>\n      <td>10240</td>\n      <td>1</td>\n      <td>-0.048828</td>\n      <td>0.0</td>\n      <td>Signed</td>\n      <td>(28176,)</td>\n    </tr>\n    <tr>\n      <th>218</th>\n      <td>7801800H</td>\n      <td>Non-Target</td>\n      <td>Bowhead Whale</td>\n      <td>0.665527</td>\n      <td>3.618750</td>\n      <td>10240</td>\n      <td>1</td>\n      <td>-0.229980</td>\n      <td>0.0</td>\n      <td>Signed</td>\n      <td>(37056,)</td>\n    </tr>\n    <tr>\n      <th>219</th>\n      <td>7801800J</td>\n      <td>Non-Target</td>\n      <td>Bowhead Whale</td>\n      <td>0.600098</td>\n      <td>3.618750</td>\n      <td>10240</td>\n      <td>1</td>\n      <td>0.175781</td>\n      <td>0.0</td>\n      <td>Signed</td>\n      <td>(37056,)</td>\n    </tr>\n    <tr>\n      <th>954</th>\n      <td>7702800U</td>\n      <td>Non-Target</td>\n      <td>Long-Finned Pilot Whale</td>\n      <td>0.634277</td>\n      <td>0.939844</td>\n      <td>81920</td>\n      <td>1</td>\n      <td>0.052246</td>\n      <td>0.0</td>\n      <td>Signed</td>\n      <td>(76992,)</td>\n    </tr>\n    <tr>\n      <th>955</th>\n      <td>7702800V</td>\n      <td>Non-Target</td>\n      <td>Long-Finned Pilot Whale</td>\n      <td>0.725586</td>\n      <td>1.040625</td>\n      <td>81920</td>\n      <td>1</td>\n      <td>0.007324</td>\n      <td>0.0</td>\n      <td>Signed</td>\n      <td>(85248,)</td>\n    </tr>\n    <tr>\n      <th>956</th>\n      <td>7702800X</td>\n      <td>Non-Target</td>\n      <td>Long-Finned Pilot Whale</td>\n      <td>0.654297</td>\n      <td>1.328906</td>\n      <td>81920</td>\n      <td>1</td>\n      <td>-0.008301</td>\n      <td>0.0</td>\n      <td>Signed</td>\n      <td>(108864,)</td>\n    </tr>\n    <tr>\n      <th>962</th>\n      <td>7702801F</td>\n      <td>Non-Target</td>\n      <td>Long-Finned Pilot Whale</td>\n      <td>0.584961</td>\n      <td>1.296094</td>\n      <td>81920</td>\n      <td>1</td>\n      <td>-0.053711</td>\n      <td>0.0</td>\n      <td>Signed</td>\n      <td>(106176,)</td>\n    </tr>\n    <tr>\n      <th>965</th>\n      <td>7702801M</td>\n      <td>Non-Target</td>\n      <td>Long-Finned Pilot Whale</td>\n      <td>0.363770</td>\n      <td>0.099988</td>\n      <td>81920</td>\n      <td>1</td>\n      <td>-0.039551</td>\n      <td>0.0</td>\n      <td>Signed</td>\n      <td>(8191,)</td>\n    </tr>\n    <tr>\n      <th>998</th>\n      <td>91012009</td>\n      <td>Non-Target</td>\n      <td>Melon Headed Whale</td>\n      <td>0.544922</td>\n      <td>0.945300</td>\n      <td>81920</td>\n      <td>1</td>\n      <td>0.033203</td>\n      <td>0.0</td>\n      <td>Signed</td>\n      <td>(77439,)</td>\n    </tr>\n    <tr>\n      <th>999</th>\n      <td>9101200B</td>\n      <td>Non-Target</td>\n      <td>Melon Headed Whale</td>\n      <td>0.613281</td>\n      <td>1.130969</td>\n      <td>81920</td>\n      <td>1</td>\n      <td>-0.014648</td>\n      <td>0.0</td>\n      <td>Signed</td>\n      <td>(92649,)</td>\n    </tr>\n    <tr>\n      <th>1002</th>\n      <td>9101200K</td>\n      <td>Non-Target</td>\n      <td>Melon Headed Whale</td>\n      <td>0.377930</td>\n      <td>1.048181</td>\n      <td>81920</td>\n      <td>1</td>\n      <td>0.066406</td>\n      <td>0.0</td>\n      <td>Signed</td>\n      <td>(85867,)</td>\n    </tr>\n    <tr>\n      <th>1007</th>\n      <td>9101201E</td>\n      <td>Non-Target</td>\n      <td>Melon Headed Whale</td>\n      <td>0.299316</td>\n      <td>0.603113</td>\n      <td>81920</td>\n      <td>1</td>\n      <td>-0.012207</td>\n      <td>0.0</td>\n      <td>Signed</td>\n      <td>(49407,)</td>\n    </tr>\n    <tr>\n      <th>1013</th>\n      <td>91012022</td>\n      <td>Non-Target</td>\n      <td>Melon Headed Whale</td>\n      <td>0.856934</td>\n      <td>0.853113</td>\n      <td>81920</td>\n      <td>1</td>\n      <td>-0.016113</td>\n      <td>0.0</td>\n      <td>Signed</td>\n      <td>(69887,)</td>\n    </tr>\n    <tr>\n      <th>1042</th>\n      <td>91012048</td>\n      <td>Non-Target</td>\n      <td>Melon Headed Whale</td>\n      <td>0.351074</td>\n      <td>0.163916</td>\n      <td>81920</td>\n      <td>1</td>\n      <td>0.138184</td>\n      <td>0.0</td>\n      <td>Signed</td>\n      <td>(13428,)</td>\n    </tr>\n    <tr>\n      <th>1043</th>\n      <td>91012049</td>\n      <td>Non-Target</td>\n      <td>Melon Headed Whale</td>\n      <td>0.703613</td>\n      <td>0.163916</td>\n      <td>81920</td>\n      <td>1</td>\n      <td>-0.020020</td>\n      <td>0.0</td>\n      <td>Signed</td>\n      <td>(13428,)</td>\n    </tr>\n    <tr>\n      <th>1230</th>\n      <td>84021003</td>\n      <td>Non-Target</td>\n      <td>Pantropical Spotted Dolphin</td>\n      <td>0.611816</td>\n      <td>2.835938</td>\n      <td>40960</td>\n      <td>1</td>\n      <td>0.045410</td>\n      <td>0.0</td>\n      <td>Signed</td>\n      <td>(116160,)</td>\n    </tr>\n    <tr>\n      <th>1461</th>\n      <td>84016002</td>\n      <td>Non-Target</td>\n      <td>Short-Finned (Pacific) Pilot Whale</td>\n      <td>0.947266</td>\n      <td>43.962325</td>\n      <td>40000</td>\n      <td>1</td>\n      <td>-0.050781</td>\n      <td>0.0</td>\n      <td>Signed</td>\n      <td>(1758493,)</td>\n    </tr>\n    <tr>\n      <th>1462</th>\n      <td>8401600B</td>\n      <td>Non-Target</td>\n      <td>Short-Finned (Pacific) Pilot Whale</td>\n      <td>0.996521</td>\n      <td>1260.000000</td>\n      <td>44100</td>\n      <td>1</td>\n      <td>0.005249</td>\n      <td>0.0</td>\n      <td>Signed</td>\n      <td>(55566000,)</td>\n    </tr>\n    <tr>\n      <th>1561</th>\n      <td>7702800U</td>\n      <td>Non-Target</td>\n      <td>Sperm Whale</td>\n      <td>0.634277</td>\n      <td>0.939844</td>\n      <td>81920</td>\n      <td>1</td>\n      <td>0.052246</td>\n      <td>0.0</td>\n      <td>Signed</td>\n      <td>(76992,)</td>\n    </tr>\n    <tr>\n      <th>1562</th>\n      <td>7702800V</td>\n      <td>Non-Target</td>\n      <td>Sperm Whale</td>\n      <td>0.725586</td>\n      <td>1.040625</td>\n      <td>81920</td>\n      <td>1</td>\n      <td>0.007324</td>\n      <td>0.0</td>\n      <td>Signed</td>\n      <td>(85248,)</td>\n    </tr>\n    <tr>\n      <th>1563</th>\n      <td>7702800X</td>\n      <td>Non-Target</td>\n      <td>Sperm Whale</td>\n      <td>0.654297</td>\n      <td>1.328906</td>\n      <td>81920</td>\n      <td>1</td>\n      <td>-0.008301</td>\n      <td>0.0</td>\n      <td>Signed</td>\n      <td>(108864,)</td>\n    </tr>\n    <tr>\n      <th>1564</th>\n      <td>7702801F</td>\n      <td>Non-Target</td>\n      <td>Sperm Whale</td>\n      <td>0.584961</td>\n      <td>1.296094</td>\n      <td>81920</td>\n      <td>1</td>\n      <td>-0.053711</td>\n      <td>0.0</td>\n      <td>Signed</td>\n      <td>(106176,)</td>\n    </tr>\n    <tr>\n      <th>1565</th>\n      <td>7702801M</td>\n      <td>Non-Target</td>\n      <td>Sperm Whale</td>\n      <td>0.363770</td>\n      <td>0.099988</td>\n      <td>81920</td>\n      <td>1</td>\n      <td>-0.039551</td>\n      <td>0.0</td>\n      <td>Signed</td>\n      <td>(8191,)</td>\n    </tr>\n    <tr>\n      <th>1573</th>\n      <td>84016002</td>\n      <td>Non-Target</td>\n      <td>Sperm Whale</td>\n      <td>0.947266</td>\n      <td>43.962325</td>\n      <td>40000</td>\n      <td>1</td>\n      <td>-0.050781</td>\n      <td>0.0</td>\n      <td>Signed</td>\n      <td>(1758493,)</td>\n    </tr>\n    <tr>\n      <th>1574</th>\n      <td>8401600B</td>\n      <td>Non-Target</td>\n      <td>Sperm Whale</td>\n      <td>0.996521</td>\n      <td>1260.000000</td>\n      <td>44100</td>\n      <td>1</td>\n      <td>0.005249</td>\n      <td>0.0</td>\n      <td>Signed</td>\n      <td>(55566000,)</td>\n    </tr>\n    <tr>\n      <th>1577</th>\n      <td>84021003</td>\n      <td>Non-Target</td>\n      <td>Sperm Whale</td>\n      <td>0.611816</td>\n      <td>2.835938</td>\n      <td>40960</td>\n      <td>1</td>\n      <td>0.045410</td>\n      <td>0.0</td>\n      <td>Signed</td>\n      <td>(116160,)</td>\n    </tr>\n    <tr>\n      <th>1601</th>\n      <td>91012009</td>\n      <td>Non-Target</td>\n      <td>Sperm Whale</td>\n      <td>0.544922</td>\n      <td>0.945300</td>\n      <td>81920</td>\n      <td>1</td>\n      <td>0.033203</td>\n      <td>0.0</td>\n      <td>Signed</td>\n      <td>(77439,)</td>\n    </tr>\n    <tr>\n      <th>1602</th>\n      <td>9101200B</td>\n      <td>Non-Target</td>\n      <td>Sperm Whale</td>\n      <td>0.613281</td>\n      <td>1.130969</td>\n      <td>81920</td>\n      <td>1</td>\n      <td>-0.014648</td>\n      <td>0.0</td>\n      <td>Signed</td>\n      <td>(92649,)</td>\n    </tr>\n    <tr>\n      <th>1603</th>\n      <td>9101200K</td>\n      <td>Non-Target</td>\n      <td>Sperm Whale</td>\n      <td>0.377930</td>\n      <td>1.048181</td>\n      <td>81920</td>\n      <td>1</td>\n      <td>0.066406</td>\n      <td>0.0</td>\n      <td>Signed</td>\n      <td>(85867,)</td>\n    </tr>\n    <tr>\n      <th>1604</th>\n      <td>9101201E</td>\n      <td>Non-Target</td>\n      <td>Sperm Whale</td>\n      <td>0.299316</td>\n      <td>0.603113</td>\n      <td>81920</td>\n      <td>1</td>\n      <td>-0.012207</td>\n      <td>0.0</td>\n      <td>Signed</td>\n      <td>(49407,)</td>\n    </tr>\n    <tr>\n      <th>1605</th>\n      <td>91012022</td>\n      <td>Non-Target</td>\n      <td>Sperm Whale</td>\n      <td>0.856934</td>\n      <td>0.853113</td>\n      <td>81920</td>\n      <td>1</td>\n      <td>-0.016113</td>\n      <td>0.0</td>\n      <td>Signed</td>\n      <td>(69887,)</td>\n    </tr>\n    <tr>\n      <th>1606</th>\n      <td>91012048</td>\n      <td>Non-Target</td>\n      <td>Sperm Whale</td>\n      <td>0.351074</td>\n      <td>0.163916</td>\n      <td>81920</td>\n      <td>1</td>\n      <td>0.138184</td>\n      <td>0.0</td>\n      <td>Signed</td>\n      <td>(13428,)</td>\n    </tr>\n    <tr>\n      <th>1607</th>\n      <td>91012049</td>\n      <td>Non-Target</td>\n      <td>Sperm Whale</td>\n      <td>0.703613</td>\n      <td>0.163916</td>\n      <td>81920</td>\n      <td>1</td>\n      <td>-0.020020</td>\n      <td>0.0</td>\n      <td>Signed</td>\n      <td>(13428,)</td>\n    </tr>\n  </tbody>\n</table>\n</div>"
     },
     "execution_count": 81,
     "metadata": {},
     "output_type": "execute_result"
    }
   ],
   "source": [
    "duplicates"
   ],
   "metadata": {
    "collapsed": false,
    "ExecuteTime": {
     "end_time": "2024-06-28T12:31:44.662334Z",
     "start_time": "2024-06-28T12:31:44.637811Z"
    }
   },
   "id": "45bc73d902986b1d",
   "execution_count": 81
  },
  {
   "cell_type": "markdown",
   "source": [
    "rimozione duplicati"
   ],
   "metadata": {
    "collapsed": false
   },
   "id": "4f95d0164d38c46d"
  },
  {
   "cell_type": "code",
   "outputs": [],
   "source": [
    "audio_df.drop_duplicates(subset=['Nome file'], keep=False, inplace=True)"
   ],
   "metadata": {
    "collapsed": false,
    "ExecuteTime": {
     "end_time": "2024-06-28T12:31:44.671033Z",
     "start_time": "2024-06-28T12:31:44.664645Z"
    }
   },
   "id": "ab586dae0b593e28",
   "execution_count": 82
  },
  {
   "cell_type": "markdown",
   "source": [
    "stampa dataframe pandas finale"
   ],
   "metadata": {
    "collapsed": false
   },
   "id": "23a089bddb3e222d"
  },
  {
   "cell_type": "code",
   "outputs": [
    {
     "data": {
      "text/plain": "                                       Nome file      Classe    Sottoclasse  \\\n0           0f9867d8-fcf7-40d1-b846-3f7fb8100eb7  Non-Target  Ambient Noise   \n1           2b68b3a9-7c0d-4452-bbe5-cc99b5d4fb61  Non-Target  Ambient Noise   \n2           2f574049-3325-446c-a8ac-2e5b31e9e32f  Non-Target  Ambient Noise   \n3           30679527-fd7a-4cad-8c7d-cb1bcc07604d  Non-Target  Ambient Noise   \n4           f9652ad2-39f5-41b4-a8e4-89171a864f03  Non-Target  Ambient Noise   \n...                                          ...         ...            ...   \n2658    SanctSound_OC01_03_ship_20191106T223751Z      Target         Vessel   \n2659    SanctSound_OC02_01_ship_20190419T233040Z      Target         Vessel   \n2660    SanctSound_OC03_02_ship_20200228T080107Z      Target         Vessel   \n2661  SanctSound_SB03_09_vessel_20200415T161235Z      Target         Vessel   \n2662                                  ship_small      Target         Vessel   \n\n      Ampiezza del segnale     Durata  Frequenza  Numero di canali      Fase  \\\n0                 0.226026  31.207619      44100                 1 -0.068573   \n1                 0.646487  31.207619      44100                 1  0.003324   \n2                 0.391676  31.207619      44100                 1 -0.031078   \n3                 0.200377  31.207619      44100                 1  0.013213   \n4                 0.753663  31.207619      44100                 1  0.050887   \n...                    ...        ...        ...               ...       ...   \n2658              0.251221   5.305042      48000                 1  0.000000   \n2659              0.326813  60.000000      48000                 1  0.000000   \n2660              0.251221  60.000000      48000                 1 -0.000031   \n2661              0.251129   5.000021      48000                 1  0.000000   \n2662              0.690488  51.876000      32000                 2  0.000000   \n\n      Frequenza massima interna Bit Depth Forma d'onda  \n0                           0.0      MPEG   (1376256,)  \n1                           0.0      MPEG   (1376256,)  \n2                           0.0      MPEG   (1376256,)  \n3                           0.0      MPEG   (1376256,)  \n4                           0.0      MPEG   (1376256,)  \n...                         ...       ...          ...  \n2658                        0.0    Signed    (254642,)  \n2659                        0.0    Signed   (2880000,)  \n2660                        0.0    Signed   (2880000,)  \n2661                        0.0    Signed    (240001,)  \n2662                        0.0      MPEG   (1660032,)  \n\n[2613 rows x 11 columns]",
      "text/html": "<div>\n<style scoped>\n    .dataframe tbody tr th:only-of-type {\n        vertical-align: middle;\n    }\n\n    .dataframe tbody tr th {\n        vertical-align: top;\n    }\n\n    .dataframe thead th {\n        text-align: right;\n    }\n</style>\n<table border=\"1\" class=\"dataframe\">\n  <thead>\n    <tr style=\"text-align: right;\">\n      <th></th>\n      <th>Nome file</th>\n      <th>Classe</th>\n      <th>Sottoclasse</th>\n      <th>Ampiezza del segnale</th>\n      <th>Durata</th>\n      <th>Frequenza</th>\n      <th>Numero di canali</th>\n      <th>Fase</th>\n      <th>Frequenza massima interna</th>\n      <th>Bit Depth</th>\n      <th>Forma d'onda</th>\n    </tr>\n  </thead>\n  <tbody>\n    <tr>\n      <th>0</th>\n      <td>0f9867d8-fcf7-40d1-b846-3f7fb8100eb7</td>\n      <td>Non-Target</td>\n      <td>Ambient Noise</td>\n      <td>0.226026</td>\n      <td>31.207619</td>\n      <td>44100</td>\n      <td>1</td>\n      <td>-0.068573</td>\n      <td>0.0</td>\n      <td>MPEG</td>\n      <td>(1376256,)</td>\n    </tr>\n    <tr>\n      <th>1</th>\n      <td>2b68b3a9-7c0d-4452-bbe5-cc99b5d4fb61</td>\n      <td>Non-Target</td>\n      <td>Ambient Noise</td>\n      <td>0.646487</td>\n      <td>31.207619</td>\n      <td>44100</td>\n      <td>1</td>\n      <td>0.003324</td>\n      <td>0.0</td>\n      <td>MPEG</td>\n      <td>(1376256,)</td>\n    </tr>\n    <tr>\n      <th>2</th>\n      <td>2f574049-3325-446c-a8ac-2e5b31e9e32f</td>\n      <td>Non-Target</td>\n      <td>Ambient Noise</td>\n      <td>0.391676</td>\n      <td>31.207619</td>\n      <td>44100</td>\n      <td>1</td>\n      <td>-0.031078</td>\n      <td>0.0</td>\n      <td>MPEG</td>\n      <td>(1376256,)</td>\n    </tr>\n    <tr>\n      <th>3</th>\n      <td>30679527-fd7a-4cad-8c7d-cb1bcc07604d</td>\n      <td>Non-Target</td>\n      <td>Ambient Noise</td>\n      <td>0.200377</td>\n      <td>31.207619</td>\n      <td>44100</td>\n      <td>1</td>\n      <td>0.013213</td>\n      <td>0.0</td>\n      <td>MPEG</td>\n      <td>(1376256,)</td>\n    </tr>\n    <tr>\n      <th>4</th>\n      <td>f9652ad2-39f5-41b4-a8e4-89171a864f03</td>\n      <td>Non-Target</td>\n      <td>Ambient Noise</td>\n      <td>0.753663</td>\n      <td>31.207619</td>\n      <td>44100</td>\n      <td>1</td>\n      <td>0.050887</td>\n      <td>0.0</td>\n      <td>MPEG</td>\n      <td>(1376256,)</td>\n    </tr>\n    <tr>\n      <th>...</th>\n      <td>...</td>\n      <td>...</td>\n      <td>...</td>\n      <td>...</td>\n      <td>...</td>\n      <td>...</td>\n      <td>...</td>\n      <td>...</td>\n      <td>...</td>\n      <td>...</td>\n      <td>...</td>\n    </tr>\n    <tr>\n      <th>2658</th>\n      <td>SanctSound_OC01_03_ship_20191106T223751Z</td>\n      <td>Target</td>\n      <td>Vessel</td>\n      <td>0.251221</td>\n      <td>5.305042</td>\n      <td>48000</td>\n      <td>1</td>\n      <td>0.000000</td>\n      <td>0.0</td>\n      <td>Signed</td>\n      <td>(254642,)</td>\n    </tr>\n    <tr>\n      <th>2659</th>\n      <td>SanctSound_OC02_01_ship_20190419T233040Z</td>\n      <td>Target</td>\n      <td>Vessel</td>\n      <td>0.326813</td>\n      <td>60.000000</td>\n      <td>48000</td>\n      <td>1</td>\n      <td>0.000000</td>\n      <td>0.0</td>\n      <td>Signed</td>\n      <td>(2880000,)</td>\n    </tr>\n    <tr>\n      <th>2660</th>\n      <td>SanctSound_OC03_02_ship_20200228T080107Z</td>\n      <td>Target</td>\n      <td>Vessel</td>\n      <td>0.251221</td>\n      <td>60.000000</td>\n      <td>48000</td>\n      <td>1</td>\n      <td>-0.000031</td>\n      <td>0.0</td>\n      <td>Signed</td>\n      <td>(2880000,)</td>\n    </tr>\n    <tr>\n      <th>2661</th>\n      <td>SanctSound_SB03_09_vessel_20200415T161235Z</td>\n      <td>Target</td>\n      <td>Vessel</td>\n      <td>0.251129</td>\n      <td>5.000021</td>\n      <td>48000</td>\n      <td>1</td>\n      <td>0.000000</td>\n      <td>0.0</td>\n      <td>Signed</td>\n      <td>(240001,)</td>\n    </tr>\n    <tr>\n      <th>2662</th>\n      <td>ship_small</td>\n      <td>Target</td>\n      <td>Vessel</td>\n      <td>0.690488</td>\n      <td>51.876000</td>\n      <td>32000</td>\n      <td>2</td>\n      <td>0.000000</td>\n      <td>0.0</td>\n      <td>MPEG</td>\n      <td>(1660032,)</td>\n    </tr>\n  </tbody>\n</table>\n<p>2613 rows × 11 columns</p>\n</div>"
     },
     "execution_count": 83,
     "metadata": {},
     "output_type": "execute_result"
    }
   ],
   "source": [
    "audio_df"
   ],
   "metadata": {
    "collapsed": false,
    "ExecuteTime": {
     "end_time": "2024-06-28T12:31:44.688722Z",
     "start_time": "2024-06-28T12:31:44.672554Z"
    }
   },
   "id": "889be7d6a089081b",
   "execution_count": 83
  },
  {
   "cell_type": "markdown",
   "source": [
    "conversione del dataframe pandas senza duplicati nel csv finale"
   ],
   "metadata": {
    "collapsed": false
   },
   "id": "b54fe00a195bbf95"
  },
  {
   "cell_type": "code",
   "outputs": [],
   "source": [
    "audio_df.to_csv('audio_features_dataset_no_duplicates.csv', index=False)"
   ],
   "metadata": {
    "collapsed": false,
    "ExecuteTime": {
     "end_time": "2024-06-28T12:31:44.714064Z",
     "start_time": "2024-06-28T12:31:44.690242Z"
    }
   },
   "id": "a5ee7548457c39d8",
   "execution_count": 84
  },
  {
   "cell_type": "code",
   "outputs": [],
   "source": [],
   "metadata": {
    "collapsed": false,
    "ExecuteTime": {
     "end_time": "2024-06-28T12:31:44.718217Z",
     "start_time": "2024-06-28T12:31:44.715065Z"
    }
   },
   "id": "ef626decb0525567",
   "execution_count": 84
  }
 ],
 "metadata": {
  "kernelspec": {
   "display_name": "Python 3",
   "language": "python",
   "name": "python3"
  },
  "language_info": {
   "codemirror_mode": {
    "name": "ipython",
    "version": 2
   },
   "file_extension": ".py",
   "mimetype": "text/x-python",
   "name": "python",
   "nbconvert_exporter": "python",
   "pygments_lexer": "ipython2",
   "version": "2.7.6"
  }
 },
 "nbformat": 4,
 "nbformat_minor": 5
}
