{
 "cells": [
  {
   "cell_type": "code",
   "id": "35178ba2aafdac3e",
   "metadata": {
    "collapsed": false,
    "ExecuteTime": {
     "end_time": "2024-11-23T15:16:59.446061Z",
     "start_time": "2024-11-23T15:16:57.252451Z"
    }
   },
   "source": [
    "import pandas as pd\n",
    "from oversampling_binary import split_dataset, apply_smote, train_random_forest, rf_plot_confusion_matrices, train_svm, svm_plot_confusion_matrices, lightgbm_plot_confusion_matrices, train_lightgbm\n"
   ],
   "outputs": [],
   "execution_count": 1
  },
  {
   "metadata": {},
   "cell_type": "markdown",
   "source": "# CLASIFICAZIONE BINARIA",
   "id": "7c0fef22824ce879"
  },
  {
   "metadata": {
    "collapsed": false,
    "ExecuteTime": {
     "end_time": "2024-11-23T15:16:59.461754Z",
     "start_time": "2024-11-23T15:16:59.452397Z"
    }
   },
   "cell_type": "code",
   "source": [
    "# Caricare il dataset e applicare lo split\n",
    "csv_file_path = 'C:/underwater-classification/features_extraction/audio_features.csv'"
   ],
   "id": "382aa16a0179920d",
   "outputs": [],
   "execution_count": 2
  },
  {
   "metadata": {
    "ExecuteTime": {
     "end_time": "2024-11-23T15:16:59.854965Z",
     "start_time": "2024-11-23T15:16:59.715841Z"
    }
   },
   "cell_type": "code",
   "source": [
    "# Carica il file CSV in un DataFrame\n",
    "df = pd.read_csv(csv_file_path)"
   ],
   "id": "fba819466fad270f",
   "outputs": [],
   "execution_count": 3
  },
  {
   "metadata": {
    "ExecuteTime": {
     "end_time": "2024-11-23T15:16:59.902426Z",
     "start_time": "2024-11-23T15:16:59.871683Z"
    }
   },
   "cell_type": "code",
   "source": "df",
   "id": "7687c6bd3146bd4b",
   "outputs": [
    {
     "data": {
      "text/plain": [
       "                                           File Name       Class  \\\n",
       "0      0f9867d8-fcf7-40d1-b846-3f7fb8100eb7_seg1.wav  Non-Target   \n",
       "1      0f9867d8-fcf7-40d1-b846-3f7fb8100eb7_seg2.wav  Non-Target   \n",
       "2      0f9867d8-fcf7-40d1-b846-3f7fb8100eb7_seg3.wav  Non-Target   \n",
       "3      0f9867d8-fcf7-40d1-b846-3f7fb8100eb7_seg4.wav  Non-Target   \n",
       "4      0f9867d8-fcf7-40d1-b846-3f7fb8100eb7_seg5.wav  Non-Target   \n",
       "...                                              ...         ...   \n",
       "50988                            ship_small_seg5.wav      Target   \n",
       "50989                            ship_small_seg6.wav      Target   \n",
       "50990                            ship_small_seg7.wav      Target   \n",
       "50991                            ship_small_seg8.wav      Target   \n",
       "50992                            ship_small_seg9.wav      Target   \n",
       "\n",
       "            Subclass  Spectral Centroid Mean  Spectral Bandwidth RMS  \\\n",
       "0      Ambient Noise             2585.774150             3545.441382   \n",
       "1      Ambient Noise             3004.490961             3774.635411   \n",
       "2      Ambient Noise             2374.518939             3489.082003   \n",
       "3      Ambient Noise             2821.144296             3698.989681   \n",
       "4      Ambient Noise             2649.515257             3629.187032   \n",
       "...              ...                     ...                     ...   \n",
       "50988         Vessel              456.747011              797.837269   \n",
       "50989         Vessel              452.009912              804.062723   \n",
       "50990         Vessel              446.388360              808.959976   \n",
       "50991         Vessel              451.316540              794.817133   \n",
       "50992         Vessel              452.374762              782.092929   \n",
       "\n",
       "       Standard Deviation  Skewness  Kurtosis  Shannon Entropy  Renyi Entropy  \\\n",
       "0                0.226857  0.290663  0.892096         4.972139      -5.535674   \n",
       "1                0.108625 -0.005662 -0.569438         5.162510      -6.898534   \n",
       "2                0.247894 -0.276421  0.685544         4.945729      -5.216699   \n",
       "3                0.156887  0.579543  1.394184         4.977810      -6.245069   \n",
       "4                0.182234 -0.088010 -0.083039         5.108433      -5.868417   \n",
       "...                   ...       ...       ...              ...            ...   \n",
       "50988            0.194804  0.013841  0.040806         4.912163      -5.505589   \n",
       "50989            0.187102  0.015867  0.072808         4.923598      -5.597314   \n",
       "50990            0.179071  0.000758  0.094906         4.904681      -5.670921   \n",
       "50991            0.188441 -0.002943  0.136695         4.846811      -5.513616   \n",
       "50992            0.200762  0.015758  0.118552         4.865919      -5.406506   \n",
       "\n",
       "       Rate of Attack  Rate of Decay  Threshold Crossings  Silence Ratio  \\\n",
       "0          376.987654       0.003933                 4596       0.611758   \n",
       "1          388.414286       0.003898                 4892       0.634714   \n",
       "2          354.935065       0.003911                 2814       0.576922   \n",
       "3          351.652174       0.003900                 3842       0.676630   \n",
       "4          360.301370       0.003938                 4086       0.587979   \n",
       "...               ...            ...                  ...            ...   \n",
       "50988      374.087500       0.004186                 3257       0.502427   \n",
       "50989      374.125000       0.004034                 3284       0.499966   \n",
       "50990      374.100000       0.003832                 3247       0.500477   \n",
       "50991      374.087500       0.004043                 3283       0.495841   \n",
       "50992      378.772152       0.004286                 3248       0.500070   \n",
       "\n",
       "           Mean  Max Over Mean  Min Over Mean  Energy Measurements  \n",
       "0     -0.034153     -21.482748      23.621908             0.052631  \n",
       "1     -0.032923      -9.492707      10.171222             0.012883  \n",
       "2     -0.030692     -25.133602      32.582104             0.062393  \n",
       "3     -0.033124     -17.890182      14.250049             0.025711  \n",
       "4     -0.031081     -16.133920      20.697605             0.034175  \n",
       "...         ...            ...            ...                  ...  \n",
       "50988  0.010898      67.170630     -71.718500             0.038067  \n",
       "50989  0.010380      68.853870     -69.641780             0.035115  \n",
       "50990  0.011149      60.261180     -65.437140             0.032191  \n",
       "50991  0.010464      76.876610     -72.440750             0.035620  \n",
       "50992  0.010418      79.420840     -77.361496             0.040414  \n",
       "\n",
       "[50993 rows x 18 columns]"
      ],
      "text/html": [
       "<div>\n",
       "<style scoped>\n",
       "    .dataframe tbody tr th:only-of-type {\n",
       "        vertical-align: middle;\n",
       "    }\n",
       "\n",
       "    .dataframe tbody tr th {\n",
       "        vertical-align: top;\n",
       "    }\n",
       "\n",
       "    .dataframe thead th {\n",
       "        text-align: right;\n",
       "    }\n",
       "</style>\n",
       "<table border=\"1\" class=\"dataframe\">\n",
       "  <thead>\n",
       "    <tr style=\"text-align: right;\">\n",
       "      <th></th>\n",
       "      <th>File Name</th>\n",
       "      <th>Class</th>\n",
       "      <th>Subclass</th>\n",
       "      <th>Spectral Centroid Mean</th>\n",
       "      <th>Spectral Bandwidth RMS</th>\n",
       "      <th>Standard Deviation</th>\n",
       "      <th>Skewness</th>\n",
       "      <th>Kurtosis</th>\n",
       "      <th>Shannon Entropy</th>\n",
       "      <th>Renyi Entropy</th>\n",
       "      <th>Rate of Attack</th>\n",
       "      <th>Rate of Decay</th>\n",
       "      <th>Threshold Crossings</th>\n",
       "      <th>Silence Ratio</th>\n",
       "      <th>Mean</th>\n",
       "      <th>Max Over Mean</th>\n",
       "      <th>Min Over Mean</th>\n",
       "      <th>Energy Measurements</th>\n",
       "    </tr>\n",
       "  </thead>\n",
       "  <tbody>\n",
       "    <tr>\n",
       "      <th>0</th>\n",
       "      <td>0f9867d8-fcf7-40d1-b846-3f7fb8100eb7_seg1.wav</td>\n",
       "      <td>Non-Target</td>\n",
       "      <td>Ambient Noise</td>\n",
       "      <td>2585.774150</td>\n",
       "      <td>3545.441382</td>\n",
       "      <td>0.226857</td>\n",
       "      <td>0.290663</td>\n",
       "      <td>0.892096</td>\n",
       "      <td>4.972139</td>\n",
       "      <td>-5.535674</td>\n",
       "      <td>376.987654</td>\n",
       "      <td>0.003933</td>\n",
       "      <td>4596</td>\n",
       "      <td>0.611758</td>\n",
       "      <td>-0.034153</td>\n",
       "      <td>-21.482748</td>\n",
       "      <td>23.621908</td>\n",
       "      <td>0.052631</td>\n",
       "    </tr>\n",
       "    <tr>\n",
       "      <th>1</th>\n",
       "      <td>0f9867d8-fcf7-40d1-b846-3f7fb8100eb7_seg2.wav</td>\n",
       "      <td>Non-Target</td>\n",
       "      <td>Ambient Noise</td>\n",
       "      <td>3004.490961</td>\n",
       "      <td>3774.635411</td>\n",
       "      <td>0.108625</td>\n",
       "      <td>-0.005662</td>\n",
       "      <td>-0.569438</td>\n",
       "      <td>5.162510</td>\n",
       "      <td>-6.898534</td>\n",
       "      <td>388.414286</td>\n",
       "      <td>0.003898</td>\n",
       "      <td>4892</td>\n",
       "      <td>0.634714</td>\n",
       "      <td>-0.032923</td>\n",
       "      <td>-9.492707</td>\n",
       "      <td>10.171222</td>\n",
       "      <td>0.012883</td>\n",
       "    </tr>\n",
       "    <tr>\n",
       "      <th>2</th>\n",
       "      <td>0f9867d8-fcf7-40d1-b846-3f7fb8100eb7_seg3.wav</td>\n",
       "      <td>Non-Target</td>\n",
       "      <td>Ambient Noise</td>\n",
       "      <td>2374.518939</td>\n",
       "      <td>3489.082003</td>\n",
       "      <td>0.247894</td>\n",
       "      <td>-0.276421</td>\n",
       "      <td>0.685544</td>\n",
       "      <td>4.945729</td>\n",
       "      <td>-5.216699</td>\n",
       "      <td>354.935065</td>\n",
       "      <td>0.003911</td>\n",
       "      <td>2814</td>\n",
       "      <td>0.576922</td>\n",
       "      <td>-0.030692</td>\n",
       "      <td>-25.133602</td>\n",
       "      <td>32.582104</td>\n",
       "      <td>0.062393</td>\n",
       "    </tr>\n",
       "    <tr>\n",
       "      <th>3</th>\n",
       "      <td>0f9867d8-fcf7-40d1-b846-3f7fb8100eb7_seg4.wav</td>\n",
       "      <td>Non-Target</td>\n",
       "      <td>Ambient Noise</td>\n",
       "      <td>2821.144296</td>\n",
       "      <td>3698.989681</td>\n",
       "      <td>0.156887</td>\n",
       "      <td>0.579543</td>\n",
       "      <td>1.394184</td>\n",
       "      <td>4.977810</td>\n",
       "      <td>-6.245069</td>\n",
       "      <td>351.652174</td>\n",
       "      <td>0.003900</td>\n",
       "      <td>3842</td>\n",
       "      <td>0.676630</td>\n",
       "      <td>-0.033124</td>\n",
       "      <td>-17.890182</td>\n",
       "      <td>14.250049</td>\n",
       "      <td>0.025711</td>\n",
       "    </tr>\n",
       "    <tr>\n",
       "      <th>4</th>\n",
       "      <td>0f9867d8-fcf7-40d1-b846-3f7fb8100eb7_seg5.wav</td>\n",
       "      <td>Non-Target</td>\n",
       "      <td>Ambient Noise</td>\n",
       "      <td>2649.515257</td>\n",
       "      <td>3629.187032</td>\n",
       "      <td>0.182234</td>\n",
       "      <td>-0.088010</td>\n",
       "      <td>-0.083039</td>\n",
       "      <td>5.108433</td>\n",
       "      <td>-5.868417</td>\n",
       "      <td>360.301370</td>\n",
       "      <td>0.003938</td>\n",
       "      <td>4086</td>\n",
       "      <td>0.587979</td>\n",
       "      <td>-0.031081</td>\n",
       "      <td>-16.133920</td>\n",
       "      <td>20.697605</td>\n",
       "      <td>0.034175</td>\n",
       "    </tr>\n",
       "    <tr>\n",
       "      <th>...</th>\n",
       "      <td>...</td>\n",
       "      <td>...</td>\n",
       "      <td>...</td>\n",
       "      <td>...</td>\n",
       "      <td>...</td>\n",
       "      <td>...</td>\n",
       "      <td>...</td>\n",
       "      <td>...</td>\n",
       "      <td>...</td>\n",
       "      <td>...</td>\n",
       "      <td>...</td>\n",
       "      <td>...</td>\n",
       "      <td>...</td>\n",
       "      <td>...</td>\n",
       "      <td>...</td>\n",
       "      <td>...</td>\n",
       "      <td>...</td>\n",
       "      <td>...</td>\n",
       "    </tr>\n",
       "    <tr>\n",
       "      <th>50988</th>\n",
       "      <td>ship_small_seg5.wav</td>\n",
       "      <td>Target</td>\n",
       "      <td>Vessel</td>\n",
       "      <td>456.747011</td>\n",
       "      <td>797.837269</td>\n",
       "      <td>0.194804</td>\n",
       "      <td>0.013841</td>\n",
       "      <td>0.040806</td>\n",
       "      <td>4.912163</td>\n",
       "      <td>-5.505589</td>\n",
       "      <td>374.087500</td>\n",
       "      <td>0.004186</td>\n",
       "      <td>3257</td>\n",
       "      <td>0.502427</td>\n",
       "      <td>0.010898</td>\n",
       "      <td>67.170630</td>\n",
       "      <td>-71.718500</td>\n",
       "      <td>0.038067</td>\n",
       "    </tr>\n",
       "    <tr>\n",
       "      <th>50989</th>\n",
       "      <td>ship_small_seg6.wav</td>\n",
       "      <td>Target</td>\n",
       "      <td>Vessel</td>\n",
       "      <td>452.009912</td>\n",
       "      <td>804.062723</td>\n",
       "      <td>0.187102</td>\n",
       "      <td>0.015867</td>\n",
       "      <td>0.072808</td>\n",
       "      <td>4.923598</td>\n",
       "      <td>-5.597314</td>\n",
       "      <td>374.125000</td>\n",
       "      <td>0.004034</td>\n",
       "      <td>3284</td>\n",
       "      <td>0.499966</td>\n",
       "      <td>0.010380</td>\n",
       "      <td>68.853870</td>\n",
       "      <td>-69.641780</td>\n",
       "      <td>0.035115</td>\n",
       "    </tr>\n",
       "    <tr>\n",
       "      <th>50990</th>\n",
       "      <td>ship_small_seg7.wav</td>\n",
       "      <td>Target</td>\n",
       "      <td>Vessel</td>\n",
       "      <td>446.388360</td>\n",
       "      <td>808.959976</td>\n",
       "      <td>0.179071</td>\n",
       "      <td>0.000758</td>\n",
       "      <td>0.094906</td>\n",
       "      <td>4.904681</td>\n",
       "      <td>-5.670921</td>\n",
       "      <td>374.100000</td>\n",
       "      <td>0.003832</td>\n",
       "      <td>3247</td>\n",
       "      <td>0.500477</td>\n",
       "      <td>0.011149</td>\n",
       "      <td>60.261180</td>\n",
       "      <td>-65.437140</td>\n",
       "      <td>0.032191</td>\n",
       "    </tr>\n",
       "    <tr>\n",
       "      <th>50991</th>\n",
       "      <td>ship_small_seg8.wav</td>\n",
       "      <td>Target</td>\n",
       "      <td>Vessel</td>\n",
       "      <td>451.316540</td>\n",
       "      <td>794.817133</td>\n",
       "      <td>0.188441</td>\n",
       "      <td>-0.002943</td>\n",
       "      <td>0.136695</td>\n",
       "      <td>4.846811</td>\n",
       "      <td>-5.513616</td>\n",
       "      <td>374.087500</td>\n",
       "      <td>0.004043</td>\n",
       "      <td>3283</td>\n",
       "      <td>0.495841</td>\n",
       "      <td>0.010464</td>\n",
       "      <td>76.876610</td>\n",
       "      <td>-72.440750</td>\n",
       "      <td>0.035620</td>\n",
       "    </tr>\n",
       "    <tr>\n",
       "      <th>50992</th>\n",
       "      <td>ship_small_seg9.wav</td>\n",
       "      <td>Target</td>\n",
       "      <td>Vessel</td>\n",
       "      <td>452.374762</td>\n",
       "      <td>782.092929</td>\n",
       "      <td>0.200762</td>\n",
       "      <td>0.015758</td>\n",
       "      <td>0.118552</td>\n",
       "      <td>4.865919</td>\n",
       "      <td>-5.406506</td>\n",
       "      <td>378.772152</td>\n",
       "      <td>0.004286</td>\n",
       "      <td>3248</td>\n",
       "      <td>0.500070</td>\n",
       "      <td>0.010418</td>\n",
       "      <td>79.420840</td>\n",
       "      <td>-77.361496</td>\n",
       "      <td>0.040414</td>\n",
       "    </tr>\n",
       "  </tbody>\n",
       "</table>\n",
       "<p>50993 rows × 18 columns</p>\n",
       "</div>"
      ]
     },
     "execution_count": 4,
     "metadata": {},
     "output_type": "execute_result"
    }
   ],
   "execution_count": 4
  },
  {
   "metadata": {
    "ExecuteTime": {
     "end_time": "2024-11-23T15:16:59.965027Z",
     "start_time": "2024-11-23T15:16:59.950949Z"
    }
   },
   "cell_type": "code",
   "source": [
    "print(\"Distribuzione delle Classi prima dello split:\")\n",
    "print(df['Class'].value_counts())"
   ],
   "id": "1819dd77de965d2c",
   "outputs": [
    {
     "name": "stdout",
     "output_type": "stream",
     "text": [
      "Distribuzione delle Classi prima dello split:\n",
      "Class\n",
      "Target        43181\n",
      "Non-Target     7812\n",
      "Name: count, dtype: int64\n"
     ]
    }
   ],
   "execution_count": 5
  },
  {
   "metadata": {
    "ExecuteTime": {
     "end_time": "2024-11-23T15:17:00.151518Z",
     "start_time": "2024-11-23T15:17:00.134204Z"
    }
   },
   "cell_type": "code",
   "source": [
    "df_Target = df[df['Class'] == 'Target']\n",
    "\n",
    "print(\"Distribuzione delle subclass in Target prima dello split:\")\n",
    "print(df_Target['Subclass'].value_counts())"
   ],
   "id": "93f4b73b31d7e805",
   "outputs": [
    {
     "name": "stdout",
     "output_type": "stream",
     "text": [
      "Distribuzione delle subclass in Target prima dello split:\n",
      "Subclass\n",
      "Passengership                       11728\n",
      "Tanker                              11221\n",
      "Tug                                 10162\n",
      "Cargo                                9671\n",
      "Vessel                                307\n",
      "Sonar                                  20\n",
      "Seismic airguns surveys                18\n",
      "Seal bomb                              17\n",
      "Echosounder                            14\n",
      "Underwater Communication Signals        6\n",
      "Scuba divers                            4\n",
      "Seafloor fossil fuel processing         4\n",
      "Acoustic release                        3\n",
      "Acoustic Harassment Devices             2\n",
      "Explosion                               2\n",
      "Fishing pinger                          2\n",
      "Name: count, dtype: int64\n"
     ]
    }
   ],
   "execution_count": 6
  },
  {
   "metadata": {
    "ExecuteTime": {
     "end_time": "2024-11-23T15:17:00.244709Z",
     "start_time": "2024-11-23T15:17:00.230058Z"
    }
   },
   "cell_type": "code",
   "source": [
    "df_NonTarget = df[df['Class'] == 'Non-Target']\n",
    "\n",
    "print(\"Distribuzione delle subclass in Non-Target prima dello split:\")\n",
    "print(df_NonTarget['Subclass'].value_counts())"
   ],
   "id": "95e951263168f5ce",
   "outputs": [
    {
     "name": "stdout",
     "output_type": "stream",
     "text": [
      "Distribuzione delle subclass in Non-Target prima dello split:\n",
      "Subclass\n",
      "Humpback Whale                1523\n",
      "Sperm Whale                   1107\n",
      "Fin, Finback Whale             803\n",
      "Pygmy Blue Whale               493\n",
      "Blue whale                     280\n",
      "                              ... \n",
      "Ringed Seal                      2\n",
      "Australian Snubfin Dolphin       1\n",
      "True_s beaked whale              1\n",
      "Harbor porpoise                  1\n",
      "Pygmy Right Whale                1\n",
      "Name: count, Length: 96, dtype: int64\n"
     ]
    }
   ],
   "execution_count": 7
  },
  {
   "metadata": {},
   "cell_type": "markdown",
   "source": "### Filtro dataframe",
   "id": "8c3db70c77705554"
  },
  {
   "metadata": {
    "ExecuteTime": {
     "end_time": "2024-11-23T15:17:00.507159Z",
     "start_time": "2024-11-23T15:17:00.286452Z"
    }
   },
   "cell_type": "code",
   "source": [
    "df['File Name'] = df['File Name'].str[:-4]\n",
    "# Aggiungi una colonna \"Parent\" che contiene il prefisso del file per mantenere i segmenti coesi\n",
    "df['Parent'] = df['File Name'].str.extract(r'^(.*?)(?=_seg)')\n",
    "\n",
    "# Filtra subclass con almeno 10 parent distinti\n",
    "parent_counts = df.groupby('Subclass')['Parent'].nunique()\n",
    "subclasses_to_keep = parent_counts[parent_counts >= 10].index\n",
    "df = df[df['Subclass'].isin(subclasses_to_keep)].copy()\n",
    "\n",
    "print(f\"Dimensione totale dopo il filtraggio: {df.shape[0]} campioni\")"
   ],
   "id": "f12cb7cad63ff7d",
   "outputs": [
    {
     "name": "stdout",
     "output_type": "stream",
     "text": [
      "Dimensione totale dopo il filtraggio: 49429 campioni\n"
     ]
    }
   ],
   "execution_count": 8
  },
  {
   "metadata": {},
   "cell_type": "markdown",
   "source": "## SPLIT",
   "id": "1ffddf1268457688"
  },
  {
   "metadata": {},
   "cell_type": "markdown",
   "source": [
    "Distribuzione delle subclass nel set di addestramento:\n",
    "Class\n",
    "Target 33872 ok\n",
    "Non-Target 4917 ok\n",
    "     \n",
    "Distribuzione delle subclass nel set di validazione:\n",
    "Class\n",
    "Target 4403 -> 4394 ha 9 campioni in più\n",
    "Non-Target 613 -> 528 ha 85 campioni in più\n",
    "\n",
    "Distribuzione delle subclass nel set di test: \n",
    "Class\n",
    "Target 4814 -> 4823 ha 9 campioni in meno\n",
    "Non-Target 810 -> 895 ha 85 campioni in meno"
   ],
   "id": "34578bc86fcc7e8"
  },
  {
   "metadata": {
    "ExecuteTime": {
     "end_time": "2024-11-23T15:17:01.174982Z",
     "start_time": "2024-11-23T15:17:00.555079Z"
    }
   },
   "cell_type": "code",
   "source": "X_train_imputed, X_val_imputed, X_test_imputed, y_train, y_val, y_test = split_dataset(df)",
   "id": "d80b838cbce47c83",
   "outputs": [
    {
     "name": "stdout",
     "output_type": "stream",
     "text": [
      "\n",
      "Dimensione del set di addestramento: 38789 campioni (78.47%)\n",
      "Dimensione del set di validazione: 5016 campioni (10.15%)\n",
      "Dimensione del set di test: 5624 campioni (11.38%)\n",
      "\n",
      "Distribuzione delle subclass nel set di addestramento:\n",
      "Class\n",
      "Target        33872\n",
      "Non-Target     4917\n",
      "Name: count, dtype: int64\n",
      "\n",
      "Distribuzione delle subclass nel set di validazione:\n",
      "Class\n",
      "Target        4403\n",
      "Non-Target     613\n",
      "Name: count, dtype: int64\n",
      "\n",
      "Distribuzione delle subclass nel set di test:\n",
      "Class\n",
      "Target        4814\n",
      "Non-Target     810\n",
      "Name: count, dtype: int64\n"
     ]
    }
   ],
   "execution_count": 9
  },
  {
   "metadata": {
    "ExecuteTime": {
     "end_time": "2024-11-23T15:17:32.837604Z",
     "start_time": "2024-11-23T15:17:01.223325Z"
    }
   },
   "cell_type": "code",
   "source": "X_train_imputed[['File Name', 'Parent', 'Class']].groupby(['Parent', 'File Name']).describe()",
   "id": "265146d08d07197c",
   "outputs": [
    {
     "data": {
      "text/plain": [
       "                                                                                Class  \\\n",
       "                                                                                count   \n",
       "Parent                               File Name                                          \n",
       "1cc5583b-fe72-4cb2-b64c-563bd87ad91b 1cc5583b-fe72-4cb2-b64c-563bd87ad91b_seg1      1   \n",
       "                                     1cc5583b-fe72-4cb2-b64c-563bd87ad91b_seg10     1   \n",
       "                                     1cc5583b-fe72-4cb2-b64c-563bd87ad91b_seg11     1   \n",
       "                                     1cc5583b-fe72-4cb2-b64c-563bd87ad91b_seg12     1   \n",
       "                                     1cc5583b-fe72-4cb2-b64c-563bd87ad91b_seg13     1   \n",
       "...                                                                               ...   \n",
       "ship_small                           ship_small_seg5                                1   \n",
       "                                     ship_small_seg6                                1   \n",
       "                                     ship_small_seg7                                1   \n",
       "                                     ship_small_seg8                                1   \n",
       "                                     ship_small_seg9                                1   \n",
       "\n",
       "                                                                                        \\\n",
       "                                                                                unique   \n",
       "Parent                               File Name                                           \n",
       "1cc5583b-fe72-4cb2-b64c-563bd87ad91b 1cc5583b-fe72-4cb2-b64c-563bd87ad91b_seg1       1   \n",
       "                                     1cc5583b-fe72-4cb2-b64c-563bd87ad91b_seg10      1   \n",
       "                                     1cc5583b-fe72-4cb2-b64c-563bd87ad91b_seg11      1   \n",
       "                                     1cc5583b-fe72-4cb2-b64c-563bd87ad91b_seg12      1   \n",
       "                                     1cc5583b-fe72-4cb2-b64c-563bd87ad91b_seg13      1   \n",
       "...                                                                                ...   \n",
       "ship_small                           ship_small_seg5                                 1   \n",
       "                                     ship_small_seg6                                 1   \n",
       "                                     ship_small_seg7                                 1   \n",
       "                                     ship_small_seg8                                 1   \n",
       "                                     ship_small_seg9                                 1   \n",
       "\n",
       "                                                                                         \\\n",
       "                                                                                    top   \n",
       "Parent                               File Name                                            \n",
       "1cc5583b-fe72-4cb2-b64c-563bd87ad91b 1cc5583b-fe72-4cb2-b64c-563bd87ad91b_seg1   Target   \n",
       "                                     1cc5583b-fe72-4cb2-b64c-563bd87ad91b_seg10  Target   \n",
       "                                     1cc5583b-fe72-4cb2-b64c-563bd87ad91b_seg11  Target   \n",
       "                                     1cc5583b-fe72-4cb2-b64c-563bd87ad91b_seg12  Target   \n",
       "                                     1cc5583b-fe72-4cb2-b64c-563bd87ad91b_seg13  Target   \n",
       "...                                                                                 ...   \n",
       "ship_small                           ship_small_seg5                             Target   \n",
       "                                     ship_small_seg6                             Target   \n",
       "                                     ship_small_seg7                             Target   \n",
       "                                     ship_small_seg8                             Target   \n",
       "                                     ship_small_seg9                             Target   \n",
       "\n",
       "                                                                                      \n",
       "                                                                                freq  \n",
       "Parent                               File Name                                        \n",
       "1cc5583b-fe72-4cb2-b64c-563bd87ad91b 1cc5583b-fe72-4cb2-b64c-563bd87ad91b_seg1     1  \n",
       "                                     1cc5583b-fe72-4cb2-b64c-563bd87ad91b_seg10    1  \n",
       "                                     1cc5583b-fe72-4cb2-b64c-563bd87ad91b_seg11    1  \n",
       "                                     1cc5583b-fe72-4cb2-b64c-563bd87ad91b_seg12    1  \n",
       "                                     1cc5583b-fe72-4cb2-b64c-563bd87ad91b_seg13    1  \n",
       "...                                                                              ...  \n",
       "ship_small                           ship_small_seg5                               1  \n",
       "                                     ship_small_seg6                               1  \n",
       "                                     ship_small_seg7                               1  \n",
       "                                     ship_small_seg8                               1  \n",
       "                                     ship_small_seg9                               1  \n",
       "\n",
       "[38789 rows x 4 columns]"
      ],
      "text/html": [
       "<div>\n",
       "<style scoped>\n",
       "    .dataframe tbody tr th:only-of-type {\n",
       "        vertical-align: middle;\n",
       "    }\n",
       "\n",
       "    .dataframe tbody tr th {\n",
       "        vertical-align: top;\n",
       "    }\n",
       "\n",
       "    .dataframe thead tr th {\n",
       "        text-align: left;\n",
       "    }\n",
       "\n",
       "    .dataframe thead tr:last-of-type th {\n",
       "        text-align: right;\n",
       "    }\n",
       "</style>\n",
       "<table border=\"1\" class=\"dataframe\">\n",
       "  <thead>\n",
       "    <tr>\n",
       "      <th></th>\n",
       "      <th></th>\n",
       "      <th colspan=\"4\" halign=\"left\">Class</th>\n",
       "    </tr>\n",
       "    <tr>\n",
       "      <th></th>\n",
       "      <th></th>\n",
       "      <th>count</th>\n",
       "      <th>unique</th>\n",
       "      <th>top</th>\n",
       "      <th>freq</th>\n",
       "    </tr>\n",
       "    <tr>\n",
       "      <th>Parent</th>\n",
       "      <th>File Name</th>\n",
       "      <th></th>\n",
       "      <th></th>\n",
       "      <th></th>\n",
       "      <th></th>\n",
       "    </tr>\n",
       "  </thead>\n",
       "  <tbody>\n",
       "    <tr>\n",
       "      <th rowspan=\"5\" valign=\"top\">1cc5583b-fe72-4cb2-b64c-563bd87ad91b</th>\n",
       "      <th>1cc5583b-fe72-4cb2-b64c-563bd87ad91b_seg1</th>\n",
       "      <td>1</td>\n",
       "      <td>1</td>\n",
       "      <td>Target</td>\n",
       "      <td>1</td>\n",
       "    </tr>\n",
       "    <tr>\n",
       "      <th>1cc5583b-fe72-4cb2-b64c-563bd87ad91b_seg10</th>\n",
       "      <td>1</td>\n",
       "      <td>1</td>\n",
       "      <td>Target</td>\n",
       "      <td>1</td>\n",
       "    </tr>\n",
       "    <tr>\n",
       "      <th>1cc5583b-fe72-4cb2-b64c-563bd87ad91b_seg11</th>\n",
       "      <td>1</td>\n",
       "      <td>1</td>\n",
       "      <td>Target</td>\n",
       "      <td>1</td>\n",
       "    </tr>\n",
       "    <tr>\n",
       "      <th>1cc5583b-fe72-4cb2-b64c-563bd87ad91b_seg12</th>\n",
       "      <td>1</td>\n",
       "      <td>1</td>\n",
       "      <td>Target</td>\n",
       "      <td>1</td>\n",
       "    </tr>\n",
       "    <tr>\n",
       "      <th>1cc5583b-fe72-4cb2-b64c-563bd87ad91b_seg13</th>\n",
       "      <td>1</td>\n",
       "      <td>1</td>\n",
       "      <td>Target</td>\n",
       "      <td>1</td>\n",
       "    </tr>\n",
       "    <tr>\n",
       "      <th>...</th>\n",
       "      <th>...</th>\n",
       "      <td>...</td>\n",
       "      <td>...</td>\n",
       "      <td>...</td>\n",
       "      <td>...</td>\n",
       "    </tr>\n",
       "    <tr>\n",
       "      <th rowspan=\"5\" valign=\"top\">ship_small</th>\n",
       "      <th>ship_small_seg5</th>\n",
       "      <td>1</td>\n",
       "      <td>1</td>\n",
       "      <td>Target</td>\n",
       "      <td>1</td>\n",
       "    </tr>\n",
       "    <tr>\n",
       "      <th>ship_small_seg6</th>\n",
       "      <td>1</td>\n",
       "      <td>1</td>\n",
       "      <td>Target</td>\n",
       "      <td>1</td>\n",
       "    </tr>\n",
       "    <tr>\n",
       "      <th>ship_small_seg7</th>\n",
       "      <td>1</td>\n",
       "      <td>1</td>\n",
       "      <td>Target</td>\n",
       "      <td>1</td>\n",
       "    </tr>\n",
       "    <tr>\n",
       "      <th>ship_small_seg8</th>\n",
       "      <td>1</td>\n",
       "      <td>1</td>\n",
       "      <td>Target</td>\n",
       "      <td>1</td>\n",
       "    </tr>\n",
       "    <tr>\n",
       "      <th>ship_small_seg9</th>\n",
       "      <td>1</td>\n",
       "      <td>1</td>\n",
       "      <td>Target</td>\n",
       "      <td>1</td>\n",
       "    </tr>\n",
       "  </tbody>\n",
       "</table>\n",
       "<p>38789 rows × 4 columns</p>\n",
       "</div>"
      ]
     },
     "execution_count": 10,
     "metadata": {},
     "output_type": "execute_result"
    }
   ],
   "execution_count": 10
  },
  {
   "metadata": {
    "ExecuteTime": {
     "end_time": "2024-11-23T15:17:37.275193Z",
     "start_time": "2024-11-23T15:17:32.901431Z"
    }
   },
   "cell_type": "code",
   "source": "X_val_imputed[['File Name', 'Parent', 'Class']].groupby(['Parent', 'File Name']).describe()",
   "id": "13ff5f5efd8e3e9f",
   "outputs": [
    {
     "data": {
      "text/plain": [
       "                                                                                                    Class  \\\n",
       "                                                                                                    count   \n",
       "Parent                                           File Name                                                  \n",
       "20160531-7_142749                                20160531-7_142749_seg1                                 1   \n",
       "                                                 20160531-7_142749_seg10                                1   \n",
       "                                                 20160531-7_142749_seg100                               1   \n",
       "                                                 20160531-7_142749_seg101                               1   \n",
       "                                                 20160531-7_142749_seg102                               1   \n",
       "...                                                                                                   ...   \n",
       "Striped-Dolphin-Whistles-PAM_20160206_015539_377 Striped-Dolphin-Whistles-PAM_20160206_015539_37...     1   \n",
       "                                                 Striped-Dolphin-Whistles-PAM_20160206_015539_37...     1   \n",
       "                                                 Striped-Dolphin-Whistles-PAM_20160206_015539_37...     1   \n",
       "                                                 Striped-Dolphin-Whistles-PAM_20160206_015539_37...     1   \n",
       "                                                 Striped-Dolphin-Whistles-PAM_20160206_015539_37...     1   \n",
       "\n",
       "                                                                                                            \\\n",
       "                                                                                                    unique   \n",
       "Parent                                           File Name                                                   \n",
       "20160531-7_142749                                20160531-7_142749_seg1                                  1   \n",
       "                                                 20160531-7_142749_seg10                                 1   \n",
       "                                                 20160531-7_142749_seg100                                1   \n",
       "                                                 20160531-7_142749_seg101                                1   \n",
       "                                                 20160531-7_142749_seg102                                1   \n",
       "...                                                                                                    ...   \n",
       "Striped-Dolphin-Whistles-PAM_20160206_015539_377 Striped-Dolphin-Whistles-PAM_20160206_015539_37...      1   \n",
       "                                                 Striped-Dolphin-Whistles-PAM_20160206_015539_37...      1   \n",
       "                                                 Striped-Dolphin-Whistles-PAM_20160206_015539_37...      1   \n",
       "                                                 Striped-Dolphin-Whistles-PAM_20160206_015539_37...      1   \n",
       "                                                 Striped-Dolphin-Whistles-PAM_20160206_015539_37...      1   \n",
       "\n",
       "                                                                                                                 \\\n",
       "                                                                                                            top   \n",
       "Parent                                           File Name                                                        \n",
       "20160531-7_142749                                20160531-7_142749_seg1                                  Target   \n",
       "                                                 20160531-7_142749_seg10                                 Target   \n",
       "                                                 20160531-7_142749_seg100                                Target   \n",
       "                                                 20160531-7_142749_seg101                                Target   \n",
       "                                                 20160531-7_142749_seg102                                Target   \n",
       "...                                                                                                         ...   \n",
       "Striped-Dolphin-Whistles-PAM_20160206_015539_377 Striped-Dolphin-Whistles-PAM_20160206_015539_37...  Non-Target   \n",
       "                                                 Striped-Dolphin-Whistles-PAM_20160206_015539_37...  Non-Target   \n",
       "                                                 Striped-Dolphin-Whistles-PAM_20160206_015539_37...  Non-Target   \n",
       "                                                 Striped-Dolphin-Whistles-PAM_20160206_015539_37...  Non-Target   \n",
       "                                                 Striped-Dolphin-Whistles-PAM_20160206_015539_37...  Non-Target   \n",
       "\n",
       "                                                                                                          \n",
       "                                                                                                    freq  \n",
       "Parent                                           File Name                                                \n",
       "20160531-7_142749                                20160531-7_142749_seg1                                1  \n",
       "                                                 20160531-7_142749_seg10                               1  \n",
       "                                                 20160531-7_142749_seg100                              1  \n",
       "                                                 20160531-7_142749_seg101                              1  \n",
       "                                                 20160531-7_142749_seg102                              1  \n",
       "...                                                                                                  ...  \n",
       "Striped-Dolphin-Whistles-PAM_20160206_015539_377 Striped-Dolphin-Whistles-PAM_20160206_015539_37...    1  \n",
       "                                                 Striped-Dolphin-Whistles-PAM_20160206_015539_37...    1  \n",
       "                                                 Striped-Dolphin-Whistles-PAM_20160206_015539_37...    1  \n",
       "                                                 Striped-Dolphin-Whistles-PAM_20160206_015539_37...    1  \n",
       "                                                 Striped-Dolphin-Whistles-PAM_20160206_015539_37...    1  \n",
       "\n",
       "[5016 rows x 4 columns]"
      ],
      "text/html": [
       "<div>\n",
       "<style scoped>\n",
       "    .dataframe tbody tr th:only-of-type {\n",
       "        vertical-align: middle;\n",
       "    }\n",
       "\n",
       "    .dataframe tbody tr th {\n",
       "        vertical-align: top;\n",
       "    }\n",
       "\n",
       "    .dataframe thead tr th {\n",
       "        text-align: left;\n",
       "    }\n",
       "\n",
       "    .dataframe thead tr:last-of-type th {\n",
       "        text-align: right;\n",
       "    }\n",
       "</style>\n",
       "<table border=\"1\" class=\"dataframe\">\n",
       "  <thead>\n",
       "    <tr>\n",
       "      <th></th>\n",
       "      <th></th>\n",
       "      <th colspan=\"4\" halign=\"left\">Class</th>\n",
       "    </tr>\n",
       "    <tr>\n",
       "      <th></th>\n",
       "      <th></th>\n",
       "      <th>count</th>\n",
       "      <th>unique</th>\n",
       "      <th>top</th>\n",
       "      <th>freq</th>\n",
       "    </tr>\n",
       "    <tr>\n",
       "      <th>Parent</th>\n",
       "      <th>File Name</th>\n",
       "      <th></th>\n",
       "      <th></th>\n",
       "      <th></th>\n",
       "      <th></th>\n",
       "    </tr>\n",
       "  </thead>\n",
       "  <tbody>\n",
       "    <tr>\n",
       "      <th rowspan=\"5\" valign=\"top\">20160531-7_142749</th>\n",
       "      <th>20160531-7_142749_seg1</th>\n",
       "      <td>1</td>\n",
       "      <td>1</td>\n",
       "      <td>Target</td>\n",
       "      <td>1</td>\n",
       "    </tr>\n",
       "    <tr>\n",
       "      <th>20160531-7_142749_seg10</th>\n",
       "      <td>1</td>\n",
       "      <td>1</td>\n",
       "      <td>Target</td>\n",
       "      <td>1</td>\n",
       "    </tr>\n",
       "    <tr>\n",
       "      <th>20160531-7_142749_seg100</th>\n",
       "      <td>1</td>\n",
       "      <td>1</td>\n",
       "      <td>Target</td>\n",
       "      <td>1</td>\n",
       "    </tr>\n",
       "    <tr>\n",
       "      <th>20160531-7_142749_seg101</th>\n",
       "      <td>1</td>\n",
       "      <td>1</td>\n",
       "      <td>Target</td>\n",
       "      <td>1</td>\n",
       "    </tr>\n",
       "    <tr>\n",
       "      <th>20160531-7_142749_seg102</th>\n",
       "      <td>1</td>\n",
       "      <td>1</td>\n",
       "      <td>Target</td>\n",
       "      <td>1</td>\n",
       "    </tr>\n",
       "    <tr>\n",
       "      <th>...</th>\n",
       "      <th>...</th>\n",
       "      <td>...</td>\n",
       "      <td>...</td>\n",
       "      <td>...</td>\n",
       "      <td>...</td>\n",
       "    </tr>\n",
       "    <tr>\n",
       "      <th rowspan=\"5\" valign=\"top\">Striped-Dolphin-Whistles-PAM_20160206_015539_377</th>\n",
       "      <th>Striped-Dolphin-Whistles-PAM_20160206_015539_377_seg5</th>\n",
       "      <td>1</td>\n",
       "      <td>1</td>\n",
       "      <td>Non-Target</td>\n",
       "      <td>1</td>\n",
       "    </tr>\n",
       "    <tr>\n",
       "      <th>Striped-Dolphin-Whistles-PAM_20160206_015539_377_seg6</th>\n",
       "      <td>1</td>\n",
       "      <td>1</td>\n",
       "      <td>Non-Target</td>\n",
       "      <td>1</td>\n",
       "    </tr>\n",
       "    <tr>\n",
       "      <th>Striped-Dolphin-Whistles-PAM_20160206_015539_377_seg7</th>\n",
       "      <td>1</td>\n",
       "      <td>1</td>\n",
       "      <td>Non-Target</td>\n",
       "      <td>1</td>\n",
       "    </tr>\n",
       "    <tr>\n",
       "      <th>Striped-Dolphin-Whistles-PAM_20160206_015539_377_seg8</th>\n",
       "      <td>1</td>\n",
       "      <td>1</td>\n",
       "      <td>Non-Target</td>\n",
       "      <td>1</td>\n",
       "    </tr>\n",
       "    <tr>\n",
       "      <th>Striped-Dolphin-Whistles-PAM_20160206_015539_377_seg9</th>\n",
       "      <td>1</td>\n",
       "      <td>1</td>\n",
       "      <td>Non-Target</td>\n",
       "      <td>1</td>\n",
       "    </tr>\n",
       "  </tbody>\n",
       "</table>\n",
       "<p>5016 rows × 4 columns</p>\n",
       "</div>"
      ]
     },
     "execution_count": 11,
     "metadata": {},
     "output_type": "execute_result"
    }
   ],
   "execution_count": 11
  },
  {
   "metadata": {
    "ExecuteTime": {
     "end_time": "2024-11-23T15:17:42.120337Z",
     "start_time": "2024-11-23T15:17:37.324583Z"
    }
   },
   "cell_type": "code",
   "source": "X_test_imputed[['File Name', 'Parent', 'Class']].groupby(['Parent', 'File Name']).describe()",
   "id": "8c2b872857460f5a",
   "outputs": [
    {
     "data": {
      "text/plain": [
       "                                                                               Class  \\\n",
       "                                                                               count   \n",
       "Parent                               File Name                                         \n",
       "20160516a-9_9                        20160516a-9_9_seg1                            1   \n",
       "                                     20160516a-9_9_seg2                            1   \n",
       "                                     20160516a-9_9_seg3                            1   \n",
       "20160616b-21_200904                  20160616b-21_200904_seg1                      1   \n",
       "                                     20160616b-21_200904_seg10                     1   \n",
       "...                                                                              ...   \n",
       "e60488c2-30fb-414b-bc9f-ee16f886a897 e60488c2-30fb-414b-bc9f-ee16f886a897_seg5     1   \n",
       "                                     e60488c2-30fb-414b-bc9f-ee16f886a897_seg6     1   \n",
       "                                     e60488c2-30fb-414b-bc9f-ee16f886a897_seg7     1   \n",
       "                                     e60488c2-30fb-414b-bc9f-ee16f886a897_seg8     1   \n",
       "                                     e60488c2-30fb-414b-bc9f-ee16f886a897_seg9     1   \n",
       "\n",
       "                                                                                       \\\n",
       "                                                                               unique   \n",
       "Parent                               File Name                                          \n",
       "20160516a-9_9                        20160516a-9_9_seg1                             1   \n",
       "                                     20160516a-9_9_seg2                             1   \n",
       "                                     20160516a-9_9_seg3                             1   \n",
       "20160616b-21_200904                  20160616b-21_200904_seg1                       1   \n",
       "                                     20160616b-21_200904_seg10                      1   \n",
       "...                                                                               ...   \n",
       "e60488c2-30fb-414b-bc9f-ee16f886a897 e60488c2-30fb-414b-bc9f-ee16f886a897_seg5      1   \n",
       "                                     e60488c2-30fb-414b-bc9f-ee16f886a897_seg6      1   \n",
       "                                     e60488c2-30fb-414b-bc9f-ee16f886a897_seg7      1   \n",
       "                                     e60488c2-30fb-414b-bc9f-ee16f886a897_seg8      1   \n",
       "                                     e60488c2-30fb-414b-bc9f-ee16f886a897_seg9      1   \n",
       "\n",
       "                                                                                            \\\n",
       "                                                                                       top   \n",
       "Parent                               File Name                                               \n",
       "20160516a-9_9                        20160516a-9_9_seg1                             Target   \n",
       "                                     20160516a-9_9_seg2                             Target   \n",
       "                                     20160516a-9_9_seg3                             Target   \n",
       "20160616b-21_200904                  20160616b-21_200904_seg1                       Target   \n",
       "                                     20160616b-21_200904_seg10                      Target   \n",
       "...                                                                                    ...   \n",
       "e60488c2-30fb-414b-bc9f-ee16f886a897 e60488c2-30fb-414b-bc9f-ee16f886a897_seg5  Non-Target   \n",
       "                                     e60488c2-30fb-414b-bc9f-ee16f886a897_seg6  Non-Target   \n",
       "                                     e60488c2-30fb-414b-bc9f-ee16f886a897_seg7  Non-Target   \n",
       "                                     e60488c2-30fb-414b-bc9f-ee16f886a897_seg8  Non-Target   \n",
       "                                     e60488c2-30fb-414b-bc9f-ee16f886a897_seg9  Non-Target   \n",
       "\n",
       "                                                                                     \n",
       "                                                                               freq  \n",
       "Parent                               File Name                                       \n",
       "20160516a-9_9                        20160516a-9_9_seg1                           1  \n",
       "                                     20160516a-9_9_seg2                           1  \n",
       "                                     20160516a-9_9_seg3                           1  \n",
       "20160616b-21_200904                  20160616b-21_200904_seg1                     1  \n",
       "                                     20160616b-21_200904_seg10                    1  \n",
       "...                                                                             ...  \n",
       "e60488c2-30fb-414b-bc9f-ee16f886a897 e60488c2-30fb-414b-bc9f-ee16f886a897_seg5    1  \n",
       "                                     e60488c2-30fb-414b-bc9f-ee16f886a897_seg6    1  \n",
       "                                     e60488c2-30fb-414b-bc9f-ee16f886a897_seg7    1  \n",
       "                                     e60488c2-30fb-414b-bc9f-ee16f886a897_seg8    1  \n",
       "                                     e60488c2-30fb-414b-bc9f-ee16f886a897_seg9    1  \n",
       "\n",
       "[5624 rows x 4 columns]"
      ],
      "text/html": [
       "<div>\n",
       "<style scoped>\n",
       "    .dataframe tbody tr th:only-of-type {\n",
       "        vertical-align: middle;\n",
       "    }\n",
       "\n",
       "    .dataframe tbody tr th {\n",
       "        vertical-align: top;\n",
       "    }\n",
       "\n",
       "    .dataframe thead tr th {\n",
       "        text-align: left;\n",
       "    }\n",
       "\n",
       "    .dataframe thead tr:last-of-type th {\n",
       "        text-align: right;\n",
       "    }\n",
       "</style>\n",
       "<table border=\"1\" class=\"dataframe\">\n",
       "  <thead>\n",
       "    <tr>\n",
       "      <th></th>\n",
       "      <th></th>\n",
       "      <th colspan=\"4\" halign=\"left\">Class</th>\n",
       "    </tr>\n",
       "    <tr>\n",
       "      <th></th>\n",
       "      <th></th>\n",
       "      <th>count</th>\n",
       "      <th>unique</th>\n",
       "      <th>top</th>\n",
       "      <th>freq</th>\n",
       "    </tr>\n",
       "    <tr>\n",
       "      <th>Parent</th>\n",
       "      <th>File Name</th>\n",
       "      <th></th>\n",
       "      <th></th>\n",
       "      <th></th>\n",
       "      <th></th>\n",
       "    </tr>\n",
       "  </thead>\n",
       "  <tbody>\n",
       "    <tr>\n",
       "      <th rowspan=\"3\" valign=\"top\">20160516a-9_9</th>\n",
       "      <th>20160516a-9_9_seg1</th>\n",
       "      <td>1</td>\n",
       "      <td>1</td>\n",
       "      <td>Target</td>\n",
       "      <td>1</td>\n",
       "    </tr>\n",
       "    <tr>\n",
       "      <th>20160516a-9_9_seg2</th>\n",
       "      <td>1</td>\n",
       "      <td>1</td>\n",
       "      <td>Target</td>\n",
       "      <td>1</td>\n",
       "    </tr>\n",
       "    <tr>\n",
       "      <th>20160516a-9_9_seg3</th>\n",
       "      <td>1</td>\n",
       "      <td>1</td>\n",
       "      <td>Target</td>\n",
       "      <td>1</td>\n",
       "    </tr>\n",
       "    <tr>\n",
       "      <th rowspan=\"2\" valign=\"top\">20160616b-21_200904</th>\n",
       "      <th>20160616b-21_200904_seg1</th>\n",
       "      <td>1</td>\n",
       "      <td>1</td>\n",
       "      <td>Target</td>\n",
       "      <td>1</td>\n",
       "    </tr>\n",
       "    <tr>\n",
       "      <th>20160616b-21_200904_seg10</th>\n",
       "      <td>1</td>\n",
       "      <td>1</td>\n",
       "      <td>Target</td>\n",
       "      <td>1</td>\n",
       "    </tr>\n",
       "    <tr>\n",
       "      <th>...</th>\n",
       "      <th>...</th>\n",
       "      <td>...</td>\n",
       "      <td>...</td>\n",
       "      <td>...</td>\n",
       "      <td>...</td>\n",
       "    </tr>\n",
       "    <tr>\n",
       "      <th rowspan=\"5\" valign=\"top\">e60488c2-30fb-414b-bc9f-ee16f886a897</th>\n",
       "      <th>e60488c2-30fb-414b-bc9f-ee16f886a897_seg5</th>\n",
       "      <td>1</td>\n",
       "      <td>1</td>\n",
       "      <td>Non-Target</td>\n",
       "      <td>1</td>\n",
       "    </tr>\n",
       "    <tr>\n",
       "      <th>e60488c2-30fb-414b-bc9f-ee16f886a897_seg6</th>\n",
       "      <td>1</td>\n",
       "      <td>1</td>\n",
       "      <td>Non-Target</td>\n",
       "      <td>1</td>\n",
       "    </tr>\n",
       "    <tr>\n",
       "      <th>e60488c2-30fb-414b-bc9f-ee16f886a897_seg7</th>\n",
       "      <td>1</td>\n",
       "      <td>1</td>\n",
       "      <td>Non-Target</td>\n",
       "      <td>1</td>\n",
       "    </tr>\n",
       "    <tr>\n",
       "      <th>e60488c2-30fb-414b-bc9f-ee16f886a897_seg8</th>\n",
       "      <td>1</td>\n",
       "      <td>1</td>\n",
       "      <td>Non-Target</td>\n",
       "      <td>1</td>\n",
       "    </tr>\n",
       "    <tr>\n",
       "      <th>e60488c2-30fb-414b-bc9f-ee16f886a897_seg9</th>\n",
       "      <td>1</td>\n",
       "      <td>1</td>\n",
       "      <td>Non-Target</td>\n",
       "      <td>1</td>\n",
       "    </tr>\n",
       "  </tbody>\n",
       "</table>\n",
       "<p>5624 rows × 4 columns</p>\n",
       "</div>"
      ]
     },
     "execution_count": 12,
     "metadata": {},
     "output_type": "execute_result"
    }
   ],
   "execution_count": 12
  },
  {
   "metadata": {},
   "cell_type": "markdown",
   "source": "## SMOTE",
   "id": "4252323a8c0c67f6"
  },
  {
   "metadata": {
    "ExecuteTime": {
     "end_time": "2024-11-23T15:17:42.229539Z",
     "start_time": "2024-11-23T15:17:42.215799Z"
    }
   },
   "cell_type": "code",
   "source": [
    "import os\n",
    "os.environ[\"LOKY_MAX_CPU_COUNT\"] = \"4\"  # Adatta questo valore al numero di core che desideri utilizzare"
   ],
   "id": "2a9054163900c0c",
   "outputs": [],
   "execution_count": 13
  },
  {
   "metadata": {
    "ExecuteTime": {
     "end_time": "2024-11-23T15:17:42.996675Z",
     "start_time": "2024-11-23T15:17:42.326821Z"
    }
   },
   "cell_type": "code",
   "source": "X_train_resampled, y_train_resampled = apply_smote(X_train_imputed, y_train, 1)",
   "id": "f9e9fae4d65b7d4d",
   "outputs": [
    {
     "name": "stdout",
     "output_type": "stream",
     "text": [
      "\n",
      "Distribuzione delle subclass DOPO il primo livello di SMOTE:\n",
      "Subclass\n",
      "Killer Whale                          1163\n",
      "Minke Whale                           1163\n",
      "Odontocete                            1163\n",
      "Melon Headed Whale                    1163\n",
      "Fraser_s Dolphin                      1163\n",
      "Rough-Toothed Dolphin                 1163\n",
      "Clymene Dolphin                       1163\n",
      "Southern Right Whale                  1163\n",
      "Bowhead Whale                         1163\n",
      "Spinner Dolphin                       1163\n",
      "Narwhal                               1163\n",
      "Harp Seal                             1163\n",
      "Leopard Seal                          1163\n",
      "Bearded Seal                          1163\n",
      "Walrus                                1163\n",
      "Ross Seal                             1163\n",
      "Pantropical Spotted Dolphin           1163\n",
      "Long-Finned Pilot Whale               1163\n",
      "Sperm Whale                           1163\n",
      "Beluga, White Whale                   1163\n",
      "White-sided Dolphin                   1163\n",
      "Atlantic Spotted Dolphin              1163\n",
      "False Killer Whale                    1163\n",
      "Fin, Finback Whale                    1163\n",
      "White-beaked Dolphin                  1163\n",
      "Grampus, Risso_s Dolphin              1163\n",
      "Common Dolphin                        1163\n",
      "Striped Dolphin                       1163\n",
      "Short-Finned (Pacific) Pilot Whale    1163\n",
      "Northern Right Whale                  1163\n",
      "Bottlenose Dolphin                    1163\n",
      "Humpback Whale                        1163\n",
      "Soundscape                            1163\n",
      "Name: count, dtype: int64\n",
      "\n",
      "Distribuzione delle class DOPO SMOTE:\n",
      "1    44150\n",
      "0    44150\n",
      "Name: count, dtype: int64\n"
     ]
    }
   ],
   "execution_count": 14
  },
  {
   "metadata": {
    "ExecuteTime": {
     "end_time": "2024-11-23T15:17:43.012160Z",
     "start_time": "2024-11-23T15:17:43.007759Z"
    }
   },
   "cell_type": "code",
   "source": [
    "# Stampare le forme dei dataset\n",
    "print(\"\\nForme dei dataset:\")\n",
    "print(f\"Train: {X_train_imputed.shape}\") #validation\n",
    "print(f\"Validation: {X_val_imputed.shape}\") #validation\n",
    "print(f\"Test: {X_test_imputed.shape}\") #test\n",
    "print(f\"Train bilanciato e filtrato: {X_train_resampled.shape}\") #train dopo SMOTE"
   ],
   "id": "41e07c68abe09791",
   "outputs": [
    {
     "name": "stdout",
     "output_type": "stream",
     "text": [
      "\n",
      "Forme dei dataset:\n",
      "Train: (38789, 19)\n",
      "Validation: (5016, 19)\n",
      "Test: (5624, 19)\n",
      "Train bilanciato e filtrato: (88300, 15)\n"
     ]
    }
   ],
   "execution_count": 15
  },
  {
   "metadata": {},
   "cell_type": "markdown",
   "source": "# Esperimento 1",
   "id": "d5ff8fec5eafb803"
  },
  {
   "metadata": {},
   "cell_type": "markdown",
   "source": "Esperimento effettuato prendendo come riferimento alcune features numeriche da \"Malfante et al.\"",
   "id": "a050408e837f4c50"
  },
  {
   "metadata": {
    "ExecuteTime": {
     "end_time": "2024-11-23T15:17:43.073512Z",
     "start_time": "2024-11-23T15:17:43.058821Z"
    }
   },
   "cell_type": "code",
   "source": [
    "# Rimuovi le colonne non necessarie per evitare errori nei nomi delle feature\n",
    "X_val_imputed = X_val_imputed.drop(columns=[\"Class\", \"File Name\", \"Parent\", \"Subclass\"], errors='ignore')\n",
    "X_test_imputed = X_test_imputed.drop(columns=[\"Class\", \"File Name\", \"Parent\", \"Subclass\"], errors='ignore')"
   ],
   "id": "d8432d8e1572557a",
   "outputs": [],
   "execution_count": 16
  },
  {
   "metadata": {},
   "cell_type": "markdown",
   "source": "### 1.1 Random Forest Model",
   "id": "5b5c42beb434c835"
  },
  {
   "metadata": {
    "ExecuteTime": {
     "end_time": "2024-11-23T15:18:26.142697Z",
     "start_time": "2024-11-23T15:17:43.123123Z"
    }
   },
   "cell_type": "code",
   "source": "random_forest_model = train_random_forest(X_train_resampled, y_train_resampled, X_val_imputed, y_val, X_test_imputed, y_test)",
   "id": "82695120292730ec",
   "outputs": [
    {
     "name": "stdout",
     "output_type": "stream",
     "text": [
      "Accuratezza sul Validation Set: 0.9926\n",
      "Log Loss sul Validation Set: 0.0302\n",
      "\n",
      "=== Report di Classificazione - Validation Set ===\n",
      "              precision    recall  f1-score   support\n",
      "\n",
      "           0       0.95      1.00      0.97       613\n",
      "           1       1.00      0.99      1.00      4403\n",
      "\n",
      "    accuracy                           0.99      5016\n",
      "   macro avg       0.97      0.99      0.98      5016\n",
      "weighted avg       0.99      0.99      0.99      5016\n",
      "\n",
      "Accuratezza sul Test Set: 0.9897\n",
      "Log Loss sul Test Set: 0.0341\n",
      "\n",
      "=== Report di Classificazione - Test Set ===\n",
      "              precision    recall  f1-score   support\n",
      "\n",
      "           0       0.96      0.96      0.96       810\n",
      "           1       0.99      0.99      0.99      4814\n",
      "\n",
      "    accuracy                           0.99      5624\n",
      "   macro avg       0.98      0.98      0.98      5624\n",
      "weighted avg       0.99      0.99      0.99      5624\n",
      "\n"
     ]
    }
   ],
   "execution_count": 17
  },
  {
   "metadata": {
    "ExecuteTime": {
     "end_time": "2024-11-23T15:18:26.578015Z",
     "start_time": "2024-11-23T15:18:26.190799Z"
    }
   },
   "cell_type": "code",
   "source": "rf_plot_confusion_matrices(random_forest_model, X_val_imputed, y_val, X_test_imputed, y_test)",
   "id": "5b384e64929f3a5a",
   "outputs": [
    {
     "data": {
      "text/plain": [
       "<Figure size 1400x600 with 4 Axes>"
      ],
      "image/png": "[encoded data removed]"
     },
     "metadata": {},
     "output_type": "display_data"
    }
   ],
   "execution_count": 18
  },
  {
   "metadata": {},
   "cell_type": "markdown",
   "source": "### 1.2 SVM Model",
   "id": "e26b4bd0c13ca6d7"
  },
  {
   "metadata": {
    "ExecuteTime": {
     "end_time": "2024-11-23T15:23:27.237551Z",
     "start_time": "2024-11-23T15:18:26.627015Z"
    }
   },
   "cell_type": "code",
   "source": "svm_model = train_svm(X_train_resampled, y_train_resampled, X_val_imputed, y_val, X_test_imputed, y_test)",
   "id": "b000af22ed5bcf58",
   "outputs": [
    {
     "name": "stdout",
     "output_type": "stream",
     "text": [
      "Distribuzione delle classi reali nel set di validazione: [ 613 4403]\n",
      "Distribuzione delle classi predette nel set di validazione: [ 389 4627]\n",
      "Report di classificazione del set di validazione:\n",
      "              precision    recall  f1-score   support\n",
      "\n",
      "           0       0.73      0.46      0.57       613\n",
      "           1       0.93      0.98      0.95      4403\n",
      "\n",
      "    accuracy                           0.91      5016\n",
      "   macro avg       0.83      0.72      0.76      5016\n",
      "weighted avg       0.90      0.91      0.90      5016\n",
      "\n",
      "Accuratezza sul set di validazione: 0.9135\n",
      "Distribuzione delle classi reali nel set di test: [ 810 4814]\n",
      "Distribuzione delle classi predette nel set di test: [ 815 4809]\n",
      "Report di classificazione del set di test:\n",
      "              precision    recall  f1-score   support\n",
      "\n",
      "           0       0.75      0.76      0.76       810\n",
      "           1       0.96      0.96      0.96      4814\n",
      "\n",
      "    accuracy                           0.93      5624\n",
      "   macro avg       0.86      0.86      0.86      5624\n",
      "weighted avg       0.93      0.93      0.93      5624\n",
      "\n",
      "Accuratezza sul set di test: 0.9294\n"
     ]
    }
   ],
   "execution_count": 19
  },
  {
   "metadata": {
    "ExecuteTime": {
     "end_time": "2024-11-23T15:24:01.580338Z",
     "start_time": "2024-11-23T15:23:27.302698Z"
    }
   },
   "cell_type": "code",
   "source": "svm_plot_confusion_matrices(svm_model, X_val_imputed, y_val, X_test_imputed, y_test)",
   "id": "cc59e99335016859",
   "outputs": [
    {
     "data": {
      "text/plain": [
       "<Figure size 1400x600 with 2 Axes>"
      ],
      "image/png": "[encoded data removed]"
     },
     "metadata": {},
     "output_type": "display_data"
    }
   ],
   "execution_count": 20
  },
  {
   "metadata": {},
   "cell_type": "markdown",
   "source": "### 1.3 LightGBM Model",
   "id": "3f6a6db84a4786c5"
  },
  {
   "metadata": {
    "ExecuteTime": {
     "end_time": "2024-11-23T15:24:08.004834Z",
     "start_time": "2024-11-23T15:24:01.629479Z"
    }
   },
   "cell_type": "code",
   "source": "lightgbm_model = train_lightgbm(X_train_resampled, y_train_resampled, X_val_imputed, y_val, X_test_imputed, y_test)",
   "id": "d983cdf36f44efa8",
   "outputs": [
    {
     "name": "stdout",
     "output_type": "stream",
     "text": [
      "Dimensioni dopo NaN nel set di addestramento: X_train: (88300, 15), y_train: (88300,)\n",
      "Dimensioni dopo NaN nel set di validazione: X_val: (5016, 15), y_val: (5016,)\n",
      "Dimensioni dopo NaN nel set di test: X_test: (5624, 15), y_test: (5624,)\n",
      "Classi nel set di addestramento: [0 1]\n",
      "Classi nel set di validazione: [0 1]\n",
      "Classi nel set di test: [0 1]\n",
      "Report di classificazione del set di validazione:\n",
      "              precision    recall  f1-score   support\n",
      "\n",
      "           0       0.95      1.00      0.97       613\n",
      "           1       1.00      0.99      1.00      4403\n",
      "\n",
      "    accuracy                           0.99      5016\n",
      "   macro avg       0.97      0.99      0.98      5016\n",
      "weighted avg       0.99      0.99      0.99      5016\n",
      "\n",
      "Accuratezza sul set di validazione: 0.9928\n",
      "Report di classificazione del set di test:\n",
      "              precision    recall  f1-score   support\n",
      "\n",
      "           0       0.98      0.96      0.97       810\n",
      "           1       0.99      1.00      1.00      4814\n",
      "\n",
      "    accuracy                           0.99      5624\n",
      "   macro avg       0.99      0.98      0.98      5624\n",
      "weighted avg       0.99      0.99      0.99      5624\n",
      "\n",
      "Accuratezza sul set di test: 0.9924\n"
     ]
    }
   ],
   "execution_count": 21
  },
  {
   "metadata": {
    "ExecuteTime": {
     "end_time": "2024-11-23T15:24:08.667339Z",
     "start_time": "2024-11-23T15:24:08.069457Z"
    }
   },
   "cell_type": "code",
   "source": "lightgbm_plot_confusion_matrices(lightgbm_model, X_val_imputed, y_val, X_test_imputed, y_test)",
   "id": "1f2de7edf392fc23",
   "outputs": [
    {
     "data": {
      "text/plain": [
       "<Figure size 1400x600 with 4 Axes>"
      ],
      "image/png": "[encoded data removed]"
     },
     "metadata": {},
     "output_type": "display_data"
    }
   ],
   "execution_count": 22
  },
  {
   "metadata": {},
   "cell_type": "markdown",
   "source": "## Esperimento 2",
   "id": "e2745cff5c0d0e15"
  },
  {
   "metadata": {},
   "cell_type": "markdown",
   "source": "Esperimento effettuato prendendo come riferimento alcune features numeriche da “BirdNet”",
   "id": "d54cfd26d0ca766b"
  },
  {
   "metadata": {
    "ExecuteTime": {
     "end_time": "2024-11-23T15:24:09.046739Z",
     "start_time": "2024-11-23T15:24:08.716794Z"
    }
   },
   "cell_type": "code",
   "source": [
    "csv_file_path_exp1 = 'C:/underwater-classification/features_extraction/exp1_audio_features.csv'\n",
    "df_exp1 = pd.read_csv(csv_file_path_exp1)"
   ],
   "id": "c53153451c3c0f88",
   "outputs": [],
   "execution_count": 23
  },
  {
   "metadata": {
    "ExecuteTime": {
     "end_time": "2024-11-23T15:24:09.330503Z",
     "start_time": "2024-11-23T15:24:09.111278Z"
    }
   },
   "cell_type": "code",
   "source": [
    "df_exp1['File Name'] = df_exp1['File Name'].str[:-4]\n",
    "# Aggiungi una colonna \"Parent\" che contiene il prefisso del file per mantenere i segmenti coesi\n",
    "df_exp1['Parent'] = df_exp1['File Name'].str.extract(r'^(.*?)(?=_seg)')\n",
    "\n",
    "# Filtra subclass con almeno 10 parent distinti\n",
    "parent_counts = df_exp1.groupby('Subclass')['Parent'].nunique()\n",
    "subclasses_to_keep = parent_counts[parent_counts >= 10].index\n",
    "df_exp1 = df_exp1[df_exp1['Subclass'].isin(subclasses_to_keep)].copy()\n",
    "\n",
    "print(f\"Dimensione totale dopo il filtraggio: {df_exp1.shape[0]} campioni\")"
   ],
   "id": "f6f28a9459055f76",
   "outputs": [
    {
     "name": "stdout",
     "output_type": "stream",
     "text": [
      "Dimensione totale dopo il filtraggio: 49429 campioni\n"
     ]
    }
   ],
   "execution_count": 24
  },
  {
   "metadata": {
    "ExecuteTime": {
     "end_time": "2024-11-23T15:24:10.183878Z",
     "start_time": "2024-11-23T15:24:09.396665Z"
    }
   },
   "cell_type": "code",
   "source": "X_train_imputed_exp1, X_val_imputed_exp1, X_test_imputed_exp1, y_train_encoded_exp1, y_val_encoded_exp1, y_test_encoded_exp1 = split_dataset(df_exp1)",
   "id": "aeb4b3ab46fb2eec",
   "outputs": [
    {
     "name": "stdout",
     "output_type": "stream",
     "text": [
      "\n",
      "Dimensione del set di addestramento: 38789 campioni (78.47%)\n",
      "Dimensione del set di validazione: 5016 campioni (10.15%)\n",
      "Dimensione del set di test: 5624 campioni (11.38%)\n",
      "\n",
      "Distribuzione delle subclass nel set di addestramento:\n",
      "Class\n",
      "Target        33872\n",
      "Non-Target     4917\n",
      "Name: count, dtype: int64\n",
      "\n",
      "Distribuzione delle subclass nel set di validazione:\n",
      "Class\n",
      "Target        4403\n",
      "Non-Target     613\n",
      "Name: count, dtype: int64\n",
      "\n",
      "Distribuzione delle subclass nel set di test:\n",
      "Class\n",
      "Target        4814\n",
      "Non-Target     810\n",
      "Name: count, dtype: int64\n"
     ]
    }
   ],
   "execution_count": 25
  },
  {
   "metadata": {
    "ExecuteTime": {
     "end_time": "2024-11-23T15:24:13.868059Z",
     "start_time": "2024-11-23T15:24:10.263441Z"
    }
   },
   "cell_type": "code",
   "source": [
    "\n",
    "X_train_resampled_exp1, y_train_resampled_exp1 = apply_smote(X_train_imputed_exp1, y_train_encoded_exp1, 1)"
   ],
   "id": "b12f934aed2e8004",
   "outputs": [
    {
     "name": "stdout",
     "output_type": "stream",
     "text": [
      "\n",
      "Distribuzione delle subclass DOPO il primo livello di SMOTE:\n",
      "Subclass\n",
      "Killer Whale                          1163\n",
      "Minke Whale                           1163\n",
      "Odontocete                            1163\n",
      "Melon Headed Whale                    1163\n",
      "Fraser_s Dolphin                      1163\n",
      "Rough-Toothed Dolphin                 1163\n",
      "Clymene Dolphin                       1163\n",
      "Southern Right Whale                  1163\n",
      "Bowhead Whale                         1163\n",
      "Spinner Dolphin                       1163\n",
      "Narwhal                               1163\n",
      "Harp Seal                             1163\n",
      "Leopard Seal                          1163\n",
      "Bearded Seal                          1163\n",
      "Walrus                                1163\n",
      "Ross Seal                             1163\n",
      "Pantropical Spotted Dolphin           1163\n",
      "Long-Finned Pilot Whale               1163\n",
      "Sperm Whale                           1163\n",
      "Beluga, White Whale                   1163\n",
      "White-sided Dolphin                   1163\n",
      "Atlantic Spotted Dolphin              1163\n",
      "False Killer Whale                    1163\n",
      "Fin, Finback Whale                    1163\n",
      "White-beaked Dolphin                  1163\n",
      "Grampus, Risso_s Dolphin              1163\n",
      "Common Dolphin                        1163\n",
      "Striped Dolphin                       1163\n",
      "Short-Finned (Pacific) Pilot Whale    1163\n",
      "Northern Right Whale                  1163\n",
      "Bottlenose Dolphin                    1163\n",
      "Humpback Whale                        1163\n",
      "Soundscape                            1163\n",
      "Name: count, dtype: int64\n",
      "\n",
      "Distribuzione delle class DOPO SMOTE:\n",
      "1    44150\n",
      "0    44150\n",
      "Name: count, dtype: int64\n"
     ]
    }
   ],
   "execution_count": 26
  },
  {
   "metadata": {
    "ExecuteTime": {
     "end_time": "2024-11-23T15:24:13.962961Z",
     "start_time": "2024-11-23T15:24:13.949194Z"
    }
   },
   "cell_type": "code",
   "source": [
    "# Rimuovi le colonne non necessarie per evitare errori nei nomi delle feature\n",
    "X_val_imputed_exp1 = X_val_imputed_exp1.drop(columns=[\"Class\", \"File Name\", \"Parent\", \"Subclass\"], errors='ignore')\n",
    "X_test_imputed_exp1 = X_test_imputed_exp1.drop(columns=[\"Class\", \"File Name\", \"Parent\", \"Subclass\"], errors='ignore')"
   ],
   "id": "bd0f0d7d702212fa",
   "outputs": [],
   "execution_count": 27
  },
  {
   "metadata": {},
   "cell_type": "markdown",
   "source": "### 2.1 Random Forest Model",
   "id": "90c83b73dde084e4"
  },
  {
   "metadata": {
    "ExecuteTime": {
     "end_time": "2024-11-23T15:25:18.165313Z",
     "start_time": "2024-11-23T15:24:14.059706Z"
    }
   },
   "cell_type": "code",
   "source": "random_forest_model_exp1 = train_random_forest(X_train_resampled_exp1, y_train_resampled_exp1, X_val_imputed_exp1, y_val_encoded_exp1, X_test_imputed_exp1, y_test_encoded_exp1)",
   "id": "901d01ee574c8286",
   "outputs": [
    {
     "name": "stdout",
     "output_type": "stream",
     "text": [
      "Accuratezza sul Validation Set: 0.9908\n",
      "Log Loss sul Validation Set: 0.0346\n",
      "\n",
      "=== Report di Classificazione - Validation Set ===\n",
      "              precision    recall  f1-score   support\n",
      "\n",
      "           0       0.94      0.99      0.96       613\n",
      "           1       1.00      0.99      0.99      4403\n",
      "\n",
      "    accuracy                           0.99      5016\n",
      "   macro avg       0.97      0.99      0.98      5016\n",
      "weighted avg       0.99      0.99      0.99      5016\n",
      "\n",
      "Accuratezza sul Test Set: 0.9908\n",
      "Log Loss sul Test Set: 0.0394\n",
      "\n",
      "=== Report di Classificazione - Test Set ===\n",
      "              precision    recall  f1-score   support\n",
      "\n",
      "           0       0.97      0.97      0.97       810\n",
      "           1       1.00      0.99      0.99      4814\n",
      "\n",
      "    accuracy                           0.99      5624\n",
      "   macro avg       0.98      0.98      0.98      5624\n",
      "weighted avg       0.99      0.99      0.99      5624\n",
      "\n"
     ]
    }
   ],
   "execution_count": 28
  },
  {
   "metadata": {
    "ExecuteTime": {
     "end_time": "2024-11-23T15:25:18.902341Z",
     "start_time": "2024-11-23T15:25:18.275993Z"
    }
   },
   "cell_type": "code",
   "source": "rf_plot_confusion_matrices(random_forest_model_exp1, X_val_imputed_exp1, y_val_encoded_exp1, X_test_imputed_exp1, y_test_encoded_exp1)\n",
   "id": "c3337b2b32c86f27",
   "outputs": [
    {
     "data": {
      "text/plain": [
       "<Figure size 1400x600 with 4 Axes>"
      ],
      "image/png": "[encoded data removed]"
     },
     "metadata": {},
     "output_type": "display_data"
    }
   ],
   "execution_count": 29
  },
  {
   "metadata": {},
   "cell_type": "markdown",
   "source": "### 2.2 SVM Model",
   "id": "85b689328cc55ce0"
  },
  {
   "metadata": {
    "ExecuteTime": {
     "end_time": "2024-11-23T15:29:53.669072Z",
     "start_time": "2024-11-23T15:25:18.997453Z"
    }
   },
   "cell_type": "code",
   "source": "svm_model_exp1 = train_svm(X_train_resampled_exp1, y_train_resampled_exp1, X_val_imputed_exp1, y_val_encoded_exp1, X_test_imputed_exp1, y_test_encoded_exp1)",
   "id": "f9210217d67af87b",
   "outputs": [
    {
     "name": "stdout",
     "output_type": "stream",
     "text": [
      "Distribuzione delle classi reali nel set di validazione: [ 613 4403]\n",
      "Distribuzione delle classi predette nel set di validazione: [ 607 4409]\n",
      "Report di classificazione del set di validazione:\n",
      "              precision    recall  f1-score   support\n",
      "\n",
      "           0       0.92      0.92      0.92       613\n",
      "           1       0.99      0.99      0.99      4403\n",
      "\n",
      "    accuracy                           0.98      5016\n",
      "   macro avg       0.96      0.95      0.95      5016\n",
      "weighted avg       0.98      0.98      0.98      5016\n",
      "\n",
      "Accuratezza sul set di validazione: 0.9805\n",
      "Distribuzione delle classi reali nel set di test: [ 810 4814]\n",
      "Distribuzione delle classi predette nel set di test: [ 854 4770]\n",
      "Report di classificazione del set di test:\n",
      "              precision    recall  f1-score   support\n",
      "\n",
      "           0       0.89      0.94      0.91       810\n",
      "           1       0.99      0.98      0.98      4814\n",
      "\n",
      "    accuracy                           0.97      5624\n",
      "   macro avg       0.94      0.96      0.95      5624\n",
      "weighted avg       0.97      0.97      0.97      5624\n",
      "\n",
      "Accuratezza sul set di test: 0.9737\n"
     ]
    }
   ],
   "execution_count": 30
  },
  {
   "metadata": {
    "ExecuteTime": {
     "end_time": "2024-11-23T15:30:06.715425Z",
     "start_time": "2024-11-23T15:29:53.731444Z"
    }
   },
   "cell_type": "code",
   "source": "svm_plot_confusion_matrices(svm_model_exp1, X_val_imputed_exp1, y_val_encoded_exp1, X_test_imputed_exp1, y_test_encoded_exp1)",
   "id": "403cb794fb74e30e",
   "outputs": [
    {
     "data": {
      "text/plain": [
       "<Figure size 1400x600 with 2 Axes>"
      ],
      "image/png": "[encoded data removed]"
     },
     "metadata": {},
     "output_type": "display_data"
    }
   ],
   "execution_count": 31
  },
  {
   "metadata": {},
   "cell_type": "markdown",
   "source": "### 2.3 LightGBM Model",
   "id": "715019a8f06b39f1"
  },
  {
   "metadata": {
    "ExecuteTime": {
     "end_time": "2024-11-23T15:30:12.374219Z",
     "start_time": "2024-11-23T15:30:06.779308Z"
    }
   },
   "cell_type": "code",
   "source": "lightgbm_model_exp1 = train_lightgbm(X_train_resampled_exp1, y_train_resampled_exp1, X_val_imputed_exp1, y_val_encoded_exp1, X_test_imputed_exp1, y_test_encoded_exp1)",
   "id": "89798041563248dc",
   "outputs": [
    {
     "name": "stdout",
     "output_type": "stream",
     "text": [
      "Dimensioni dopo NaN nel set di addestramento: X_train: (88300, 28), y_train: (88300,)\n",
      "Dimensioni dopo NaN nel set di validazione: X_val: (5016, 28), y_val: (5016,)\n",
      "Dimensioni dopo NaN nel set di test: X_test: (5624, 28), y_test: (5624,)\n",
      "Classi nel set di addestramento: [0 1]\n",
      "Classi nel set di validazione: [0 1]\n",
      "Classi nel set di test: [0 1]\n",
      "Report di classificazione del set di validazione:\n",
      "              precision    recall  f1-score   support\n",
      "\n",
      "           0       0.96      0.99      0.98       613\n",
      "           1       1.00      0.99      1.00      4403\n",
      "\n",
      "    accuracy                           0.99      5016\n",
      "   macro avg       0.98      0.99      0.99      5016\n",
      "weighted avg       0.99      0.99      0.99      5016\n",
      "\n",
      "Accuratezza sul set di validazione: 0.9942\n",
      "Report di classificazione del set di test:\n",
      "              precision    recall  f1-score   support\n",
      "\n",
      "           0       0.98      0.96      0.97       810\n",
      "           1       0.99      1.00      1.00      4814\n",
      "\n",
      "    accuracy                           0.99      5624\n",
      "   macro avg       0.99      0.98      0.98      5624\n",
      "weighted avg       0.99      0.99      0.99      5624\n",
      "\n",
      "Accuratezza sul set di test: 0.9922\n"
     ]
    }
   ],
   "execution_count": 32
  },
  {
   "metadata": {
    "ExecuteTime": {
     "end_time": "2024-11-23T15:30:13.063421Z",
     "start_time": "2024-11-23T15:30:12.468257Z"
    }
   },
   "cell_type": "code",
   "source": "lightgbm_plot_confusion_matrices(lightgbm_model_exp1, X_val_imputed_exp1, y_val_encoded_exp1, X_test_imputed_exp1, y_test_encoded_exp1)",
   "id": "cd818dcce48bf66",
   "outputs": [
    {
     "data": {
      "text/plain": [
       "<Figure size 1400x600 with 4 Axes>"
      ],
      "image/png": "[encoded data removed]"
     },
     "metadata": {},
     "output_type": "display_data"
    }
   ],
   "execution_count": 33
  },
  {
   "metadata": {},
   "cell_type": "markdown",
   "source": "## Esperimento 3",
   "id": "f1656a634ff8c47d"
  },
  {
   "metadata": {},
   "cell_type": "markdown",
   "source": "Esperimento effettuato prendendo come riferimento features numeriche da \"A Survey on Audio Feature Extraction for Automatic Music Genre Classification\" di Dhamodaran et al.",
   "id": "4950e46c43aea61e"
  },
  {
   "metadata": {
    "ExecuteTime": {
     "end_time": "2024-11-23T15:30:13.551463Z",
     "start_time": "2024-11-23T15:30:13.159252Z"
    }
   },
   "cell_type": "code",
   "source": [
    "csv_file_path_exp2 = 'C:/underwater-classification/features_extraction/exp2_audio_features.csv'\n",
    "df_exp2 = pd.read_csv(csv_file_path_exp2)"
   ],
   "id": "c78e13e9af7bbedb",
   "outputs": [],
   "execution_count": 34
  },
  {
   "metadata": {
    "ExecuteTime": {
     "end_time": "2024-11-23T15:30:13.814571Z",
     "start_time": "2024-11-23T15:30:13.660773Z"
    }
   },
   "cell_type": "code",
   "source": [
    "df_exp2['File Name'] = df_exp2['File Name'].str[:-4]\n",
    "# Aggiungi una colonna \"Parent\" che contiene il prefisso del file per mantenere i segmenti coesi\n",
    "df_exp2['Parent'] = df_exp2['File Name'].str.extract(r'^(.*?)(?=_seg)')\n",
    "\n",
    "# Filtra subclass con almeno 10 parent distinti\n",
    "parent_counts = df_exp2.groupby('Subclass')['Parent'].nunique()\n",
    "subclasses_to_keep = parent_counts[parent_counts >= 10].index\n",
    "df_exp2 = df_exp2[df_exp2['Subclass'].isin(subclasses_to_keep)].copy()\n",
    "\n",
    "print(f\"Dimensione totale dopo il filtraggio: {df_exp2.shape[0]} campioni\")"
   ],
   "id": "c747427624fe4094",
   "outputs": [
    {
     "name": "stdout",
     "output_type": "stream",
     "text": [
      "Dimensione totale dopo il filtraggio: 49429 campioni\n"
     ]
    }
   ],
   "execution_count": 35
  },
  {
   "metadata": {
    "ExecuteTime": {
     "end_time": "2024-11-23T15:30:14.905178Z",
     "start_time": "2024-11-23T15:30:13.925869Z"
    }
   },
   "cell_type": "code",
   "source": "X_train_imputed_exp2, X_val_imputed_exp2, X_test_imputed_exp2, y_train_encoded_exp2, y_val_encoded_exp2, y_test_encoded_exp2 = split_dataset(df_exp2)",
   "id": "ecc0e1438bdf5ce9",
   "outputs": [
    {
     "name": "stdout",
     "output_type": "stream",
     "text": [
      "\n",
      "Dimensione del set di addestramento: 38789 campioni (78.47%)\n",
      "Dimensione del set di validazione: 5016 campioni (10.15%)\n",
      "Dimensione del set di test: 5624 campioni (11.38%)\n",
      "\n",
      "Distribuzione delle subclass nel set di addestramento:\n",
      "Class\n",
      "Target        33872\n",
      "Non-Target     4917\n",
      "Name: count, dtype: int64\n",
      "\n",
      "Distribuzione delle subclass nel set di validazione:\n",
      "Class\n",
      "Target        4403\n",
      "Non-Target     613\n",
      "Name: count, dtype: int64\n",
      "\n",
      "Distribuzione delle subclass nel set di test:\n",
      "Class\n",
      "Target        4814\n",
      "Non-Target     810\n",
      "Name: count, dtype: int64\n"
     ]
    }
   ],
   "execution_count": 36
  },
  {
   "metadata": {
    "ExecuteTime": {
     "end_time": "2024-11-23T15:30:19.105085Z",
     "start_time": "2024-11-23T15:30:15.218987Z"
    }
   },
   "cell_type": "code",
   "source": [
    "\n",
    "X_train_resampled_exp2, y_train_resampled_exp2 = apply_smote(X_train_imputed_exp2, y_train_encoded_exp2, 1)"
   ],
   "id": "949a1028e3364635",
   "outputs": [
    {
     "name": "stdout",
     "output_type": "stream",
     "text": [
      "\n",
      "Distribuzione delle subclass DOPO il primo livello di SMOTE:\n",
      "Subclass\n",
      "Killer Whale                          1163\n",
      "Minke Whale                           1163\n",
      "Odontocete                            1163\n",
      "Melon Headed Whale                    1163\n",
      "Fraser_s Dolphin                      1163\n",
      "Rough-Toothed Dolphin                 1163\n",
      "Clymene Dolphin                       1163\n",
      "Southern Right Whale                  1163\n",
      "Bowhead Whale                         1163\n",
      "Spinner Dolphin                       1163\n",
      "Narwhal                               1163\n",
      "Harp Seal                             1163\n",
      "Leopard Seal                          1163\n",
      "Bearded Seal                          1163\n",
      "Walrus                                1163\n",
      "Ross Seal                             1163\n",
      "Pantropical Spotted Dolphin           1163\n",
      "Long-Finned Pilot Whale               1163\n",
      "Sperm Whale                           1163\n",
      "Beluga, White Whale                   1163\n",
      "White-sided Dolphin                   1163\n",
      "Atlantic Spotted Dolphin              1163\n",
      "False Killer Whale                    1163\n",
      "Fin, Finback Whale                    1163\n",
      "White-beaked Dolphin                  1163\n",
      "Grampus, Risso_s Dolphin              1163\n",
      "Common Dolphin                        1163\n",
      "Striped Dolphin                       1163\n",
      "Short-Finned (Pacific) Pilot Whale    1163\n",
      "Northern Right Whale                  1163\n",
      "Bottlenose Dolphin                    1163\n",
      "Humpback Whale                        1163\n",
      "Soundscape                            1163\n",
      "Name: count, dtype: int64\n",
      "\n",
      "Distribuzione delle class DOPO SMOTE:\n",
      "1    44150\n",
      "0    44150\n",
      "Name: count, dtype: int64\n"
     ]
    }
   ],
   "execution_count": 37
  },
  {
   "metadata": {
    "ExecuteTime": {
     "end_time": "2024-11-23T15:30:19.278264Z",
     "start_time": "2024-11-23T15:30:19.265789Z"
    }
   },
   "cell_type": "code",
   "source": [
    "# Rimuovi le colonne non necessarie per evitare errori nei nomi delle feature\n",
    "X_val_imputed_exp2 = X_val_imputed_exp2.drop(columns=[\"Class\", \"File Name\", \"Parent\", \"Subclass\"], errors='ignore')\n",
    "X_test_imputed_exp2 = X_test_imputed_exp2.drop(columns=[\"Class\", \"File Name\", \"Parent\", \"Subclass\"], errors='ignore')"
   ],
   "id": "ffb70026b425b922",
   "outputs": [],
   "execution_count": 38
  },
  {
   "metadata": {},
   "cell_type": "markdown",
   "source": "### 3.1 Random Forest Model",
   "id": "b356ac4491203526"
  },
  {
   "metadata": {
    "ExecuteTime": {
     "end_time": "2024-11-23T15:31:23.990445Z",
     "start_time": "2024-11-23T15:30:19.420915Z"
    }
   },
   "cell_type": "code",
   "source": "random_forest_model_exp2 = train_random_forest(X_train_resampled_exp2, y_train_resampled_exp2, X_val_imputed_exp2, y_val_encoded_exp2, X_test_imputed_exp2, y_test_encoded_exp2)",
   "id": "bf17ebca25863afe",
   "outputs": [
    {
     "name": "stdout",
     "output_type": "stream",
     "text": [
      "Accuratezza sul Validation Set: 0.9870\n",
      "Log Loss sul Validation Set: 0.0398\n",
      "\n",
      "=== Report di Classificazione - Validation Set ===\n",
      "              precision    recall  f1-score   support\n",
      "\n",
      "           0       0.91      1.00      0.95       613\n",
      "           1       1.00      0.99      0.99      4403\n",
      "\n",
      "    accuracy                           0.99      5016\n",
      "   macro avg       0.95      0.99      0.97      5016\n",
      "weighted avg       0.99      0.99      0.99      5016\n",
      "\n",
      "Accuratezza sul Test Set: 0.9886\n",
      "Log Loss sul Test Set: 0.0457\n",
      "\n",
      "=== Report di Classificazione - Test Set ===\n",
      "              precision    recall  f1-score   support\n",
      "\n",
      "           0       0.95      0.97      0.96       810\n",
      "           1       1.00      0.99      0.99      4814\n",
      "\n",
      "    accuracy                           0.99      5624\n",
      "   macro avg       0.97      0.98      0.98      5624\n",
      "weighted avg       0.99      0.99      0.99      5624\n",
      "\n"
     ]
    }
   ],
   "execution_count": 39
  },
  {
   "metadata": {
    "ExecuteTime": {
     "end_time": "2024-11-23T15:31:24.576210Z",
     "start_time": "2024-11-23T15:31:24.150758Z"
    }
   },
   "cell_type": "code",
   "source": "rf_plot_confusion_matrices(random_forest_model_exp2, X_val_imputed_exp2, y_val_encoded_exp2, X_test_imputed_exp2, y_test_encoded_exp2)",
   "id": "621b47c23a711bf6",
   "outputs": [
    {
     "data": {
      "text/plain": [
       "<Figure size 1400x600 with 4 Axes>"
      ],
      "image/png": "[encoded data removed]"
     },
     "metadata": {},
     "output_type": "display_data"
    }
   ],
   "execution_count": 40
  },
  {
   "metadata": {},
   "cell_type": "markdown",
   "source": "### 3.2 SVM Model ",
   "id": "97ee91f816302bbf"
  },
  {
   "metadata": {
    "ExecuteTime": {
     "end_time": "2024-11-23T15:33:34.833823Z",
     "start_time": "2024-11-23T15:31:24.718943Z"
    }
   },
   "cell_type": "code",
   "source": "svm_model_exp2 = train_svm(X_train_resampled_exp2, y_train_resampled_exp2, X_val_imputed_exp2, y_val_encoded_exp2, X_test_imputed_exp2, y_test_encoded_exp2)",
   "id": "2a89f73774431758",
   "outputs": [
    {
     "name": "stdout",
     "output_type": "stream",
     "text": [
      "Distribuzione delle classi reali nel set di validazione: [ 613 4403]\n",
      "Distribuzione delle classi predette nel set di validazione: [ 648 4368]\n",
      "Report di classificazione del set di validazione:\n",
      "              precision    recall  f1-score   support\n",
      "\n",
      "           0       0.91      0.97      0.94       613\n",
      "           1       1.00      0.99      0.99      4403\n",
      "\n",
      "    accuracy                           0.98      5016\n",
      "   macro avg       0.95      0.98      0.97      5016\n",
      "weighted avg       0.99      0.98      0.98      5016\n",
      "\n",
      "Accuratezza sul set di validazione: 0.9846\n",
      "Distribuzione delle classi reali nel set di test: [ 810 4814]\n",
      "Distribuzione delle classi predette nel set di test: [ 789 4835]\n",
      "Report di classificazione del set di test:\n",
      "              precision    recall  f1-score   support\n",
      "\n",
      "           0       0.94      0.92      0.93       810\n",
      "           1       0.99      0.99      0.99      4814\n",
      "\n",
      "    accuracy                           0.98      5624\n",
      "   macro avg       0.97      0.96      0.96      5624\n",
      "weighted avg       0.98      0.98      0.98      5624\n",
      "\n",
      "Accuratezza sul set di test: 0.9806\n"
     ]
    }
   ],
   "execution_count": 41
  },
  {
   "metadata": {
    "ExecuteTime": {
     "end_time": "2024-11-23T15:33:45.263417Z",
     "start_time": "2024-11-23T15:33:34.914285Z"
    }
   },
   "cell_type": "code",
   "source": "svm_plot_confusion_matrices(svm_model_exp2, X_val_imputed_exp2, y_val_encoded_exp2, X_test_imputed_exp2, y_test_encoded_exp2)",
   "id": "8e8105212f914b7f",
   "outputs": [
    {
     "data": {
      "text/plain": [
       "<Figure size 1400x600 with 2 Axes>"
      ],
      "image/png": "[encoded data removed]"
     },
     "metadata": {},
     "output_type": "display_data"
    }
   ],
   "execution_count": 42
  },
  {
   "metadata": {},
   "cell_type": "markdown",
   "source": "### 3.3 LightGBM Model",
   "id": "485ac50efaf0f240"
  },
  {
   "metadata": {
    "ExecuteTime": {
     "end_time": "2024-11-23T15:33:52.165180Z",
     "start_time": "2024-11-23T15:33:45.359643Z"
    }
   },
   "cell_type": "code",
   "source": "lightgbm_model_exp2 = train_lightgbm(X_train_resampled_exp2, y_train_resampled_exp2, X_val_imputed_exp2, y_val_encoded_exp2, X_test_imputed_exp2, y_test_encoded_exp2)",
   "id": "977e5cf8740421e5",
   "outputs": [
    {
     "name": "stdout",
     "output_type": "stream",
     "text": [
      "Dimensioni dopo NaN nel set di addestramento: X_train: (88300, 34), y_train: (88300,)\n",
      "Dimensioni dopo NaN nel set di validazione: X_val: (5016, 34), y_val: (5016,)\n",
      "Dimensioni dopo NaN nel set di test: X_test: (5624, 34), y_test: (5624,)\n",
      "Classi nel set di addestramento: [0 1]\n",
      "Classi nel set di validazione: [0 1]\n",
      "Classi nel set di test: [0 1]\n",
      "Report di classificazione del set di validazione:\n",
      "              precision    recall  f1-score   support\n",
      "\n",
      "           0       0.95      0.99      0.97       613\n",
      "           1       1.00      0.99      1.00      4403\n",
      "\n",
      "    accuracy                           0.99      5016\n",
      "   macro avg       0.97      0.99      0.98      5016\n",
      "weighted avg       0.99      0.99      0.99      5016\n",
      "\n",
      "Accuratezza sul set di validazione: 0.9924\n",
      "Report di classificazione del set di test:\n",
      "              precision    recall  f1-score   support\n",
      "\n",
      "           0       0.99      0.98      0.99       810\n",
      "           1       1.00      1.00      1.00      4814\n",
      "\n",
      "    accuracy                           1.00      5624\n",
      "   macro avg       0.99      0.99      0.99      5624\n",
      "weighted avg       1.00      1.00      1.00      5624\n",
      "\n",
      "Accuratezza sul set di test: 0.9961\n"
     ]
    }
   ],
   "execution_count": 43
  },
  {
   "metadata": {
    "ExecuteTime": {
     "end_time": "2024-11-23T15:33:52.746413Z",
     "start_time": "2024-11-23T15:33:52.292547Z"
    }
   },
   "cell_type": "code",
   "source": "lightgbm_plot_confusion_matrices(lightgbm_model_exp2, X_val_imputed_exp2, y_val_encoded_exp2, X_test_imputed_exp2, y_test_encoded_exp2)",
   "id": "d166ad74b4b614cd",
   "outputs": [
    {
     "data": {
      "text/plain": [
       "<Figure size 1400x600 with 4 Axes>"
      ],
      "image/png": "[encoded data removed]"
     },
     "metadata": {},
     "output_type": "display_data"
    }
   ],
   "execution_count": 44
  }
 ],
 "metadata": {
  "kernelspec": {
   "display_name": "Python 3 (ipykernel)",
   "language": "python",
   "name": "python3"
  },
  "language_info": {
   "codemirror_mode": {
    "name": "ipython",
    "version": 3
   },
   "file_extension": ".py",
   "mimetype": "text/x-python",
   "name": "python",
   "nbconvert_exporter": "python",
   "pygments_lexer": "ipython3",
   "version": "3.10.0"
  }
 },
 "nbformat": 4,
 "nbformat_minor": 5
}
