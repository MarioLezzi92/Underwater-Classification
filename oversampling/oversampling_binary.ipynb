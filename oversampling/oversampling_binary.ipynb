{
 "cells": [
  {
   "cell_type": "code",
   "id": "35178ba2aafdac3e",
   "metadata": {
    "collapsed": false
   },
   "source": [
    "import pandas as pd\n",
    "\n",
    "import oversampling_binary\n",
    "from oversampling_binary import split_dataset, apply_smote\n",
    "from sklearn.metrics import confusion_matrix, ConfusionMatrixDisplay\n",
    "import seaborn as sns\n",
    "import numpy as np\n",
    "import matplotlib.pyplot as plt\n"
   ],
   "outputs": [],
   "execution_count": null
  },
  {
   "cell_type": "code",
   "source": [
    "# Caricare il dataset e applicare lo split\n",
    "csv_file_path = 'audio_features.csv'"
   ],
   "metadata": {
    "collapsed": false
   },
   "id": "382aa16a0179920d",
   "outputs": [],
   "execution_count": null
  },
  {
   "cell_type": "code",
   "source": [
    "# Carica il file CSV in un DataFrame\n",
    "df = pd.read_csv(csv_file_path)\n",
    "\n",
    "# Filtra solo i dati con Class = Target\n",
    "df_target = df[df['Class'] == 'Target']\n",
    "\n",
    "# Conta il numero di occorrenze per ciascuna subclass\n",
    "subclass_counts = df_target['Subclass'].value_counts()\n",
    "\n",
    "# Stampa ogni subclass con il numero di elementi\n",
    "for subclass, count in subclass_counts.items():\n",
    "    print(f\"{subclass}: {count}\")\n",
    "\n",
    "# Stampa il numero totale di elementi\n",
    "total_elements = subclass_counts.sum()\n",
    "print(f\"Numero totale di elementi (Class = Target): {total_elements}\")"
   ],
   "metadata": {
    "collapsed": false
   },
   "id": "3ee18f7665dea5b6",
   "outputs": [],
   "execution_count": null
  },
  {
   "metadata": {
    "collapsed": false
   },
   "cell_type": "code",
   "outputs": [],
   "execution_count": null,
   "source": [
    "\n",
    "# Filtra solo i dati con Class = Target\n",
    "df_no_target = df[df['Class'] == 'Non-Target']\n",
    "\n",
    "# Conta il numero di occorrenze per ciascuna subclass\n",
    "subclass_counts_no = df_no_target['Subclass'].value_counts()\n",
    "\n",
    "# Stampa ogni subclass con il numero di elementi\n",
    "for subclass, count in subclass_counts_no.items():\n",
    "    print(f\"{subclass}: {count}\")\n",
    "\n",
    "# Stampa il numero totale di elementi\n",
    "total_elements_no = subclass_counts_no.sum()\n",
    "print(f\"Numero totale di elementi (Class = Non Target): {total_elements_no}\")"
   ],
   "id": "c86e60e68ed01bc0"
  },
  {
   "cell_type": "markdown",
   "source": [
    "# SPLIT"
   ],
   "metadata": {
    "collapsed": false
   },
   "id": "46ca28fdaf5a419b"
  },
  {
   "cell_type": "code",
   "id": "79b04d57c7fd9409",
   "metadata": {
    "collapsed": false
   },
   "source": [
    "X_train_imputed, X_val_imputed, X_test_imputed, y_train_encoded, y_val_encoded, y_test_encoded, subclasses_train, class_encoder = split_dataset('audio_features.csv')\n"
   ],
   "outputs": [],
   "execution_count": null
  },
  {
   "cell_type": "markdown",
   "id": "52836f69c58216cf",
   "metadata": {
    "collapsed": false
   },
   "source": [
    "## SMOTE"
   ]
  },
  {
   "cell_type": "code",
   "id": "f921911c14ccb3b",
   "metadata": {
    "collapsed": false
   },
   "source": [
    "X_train_resampled, y_train_resampled = apply_smote(X_train_imputed, y_train_encoded, subclasses_train)"
   ],
   "outputs": [],
   "execution_count": null
  },
  {
   "cell_type": "code",
   "source": [
    "print(\"Classi nel set di addestramento:\", np.unique(y_train_resampled))\n",
    "print(\"Classi nel set di validazione:\", np.unique(y_val_encoded))\n",
    "print(\"Classi nel set di test:\", np.unique(y_test_encoded))"
   ],
   "metadata": {
    "collapsed": false
   },
   "id": "99cd8b38ec7c5b5f",
   "outputs": [],
   "execution_count": null
  },
  {
   "cell_type": "code",
   "id": "48bc9f9010306780",
   "metadata": {
    "collapsed": false
   },
   "source": [
    "# Imposta pandas per visualizzare tutto il contenuto\n",
    "pd.set_option('display.max_rows', None)  # Rimuove la limitazione del numero massimo di righe visualizzate\n",
    "pd.set_option('display.max_columns', None)  # Mostra tutte le colonne"
   ],
   "outputs": [],
   "execution_count": null
  },
  {
   "cell_type": "markdown",
   "id": "d72067d25993a720",
   "metadata": {
    "collapsed": false
   },
   "source": [
    "## Distribuzione delle classi nel set di addestramento dopo SMOTE"
   ]
  },
  {
   "cell_type": "code",
   "id": "c817a21124aae37f",
   "metadata": {
    "collapsed": false
   },
   "source": [
    "y_train_resampled_df = pd.DataFrame(y_train_resampled, columns=['Class'])\n",
    "print(\"Distribuzione delle classi nel set di training dopo SMOTE:\")\n",
    "display(y_train_resampled_df['Class'].value_counts())"
   ],
   "outputs": [],
   "execution_count": null
  },
  {
   "cell_type": "markdown",
   "id": "95d59da0d5a01ebb",
   "metadata": {
    "collapsed": false
   },
   "source": [
    "# ESPERIMENTO 1"
   ]
  },
  {
   "cell_type": "markdown",
   "id": "52df05e8d07831ec",
   "metadata": {
    "collapsed": false
   },
   "source": [
    "Esperimento effettuato prendendo come riferimento alcune features numeriche da \"Malfante et al.\""
   ]
  },
  {
   "cell_type": "markdown",
   "id": "b8f6f19ce2c9bf7",
   "metadata": {
    "collapsed": false
   },
   "source": [
    "## ADDESTRAMENTO RANDOM FOREST"
   ]
  },
  {
   "cell_type": "code",
   "id": "af2ad0c674f810bf",
   "metadata": {
    "collapsed": false
   },
   "source": [
    "# Converte i DataFrame in ndarray\n",
    "X_train_resampled_array = X_train_resampled  # Supponendo che sia già un ndarray\n",
    "X_val_imputed_array = X_val_imputed.values  # Converti il DataFrame in ndarray\n",
    "X_test_imputed_array = X_test_imputed.values  # Converti il DataFrame in ndarray"
   ],
   "outputs": [],
   "execution_count": null
  },
  {
   "cell_type": "code",
   "id": "395458e4d6b840",
   "metadata": {
    "collapsed": false
   },
   "source": [
    "# Addestra il modello Random Forest\n",
    "random_forest_model = oversampling_binary.train_random_forest(\n",
    "    X_train_resampled_array,\n",
    "    y_train_resampled,\n",
    "    X_val_imputed_array,\n",
    "    y_val_encoded,\n",
    "    X_test_imputed_array,\n",
    "    y_test_encoded\n",
    ")"
   ],
   "outputs": [],
   "execution_count": null
  },
  {
   "cell_type": "code",
   "id": "599899e14a88b4e5",
   "metadata": {
    "collapsed": false
   },
   "source": [
    "# 1. Effettua le predizioni sul set di convalida\n",
    "y_pred_val = random_forest_model.predict(X_val_imputed_array)\n",
    "\n",
    "# 2. Effettua le predizioni sul set di test\n",
    "y_pred_test = random_forest_model.predict(X_test_imputed_array)\n",
    "\n",
    "# 3. Calcola le matrici di confusione per convalida e test\n",
    "cm_val = confusion_matrix(y_val_encoded, y_pred_val)\n",
    "cm_test = confusion_matrix(y_test_encoded, y_pred_test)\n",
    "\n",
    "# 4. Visualizza entrambe le matrici di confusione\n",
    "fig, axes = plt.subplots(1, 2, figsize=(14, 6))\n",
    "\n",
    "# Matrice di confusione per il set di convalida\n",
    "sns.heatmap(cm_val, annot=True, fmt='d', cmap='Blues', xticklabels=['Classe 0', 'Classe 1'], yticklabels=['Classe 0', 'Classe 1'], ax=axes[0])\n",
    "axes[0].set_title('Random Forest - Matrice di Confusione (Validazione)')\n",
    "axes[0].set_xlabel('Predizioni')\n",
    "axes[0].set_ylabel('Label')\n",
    "\n",
    "# Matrice di confusione per il set di test\n",
    "sns.heatmap(cm_test, annot=True, fmt='d', cmap='Blues', xticklabels=['Classe 0', 'Classe 1'], yticklabels=['Classe 0', 'Classe 1'], ax=axes[1])\n",
    "axes[1].set_title('Random Forest - Matrice di Confusione (Test)')\n",
    "axes[1].set_xlabel('Predizioni')\n",
    "axes[1].set_ylabel('Label')\n",
    "\n",
    "\n",
    "plt.tight_layout()\n",
    "plt.show()"
   ],
   "outputs": [],
   "execution_count": null
  },
  {
   "cell_type": "markdown",
   "id": "6edeb41d9efcb156",
   "metadata": {
    "collapsed": false
   },
   "source": [
    "# ADDESTRAMENTO SVM"
   ]
  },
  {
   "cell_type": "code",
   "id": "86154cc0dd37225c",
   "metadata": {
    "collapsed": false
   },
   "source": [
    "svm_model = oversampling_binary.train_svm(X_train_resampled_array, y_train_resampled, X_val_imputed_array, y_val_encoded, X_test_imputed_array, y_test_encoded)"
   ],
   "outputs": [],
   "execution_count": null
  },
  {
   "cell_type": "code",
   "id": "b2dbc9993a0a697c",
   "metadata": {
    "collapsed": false
   },
   "source": [
    "# 1. Effettua le predizioni sul set di convalida\n",
    "y_pred_val = svm_model.predict(X_val_imputed_array)\n",
    "\n",
    "# 2. Effettua le predizioni sul set di test\n",
    "y_pred_test = svm_model.predict(X_test_imputed_array)\n",
    "\n",
    "# 3. Calcola le matrici di confusione per convalida e test\n",
    "cm_val = confusion_matrix(y_val_encoded, y_pred_val)\n",
    "cm_test = confusion_matrix(y_test_encoded, y_pred_test)\n",
    "\n",
    "# 4. Visualizza entrambe le matrici di confusione\n",
    "fig, axes = plt.subplots(1, 2, figsize=(14, 6))\n",
    "\n",
    "# Matrice di confusione per il set di convalida\n",
    "sns.heatmap(cm_val, annot=True, fmt='d', cmap='Blues', xticklabels=['Classe 0', 'Classe 1'], yticklabels=['Classe 0', 'Classe 1'], ax=axes[0])\n",
    "axes[0].set_title('SVM - Matrice di Confusione (Validazione)')\n",
    "axes[0].set_xlabel('Predizioni')\n",
    "axes[0].set_ylabel('Label')\n",
    "\n",
    "# Matrice di confusione per il set di test\n",
    "sns.heatmap(cm_test, annot=True, fmt='d', cmap='Blues', xticklabels=['Classe 0', 'Classe 1'], yticklabels=['Classe 0', 'Classe 1'], ax=axes[1])\n",
    "axes[1].set_title('SVM - Matrice di Confusione (Test)')\n",
    "axes[1].set_xlabel('Predizioni')\n",
    "axes[1].set_ylabel('Label')\n",
    "\n",
    "\n",
    "plt.tight_layout()\n",
    "plt.show()"
   ],
   "outputs": [],
   "execution_count": null
  },
  {
   "cell_type": "markdown",
   "id": "ea0e70a8216e4b0a",
   "metadata": {
    "collapsed": false
   },
   "source": [
    "# ADDESTRAMENTO LIGHT GBM"
   ]
  },
  {
   "cell_type": "code",
   "id": "64a6f4ecd9423566",
   "metadata": {
    "collapsed": false
   },
   "source": [
    "import os\n",
    "os.environ[\"LOKY_MAX_CPU_COUNT\"] = \"4\"  # Adatta questo valore al numero di core che desideri utilizzare"
   ],
   "outputs": [],
   "execution_count": null
  },
  {
   "cell_type": "code",
   "id": "9a474d724bda822c",
   "metadata": {
    "collapsed": false
   },
   "source": [
    "y_train_resampled = y_train_resampled.astype(int)\n",
    "y_val_encoded = y_val_encoded.astype(int)\n",
    "y_test_encoded = y_test_encoded.astype(int)\n"
   ],
   "outputs": [],
   "execution_count": null
  },
  {
   "cell_type": "code",
   "id": "cab90223dcb903ca",
   "metadata": {
    "collapsed": false
   },
   "source": [
    "lightgbm_model = oversampling_binary.train_lightgbm(X_train_resampled_array, y_train_resampled, X_val_imputed_array, y_val_encoded, X_test_imputed_array, y_test_encoded)"
   ],
   "outputs": [],
   "execution_count": null
  },
  {
   "cell_type": "code",
   "source": [
    "# Predizioni del modello per il set di validazione\n",
    "y_val_pred_proba = lightgbm_model.predict(X_val_imputed_array)\n",
    "# Converti le probabilità in etichette di classe\n",
    "y_val_pred = np.argmax(y_val_pred_proba, axis=1)\n",
    "\n",
    "# Predizioni del modello per il set di test\n",
    "y_test_pred_proba = lightgbm_model.predict(X_test_imputed_array)\n",
    "# Converti le probabilità in etichette di classe\n",
    "y_test_pred = np.argmax(y_test_pred_proba, axis=1)\n",
    "\n",
    "# Genera la matrice di confusione per il set di validazione\n",
    "cm_val = confusion_matrix(y_val_encoded, y_val_pred, labels=np.unique(y_val_encoded))\n",
    "disp_val = ConfusionMatrixDisplay(confusion_matrix=cm_val, display_labels=np.unique(y_val_encoded))\n",
    "\n",
    "# Genera la matrice di confusione per il set di test\n",
    "cm_test = confusion_matrix(y_test_encoded, y_test_pred, labels=np.unique(y_test_encoded))\n",
    "disp_test = ConfusionMatrixDisplay(confusion_matrix=cm_test, display_labels=np.unique(y_test_encoded))\n",
    "\n",
    "# Crea una figura con due sotto-grafici affiancati\n",
    "fig, axes = plt.subplots(1, 2, figsize=(14, 6))\n",
    "\n",
    "# Mostra la matrice di confusione per il set di validazione\n",
    "disp_val.plot(cmap='Blues', ax=axes[0])\n",
    "axes[0].set_title(\"LightGBM - Matrice di Confusione (Validazione)\")\n",
    "\n",
    "# Mostra la matrice di confusione per il set di test\n",
    "disp_test.plot(cmap='Blues', ax=axes[1])\n",
    "axes[1].set_title(\"LightGBM - Matrice di Confusione (Test)\")\n",
    "\n",
    "# Rimuove la griglia\n",
    "for ax in axes:\n",
    "    ax.grid(False)\n",
    "\n",
    "# Mostra entrambe le matrici di confusione\n",
    "plt.tight_layout()\n",
    "plt.show()"
   ],
   "metadata": {
    "collapsed": false
   },
   "id": "4d3a8072e87244b4",
   "outputs": [],
   "execution_count": null
  },
  {
   "cell_type": "markdown",
   "id": "253b162a9d4d5cb5",
   "metadata": {
    "collapsed": false
   },
   "source": [
    "# Esperimento 2"
   ]
  },
  {
   "cell_type": "markdown",
   "id": "cd579dd366fcd778",
   "metadata": {
    "collapsed": false
   },
   "source": [
    "Esperimento effettuato prendendo come riferimento alcune features numeriche da \"BirdNet\""
   ]
  },
  {
   "cell_type": "code",
   "id": "a692d8566078a8a0",
   "metadata": {
    "collapsed": false
   },
   "source": [
    "#SPLIT\n",
    "X_train_imputed_exp1, X_val_imputed_exp1, X_test_imputed_exp1, y_train_encoded_filtered_exp1, y_val_encoded_exp1, y_test_encoded_exp1, subclasses_train, class_encoder_exp1 = split_dataset(\n",
    "    'exp1_audio_features.csv')"
   ],
   "outputs": [],
   "execution_count": null
  },
  {
   "cell_type": "code",
   "id": "b651da62c970843b",
   "metadata": {
    "collapsed": false
   },
   "source": [
    "import os\n",
    "os.environ[\"LOKY_MAX_CPU_COUNT\"] = \"4\"  # Adatta questo valore al numero di core che desideri utilizzare"
   ],
   "outputs": [],
   "execution_count": null
  },
  {
   "cell_type": "code",
   "id": "7fdc2e5954b87add",
   "metadata": {
    "collapsed": false
   },
   "source": [
    "#SMOTE\n",
    "X_train_resampled_exp1, y_train_resampled_exp1 = apply_smote(X_train_imputed_exp1, y_train_encoded_filtered_exp1, subclasses_train)"
   ],
   "outputs": [],
   "execution_count": null
  },
  {
   "cell_type": "code",
   "id": "777e65e6d5b69898",
   "metadata": {
    "collapsed": false
   },
   "source": [
    "y_train_resampled_df_exp1 = pd.DataFrame(y_train_resampled_exp1, columns=['Class'])\n",
    "print(\"Distribuzione delle classi nel set di training dopo SMOTE:\")\n",
    "display(y_train_resampled_df_exp1['Class'].value_counts())"
   ],
   "outputs": [],
   "execution_count": null
  },
  {
   "cell_type": "code",
   "source": [
    "# Converte i DataFrame in ndarray\n",
    "X_train_resampled_array_exp1 = X_train_resampled_exp1  # Supponendo che sia già un ndarray\n",
    "X_val_imputed_array_exp1 = X_val_imputed_exp1.values  # Converti il DataFrame in ndarray\n",
    "X_test_imputed_array_exp1 = X_test_imputed_exp1.values  # Converti il DataFrame in ndarray"
   ],
   "metadata": {
    "collapsed": false
   },
   "id": "6233bdb8a50f92",
   "outputs": [],
   "execution_count": null
  },
  {
   "cell_type": "code",
   "source": [
    "#TRAIN\n",
    "random_forest_model_exp1 = oversampling_binary.train_random_forest(X_train_resampled_exp1, y_train_resampled_exp1, X_val_imputed_array_exp1, y_val_encoded_exp1, X_test_imputed_array_exp1, y_test_encoded_exp1)"
   ],
   "metadata": {
    "collapsed": false
   },
   "id": "f1666984ac3af28f",
   "outputs": [],
   "execution_count": null
  },
  {
   "cell_type": "code",
   "id": "112f148be1502c81",
   "metadata": {
    "collapsed": false
   },
   "source": [
    "# 1. Effettua le predizioni sul set di convalida\n",
    "y_pred_val_exp1 = random_forest_model_exp1.predict(X_val_imputed_array_exp1)\n",
    "\n",
    "# 2. Effettua le predizioni sul set di test\n",
    "y_pred_test_exp1 = random_forest_model_exp1.predict(X_test_imputed_array_exp1)\n",
    "\n",
    "# 3. Calcola le matrici di confusione per convalida e test\n",
    "cm_val_exp1 = confusion_matrix(y_val_encoded_exp1, y_pred_val_exp1)\n",
    "cm_test_exp1 = confusion_matrix(y_test_encoded_exp1, y_pred_test_exp1)\n",
    "\n",
    "# 4. Visualizza entrambe le matrici di confusione\n",
    "fig, axes = plt.subplots(1, 2, figsize=(14, 6))\n",
    "\n",
    "# Matrice di confusione per il set di convalida\n",
    "sns.heatmap(cm_val_exp1, annot=True, fmt='d', cmap='Blues', xticklabels=['Classe 0', 'Classe 1'], yticklabels=['Classe 0', 'Classe 1'], ax=axes[0])\n",
    "axes[0].set_title('Random Forest - Matrice di Confusione (Validazione)')\n",
    "axes[0].set_xlabel('Predizioni')\n",
    "axes[0].set_ylabel('Label')\n",
    "\n",
    "# Matrice di confusione per il set di test\n",
    "sns.heatmap(cm_test_exp1, annot=True, fmt='d', cmap='Blues', xticklabels=['Classe 0', 'Classe 1'], yticklabels=['Classe 0', 'Classe 1'], ax=axes[1])\n",
    "axes[1].set_title('Random Forest - Matrice di Confusione (Test)')\n",
    "axes[1].set_xlabel('Predizioni')\n",
    "axes[1].set_ylabel('Label')\n",
    "\n",
    "\n",
    "plt.tight_layout()\n",
    "plt.show()"
   ],
   "outputs": [],
   "execution_count": null
  },
  {
   "cell_type": "code",
   "id": "d3c88857d1fcf37c",
   "metadata": {
    "collapsed": false
   },
   "source": [
    "svm_model_exp1 = oversampling_binary.train_svm(X_train_resampled_exp1, y_train_resampled_exp1, X_val_imputed_array_exp1, y_val_encoded_exp1, X_test_imputed_array_exp1, y_test_encoded_exp1)"
   ],
   "outputs": [],
   "execution_count": null
  },
  {
   "cell_type": "code",
   "id": "fff04f9b0c03d957",
   "metadata": {
    "collapsed": false
   },
   "source": [
    "# 1. Effettua le predizioni sul set di convalida\n",
    "y_pred_val_exp1 = svm_model_exp1.predict(X_val_imputed_array_exp1)\n",
    "\n",
    "# 2. Effettua le predizioni sul set di test\n",
    "y_pred_test_exp1 = svm_model_exp1.predict(X_test_imputed_array_exp1)\n",
    "\n",
    "# 3. Calcola le matrici di confusione per convalida e test\n",
    "cm_val_exp1 = confusion_matrix(y_val_encoded_exp1, y_pred_val_exp1)\n",
    "cm_test_exp1 = confusion_matrix(y_test_encoded_exp1, y_pred_test_exp1)\n",
    "\n",
    "# 4. Visualizza entrambe le matrici di confusione\n",
    "fig, axes = plt.subplots(1, 2, figsize=(14, 6))\n",
    "\n",
    "# Matrice di confusione per il set di convalida\n",
    "sns.heatmap(cm_val_exp1, annot=True, fmt='d', cmap='Blues', xticklabels=['Classe 0', 'Classe 1'], yticklabels=['Classe 0', 'Classe 1'], ax=axes[0])\n",
    "axes[0].set_title('SVM - Matrice di Confusione (Validazione)')\n",
    "axes[0].set_xlabel('Predizioni')\n",
    "axes[0].set_ylabel('Label')\n",
    "\n",
    "# Matrice di confusione per il set di test\n",
    "sns.heatmap(cm_test_exp1, annot=True, fmt='d', cmap='Blues', xticklabels=['Classe 0', 'Classe 1'], yticklabels=['Classe 0', 'Classe 1'], ax=axes[1])\n",
    "axes[1].set_title('SVM - Matrice di Confusione (Test)')\n",
    "axes[1].set_xlabel('Predizioni')\n",
    "axes[1].set_ylabel('Label')\n",
    "\n",
    "\n",
    "plt.tight_layout()\n",
    "plt.show()"
   ],
   "outputs": [],
   "execution_count": null
  },
  {
   "cell_type": "code",
   "source": [
    "y_train_resampled_exp1 = y_train_resampled_exp1.astype(int)\n",
    "y_val_encoded_exp1 = y_val_encoded_exp1.astype(int)\n",
    "y_test_encoded_exp1 = y_test_encoded_exp1.astype(int)"
   ],
   "metadata": {
    "collapsed": false
   },
   "id": "8645f491017c2ad9",
   "outputs": [],
   "execution_count": null
  },
  {
   "cell_type": "code",
   "id": "f9bddff0935fc040",
   "metadata": {
    "collapsed": false
   },
   "source": [
    "lightgbm_model_exp1 = oversampling_binary.train_lightgbm(\n",
    "    X_train_resampled_array_exp1,\n",
    "    y_train_resampled_exp1,\n",
    "    X_val_imputed_array_exp1,\n",
    "    y_val_encoded_exp1,\n",
    "    X_test_imputed_array_exp1,  \n",
    "    y_test_encoded_exp1\n",
    ")"
   ],
   "outputs": [],
   "execution_count": null
  },
  {
   "cell_type": "code",
   "id": "fd3e6a37d5d38c71",
   "metadata": {
    "collapsed": false
   },
   "source": [
    "# Predizioni del modello per il set di validazione\n",
    "y_val_pred_proba_exp1 = lightgbm_model_exp1.predict(X_val_imputed_array_exp1)\n",
    "# Converti le probabilità in etichette di classe\n",
    "y_val_pred_exp1 = np.argmax(y_val_pred_proba_exp1, axis=1)\n",
    "\n",
    "# Predizioni del modello per il set di test\n",
    "y_test_pred_proba_exp1 = lightgbm_model_exp1.predict(X_test_imputed_array_exp1)\n",
    "# Converti le probabilità in etichette di classe\n",
    "y_test_pred_exp1 = np.argmax(y_test_pred_proba_exp1, axis=1)\n",
    "\n",
    "# Genera la matrice di confusione per il set di validazione\n",
    "cm_val_exp1 = confusion_matrix(y_val_encoded_exp1, y_val_pred_exp1, labels=np.unique(y_val_encoded_exp1))\n",
    "disp_val_exp1 = ConfusionMatrixDisplay(confusion_matrix=cm_val_exp1, display_labels=np.unique(y_val_encoded_exp1))\n",
    "\n",
    "# Genera la matrice di confusione per il set di test\n",
    "cm_test_exp1 = confusion_matrix(y_test_encoded_exp1, y_test_pred_exp1, labels=np.unique(y_test_encoded_exp1))\n",
    "disp_test_exp1 = ConfusionMatrixDisplay(confusion_matrix=cm_test_exp1, display_labels=np.unique(y_test_encoded_exp1))\n",
    "\n",
    "# Crea una figura con due sotto-grafici affiancati\n",
    "fig, axes = plt.subplots(1, 2, figsize=(14, 6))\n",
    "\n",
    "# Mostra la matrice di confusione per il set di validazione\n",
    "disp_val.plot(cmap='Blues', ax=axes[0])\n",
    "axes[0].set_title(\"LightGBM - Matrice di Confusione (Validazione)\")\n",
    "\n",
    "# Mostra la matrice di confusione per il set di test\n",
    "disp_test.plot(cmap='Blues', ax=axes[1])\n",
    "axes[1].set_title(\"LightGBM - Matrice di Confusione (Test)\")\n",
    "\n",
    "# Rimuove la griglia\n",
    "for ax in axes:\n",
    "    ax.grid(False)\n",
    "\n",
    "# Mostra entrambe le matrici di confusione\n",
    "plt.tight_layout()\n",
    "plt.show()"
   ],
   "outputs": [],
   "execution_count": null
  },
  {
   "cell_type": "markdown",
   "id": "122771b1067429d6",
   "metadata": {
    "collapsed": false
   },
   "source": [
    "# ESPERIMENTO 3"
   ]
  },
  {
   "cell_type": "markdown",
   "id": "49c77a8ef5392a31",
   "metadata": {
    "collapsed": false
   },
   "source": [
    "Esperimento effettuato prendendo come riferimento features numeriche da \"A Survey on Audio Feature Extraction for Automatic Music Genre Classification\" di Dhamodaran et al."
   ]
  },
  {
   "cell_type": "code",
   "id": "496b3560d318b365",
   "metadata": {
    "collapsed": false
   },
   "source": [
    "#SPLIT\n",
    "X_train_imputed_exp2, X_val_imputed_exp2, X_test_imputed_exp2, y_train_encoded_filtered_exp2, y_val_encoded_exp2, y_test_encoded_exp2, subclasses_train, class_encoder_exp2 = split_dataset(\n",
    "    'exp2_audio_features.csv')"
   ],
   "outputs": [],
   "execution_count": null
  },
  {
   "cell_type": "code",
   "id": "33d084f217535da2",
   "metadata": {
    "collapsed": false
   },
   "source": [
    "#SMOTE\n",
    "X_train_resampled_exp2, y_train_resampled_exp2 = apply_smote(X_train_imputed_exp2, y_train_encoded_filtered_exp2, subclasses_train)\n",
    "\n",
    "pd.set_option('display.max_rows', None)  # Rimuove la limitazione del numero massimo di righe visualizzate\n",
    "pd.set_option('display.max_columns', None)  # Mostra tutte le colonne"
   ],
   "outputs": [],
   "execution_count": null
  },
  {
   "cell_type": "code",
   "id": "5c6a0031adbd0415",
   "metadata": {
    "collapsed": false
   },
   "source": [
    "# Converti i dati in DataFrame\n",
    "X_train_df_exp2 = pd.DataFrame(X_train_resampled_exp2)\n",
    "X_val_df_exp2 = pd.DataFrame(X_val_imputed_exp2)\n",
    "X_test_df_exp2 = pd.DataFrame(X_test_imputed_exp2)\n",
    "# Aggiungi le etichette per il target\n",
    "X_train_df_exp2['Class'] = y_train_resampled_exp2\n",
    "X_val_df_exp2['Class'] = y_val_encoded_exp2\n",
    "X_test_df_exp2['Class'] = y_test_encoded_exp2"
   ],
   "outputs": [],
   "execution_count": null
  },
  {
   "cell_type": "code",
   "id": "f92b8a94599f9577",
   "metadata": {
    "collapsed": false
   },
   "source": [
    "y_train_resampled_df_exp2 = pd.DataFrame(y_train_resampled_exp2, columns=['Class'])\n",
    "print(\"Distribuzione delle classi nel set di training dopo SMOTE:\")\n",
    "display(y_train_resampled_df_exp2['Class'].value_counts())"
   ],
   "outputs": [],
   "execution_count": null
  },
  {
   "cell_type": "code",
   "source": [
    "# Converte i DataFrame in ndarray\n",
    "X_train_resampled_array_exp2 = X_train_resampled_exp2  # Supponendo che sia già un ndarray\n",
    "X_val_imputed_array_exp2 = X_val_imputed_exp2.values  # Converti il DataFrame in ndarray\n",
    "X_test_imputed_array_exp2 = X_test_imputed_exp2.values  # Converti il DataFrame in ndarray"
   ],
   "metadata": {
    "collapsed": false
   },
   "id": "ac75566c65506e07",
   "outputs": [],
   "execution_count": null
  },
  {
   "cell_type": "code",
   "id": "6cc1211a04def868",
   "metadata": {
    "collapsed": false
   },
   "source": [
    "#TRAIN\n",
    "random_forest_model_exp2 = oversampling_binary.train_random_forest(\n",
    "    X_train_resampled_array_exp2, \n",
    "    y_train_resampled_exp2,\n",
    "    X_val_imputed_array_exp2,\n",
    "    y_val_encoded_exp2,\n",
    "    X_test_imputed_array_exp2,\n",
    "    y_test_encoded_exp2\n",
    ");\n"
   ],
   "outputs": [],
   "execution_count": null
  },
  {
   "cell_type": "code",
   "id": "794a01d13adf28a2",
   "metadata": {
    "collapsed": false
   },
   "source": [
    "# 1. Effettua le predizioni sul set di convalida\n",
    "y_pred_val_exp2 = random_forest_model_exp2.predict(X_val_imputed_array_exp2)\n",
    "\n",
    "# 2. Effettua le predizioni sul set di test\n",
    "y_pred_test_exp2 = random_forest_model_exp2.predict(X_test_imputed_array_exp2)\n",
    "\n",
    "# 3. Calcola le matrici di confusione per convalida e test\n",
    "cm_val_exp2 = confusion_matrix(y_val_encoded_exp2, y_pred_val_exp2)\n",
    "cm_test_exp2 = confusion_matrix(y_test_encoded_exp2, y_pred_test_exp2)\n",
    "\n",
    "# 4. Visualizza entrambe le matrici di confusione\n",
    "fig, axes = plt.subplots(1, 2, figsize=(14, 6))\n",
    "\n",
    "# Matrice di confusione per il set di convalida\n",
    "sns.heatmap(cm_val_exp2, annot=True, fmt='d', cmap='Blues', xticklabels=['Classe 0', 'Classe 1'], yticklabels=['Classe 0', 'Classe 1'], ax=axes[0])\n",
    "axes[0].set_title('Random Forest - Matrice di Confusione (Validazione)')\n",
    "axes[0].set_xlabel('Predizioni')\n",
    "axes[0].set_ylabel('Label')\n",
    "\n",
    "# Matrice di confusione per il set di test\n",
    "sns.heatmap(cm_test_exp2, annot=True, fmt='d', cmap='Blues', xticklabels=['Classe 0', 'Classe 1'], yticklabels=['Classe 0', 'Classe 1'], ax=axes[1])\n",
    "axes[1].set_title('Random Forest - Matrice di Confusione (Test)')\n",
    "axes[1].set_xlabel('Predizioni')\n",
    "axes[1].set_ylabel('Label')\n",
    "\n",
    "\n",
    "plt.tight_layout()\n",
    "plt.show()"
   ],
   "outputs": [],
   "execution_count": null
  },
  {
   "cell_type": "code",
   "id": "7db6d69c1c33b629",
   "metadata": {
    "collapsed": false
   },
   "source": [
    "svm_model_exp2 = oversampling_binary.train_svm(X_train_resampled_array_exp2, y_train_resampled_exp2, X_val_imputed_array_exp2, y_val_encoded_exp2, X_test_imputed_array_exp2, y_test_encoded_exp2)"
   ],
   "outputs": [],
   "execution_count": null
  },
  {
   "cell_type": "code",
   "id": "113c59f8d5f87a9b",
   "metadata": {
    "collapsed": false
   },
   "source": [
    "# 1. Effettua le predizioni sul set di convalida\n",
    "y_pred_val_exp2 = svm_model_exp2.predict(X_val_imputed_array_exp2)\n",
    "\n",
    "# 2. Effettua le predizioni sul set di test\n",
    "y_pred_test_exp2 = svm_model_exp2.predict(X_test_imputed_array_exp2)\n",
    "\n",
    "# 3. Calcola le matrici di confusione per convalida e test\n",
    "cm_val_exp2 = confusion_matrix(y_val_encoded_exp2, y_pred_val_exp2)\n",
    "cm_test_exp2 = confusion_matrix(y_test_encoded_exp2, y_pred_test_exp2)\n",
    "\n",
    "# 4. Visualizza entrambe le matrici di confusione\n",
    "fig, axes = plt.subplots(1, 2, figsize=(14, 6))\n",
    "\n",
    "# Matrice di confusione per il set di convalida\n",
    "sns.heatmap(cm_val_exp2, annot=True, fmt='d', cmap='Blues', xticklabels=['Classe 0', 'Classe 1'], yticklabels=['Classe 0', 'Classe 1'], ax=axes[0])\n",
    "axes[0].set_title('SVM - Matrice di Confusione (Validazione)')\n",
    "axes[0].set_xlabel('Predizioni')\n",
    "axes[0].set_ylabel('Label')\n",
    "\n",
    "# Matrice di confusione per il set di test\n",
    "sns.heatmap(cm_test_exp2, annot=True, fmt='d', cmap='Blues', xticklabels=['Classe 0', 'Classe 1'], yticklabels=['Classe 0', 'Classe 1'], ax=axes[1])\n",
    "axes[1].set_title('SVM - Matrice di Confusione (Test)')\n",
    "axes[1].set_xlabel('Predizioni')\n",
    "axes[1].set_ylabel('Label')\n",
    "\n",
    "\n",
    "plt.tight_layout()\n",
    "plt.show()"
   ],
   "outputs": [],
   "execution_count": null
  },
  {
   "cell_type": "code",
   "source": [
    "y_train_resampled_exp2 = y_train_resampled_exp2.astype(int)\n",
    "y_val_encoded_exp2 = y_val_encoded_exp2.astype(int)\n",
    "y_test_encoded_exp2 = y_test_encoded_exp2.astype(int)"
   ],
   "metadata": {
    "collapsed": false
   },
   "id": "3d07639b998dd80",
   "outputs": [],
   "execution_count": null
  },
  {
   "cell_type": "code",
   "id": "25b3d34187b3807b",
   "metadata": {
    "collapsed": false
   },
   "source": [
    "lightgbm_model_exp2 = oversampling_binary.train_lightgbm(X_train_resampled_array_exp2, y_train_resampled_exp2, X_val_imputed_array_exp2, y_val_encoded_exp2, X_test_imputed_array_exp2, y_test_encoded_exp2)"
   ],
   "outputs": [],
   "execution_count": null
  },
  {
   "cell_type": "code",
   "id": "91bba401208a9a0e",
   "metadata": {
    "collapsed": false
   },
   "source": [
    "# Predizioni del modello per il set di validazione\n",
    "y_val_pred_proba_exp2 = lightgbm_model_exp2.predict(X_val_imputed_array_exp2)\n",
    "# Converti le probabilità in etichette di classe\n",
    "y_val_pred_exp2 = np.argmax(y_val_pred_proba_exp2, axis=1)\n",
    "\n",
    "# Predizioni del modello per il set di test\n",
    "y_test_pred_proba_exp2 = lightgbm_model_exp2.predict(X_test_imputed_array_exp2)\n",
    "# Converti le probabilità in etichette di classe\n",
    "y_test_pred_exp2 = np.argmax(y_test_pred_proba_exp2, axis=1)\n",
    "\n",
    "# Genera la matrice di confusione per il set di validazione\n",
    "cm_val_exp2 = confusion_matrix(y_val_encoded_exp2, y_val_pred_exp2, labels=np.unique(y_val_encoded_exp2))\n",
    "disp_val_exp2 = ConfusionMatrixDisplay(confusion_matrix=cm_val_exp2, display_labels=np.unique(y_val_encoded_exp2))\n",
    "\n",
    "# Genera la matrice di confusione per il set di test\n",
    "cm_test_exp2 = confusion_matrix(y_test_encoded_exp2, y_test_pred_exp2, labels=np.unique(y_test_encoded_exp2))\n",
    "disp_test_exp2 = ConfusionMatrixDisplay(confusion_matrix=cm_test_exp2, display_labels=np.unique(y_test_encoded_exp2))\n",
    "\n",
    "# Crea una figura con due sotto-grafici affiancati\n",
    "fig, axes = plt.subplots(1, 2, figsize=(14, 6))\n",
    "\n",
    "# Mostra la matrice di confusione per il set di validazione\n",
    "disp_val.plot(cmap='Blues', ax=axes[0])\n",
    "axes[0].set_title(\"LightGBM - Matrice di Confusione (Validazione)\")\n",
    "\n",
    "# Mostra la matrice di confusione per il set di test\n",
    "disp_test.plot(cmap='Blues', ax=axes[1])\n",
    "axes[1].set_title(\"LightGBM - Matrice di Confusione (Test)\")\n",
    "\n",
    "# Rimuove la griglia\n",
    "for ax in axes:\n",
    "    ax.grid(False)\n",
    "\n",
    "# Mostra entrambe le matrici di confusione\n",
    "plt.tight_layout()\n",
    "plt.show()"
   ],
   "outputs": [],
   "execution_count": null
  },
  {
   "cell_type": "code",
   "source": [],
   "metadata": {
    "collapsed": false
   },
   "id": "e928f8fe715750c4",
   "outputs": [],
   "execution_count": null
  }
 ],
 "metadata": {
  "kernelspec": {
   "display_name": "Python 3 (ipykernel)",
   "language": "python",
   "name": "python3"
  },
  "language_info": {
   "codemirror_mode": {
    "name": "ipython",
    "version": 3
   },
   "file_extension": ".py",
   "mimetype": "text/x-python",
   "name": "python",
   "nbconvert_exporter": "python",
   "pygments_lexer": "ipython3",
   "version": "3.10.0"
  }
 },
 "nbformat": 4,
 "nbformat_minor": 5
}
