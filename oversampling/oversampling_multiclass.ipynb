{
 "cells": [
  {
   "cell_type": "code",
   "source": [
    "import pandas as pd\n",
    "\n",
    "from oversampling import oversampling_multiclass\n",
    "from oversampling_multiclass import split_dataset, apply_smote_multiclass, train_random_forest_multiclass, train_svm_multiclass, train_lightgbm, rf_plot_confusion_matrices, svm_plot_confusion_matrices, lightgbm_plot_confusion_matrices"
   ],
   "metadata": {
    "collapsed": false,
    "ExecuteTime": {
     "end_time": "2024-11-20T10:34:59.814542Z",
     "start_time": "2024-11-20T10:34:59.307388Z"
    }
   },
   "id": "21849e8ea4e24616",
   "outputs": [],
   "execution_count": 1
  },
  {
   "cell_type": "markdown",
   "source": [
    "# CLASSIFICAZIONE MULTICLASSE"
   ],
   "metadata": {
    "collapsed": false
   },
   "id": "9c1cc82f5a26fb65"
  },
  {
   "cell_type": "code",
   "source": "csv_file_path = 'C:/underwater-classification/features_extraction/audio_features.csv'",
   "metadata": {
    "collapsed": false,
    "ExecuteTime": {
     "end_time": "2024-11-20T10:35:01.485220Z",
     "start_time": "2024-11-20T10:35:01.473556Z"
    }
   },
   "id": "8bc4fe5547e6d57d",
   "outputs": [],
   "execution_count": 2
  },
  {
   "metadata": {
    "collapsed": false,
    "ExecuteTime": {
     "end_time": "2024-11-20T10:35:02.560104Z",
     "start_time": "2024-11-20T10:35:02.334394Z"
    }
   },
   "cell_type": "code",
   "source": "df = pd.read_csv(csv_file_path)",
   "id": "b6d2a81beb203ba7",
   "outputs": [],
   "execution_count": 3
  },
  {
   "metadata": {
    "ExecuteTime": {
     "end_time": "2024-11-20T10:35:03.372896Z",
     "start_time": "2024-11-20T10:35:03.329513Z"
    }
   },
   "cell_type": "code",
   "source": [
    "df['File Name'] = df['File Name'].str[:-4]\n",
    "df = df[df['Class'] == 'Target'].copy()"
   ],
   "id": "e17f4cf68d5adb4",
   "outputs": [],
   "execution_count": 4
  },
  {
   "metadata": {
    "ExecuteTime": {
     "end_time": "2024-11-20T10:35:05.011108Z",
     "start_time": "2024-11-20T10:35:04.173469Z"
    }
   },
   "cell_type": "code",
   "source": "df.to_csv(\"audio_features_target.csv\", index=False)",
   "id": "9522cfc5165ade31",
   "outputs": [],
   "execution_count": 5
  },
  {
   "metadata": {
    "ExecuteTime": {
     "end_time": "2024-11-20T10:35:05.806105Z",
     "start_time": "2024-11-20T10:35:05.779915Z"
    }
   },
   "cell_type": "code",
   "source": [
    "print(\"Distribuzione delle subclass prima dello split:\")\n",
    "print(df['Subclass'].value_counts())"
   ],
   "id": "22a0de31bb6a11a2",
   "outputs": [
    {
     "name": "stdout",
     "output_type": "stream",
     "text": [
      "Distribuzione delle subclass prima dello split:\n",
      "Subclass\n",
      "Passengership                       11728\n",
      "Tanker                              11221\n",
      "Tug                                 10162\n",
      "Cargo                                9671\n",
      "Vessel                                307\n",
      "Sonar                                  20\n",
      "Seismic airguns surveys                18\n",
      "Seal bomb                              17\n",
      "Echosounder                            14\n",
      "Underwater Communication Signals        6\n",
      "Scuba divers                            4\n",
      "Seafloor fossil fuel processing         4\n",
      "Acoustic release                        3\n",
      "Acoustic Harassment Devices             2\n",
      "Explosion                               2\n",
      "Fishing pinger                          2\n",
      "Name: count, dtype: int64\n"
     ]
    }
   ],
   "execution_count": 6
  },
  {
   "metadata": {
    "ExecuteTime": {
     "end_time": "2024-11-20T10:35:07.028041Z",
     "start_time": "2024-11-20T10:35:07.001299Z"
    }
   },
   "cell_type": "code",
   "source": "df",
   "id": "17625b635a5a94b9",
   "outputs": [
    {
     "data": {
      "text/plain": [
       "                                               File Name   Class  \\\n",
       "7812                                     AHD_Airmar_seg1  Target   \n",
       "7813                                     AHD_Airmar_seg2  Target   \n",
       "7814   SanctSound_CI04_04_acousticrelease_20200202T07...  Target   \n",
       "7815   SanctSound_CI04_04_acousticrelease_20200202T07...  Target   \n",
       "7816   SanctSound_CI04_04_acousticrelease_20200202T07...  Target   \n",
       "...                                                  ...     ...   \n",
       "50988                                    ship_small_seg5  Target   \n",
       "50989                                    ship_small_seg6  Target   \n",
       "50990                                    ship_small_seg7  Target   \n",
       "50991                                    ship_small_seg8  Target   \n",
       "50992                                    ship_small_seg9  Target   \n",
       "\n",
       "                          Subclass  Spectral Centroid Mean  \\\n",
       "7812   Acoustic Harassment Devices             4477.358083   \n",
       "7813   Acoustic Harassment Devices             2623.478284   \n",
       "7814              Acoustic release             3509.880580   \n",
       "7815              Acoustic release             2521.859074   \n",
       "7816              Acoustic release             1209.973836   \n",
       "...                            ...                     ...   \n",
       "50988                       Vessel              456.747011   \n",
       "50989                       Vessel              452.009912   \n",
       "50990                       Vessel              446.388360   \n",
       "50991                       Vessel              451.316540   \n",
       "50992                       Vessel              452.374762   \n",
       "\n",
       "       Spectral Bandwidth RMS  Standard Deviation  Skewness    Kurtosis  \\\n",
       "7812              4252.395919            0.052583 -0.065835   23.613643   \n",
       "7813              2626.760521            0.041744 -0.095743   81.076911   \n",
       "7814              5613.858656            0.060189  1.121935  145.730186   \n",
       "7815              5201.373090            0.067112  0.740150  134.817244   \n",
       "7816              2659.503763            0.043428  1.686207  264.717755   \n",
       "...                       ...                 ...       ...         ...   \n",
       "50988              797.837269            0.194804  0.013841    0.040806   \n",
       "50989              804.062723            0.187102  0.015867    0.072808   \n",
       "50990              808.959976            0.179071  0.000758    0.094906   \n",
       "50991              794.817133            0.188441 -0.002943    0.136695   \n",
       "50992              782.092929            0.200762  0.015758    0.118552   \n",
       "\n",
       "       Shannon Entropy  Renyi Entropy  Rate of Attack  Rate of Decay  \\\n",
       "7812          3.186076      -7.698312      362.326087       0.009282   \n",
       "7813          2.165237      -8.520670      228.392857       0.007694   \n",
       "7814          2.333120      -7.910301      338.500000       0.003327   \n",
       "7815          2.341261      -7.763672      421.000000       0.004587   \n",
       "7816          1.846858      -8.548927      345.000000       0.003038   \n",
       "...                ...            ...             ...            ...   \n",
       "50988         4.912163      -5.505589      374.087500       0.004186   \n",
       "50989         4.923598      -5.597314      374.125000       0.004034   \n",
       "50990         4.904681      -5.670921      374.100000       0.003832   \n",
       "50991         4.846811      -5.513616      374.087500       0.004043   \n",
       "50992         4.865919      -5.406506      378.772152       0.004286   \n",
       "\n",
       "       Threshold Crossings  Silence Ratio      Mean  Max Over Mean  \\\n",
       "7812                 23776       0.698419 -0.000042   -17164.64500   \n",
       "7813                 13548       0.815664 -0.000165    -5967.37500   \n",
       "7814                  1912       0.815846 -0.000454    -2200.42000   \n",
       "7815                  4383       0.757898  0.004102      243.77046   \n",
       "7816                  1761       0.909339 -0.001581     -632.46875   \n",
       "...                    ...            ...       ...            ...   \n",
       "50988                 3257       0.502427  0.010898       67.17063   \n",
       "50989                 3284       0.499966  0.010380       68.85387   \n",
       "50990                 3247       0.500477  0.011149       60.26118   \n",
       "50991                 3283       0.495841  0.010464       76.87661   \n",
       "50992                 3248       0.500070  0.010418       79.42084   \n",
       "\n",
       "       Min Over Mean  Energy Measurements  \n",
       "7812    16960.625000             0.002765  \n",
       "7813     5275.948000             0.001743  \n",
       "7814     2200.487300             0.003623  \n",
       "7815     -243.777900             0.004521  \n",
       "7816      632.488040             0.001888  \n",
       "...              ...                  ...  \n",
       "50988     -71.718500             0.038067  \n",
       "50989     -69.641780             0.035115  \n",
       "50990     -65.437140             0.032191  \n",
       "50991     -72.440750             0.035620  \n",
       "50992     -77.361496             0.040414  \n",
       "\n",
       "[43181 rows x 18 columns]"
      ],
      "text/html": [
       "<div>\n",
       "<style scoped>\n",
       "    .dataframe tbody tr th:only-of-type {\n",
       "        vertical-align: middle;\n",
       "    }\n",
       "\n",
       "    .dataframe tbody tr th {\n",
       "        vertical-align: top;\n",
       "    }\n",
       "\n",
       "    .dataframe thead th {\n",
       "        text-align: right;\n",
       "    }\n",
       "</style>\n",
       "<table border=\"1\" class=\"dataframe\">\n",
       "  <thead>\n",
       "    <tr style=\"text-align: right;\">\n",
       "      <th></th>\n",
       "      <th>File Name</th>\n",
       "      <th>Class</th>\n",
       "      <th>Subclass</th>\n",
       "      <th>Spectral Centroid Mean</th>\n",
       "      <th>Spectral Bandwidth RMS</th>\n",
       "      <th>Standard Deviation</th>\n",
       "      <th>Skewness</th>\n",
       "      <th>Kurtosis</th>\n",
       "      <th>Shannon Entropy</th>\n",
       "      <th>Renyi Entropy</th>\n",
       "      <th>Rate of Attack</th>\n",
       "      <th>Rate of Decay</th>\n",
       "      <th>Threshold Crossings</th>\n",
       "      <th>Silence Ratio</th>\n",
       "      <th>Mean</th>\n",
       "      <th>Max Over Mean</th>\n",
       "      <th>Min Over Mean</th>\n",
       "      <th>Energy Measurements</th>\n",
       "    </tr>\n",
       "  </thead>\n",
       "  <tbody>\n",
       "    <tr>\n",
       "      <th>7812</th>\n",
       "      <td>AHD_Airmar_seg1</td>\n",
       "      <td>Target</td>\n",
       "      <td>Acoustic Harassment Devices</td>\n",
       "      <td>4477.358083</td>\n",
       "      <td>4252.395919</td>\n",
       "      <td>0.052583</td>\n",
       "      <td>-0.065835</td>\n",
       "      <td>23.613643</td>\n",
       "      <td>3.186076</td>\n",
       "      <td>-7.698312</td>\n",
       "      <td>362.326087</td>\n",
       "      <td>0.009282</td>\n",
       "      <td>23776</td>\n",
       "      <td>0.698419</td>\n",
       "      <td>-0.000042</td>\n",
       "      <td>-17164.64500</td>\n",
       "      <td>16960.625000</td>\n",
       "      <td>0.002765</td>\n",
       "    </tr>\n",
       "    <tr>\n",
       "      <th>7813</th>\n",
       "      <td>AHD_Airmar_seg2</td>\n",
       "      <td>Target</td>\n",
       "      <td>Acoustic Harassment Devices</td>\n",
       "      <td>2623.478284</td>\n",
       "      <td>2626.760521</td>\n",
       "      <td>0.041744</td>\n",
       "      <td>-0.095743</td>\n",
       "      <td>81.076911</td>\n",
       "      <td>2.165237</td>\n",
       "      <td>-8.520670</td>\n",
       "      <td>228.392857</td>\n",
       "      <td>0.007694</td>\n",
       "      <td>13548</td>\n",
       "      <td>0.815664</td>\n",
       "      <td>-0.000165</td>\n",
       "      <td>-5967.37500</td>\n",
       "      <td>5275.948000</td>\n",
       "      <td>0.001743</td>\n",
       "    </tr>\n",
       "    <tr>\n",
       "      <th>7814</th>\n",
       "      <td>SanctSound_CI04_04_acousticrelease_20200202T07...</td>\n",
       "      <td>Target</td>\n",
       "      <td>Acoustic release</td>\n",
       "      <td>3509.880580</td>\n",
       "      <td>5613.858656</td>\n",
       "      <td>0.060189</td>\n",
       "      <td>1.121935</td>\n",
       "      <td>145.730186</td>\n",
       "      <td>2.333120</td>\n",
       "      <td>-7.910301</td>\n",
       "      <td>338.500000</td>\n",
       "      <td>0.003327</td>\n",
       "      <td>1912</td>\n",
       "      <td>0.815846</td>\n",
       "      <td>-0.000454</td>\n",
       "      <td>-2200.42000</td>\n",
       "      <td>2200.487300</td>\n",
       "      <td>0.003623</td>\n",
       "    </tr>\n",
       "    <tr>\n",
       "      <th>7815</th>\n",
       "      <td>SanctSound_CI04_04_acousticrelease_20200202T07...</td>\n",
       "      <td>Target</td>\n",
       "      <td>Acoustic release</td>\n",
       "      <td>2521.859074</td>\n",
       "      <td>5201.373090</td>\n",
       "      <td>0.067112</td>\n",
       "      <td>0.740150</td>\n",
       "      <td>134.817244</td>\n",
       "      <td>2.341261</td>\n",
       "      <td>-7.763672</td>\n",
       "      <td>421.000000</td>\n",
       "      <td>0.004587</td>\n",
       "      <td>4383</td>\n",
       "      <td>0.757898</td>\n",
       "      <td>0.004102</td>\n",
       "      <td>243.77046</td>\n",
       "      <td>-243.777900</td>\n",
       "      <td>0.004521</td>\n",
       "    </tr>\n",
       "    <tr>\n",
       "      <th>7816</th>\n",
       "      <td>SanctSound_CI04_04_acousticrelease_20200202T07...</td>\n",
       "      <td>Target</td>\n",
       "      <td>Acoustic release</td>\n",
       "      <td>1209.973836</td>\n",
       "      <td>2659.503763</td>\n",
       "      <td>0.043428</td>\n",
       "      <td>1.686207</td>\n",
       "      <td>264.717755</td>\n",
       "      <td>1.846858</td>\n",
       "      <td>-8.548927</td>\n",
       "      <td>345.000000</td>\n",
       "      <td>0.003038</td>\n",
       "      <td>1761</td>\n",
       "      <td>0.909339</td>\n",
       "      <td>-0.001581</td>\n",
       "      <td>-632.46875</td>\n",
       "      <td>632.488040</td>\n",
       "      <td>0.001888</td>\n",
       "    </tr>\n",
       "    <tr>\n",
       "      <th>...</th>\n",
       "      <td>...</td>\n",
       "      <td>...</td>\n",
       "      <td>...</td>\n",
       "      <td>...</td>\n",
       "      <td>...</td>\n",
       "      <td>...</td>\n",
       "      <td>...</td>\n",
       "      <td>...</td>\n",
       "      <td>...</td>\n",
       "      <td>...</td>\n",
       "      <td>...</td>\n",
       "      <td>...</td>\n",
       "      <td>...</td>\n",
       "      <td>...</td>\n",
       "      <td>...</td>\n",
       "      <td>...</td>\n",
       "      <td>...</td>\n",
       "      <td>...</td>\n",
       "    </tr>\n",
       "    <tr>\n",
       "      <th>50988</th>\n",
       "      <td>ship_small_seg5</td>\n",
       "      <td>Target</td>\n",
       "      <td>Vessel</td>\n",
       "      <td>456.747011</td>\n",
       "      <td>797.837269</td>\n",
       "      <td>0.194804</td>\n",
       "      <td>0.013841</td>\n",
       "      <td>0.040806</td>\n",
       "      <td>4.912163</td>\n",
       "      <td>-5.505589</td>\n",
       "      <td>374.087500</td>\n",
       "      <td>0.004186</td>\n",
       "      <td>3257</td>\n",
       "      <td>0.502427</td>\n",
       "      <td>0.010898</td>\n",
       "      <td>67.17063</td>\n",
       "      <td>-71.718500</td>\n",
       "      <td>0.038067</td>\n",
       "    </tr>\n",
       "    <tr>\n",
       "      <th>50989</th>\n",
       "      <td>ship_small_seg6</td>\n",
       "      <td>Target</td>\n",
       "      <td>Vessel</td>\n",
       "      <td>452.009912</td>\n",
       "      <td>804.062723</td>\n",
       "      <td>0.187102</td>\n",
       "      <td>0.015867</td>\n",
       "      <td>0.072808</td>\n",
       "      <td>4.923598</td>\n",
       "      <td>-5.597314</td>\n",
       "      <td>374.125000</td>\n",
       "      <td>0.004034</td>\n",
       "      <td>3284</td>\n",
       "      <td>0.499966</td>\n",
       "      <td>0.010380</td>\n",
       "      <td>68.85387</td>\n",
       "      <td>-69.641780</td>\n",
       "      <td>0.035115</td>\n",
       "    </tr>\n",
       "    <tr>\n",
       "      <th>50990</th>\n",
       "      <td>ship_small_seg7</td>\n",
       "      <td>Target</td>\n",
       "      <td>Vessel</td>\n",
       "      <td>446.388360</td>\n",
       "      <td>808.959976</td>\n",
       "      <td>0.179071</td>\n",
       "      <td>0.000758</td>\n",
       "      <td>0.094906</td>\n",
       "      <td>4.904681</td>\n",
       "      <td>-5.670921</td>\n",
       "      <td>374.100000</td>\n",
       "      <td>0.003832</td>\n",
       "      <td>3247</td>\n",
       "      <td>0.500477</td>\n",
       "      <td>0.011149</td>\n",
       "      <td>60.26118</td>\n",
       "      <td>-65.437140</td>\n",
       "      <td>0.032191</td>\n",
       "    </tr>\n",
       "    <tr>\n",
       "      <th>50991</th>\n",
       "      <td>ship_small_seg8</td>\n",
       "      <td>Target</td>\n",
       "      <td>Vessel</td>\n",
       "      <td>451.316540</td>\n",
       "      <td>794.817133</td>\n",
       "      <td>0.188441</td>\n",
       "      <td>-0.002943</td>\n",
       "      <td>0.136695</td>\n",
       "      <td>4.846811</td>\n",
       "      <td>-5.513616</td>\n",
       "      <td>374.087500</td>\n",
       "      <td>0.004043</td>\n",
       "      <td>3283</td>\n",
       "      <td>0.495841</td>\n",
       "      <td>0.010464</td>\n",
       "      <td>76.87661</td>\n",
       "      <td>-72.440750</td>\n",
       "      <td>0.035620</td>\n",
       "    </tr>\n",
       "    <tr>\n",
       "      <th>50992</th>\n",
       "      <td>ship_small_seg9</td>\n",
       "      <td>Target</td>\n",
       "      <td>Vessel</td>\n",
       "      <td>452.374762</td>\n",
       "      <td>782.092929</td>\n",
       "      <td>0.200762</td>\n",
       "      <td>0.015758</td>\n",
       "      <td>0.118552</td>\n",
       "      <td>4.865919</td>\n",
       "      <td>-5.406506</td>\n",
       "      <td>378.772152</td>\n",
       "      <td>0.004286</td>\n",
       "      <td>3248</td>\n",
       "      <td>0.500070</td>\n",
       "      <td>0.010418</td>\n",
       "      <td>79.42084</td>\n",
       "      <td>-77.361496</td>\n",
       "      <td>0.040414</td>\n",
       "    </tr>\n",
       "  </tbody>\n",
       "</table>\n",
       "<p>43181 rows × 18 columns</p>\n",
       "</div>"
      ]
     },
     "execution_count": 7,
     "metadata": {},
     "output_type": "execute_result"
    }
   ],
   "execution_count": 7
  },
  {
   "cell_type": "markdown",
   "source": "## SPLIT",
   "metadata": {
    "collapsed": false
   },
   "id": "6ee7f04dce09a280"
  },
  {
   "cell_type": "code",
   "source": "X_train_imputed, X_val_imputed, X_test_imputed, y_train_encoded, y_val_encoded, y_test_encoded, subclass_encoder = split_dataset(df)",
   "metadata": {
    "collapsed": false,
    "ExecuteTime": {
     "end_time": "2024-11-20T10:35:09.813736Z",
     "start_time": "2024-11-20T10:35:09.371181Z"
    }
   },
   "id": "c9ef5c3a3ae78ff4",
   "outputs": [
    {
     "name": "stdout",
     "output_type": "stream",
     "text": [
      "Dimensione totale dopo il filtraggio: 43089 campioni\n",
      "\n",
      "Dimensione del set di addestramento: 33872 campioni (78.61%)\n",
      "Dimensione del set di validazione: 4403 campioni (10.22%)\n",
      "Dimensione del set di test: 4814 campioni (11.17%)\n",
      "\n",
      "Distribuzione delle subclass nel set di addestramento:\n",
      "Subclass\n",
      "Passengership    8830\n",
      "Tanker           8744\n",
      "Tug              8213\n",
      "Cargo            7802\n",
      "Vessel            283\n",
      "Name: count, dtype: int64\n",
      "\n",
      "Distribuzione delle subclass nel set di validazione:\n",
      "Subclass\n",
      "Passengership    1291\n",
      "Tanker           1276\n",
      "Tug               956\n",
      "Cargo             862\n",
      "Vessel             18\n",
      "Name: count, dtype: int64\n",
      "\n",
      "Distribuzione delle subclass nel set di test:\n",
      "Subclass\n",
      "Passengership    1607\n",
      "Tanker           1201\n",
      "Cargo            1007\n",
      "Tug               993\n",
      "Vessel              6\n",
      "Name: count, dtype: int64\n"
     ]
    }
   ],
   "execution_count": 8
  },
  {
   "metadata": {
    "ExecuteTime": {
     "end_time": "2024-11-20T10:35:38.062200Z",
     "start_time": "2024-11-20T10:35:11.875789Z"
    }
   },
   "cell_type": "code",
   "source": [
    "X_train_imputed.to_csv(\"X_train.csv\", index=False)\n",
    "X_train_imputed[['File Name', 'Parent', 'Subclass']].groupby(['Parent', 'File Name']).describe()"
   ],
   "id": "b43c8e58329f5248",
   "outputs": [
    {
     "data": {
      "text/plain": [
       "                                                                                Subclass  \\\n",
       "                                                                                   count   \n",
       "Parent                               File Name                                             \n",
       "1cc5583b-fe72-4cb2-b64c-563bd87ad91b 1cc5583b-fe72-4cb2-b64c-563bd87ad91b_seg1         1   \n",
       "                                     1cc5583b-fe72-4cb2-b64c-563bd87ad91b_seg10        1   \n",
       "                                     1cc5583b-fe72-4cb2-b64c-563bd87ad91b_seg11        1   \n",
       "                                     1cc5583b-fe72-4cb2-b64c-563bd87ad91b_seg12        1   \n",
       "                                     1cc5583b-fe72-4cb2-b64c-563bd87ad91b_seg13        1   \n",
       "...                                                                                  ...   \n",
       "ship_small                           ship_small_seg5                                   1   \n",
       "                                     ship_small_seg6                                   1   \n",
       "                                     ship_small_seg7                                   1   \n",
       "                                     ship_small_seg8                                   1   \n",
       "                                     ship_small_seg9                                   1   \n",
       "\n",
       "                                                                                        \\\n",
       "                                                                                unique   \n",
       "Parent                               File Name                                           \n",
       "1cc5583b-fe72-4cb2-b64c-563bd87ad91b 1cc5583b-fe72-4cb2-b64c-563bd87ad91b_seg1       1   \n",
       "                                     1cc5583b-fe72-4cb2-b64c-563bd87ad91b_seg10      1   \n",
       "                                     1cc5583b-fe72-4cb2-b64c-563bd87ad91b_seg11      1   \n",
       "                                     1cc5583b-fe72-4cb2-b64c-563bd87ad91b_seg12      1   \n",
       "                                     1cc5583b-fe72-4cb2-b64c-563bd87ad91b_seg13      1   \n",
       "...                                                                                ...   \n",
       "ship_small                           ship_small_seg5                                 1   \n",
       "                                     ship_small_seg6                                 1   \n",
       "                                     ship_small_seg7                                 1   \n",
       "                                     ship_small_seg8                                 1   \n",
       "                                     ship_small_seg9                                 1   \n",
       "\n",
       "                                                                                                \\\n",
       "                                                                                           top   \n",
       "Parent                               File Name                                                   \n",
       "1cc5583b-fe72-4cb2-b64c-563bd87ad91b 1cc5583b-fe72-4cb2-b64c-563bd87ad91b_seg1   Passengership   \n",
       "                                     1cc5583b-fe72-4cb2-b64c-563bd87ad91b_seg10  Passengership   \n",
       "                                     1cc5583b-fe72-4cb2-b64c-563bd87ad91b_seg11  Passengership   \n",
       "                                     1cc5583b-fe72-4cb2-b64c-563bd87ad91b_seg12  Passengership   \n",
       "                                     1cc5583b-fe72-4cb2-b64c-563bd87ad91b_seg13  Passengership   \n",
       "...                                                                                        ...   \n",
       "ship_small                           ship_small_seg5                                    Vessel   \n",
       "                                     ship_small_seg6                                    Vessel   \n",
       "                                     ship_small_seg7                                    Vessel   \n",
       "                                     ship_small_seg8                                    Vessel   \n",
       "                                     ship_small_seg9                                    Vessel   \n",
       "\n",
       "                                                                                      \n",
       "                                                                                freq  \n",
       "Parent                               File Name                                        \n",
       "1cc5583b-fe72-4cb2-b64c-563bd87ad91b 1cc5583b-fe72-4cb2-b64c-563bd87ad91b_seg1     1  \n",
       "                                     1cc5583b-fe72-4cb2-b64c-563bd87ad91b_seg10    1  \n",
       "                                     1cc5583b-fe72-4cb2-b64c-563bd87ad91b_seg11    1  \n",
       "                                     1cc5583b-fe72-4cb2-b64c-563bd87ad91b_seg12    1  \n",
       "                                     1cc5583b-fe72-4cb2-b64c-563bd87ad91b_seg13    1  \n",
       "...                                                                              ...  \n",
       "ship_small                           ship_small_seg5                               1  \n",
       "                                     ship_small_seg6                               1  \n",
       "                                     ship_small_seg7                               1  \n",
       "                                     ship_small_seg8                               1  \n",
       "                                     ship_small_seg9                               1  \n",
       "\n",
       "[33872 rows x 4 columns]"
      ],
      "text/html": [
       "<div>\n",
       "<style scoped>\n",
       "    .dataframe tbody tr th:only-of-type {\n",
       "        vertical-align: middle;\n",
       "    }\n",
       "\n",
       "    .dataframe tbody tr th {\n",
       "        vertical-align: top;\n",
       "    }\n",
       "\n",
       "    .dataframe thead tr th {\n",
       "        text-align: left;\n",
       "    }\n",
       "\n",
       "    .dataframe thead tr:last-of-type th {\n",
       "        text-align: right;\n",
       "    }\n",
       "</style>\n",
       "<table border=\"1\" class=\"dataframe\">\n",
       "  <thead>\n",
       "    <tr>\n",
       "      <th></th>\n",
       "      <th></th>\n",
       "      <th colspan=\"4\" halign=\"left\">Subclass</th>\n",
       "    </tr>\n",
       "    <tr>\n",
       "      <th></th>\n",
       "      <th></th>\n",
       "      <th>count</th>\n",
       "      <th>unique</th>\n",
       "      <th>top</th>\n",
       "      <th>freq</th>\n",
       "    </tr>\n",
       "    <tr>\n",
       "      <th>Parent</th>\n",
       "      <th>File Name</th>\n",
       "      <th></th>\n",
       "      <th></th>\n",
       "      <th></th>\n",
       "      <th></th>\n",
       "    </tr>\n",
       "  </thead>\n",
       "  <tbody>\n",
       "    <tr>\n",
       "      <th rowspan=\"5\" valign=\"top\">1cc5583b-fe72-4cb2-b64c-563bd87ad91b</th>\n",
       "      <th>1cc5583b-fe72-4cb2-b64c-563bd87ad91b_seg1</th>\n",
       "      <td>1</td>\n",
       "      <td>1</td>\n",
       "      <td>Passengership</td>\n",
       "      <td>1</td>\n",
       "    </tr>\n",
       "    <tr>\n",
       "      <th>1cc5583b-fe72-4cb2-b64c-563bd87ad91b_seg10</th>\n",
       "      <td>1</td>\n",
       "      <td>1</td>\n",
       "      <td>Passengership</td>\n",
       "      <td>1</td>\n",
       "    </tr>\n",
       "    <tr>\n",
       "      <th>1cc5583b-fe72-4cb2-b64c-563bd87ad91b_seg11</th>\n",
       "      <td>1</td>\n",
       "      <td>1</td>\n",
       "      <td>Passengership</td>\n",
       "      <td>1</td>\n",
       "    </tr>\n",
       "    <tr>\n",
       "      <th>1cc5583b-fe72-4cb2-b64c-563bd87ad91b_seg12</th>\n",
       "      <td>1</td>\n",
       "      <td>1</td>\n",
       "      <td>Passengership</td>\n",
       "      <td>1</td>\n",
       "    </tr>\n",
       "    <tr>\n",
       "      <th>1cc5583b-fe72-4cb2-b64c-563bd87ad91b_seg13</th>\n",
       "      <td>1</td>\n",
       "      <td>1</td>\n",
       "      <td>Passengership</td>\n",
       "      <td>1</td>\n",
       "    </tr>\n",
       "    <tr>\n",
       "      <th>...</th>\n",
       "      <th>...</th>\n",
       "      <td>...</td>\n",
       "      <td>...</td>\n",
       "      <td>...</td>\n",
       "      <td>...</td>\n",
       "    </tr>\n",
       "    <tr>\n",
       "      <th rowspan=\"5\" valign=\"top\">ship_small</th>\n",
       "      <th>ship_small_seg5</th>\n",
       "      <td>1</td>\n",
       "      <td>1</td>\n",
       "      <td>Vessel</td>\n",
       "      <td>1</td>\n",
       "    </tr>\n",
       "    <tr>\n",
       "      <th>ship_small_seg6</th>\n",
       "      <td>1</td>\n",
       "      <td>1</td>\n",
       "      <td>Vessel</td>\n",
       "      <td>1</td>\n",
       "    </tr>\n",
       "    <tr>\n",
       "      <th>ship_small_seg7</th>\n",
       "      <td>1</td>\n",
       "      <td>1</td>\n",
       "      <td>Vessel</td>\n",
       "      <td>1</td>\n",
       "    </tr>\n",
       "    <tr>\n",
       "      <th>ship_small_seg8</th>\n",
       "      <td>1</td>\n",
       "      <td>1</td>\n",
       "      <td>Vessel</td>\n",
       "      <td>1</td>\n",
       "    </tr>\n",
       "    <tr>\n",
       "      <th>ship_small_seg9</th>\n",
       "      <td>1</td>\n",
       "      <td>1</td>\n",
       "      <td>Vessel</td>\n",
       "      <td>1</td>\n",
       "    </tr>\n",
       "  </tbody>\n",
       "</table>\n",
       "<p>33872 rows × 4 columns</p>\n",
       "</div>"
      ]
     },
     "execution_count": 9,
     "metadata": {},
     "output_type": "execute_result"
    }
   ],
   "execution_count": 9
  },
  {
   "metadata": {},
   "cell_type": "code",
   "source": [
    "X_test_imputed.to_csv(\"X_test.csv\", index=False)\n",
    "X_test_imputed[['File Name', 'Parent','Subclass']].groupby(['Parent', 'File Name']).describe()"
   ],
   "id": "e3e5d5d4cf2eb20",
   "outputs": [],
   "execution_count": null
  },
  {
   "metadata": {},
   "cell_type": "code",
   "source": [
    "X_val_imputed.to_csv(\"X_val.csv\", index=False)\n",
    "X_val_imputed[['File Name', 'Parent','Subclass']].groupby(['Parent', 'File Name']).describe()\n"
   ],
   "id": "3ef49b801a2f2c40",
   "outputs": [],
   "execution_count": null
  },
  {
   "cell_type": "markdown",
   "source": "## SMOTE",
   "metadata": {
    "collapsed": false
   },
   "id": "807ab2bef2bf8021"
  },
  {
   "cell_type": "code",
   "source": [
    "import os\n",
    "os.environ[\"LOKY_MAX_CPU_COUNT\"] = \"4\"  # Adatta questo valore al numero di core che desideri utilizzare"
   ],
   "metadata": {
    "collapsed": false
   },
   "id": "75d8d3b61d345a61",
   "outputs": [],
   "execution_count": null
  },
  {
   "cell_type": "code",
   "source": "X_train_resampled, y_train_resampled = apply_smote_multiclass(X_train_imputed, y_train_encoded, 1)",
   "metadata": {
    "collapsed": false
   },
   "id": "5b4963aa594a882e",
   "outputs": [],
   "execution_count": null
  },
  {
   "cell_type": "code",
   "source": [
    "print(pd.Series(subclass_encoder.inverse_transform(y_train_resampled)).value_counts())"
   ],
   "metadata": {
    "collapsed": false
   },
   "id": "e164c4cac28fa6c2",
   "outputs": [],
   "execution_count": null
  },
  {
   "cell_type": "code",
   "source": [
    "print(f\"\\nDistribuzione delle classi nel set di validation:\\n \\n{pd.Series(y_val_encoded).value_counts()} \")"
   ],
   "metadata": {
    "collapsed": false
   },
   "id": "dc23cef070da7efc",
   "outputs": [],
   "execution_count": null
  },
  {
   "cell_type": "code",
   "source": [
    "\n",
    "print(f\"\\nDistribuzione delle classi nel set di test:\\n \\n{pd.Series(y_test_encoded).value_counts()} \")"
   ],
   "metadata": {
    "collapsed": false
   },
   "id": "e5bf11dfba883c82",
   "outputs": [],
   "execution_count": null
  },
  {
   "cell_type": "code",
   "source": [
    "# Stampare le forme dei dataset\n",
    "print(\"\\nForme dei dataset:\")\n",
    "print(f\"X_train_imputed: {X_train_imputed.shape}\") #validation\n",
    "print(f\"X_val_imputed: {X_val_imputed.shape}\") #validation\n",
    "print(f\"X_test_imputed: {X_test_imputed.shape}\") #test\n",
    "print(f\"X_train_resampled: {X_train_resampled.shape}\") #train dopo SMOTE"
   ],
   "metadata": {
    "collapsed": false
   },
   "id": "5e3e48e199bfe938",
   "outputs": [],
   "execution_count": null
  },
  {
   "cell_type": "markdown",
   "source": [
    "# Esperimento 1 "
   ],
   "metadata": {
    "collapsed": false
   },
   "id": "1e58cf45b921fce5"
  },
  {
   "cell_type": "markdown",
   "source": [
    "Esperimento effettuato prendendo come riferimento alcune features numeriche da \"Malfante et al.\""
   ],
   "metadata": {
    "collapsed": false
   },
   "id": "291e1a8d7c87f2e8"
  },
  {
   "metadata": {},
   "cell_type": "code",
   "source": [
    "# Rimuovi le colonne non necessarie per evitare errori nei nomi delle feature\n",
    "X_val_imputed = X_val_imputed.drop(columns=[\"Class\", \"File Name\", \"Parent\", \"Subclass\"], errors='ignore')\n",
    "X_test_imputed = X_test_imputed.drop(columns=[\"Class\", \"File Name\", \"Parent\", \"Subclass\"], errors='ignore')\n"
   ],
   "id": "488cc762696e69bd",
   "outputs": [],
   "execution_count": null
  },
  {
   "metadata": {},
   "cell_type": "markdown",
   "source": "### 1.1 Random Forest Model",
   "id": "c1cd722687bf483"
  },
  {
   "cell_type": "code",
   "source": "random_forest_model = train_random_forest_multiclass(X_train_resampled, y_train_resampled, X_val_imputed, y_val_encoded, X_test_imputed, y_test_encoded)",
   "metadata": {
    "collapsed": false
   },
   "id": "eb2bc0074285ff3d",
   "outputs": [],
   "execution_count": null
  },
  {
   "cell_type": "code",
   "source": "rf_plot_confusion_matrices(random_forest_model, X_val_imputed, y_val_encoded, X_test_imputed, y_test_encoded)\n",
   "metadata": {
    "collapsed": false
   },
   "id": "8de01a6663b338fb",
   "outputs": [],
   "execution_count": null
  },
  {
   "metadata": {},
   "cell_type": "markdown",
   "source": "### 1.2 SVM Model",
   "id": "870521eff5b6c9a7"
  },
  {
   "cell_type": "code",
   "source": "svm_model = train_svm_multiclass(X_train_resampled, y_train_resampled, X_val_imputed, y_val_encoded, X_test_imputed, y_test_encoded)",
   "metadata": {
    "collapsed": false
   },
   "id": "6da1a1ccff33ba51",
   "outputs": [],
   "execution_count": null
  },
  {
   "cell_type": "code",
   "source": "svm_plot_confusion_matrices(svm_model, X_val_imputed, y_val_encoded, X_test_imputed, y_test_encoded)",
   "metadata": {
    "collapsed": false
   },
   "id": "738a8d4b7d9ef538",
   "outputs": [],
   "execution_count": null
  },
  {
   "metadata": {},
   "cell_type": "markdown",
   "source": "### 1.3 LightGBM Model",
   "id": "b2494386891949f7"
  },
  {
   "cell_type": "code",
   "source": "lightgbm_model = train_lightgbm(X_train_resampled, y_train_resampled, X_val_imputed, y_val_encoded, X_test_imputed, y_test_encoded)",
   "metadata": {
    "collapsed": false
   },
   "id": "61d360a699b90073",
   "outputs": [],
   "execution_count": null
  },
  {
   "cell_type": "code",
   "source": "lightgbm_plot_confusion_matrices(lightgbm_model, X_val_imputed, y_val_encoded, X_test_imputed, y_test_encoded)",
   "metadata": {
    "collapsed": false
   },
   "id": "f5286ab7c1e31733",
   "outputs": [],
   "execution_count": null
  },
  {
   "cell_type": "markdown",
   "source": [
    "## Esperimento 2"
   ],
   "metadata": {
    "collapsed": false
   },
   "id": "f536df1b194bbfb"
  },
  {
   "cell_type": "markdown",
   "source": [
    "Esperimento effettuato prendendo come riferimento alcune features numeriche da “BirdNet”"
   ],
   "metadata": {
    "collapsed": false
   },
   "id": "5f5a9975818905f6"
  },
  {
   "metadata": {},
   "cell_type": "code",
   "source": [
    "csv_file_path_exp1 = 'C:/underwater-classification/features_extraction/exp1_audio_features.csv'\n",
    "df_exp1 = pd.read_csv(csv_file_path_exp1)"
   ],
   "id": "ba8f15e6f38f2a5b",
   "outputs": [],
   "execution_count": null
  },
  {
   "metadata": {},
   "cell_type": "code",
   "source": [
    "df_exp1 = df_exp1[df_exp1['Class'] == 'Target'].copy()\n",
    "df_exp1.to_csv(\"exp1_audio_features_target.csv\", index=False)"
   ],
   "id": "2472246c3f4055a0",
   "outputs": [],
   "execution_count": null
  },
  {
   "metadata": {},
   "cell_type": "code",
   "source": [
    "X_train_imputed_exp1, X_val_imputed_exp1, X_test_imputed_exp1, y_train_encoded_exp1, y_val_encoded_exp1, y_test_encoded_exp1, subclass_encoder_exp1 = oversampling_multiclass.split_dataset(df_exp1)\n",
    "X_train_resampled_exp1, y_train_resampled_exp1 = apply_smote_multiclass(X_train_imputed_exp1, y_train_encoded_exp1, 1)"
   ],
   "id": "f41af14abd8c1b94",
   "outputs": [],
   "execution_count": null
  },
  {
   "metadata": {},
   "cell_type": "code",
   "source": [
    "# Rimuovi le colonne non necessarie per evitare errori nei nomi delle feature\n",
    "X_val_imputed_exp1 = X_val_imputed_exp1.drop(columns=[\"Class\", \"File Name\", \"Parent\", \"Subclass\"], errors='ignore')\n",
    "X_test_imputed_exp1 = X_test_imputed_exp1.drop(columns=[\"Class\", \"File Name\", \"Parent\", \"Subclass\"], errors='ignore')"
   ],
   "id": "aceb19099f0c383b",
   "outputs": [],
   "execution_count": null
  },
  {
   "metadata": {},
   "cell_type": "markdown",
   "source": "### 2.1 Random Forest Model",
   "id": "36409364a8e08ab1"
  },
  {
   "metadata": {},
   "cell_type": "code",
   "source": "random_forest_model_exp1 = train_random_forest_multiclass(X_train_resampled_exp1, y_train_resampled_exp1, X_val_imputed_exp1, y_val_encoded_exp1, X_test_imputed_exp1, y_test_encoded_exp1)",
   "id": "a0ad0286c666fa53",
   "outputs": [],
   "execution_count": null
  },
  {
   "metadata": {},
   "cell_type": "code",
   "source": "rf_plot_confusion_matrices(random_forest_model_exp1, X_val_imputed_exp1, y_val_encoded_exp1, X_test_imputed_exp1, y_test_encoded_exp1)",
   "id": "3caf3e7b2aae7d77",
   "outputs": [],
   "execution_count": null
  },
  {
   "metadata": {},
   "cell_type": "markdown",
   "source": "### 2.2 SVM Model",
   "id": "d7c3de12f8ba780c"
  },
  {
   "cell_type": "code",
   "source": "svm_model_exp1 = train_svm_multiclass(X_train_resampled_exp1, y_train_resampled_exp1, X_val_imputed_exp1, y_val_encoded_exp1, X_test_imputed_exp1, y_test_encoded_exp1)",
   "metadata": {
    "collapsed": false
   },
   "id": "af776ff3ab237c35",
   "outputs": [],
   "execution_count": null
  },
  {
   "cell_type": "code",
   "source": "svm_plot_confusion_matrices(svm_model_exp1, X_val_imputed_exp1, y_val_encoded_exp1, X_test_imputed_exp1, y_test_encoded_exp1)",
   "metadata": {
    "collapsed": false
   },
   "id": "4b8d05645dde5408",
   "outputs": [],
   "execution_count": null
  },
  {
   "metadata": {},
   "cell_type": "markdown",
   "source": "### 2.3 LightGBM Model",
   "id": "a8b807f7a56fad49"
  },
  {
   "cell_type": "code",
   "source": "lightgbm_model_exp1 = train_lightgbm(X_train_resampled_exp1, y_train_resampled_exp1, X_val_imputed_exp1, y_val_encoded_exp1, X_test_imputed_exp1, y_test_encoded_exp1)",
   "metadata": {
    "collapsed": false
   },
   "id": "2a04ddd5aef7002e",
   "outputs": [],
   "execution_count": null
  },
  {
   "cell_type": "code",
   "source": "lightgbm_plot_confusion_matrices(lightgbm_model_exp1, X_val_imputed_exp1, y_val_encoded_exp1, X_test_imputed_exp1, y_test_encoded_exp1)",
   "metadata": {
    "collapsed": false
   },
   "id": "17fd7633b1edca89",
   "outputs": [],
   "execution_count": null
  },
  {
   "cell_type": "markdown",
   "source": [
    "## Esperimento 3"
   ],
   "metadata": {
    "collapsed": false
   },
   "id": "6c32a68d45f28e34"
  },
  {
   "cell_type": "markdown",
   "source": [
    "Esperimento effettuato prendendo come riferimento features numeriche da \"A Survey on Audio Feature Extraction for Automatic Music Genre Classification\" di Dhamodaran et al."
   ],
   "metadata": {
    "collapsed": false
   },
   "id": "cd0195eb5ec8e124"
  },
  {
   "metadata": {},
   "cell_type": "code",
   "source": [
    "csv_file_path_exp2 = 'C:/underwater-classification/features_extraction/exp2_audio_features.csv'\n",
    "df_exp2 = pd.read_csv(csv_file_path_exp2)\n",
    "df_exp2 = df_exp2[df_exp2['Class'] == 'Target'].copy()\n",
    "df_exp2.to_csv(\"exp2_audio_features_target.csv\", index=False)"
   ],
   "id": "41119886db910f42",
   "outputs": [],
   "execution_count": null
  },
  {
   "metadata": {},
   "cell_type": "code",
   "source": [
    "X_train_imputed_exp2, X_val_imputed_exp2, X_test_imputed_exp2, y_train_encoded_exp2, y_val_encoded_exp2, y_test_encoded_exp2, subclass_encoder_exp2 = split_dataset(df_exp2)\n",
    "X_train_resampled_exp2, y_train_resampled_exp2 = apply_smote_multiclass(X_train_imputed_exp2, y_train_encoded_exp2, 1)\n",
    "\n",
    "# Rimuovi le colonne non necessarie per evitare errori nei nomi delle feature\n",
    "X_val_imputed_exp2 = X_val_imputed_exp2.drop(columns=[\"Class\", \"File Name\", \"Parent\", \"Subclass\"], errors='ignore')\n",
    "X_test_imputed_exp2 = X_test_imputed_exp2.drop(columns=[\"Class\", \"File Name\", \"Parent\", \"Subclass\"], errors='ignore')"
   ],
   "id": "6aab06fd55dff8d3",
   "outputs": [],
   "execution_count": null
  },
  {
   "metadata": {},
   "cell_type": "markdown",
   "source": "### 3.1 Random Forest Model",
   "id": "54f322b4f634bf57"
  },
  {
   "cell_type": "code",
   "source": "random_forest_model_exp2 = train_random_forest_multiclass(X_train_resampled_exp2, y_train_resampled_exp2, X_val_imputed_exp2, y_val_encoded_exp2, X_test_imputed_exp2, y_test_encoded_exp2)",
   "metadata": {},
   "id": "519e76c4be384e4c",
   "outputs": [],
   "execution_count": null
  },
  {
   "metadata": {
    "collapsed": false
   },
   "cell_type": "code",
   "source": "rf_plot_confusion_matrices(random_forest_model_exp2, X_val_imputed_exp2, y_val_encoded_exp2, X_test_imputed_exp2, y_test_encoded_exp2)",
   "id": "cfa91db8bacb5443",
   "outputs": [],
   "execution_count": null
  },
  {
   "metadata": {},
   "cell_type": "markdown",
   "source": "### 3.2 SVM Model",
   "id": "a4338fe2eb10785a"
  },
  {
   "cell_type": "code",
   "source": "svm_model_exp2 = train_svm_multiclass(X_train_resampled_exp2, y_train_resampled_exp2, X_val_imputed_exp2, y_val_encoded_exp2, X_test_imputed_exp2, y_test_encoded_exp2)",
   "metadata": {
    "collapsed": false
   },
   "id": "8b62a73eb3ff2c11",
   "outputs": [],
   "execution_count": null
  },
  {
   "cell_type": "code",
   "source": "svm_plot_confusion_matrices(svm_model_exp2, X_val_imputed_exp2, y_val_encoded_exp2, X_test_imputed_exp2, y_test_encoded_exp2)",
   "metadata": {
    "collapsed": false
   },
   "id": "3dc9c791007adc27",
   "outputs": [],
   "execution_count": null
  },
  {
   "metadata": {},
   "cell_type": "markdown",
   "source": "### 3.3 LightGBM Model",
   "id": "b548838347f06e28"
  },
  {
   "cell_type": "code",
   "source": "lightgbm_model_exp2 = train_lightgbm(X_train_resampled_exp2, y_train_resampled_exp2, X_val_imputed_exp2, y_val_encoded_exp2, X_test_imputed_exp2, y_test_encoded_exp2)",
   "metadata": {
    "collapsed": false
   },
   "id": "ced8adbdd895566c",
   "outputs": [],
   "execution_count": null
  },
  {
   "cell_type": "code",
   "source": "lightgbm_plot_confusion_matrices(lightgbm_model_exp2, X_val_imputed_exp2, y_val_encoded_exp2, X_test_imputed_exp2, y_test_encoded_exp2)",
   "metadata": {
    "collapsed": false
   },
   "id": "fe0c77ebb69a0a5b",
   "outputs": [],
   "execution_count": null
  }
 ],
 "metadata": {
  "kernelspec": {
   "display_name": "Python 3",
   "language": "python",
   "name": "python3"
  },
  "language_info": {
   "codemirror_mode": {
    "name": "ipython",
    "version": 2
   },
   "file_extension": ".py",
   "mimetype": "text/x-python",
   "name": "python",
   "nbconvert_exporter": "python",
   "pygments_lexer": "ipython2",
   "version": "2.7.6"
  }
 },
 "nbformat": 4,
 "nbformat_minor": 5
}
