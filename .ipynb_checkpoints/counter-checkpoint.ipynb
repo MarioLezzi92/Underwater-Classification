{
 "cells": [
  {
   "cell_type": "code",
   "execution_count": 1,
   "id": "initial_id",
   "metadata": {
    "collapsed": true,
    "ExecuteTime": {
     "end_time": "2024-07-05T13:39:42.929398Z",
     "start_time": "2024-07-05T13:39:41.704788Z"
    }
   },
   "outputs": [
    {
     "ename": "ImportError",
     "evalue": "DLL load failed while importing _path: Impossibile trovare il modulo specificato.",
     "output_type": "error",
     "traceback": [
      "\u001B[1;31m---------------------------------------------------------------------------\u001B[0m",
      "\u001B[1;31mImportError\u001B[0m                               Traceback (most recent call last)",
      "Cell \u001B[1;32mIn[1], line 3\u001B[0m\n\u001B[0;32m      1\u001B[0m \u001B[38;5;28;01mimport\u001B[39;00m \u001B[38;5;21;01mpandas\u001B[39;00m \u001B[38;5;28;01mas\u001B[39;00m \u001B[38;5;21;01mpd\u001B[39;00m\n\u001B[1;32m----> 3\u001B[0m \u001B[38;5;28;01mimport\u001B[39;00m \u001B[38;5;21;01mpreprocessing\u001B[39;00m\n",
      "File \u001B[1;32mC:\\underwater-classification\\preprocessing.py:6\u001B[0m\n\u001B[0;32m      4\u001B[0m \u001B[38;5;28;01mimport\u001B[39;00m \u001B[38;5;21;01mpandas\u001B[39;00m \u001B[38;5;28;01mas\u001B[39;00m \u001B[38;5;21;01mpd\u001B[39;00m\n\u001B[0;32m      5\u001B[0m \u001B[38;5;28;01mimport\u001B[39;00m \u001B[38;5;21;01mnumpy\u001B[39;00m \u001B[38;5;28;01mas\u001B[39;00m \u001B[38;5;21;01mnp\u001B[39;00m\n\u001B[1;32m----> 6\u001B[0m \u001B[38;5;28;01mimport\u001B[39;00m \u001B[38;5;21;01mmatplotlib\u001B[39;00m\u001B[38;5;21;01m.\u001B[39;00m\u001B[38;5;21;01mpyplot\u001B[39;00m \u001B[38;5;28;01mas\u001B[39;00m \u001B[38;5;21;01mplt\u001B[39;00m\n\u001B[0;32m      7\u001B[0m \u001B[38;5;28;01mimport\u001B[39;00m \u001B[38;5;21;01mseaborn\u001B[39;00m \u001B[38;5;28;01mas\u001B[39;00m \u001B[38;5;21;01msns\u001B[39;00m\n\u001B[0;32m      8\u001B[0m \u001B[38;5;28;01mfrom\u001B[39;00m \u001B[38;5;21;01mcollections\u001B[39;00m \u001B[38;5;28;01mimport\u001B[39;00m Counter\n",
      "File \u001B[1;32m~\\AppData\\Local\\Programs\\Python\\Python310\\lib\\site-packages\\matplotlib\\__init__.py:174\u001B[0m\n\u001B[0;32m    170\u001B[0m \u001B[38;5;28;01mfrom\u001B[39;00m \u001B[38;5;21;01mpackaging\u001B[39;00m\u001B[38;5;21;01m.\u001B[39;00m\u001B[38;5;21;01mversion\u001B[39;00m \u001B[38;5;28;01mimport\u001B[39;00m parse \u001B[38;5;28;01mas\u001B[39;00m parse_version\n\u001B[0;32m    172\u001B[0m \u001B[38;5;66;03m# cbook must import matplotlib only within function\u001B[39;00m\n\u001B[0;32m    173\u001B[0m \u001B[38;5;66;03m# definitions, so it is safe to import from it here.\u001B[39;00m\n\u001B[1;32m--> 174\u001B[0m \u001B[38;5;28;01mfrom\u001B[39;00m \u001B[38;5;21;01m.\u001B[39;00m \u001B[38;5;28;01mimport\u001B[39;00m _api, _version, cbook, _docstring, rcsetup\n\u001B[0;32m    175\u001B[0m \u001B[38;5;28;01mfrom\u001B[39;00m \u001B[38;5;21;01mmatplotlib\u001B[39;00m\u001B[38;5;21;01m.\u001B[39;00m\u001B[38;5;21;01mcbook\u001B[39;00m \u001B[38;5;28;01mimport\u001B[39;00m sanitize_sequence\n\u001B[0;32m    176\u001B[0m \u001B[38;5;28;01mfrom\u001B[39;00m \u001B[38;5;21;01mmatplotlib\u001B[39;00m\u001B[38;5;21;01m.\u001B[39;00m\u001B[38;5;21;01m_api\u001B[39;00m \u001B[38;5;28;01mimport\u001B[39;00m MatplotlibDeprecationWarning\n",
      "File \u001B[1;32m~\\AppData\\Local\\Programs\\Python\\Python310\\lib\\site-packages\\matplotlib\\rcsetup.py:27\u001B[0m\n\u001B[0;32m     25\u001B[0m \u001B[38;5;28;01mfrom\u001B[39;00m \u001B[38;5;21;01mmatplotlib\u001B[39;00m \u001B[38;5;28;01mimport\u001B[39;00m _api, cbook\n\u001B[0;32m     26\u001B[0m \u001B[38;5;28;01mfrom\u001B[39;00m \u001B[38;5;21;01mmatplotlib\u001B[39;00m\u001B[38;5;21;01m.\u001B[39;00m\u001B[38;5;21;01mcbook\u001B[39;00m \u001B[38;5;28;01mimport\u001B[39;00m ls_mapper\n\u001B[1;32m---> 27\u001B[0m \u001B[38;5;28;01mfrom\u001B[39;00m \u001B[38;5;21;01mmatplotlib\u001B[39;00m\u001B[38;5;21;01m.\u001B[39;00m\u001B[38;5;21;01mcolors\u001B[39;00m \u001B[38;5;28;01mimport\u001B[39;00m Colormap, is_color_like\n\u001B[0;32m     28\u001B[0m \u001B[38;5;28;01mfrom\u001B[39;00m \u001B[38;5;21;01mmatplotlib\u001B[39;00m\u001B[38;5;21;01m.\u001B[39;00m\u001B[38;5;21;01m_fontconfig_pattern\u001B[39;00m \u001B[38;5;28;01mimport\u001B[39;00m parse_fontconfig_pattern\n\u001B[0;32m     29\u001B[0m \u001B[38;5;28;01mfrom\u001B[39;00m \u001B[38;5;21;01mmatplotlib\u001B[39;00m\u001B[38;5;21;01m.\u001B[39;00m\u001B[38;5;21;01m_enums\u001B[39;00m \u001B[38;5;28;01mimport\u001B[39;00m JoinStyle, CapStyle\n",
      "File \u001B[1;32m~\\AppData\\Local\\Programs\\Python\\Python310\\lib\\site-packages\\matplotlib\\colors.py:57\u001B[0m\n\u001B[0;32m     55\u001B[0m \u001B[38;5;28;01mimport\u001B[39;00m \u001B[38;5;21;01mmatplotlib\u001B[39;00m \u001B[38;5;28;01mas\u001B[39;00m \u001B[38;5;21;01mmpl\u001B[39;00m\n\u001B[0;32m     56\u001B[0m \u001B[38;5;28;01mimport\u001B[39;00m \u001B[38;5;21;01mnumpy\u001B[39;00m \u001B[38;5;28;01mas\u001B[39;00m \u001B[38;5;21;01mnp\u001B[39;00m\n\u001B[1;32m---> 57\u001B[0m \u001B[38;5;28;01mfrom\u001B[39;00m \u001B[38;5;21;01mmatplotlib\u001B[39;00m \u001B[38;5;28;01mimport\u001B[39;00m _api, _cm, cbook, scale\n\u001B[0;32m     58\u001B[0m \u001B[38;5;28;01mfrom\u001B[39;00m \u001B[38;5;21;01m.\u001B[39;00m\u001B[38;5;21;01m_color_data\u001B[39;00m \u001B[38;5;28;01mimport\u001B[39;00m BASE_COLORS, TABLEAU_COLORS, CSS4_COLORS, XKCD_COLORS\n\u001B[0;32m     61\u001B[0m \u001B[38;5;28;01mclass\u001B[39;00m \u001B[38;5;21;01m_ColorMapping\u001B[39;00m(\u001B[38;5;28mdict\u001B[39m):\n",
      "File \u001B[1;32m~\\AppData\\Local\\Programs\\Python\\Python310\\lib\\site-packages\\matplotlib\\scale.py:22\u001B[0m\n\u001B[0;32m     20\u001B[0m \u001B[38;5;28;01mimport\u001B[39;00m \u001B[38;5;21;01mmatplotlib\u001B[39;00m \u001B[38;5;28;01mas\u001B[39;00m \u001B[38;5;21;01mmpl\u001B[39;00m\n\u001B[0;32m     21\u001B[0m \u001B[38;5;28;01mfrom\u001B[39;00m \u001B[38;5;21;01mmatplotlib\u001B[39;00m \u001B[38;5;28;01mimport\u001B[39;00m _api, _docstring\n\u001B[1;32m---> 22\u001B[0m \u001B[38;5;28;01mfrom\u001B[39;00m \u001B[38;5;21;01mmatplotlib\u001B[39;00m\u001B[38;5;21;01m.\u001B[39;00m\u001B[38;5;21;01mticker\u001B[39;00m \u001B[38;5;28;01mimport\u001B[39;00m (\n\u001B[0;32m     23\u001B[0m     NullFormatter, ScalarFormatter, LogFormatterSciNotation, LogitFormatter,\n\u001B[0;32m     24\u001B[0m     NullLocator, LogLocator, AutoLocator, AutoMinorLocator,\n\u001B[0;32m     25\u001B[0m     SymmetricalLogLocator, AsinhLocator, LogitLocator)\n\u001B[0;32m     26\u001B[0m \u001B[38;5;28;01mfrom\u001B[39;00m \u001B[38;5;21;01mmatplotlib\u001B[39;00m\u001B[38;5;21;01m.\u001B[39;00m\u001B[38;5;21;01mtransforms\u001B[39;00m \u001B[38;5;28;01mimport\u001B[39;00m Transform, IdentityTransform\n\u001B[0;32m     29\u001B[0m \u001B[38;5;28;01mclass\u001B[39;00m \u001B[38;5;21;01mScaleBase\u001B[39;00m:\n",
      "File \u001B[1;32m~\\AppData\\Local\\Programs\\Python\\Python310\\lib\\site-packages\\matplotlib\\ticker.py:143\u001B[0m\n\u001B[0;32m    141\u001B[0m \u001B[38;5;28;01mimport\u001B[39;00m \u001B[38;5;21;01mmatplotlib\u001B[39;00m \u001B[38;5;28;01mas\u001B[39;00m \u001B[38;5;21;01mmpl\u001B[39;00m\n\u001B[0;32m    142\u001B[0m \u001B[38;5;28;01mfrom\u001B[39;00m \u001B[38;5;21;01mmatplotlib\u001B[39;00m \u001B[38;5;28;01mimport\u001B[39;00m _api, cbook\n\u001B[1;32m--> 143\u001B[0m \u001B[38;5;28;01mfrom\u001B[39;00m \u001B[38;5;21;01mmatplotlib\u001B[39;00m \u001B[38;5;28;01mimport\u001B[39;00m transforms \u001B[38;5;28;01mas\u001B[39;00m mtransforms\n\u001B[0;32m    145\u001B[0m _log \u001B[38;5;241m=\u001B[39m logging\u001B[38;5;241m.\u001B[39mgetLogger(\u001B[38;5;18m__name__\u001B[39m)\n\u001B[0;32m    147\u001B[0m __all__ \u001B[38;5;241m=\u001B[39m (\u001B[38;5;124m'\u001B[39m\u001B[38;5;124mTickHelper\u001B[39m\u001B[38;5;124m'\u001B[39m, \u001B[38;5;124m'\u001B[39m\u001B[38;5;124mFormatter\u001B[39m\u001B[38;5;124m'\u001B[39m, \u001B[38;5;124m'\u001B[39m\u001B[38;5;124mFixedFormatter\u001B[39m\u001B[38;5;124m'\u001B[39m,\n\u001B[0;32m    148\u001B[0m            \u001B[38;5;124m'\u001B[39m\u001B[38;5;124mNullFormatter\u001B[39m\u001B[38;5;124m'\u001B[39m, \u001B[38;5;124m'\u001B[39m\u001B[38;5;124mFuncFormatter\u001B[39m\u001B[38;5;124m'\u001B[39m, \u001B[38;5;124m'\u001B[39m\u001B[38;5;124mFormatStrFormatter\u001B[39m\u001B[38;5;124m'\u001B[39m,\n\u001B[0;32m    149\u001B[0m            \u001B[38;5;124m'\u001B[39m\u001B[38;5;124mStrMethodFormatter\u001B[39m\u001B[38;5;124m'\u001B[39m, \u001B[38;5;124m'\u001B[39m\u001B[38;5;124mScalarFormatter\u001B[39m\u001B[38;5;124m'\u001B[39m, \u001B[38;5;124m'\u001B[39m\u001B[38;5;124mLogFormatter\u001B[39m\u001B[38;5;124m'\u001B[39m,\n\u001B[1;32m   (...)\u001B[0m\n\u001B[0;32m    155\u001B[0m            \u001B[38;5;124m'\u001B[39m\u001B[38;5;124mMultipleLocator\u001B[39m\u001B[38;5;124m'\u001B[39m, \u001B[38;5;124m'\u001B[39m\u001B[38;5;124mMaxNLocator\u001B[39m\u001B[38;5;124m'\u001B[39m, \u001B[38;5;124m'\u001B[39m\u001B[38;5;124mAutoMinorLocator\u001B[39m\u001B[38;5;124m'\u001B[39m,\n\u001B[0;32m    156\u001B[0m            \u001B[38;5;124m'\u001B[39m\u001B[38;5;124mSymmetricalLogLocator\u001B[39m\u001B[38;5;124m'\u001B[39m, \u001B[38;5;124m'\u001B[39m\u001B[38;5;124mAsinhLocator\u001B[39m\u001B[38;5;124m'\u001B[39m, \u001B[38;5;124m'\u001B[39m\u001B[38;5;124mLogitLocator\u001B[39m\u001B[38;5;124m'\u001B[39m)\n",
      "File \u001B[1;32m~\\AppData\\Local\\Programs\\Python\\Python310\\lib\\site-packages\\matplotlib\\transforms.py:49\u001B[0m\n\u001B[0;32m     46\u001B[0m \u001B[38;5;28;01mfrom\u001B[39;00m \u001B[38;5;21;01mnumpy\u001B[39;00m\u001B[38;5;21;01m.\u001B[39;00m\u001B[38;5;21;01mlinalg\u001B[39;00m \u001B[38;5;28;01mimport\u001B[39;00m inv\n\u001B[0;32m     48\u001B[0m \u001B[38;5;28;01mfrom\u001B[39;00m \u001B[38;5;21;01mmatplotlib\u001B[39;00m \u001B[38;5;28;01mimport\u001B[39;00m _api\n\u001B[1;32m---> 49\u001B[0m \u001B[38;5;28;01mfrom\u001B[39;00m \u001B[38;5;21;01mmatplotlib\u001B[39;00m\u001B[38;5;21;01m.\u001B[39;00m\u001B[38;5;21;01m_path\u001B[39;00m \u001B[38;5;28;01mimport\u001B[39;00m (\n\u001B[0;32m     50\u001B[0m     affine_transform, count_bboxes_overlapping_bbox, update_path_extents)\n\u001B[0;32m     51\u001B[0m \u001B[38;5;28;01mfrom\u001B[39;00m \u001B[38;5;21;01m.\u001B[39;00m\u001B[38;5;21;01mpath\u001B[39;00m \u001B[38;5;28;01mimport\u001B[39;00m Path\n\u001B[0;32m     53\u001B[0m DEBUG \u001B[38;5;241m=\u001B[39m \u001B[38;5;28;01mFalse\u001B[39;00m\n",
      "\u001B[1;31mImportError\u001B[0m: DLL load failed while importing _path: Impossibile trovare il modulo specificato."
     ]
    }
   ],
   "source": [
    "import pandas as pd\n",
    "\n",
    "import preprocessing"
   ]
  },
  {
   "cell_type": "markdown",
   "source": [
    "lettura del csv e conversione in un dataset pandas"
   ],
   "metadata": {
    "collapsed": false
   },
   "id": "948298ce8148398b"
  },
  {
   "cell_type": "code",
   "outputs": [
    {
     "data": {
      "text/plain": "                                       Nome file      Classe    Sottoclasse  \\\n0           0f9867d8-fcf7-40d1-b846-3f7fb8100eb7  Non-Target  Ambient Noise   \n1           2b68b3a9-7c0d-4452-bbe5-cc99b5d4fb61  Non-Target  Ambient Noise   \n2           2f574049-3325-446c-a8ac-2e5b31e9e32f  Non-Target  Ambient Noise   \n3           30679527-fd7a-4cad-8c7d-cb1bcc07604d  Non-Target  Ambient Noise   \n4           f9652ad2-39f5-41b4-a8e4-89171a864f03  Non-Target  Ambient Noise   \n...                                          ...         ...            ...   \n2608    SanctSound_OC01_03_ship_20191106T223751Z      Target         Vessel   \n2609    SanctSound_OC02_01_ship_20190419T233040Z      Target         Vessel   \n2610    SanctSound_OC03_02_ship_20200228T080107Z      Target         Vessel   \n2611  SanctSound_SB03_09_vessel_20200415T161235Z      Target         Vessel   \n2612                                  ship_small      Target         Vessel   \n\n      Ampiezza del segnale     Durata  Frequenza  Numero di canali      Fase  \\\n0                 0.226044  31.207619      44100                 1 -0.068604   \n1                 0.646515  31.207619      44100                 1  0.003296   \n2                 0.391663  31.207619      44100                 1 -0.031097   \n3                 0.200378  31.207619      44100                 1  0.013184   \n4                 0.753693  31.207619      44100                 1  0.050873   \n...                    ...        ...        ...               ...       ...   \n2608              0.251190   5.305042      48000                 1  0.000000   \n2609              0.326782  60.000000      48000                 1  0.000000   \n2610              0.251190  60.000000      48000                 1  0.000000   \n2611              0.251099   5.000021      48000                 1  0.000000   \n2612              0.690460  51.876000      32000                 1  0.000000   \n\n      Frequenza massima interna Bit Depth Forma d'onda  \n0                           0.0    Signed   (1376256,)  \n1                           0.0    Signed   (1376256,)  \n2                           0.0    Signed   (1376256,)  \n3                           0.0    Signed   (1376256,)  \n4                           0.0    Signed   (1376256,)  \n...                         ...       ...          ...  \n2608                        0.0    Signed    (254642,)  \n2609                        0.0    Signed   (2880000,)  \n2610                        0.0    Signed   (2880000,)  \n2611                        0.0    Signed    (240001,)  \n2612                        0.0    Signed   (1660032,)  \n\n[2613 rows x 11 columns]",
      "text/html": "<div>\n<style scoped>\n    .dataframe tbody tr th:only-of-type {\n        vertical-align: middle;\n    }\n\n    .dataframe tbody tr th {\n        vertical-align: top;\n    }\n\n    .dataframe thead th {\n        text-align: right;\n    }\n</style>\n<table border=\"1\" class=\"dataframe\">\n  <thead>\n    <tr style=\"text-align: right;\">\n      <th></th>\n      <th>Nome file</th>\n      <th>Classe</th>\n      <th>Sottoclasse</th>\n      <th>Ampiezza del segnale</th>\n      <th>Durata</th>\n      <th>Frequenza</th>\n      <th>Numero di canali</th>\n      <th>Fase</th>\n      <th>Frequenza massima interna</th>\n      <th>Bit Depth</th>\n      <th>Forma d'onda</th>\n    </tr>\n  </thead>\n  <tbody>\n    <tr>\n      <th>0</th>\n      <td>0f9867d8-fcf7-40d1-b846-3f7fb8100eb7</td>\n      <td>Non-Target</td>\n      <td>Ambient Noise</td>\n      <td>0.226044</td>\n      <td>31.207619</td>\n      <td>44100</td>\n      <td>1</td>\n      <td>-0.068604</td>\n      <td>0.0</td>\n      <td>Signed</td>\n      <td>(1376256,)</td>\n    </tr>\n    <tr>\n      <th>1</th>\n      <td>2b68b3a9-7c0d-4452-bbe5-cc99b5d4fb61</td>\n      <td>Non-Target</td>\n      <td>Ambient Noise</td>\n      <td>0.646515</td>\n      <td>31.207619</td>\n      <td>44100</td>\n      <td>1</td>\n      <td>0.003296</td>\n      <td>0.0</td>\n      <td>Signed</td>\n      <td>(1376256,)</td>\n    </tr>\n    <tr>\n      <th>2</th>\n      <td>2f574049-3325-446c-a8ac-2e5b31e9e32f</td>\n      <td>Non-Target</td>\n      <td>Ambient Noise</td>\n      <td>0.391663</td>\n      <td>31.207619</td>\n      <td>44100</td>\n      <td>1</td>\n      <td>-0.031097</td>\n      <td>0.0</td>\n      <td>Signed</td>\n      <td>(1376256,)</td>\n    </tr>\n    <tr>\n      <th>3</th>\n      <td>30679527-fd7a-4cad-8c7d-cb1bcc07604d</td>\n      <td>Non-Target</td>\n      <td>Ambient Noise</td>\n      <td>0.200378</td>\n      <td>31.207619</td>\n      <td>44100</td>\n      <td>1</td>\n      <td>0.013184</td>\n      <td>0.0</td>\n      <td>Signed</td>\n      <td>(1376256,)</td>\n    </tr>\n    <tr>\n      <th>4</th>\n      <td>f9652ad2-39f5-41b4-a8e4-89171a864f03</td>\n      <td>Non-Target</td>\n      <td>Ambient Noise</td>\n      <td>0.753693</td>\n      <td>31.207619</td>\n      <td>44100</td>\n      <td>1</td>\n      <td>0.050873</td>\n      <td>0.0</td>\n      <td>Signed</td>\n      <td>(1376256,)</td>\n    </tr>\n    <tr>\n      <th>...</th>\n      <td>...</td>\n      <td>...</td>\n      <td>...</td>\n      <td>...</td>\n      <td>...</td>\n      <td>...</td>\n      <td>...</td>\n      <td>...</td>\n      <td>...</td>\n      <td>...</td>\n      <td>...</td>\n    </tr>\n    <tr>\n      <th>2608</th>\n      <td>SanctSound_OC01_03_ship_20191106T223751Z</td>\n      <td>Target</td>\n      <td>Vessel</td>\n      <td>0.251190</td>\n      <td>5.305042</td>\n      <td>48000</td>\n      <td>1</td>\n      <td>0.000000</td>\n      <td>0.0</td>\n      <td>Signed</td>\n      <td>(254642,)</td>\n    </tr>\n    <tr>\n      <th>2609</th>\n      <td>SanctSound_OC02_01_ship_20190419T233040Z</td>\n      <td>Target</td>\n      <td>Vessel</td>\n      <td>0.326782</td>\n      <td>60.000000</td>\n      <td>48000</td>\n      <td>1</td>\n      <td>0.000000</td>\n      <td>0.0</td>\n      <td>Signed</td>\n      <td>(2880000,)</td>\n    </tr>\n    <tr>\n      <th>2610</th>\n      <td>SanctSound_OC03_02_ship_20200228T080107Z</td>\n      <td>Target</td>\n      <td>Vessel</td>\n      <td>0.251190</td>\n      <td>60.000000</td>\n      <td>48000</td>\n      <td>1</td>\n      <td>0.000000</td>\n      <td>0.0</td>\n      <td>Signed</td>\n      <td>(2880000,)</td>\n    </tr>\n    <tr>\n      <th>2611</th>\n      <td>SanctSound_SB03_09_vessel_20200415T161235Z</td>\n      <td>Target</td>\n      <td>Vessel</td>\n      <td>0.251099</td>\n      <td>5.000021</td>\n      <td>48000</td>\n      <td>1</td>\n      <td>0.000000</td>\n      <td>0.0</td>\n      <td>Signed</td>\n      <td>(240001,)</td>\n    </tr>\n    <tr>\n      <th>2612</th>\n      <td>ship_small</td>\n      <td>Target</td>\n      <td>Vessel</td>\n      <td>0.690460</td>\n      <td>51.876000</td>\n      <td>32000</td>\n      <td>1</td>\n      <td>0.000000</td>\n      <td>0.0</td>\n      <td>Signed</td>\n      <td>(1660032,)</td>\n    </tr>\n  </tbody>\n</table>\n<p>2613 rows × 11 columns</p>\n</div>"
     },
     "execution_count": 2,
     "metadata": {},
     "output_type": "execute_result"
    }
   ],
   "source": [
    "audio_pp = pd.read_csv('audio_features_dataset_prep.csv')\n",
    "audio_pp "
   ],
   "metadata": {
    "collapsed": false,
    "ExecuteTime": {
     "end_time": "2024-07-05T10:24:32.339813Z",
     "start_time": "2024-07-05T10:24:32.310272Z"
    }
   },
   "id": "102bf4596c2d4ffe",
   "execution_count": 2
  }
 ],
 "metadata": {
  "kernelspec": {
   "display_name": "Python 3",
   "language": "python",
   "name": "python3"
  },
  "language_info": {
   "codemirror_mode": {
    "name": "ipython",
    "version": 2
   },
   "file_extension": ".py",
   "mimetype": "text/x-python",
   "name": "python",
   "nbconvert_exporter": "python",
   "pygments_lexer": "ipython2",
   "version": "2.7.6"
  }
 },
 "nbformat": 4,
 "nbformat_minor": 5
}
