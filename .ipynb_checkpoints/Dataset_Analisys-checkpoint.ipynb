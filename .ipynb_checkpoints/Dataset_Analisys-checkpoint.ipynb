{
 "cells": [
  {
   "cell_type": "code",
   "execution_count": 1,
   "id": "3a19cfa3-8bbd-449f-8bdd-4c5a4a5c7af7",
   "metadata": {},
   "outputs": [
    {
     "ename": "ModuleNotFoundError",
     "evalue": "No module named 'pandas'",
     "output_type": "error",
     "traceback": [
      "\u001b[1;31m---------------------------------------------------------------------------\u001b[0m",
      "\u001b[1;31mModuleNotFoundError\u001b[0m                       Traceback (most recent call last)",
      "Cell \u001b[1;32mIn[1], line 3\u001b[0m\n\u001b[0;32m      1\u001b[0m \u001b[38;5;28;01mimport\u001b[39;00m \u001b[38;5;21;01mos\u001b[39;00m\n\u001b[0;32m      2\u001b[0m \u001b[38;5;28;01mimport\u001b[39;00m \u001b[38;5;21;01mlibrosa\u001b[39;00m\n\u001b[1;32m----> 3\u001b[0m \u001b[38;5;28;01mimport\u001b[39;00m \u001b[38;5;21;01mpandas\u001b[39;00m \u001b[38;5;28;01mas\u001b[39;00m \u001b[38;5;21;01mpd\u001b[39;00m\n\u001b[0;32m      4\u001b[0m \u001b[38;5;28;01mimport\u001b[39;00m \u001b[38;5;21;01mmatplotlib\u001b[39;00m\u001b[38;5;21;01m.\u001b[39;00m\u001b[38;5;21;01mpyplot\u001b[39;00m \u001b[38;5;28;01mas\u001b[39;00m \u001b[38;5;21;01mplt\u001b[39;00m\n",
      "\u001b[1;31mModuleNotFoundError\u001b[0m: No module named 'pandas'"
     ]
    }
   ],
   "source": [
    "import os\n",
    "import librosa\n",
    "import pandas as pd\n",
    "import matplotlib.pyplot as plt"
   ]
  },
  {
   "cell_type": "markdown",
   "id": "d6331d71-4b6c-4f74-a87d-28fa82d4f879",
   "metadata": {},
   "source": [
    "audio_features è una lista per memorizzare le info estratte\n",
    "durations e frequencies sono liste per memorizzare rispettivamente i valori di Durata e Frequenza"
   ]
  },
  {
   "cell_type": "code",
   "execution_count": null,
   "id": "c8ca04b3-d0db-496a-987b-fb8f678d1350",
   "metadata": {},
   "outputs": [],
   "source": [
    "def extract_audio_features(root_folder):\n",
    "    audio_features = []\n",
    "    durations = []\n",
    "    frequencies = []"
   ]
  },
  {
   "cell_type": "markdown",
   "id": "e2b02f88-3948-46f2-8752-ba4aecaad895",
   "metadata": {},
   "source": [
    "Attraversa tutte le sottocartelle nel percorso root\n",
    "vengono considerati solo file audio WAV o MP3"
   ]
  },
  {
   "cell_type": "code",
   "execution_count": null,
   "id": "692c8d67-42ae-488d-9bd9-a57c7926dfd6",
   "metadata": {},
   "outputs": [],
   "source": [
    "    for root, dirs, files in os.walk(root_folder):\n",
    "        for filename in files:\n",
    "            if filename.endswith(('.wav', '.mp3')): \n",
    "                file_path = os.path.join(root, filename)"
   ]
  },
  {
   "cell_type": "markdown",
   "id": "0b40cc41-d852-40c5-a7fd-867b33a99819",
   "metadata": {},
   "source": [
    "Utilizzare librosa per caricare i file audio\n",
    "Estrazione info richieste"
   ]
  },
  {
   "cell_type": "code",
   "execution_count": null,
   "id": "5c068b97-942e-4d04-a1d0-7d5943aa2d0b",
   "metadata": {},
   "outputs": [],
   "source": [
    " try:\n",
    "                    # Carica il file audio utilizzando librosa\n",
    "                    y, sr = librosa.load(file_path, sr=None)\n",
    "\n",
    "                    # Estrai le informazioni richieste\n",
    "                    amplitude = max(abs(y))  # Ampiezza massima assoluta del segnale\n",
    "                    duration = round(librosa.get_duration(y=y, sr=sr), 2)  # Durata del segnale in secondi, arrotondata a due decimali\n",
    "                    num_channels = y.ndim  # Numero di canali (mono o stereo)\n",
    "                    frequency = sr  # Frequenza di campionamento\n",
    "                    phase = y[0]  # Fase del segnale (primo campione)\n",
    "                    waveform_shape = y.shape  # Forma della forma d'onda"
   ]
  },
  {
   "cell_type": "markdown",
   "id": "4abd8457-64e5-4e58-99fb-4efde6890cf7",
   "metadata": {},
   "source": [
    "Aggiungere durate e frequenze alle liste"
   ]
  },
  {
   "cell_type": "code",
   "execution_count": null,
   "id": "030c4a90-561a-4272-b7a2-ac140a7386df",
   "metadata": {},
   "outputs": [],
   "source": [
    "                    durations.append(duration)\n",
    "                    frequencies.append(frequency)"
   ]
  },
  {
   "cell_type": "markdown",
   "id": "daed6bc2-1b26-4ad5-ad76-b4adde93edaf",
   "metadata": {},
   "source": [
    "Ottenere il nome del file senza l'estensione"
   ]
  },
  {
   "cell_type": "code",
   "execution_count": null,
   "id": "67462fdf-5dd3-495e-bede-ca51e5e6b837",
   "metadata": {},
   "outputs": [],
   "source": [
    "                    file_name = os.path.splitext(filename)[0]"
   ]
  },
  {
   "cell_type": "markdown",
   "id": "c39bdd4f-b07a-4d25-885e-b983d9276a0b",
   "metadata": {},
   "source": [
    "Aggiungere le info estratte alla lista\n",
    "lanciare Exception in caso di errore"
   ]
  },
  {
   "cell_type": "code",
   "execution_count": null,
   "id": "c0f8c524-c044-4a25-bc13-623e022e34eb",
   "metadata": {},
   "outputs": [],
   "source": [
    "                    audio_features.append({\n",
    "                        'Nome file': file_name,\n",
    "                        'Path del file': file_path,\n",
    "                        'Ampiezza del segnale': amplitude,\n",
    "                        'Durata': duration,\n",
    "                        'Frequenza': frequency,\n",
    "                        'Numero di canali': num_channels,\n",
    "                        'Fase': phase,\n",
    "                        'Forma d\\'onda': waveform_shape,\n",
    "                    })\n",
    "\n",
    "                except Exception as e:\n",
    "                    print(f\"Errore durante l'elaborazione del file '{filename}': {e}\")\n"
   ]
  },
  {
   "cell_type": "markdown",
   "id": "3db7afcf-66e8-4e49-b6cf-0835a2cdfc05",
   "metadata": {},
   "source": [
    "Calcola il massimo, il minimo, la media e la mediana delle durate e frequenze"
   ]
  },
  {
   "cell_type": "code",
   "execution_count": null,
   "id": "3e63548d-f3b6-4745-b2ea-f536464f722d",
   "metadata": {},
   "outputs": [],
   "source": [
    "    max_duration = round(max(durations), 2) if durations else None\n",
    "    min_duration = round(min(durations), 2) if durations else None\n",
    "    mean_duration = round(sum(durations) / len(durations), 2) if durations else None\n",
    "    median_duration = round(sorted(durations)[len(durations) // 2], 2) if durations else None\n",
    "\n",
    "    max_frequency = round(max(frequencies), 2) if frequencies else None\n",
    "    min_frequency = round(min(frequencies), 2) if frequencies else None\n",
    "    mean_frequency = round(sum(frequencies) / len(frequencies), 2) if frequencies else None\n",
    "    median_frequency = round(sorted(frequencies)[len(frequencies) // 2], 2) if frequencies else None"
   ]
  },
  {
   "cell_type": "markdown",
   "id": "686527b1-421c-4e80-99d2-22ee75be8cee",
   "metadata": {},
   "source": [
    "Aggiungi le statistiche globali a ciascun elemento della lista"
   ]
  },
  {
   "cell_type": "code",
   "execution_count": null,
   "id": "540bb068-4e48-4075-98a3-8641a464f3e2",
   "metadata": {},
   "outputs": [],
   "source": [
    "    for feature in audio_features:\n",
    "        feature['Durata Massima'] = max_duration\n",
    "        feature['Durata Minima'] = min_duration\n",
    "        feature['Durata Media'] = mean_duration\n",
    "        feature['Durata Mediana'] = median_duration\n",
    "        feature['Frequenza Massima'] = max_frequency\n",
    "        feature['Frequenza Minima'] = min_frequency\n",
    "        feature['Frequenza Media'] = mean_frequency\n",
    "        feature['Frequenza Mediana'] = median_frequency\n",
    "\n",
    "    return audio_features"
   ]
  },
  {
   "cell_type": "markdown",
   "id": "45f1671a-a632-4f90-baf7-f88b8a2d90a9",
   "metadata": {},
   "source": [
    "    Convertire i dati in un DataFrame pandas"
   ]
  },
  {
   "cell_type": "code",
   "execution_count": null,
   "id": "bae49ea1-3a3c-4b0b-b26b-3909008e25ba",
   "metadata": {},
   "outputs": [],
   "source": [
    "def save_to_csv(data, output_file):\n",
    "    df = pd.DataFrame(data)"
   ]
  },
  {
   "cell_type": "markdown",
   "id": "23de6897-f9c6-47c2-986b-566b7aeb7bc5",
   "metadata": {},
   "source": [
    "Salva il DataFrame in un file CSV"
   ]
  },
  {
   "cell_type": "code",
   "execution_count": null,
   "id": "b6560874-a849-41ff-92b8-8ec26a456c55",
   "metadata": {},
   "outputs": [],
   "source": [
    "df.to_csv(output_file, index=False)"
   ]
  },
  {
   "cell_type": "markdown",
   "id": "630b11c9-c484-495b-82fc-8ed837a5713a",
   "metadata": {},
   "source": [
    "    Creare un grafico di distribuzione utilizzando matplotlib"
   ]
  },
  {
   "cell_type": "code",
   "execution_count": null,
   "id": "12ebfe59-8689-472e-ab17-3adf55ad0c41",
   "metadata": {},
   "outputs": [],
   "source": [
    "def plot_distribution(values, title):\n",
    "    \n",
    "    plt.figure(figsize=(8, 6))\n",
    "    plt.hist(values, bins=20, color='skyblue', edgecolor='black')\n",
    "    plt.title(title)\n",
    "    plt.xlabel('Valore')\n",
    "    plt.ylabel('Frequenza')\n",
    "    plt.grid(True)\n",
    "    plt.show()"
   ]
  },
  {
   "cell_type": "markdown",
   "id": "eacd4209-a97c-41a1-8bf3-2fe237d2e7df",
   "metadata": {},
   "source": [
    "  Specificare il percorso radice del dataset audio"
   ]
  },
  {
   "cell_type": "code",
   "execution_count": null,
   "id": "63e641cb-b363-4d07-ae12-31e28f54ea9e",
   "metadata": {},
   "outputs": [],
   "source": [
    "if __name__ == \"__main__\":\n",
    "    dataset_root = 'C:\\\\Users\\\\mario\\\\PycharmProjects\\\\stats\\\\dataset'"
   ]
  },
  {
   "cell_type": "markdown",
   "id": "649dc02e-8563-4249-967d-d8553abee934",
   "metadata": {},
   "source": [
    "    Estrarre le informazioni audio dal dataset"
   ]
  },
  {
   "cell_type": "code",
   "execution_count": null,
   "id": "511defd7-2461-40e8-bcd3-760928fc4da5",
   "metadata": {},
   "outputs": [],
   "source": [
    "    extracted_features = extract_audio_features(dataset_root)"
   ]
  },
  {
   "cell_type": "markdown",
   "id": "d88cb2d3-b35c-4a2c-bb12-e0c15970cdfc",
   "metadata": {},
   "source": [
    "    Specifica il percorso per salvare il file CSV di output"
   ]
  },
  {
   "cell_type": "code",
   "execution_count": null,
   "id": "b651612f-a15f-4976-a539-3d330e15d748",
   "metadata": {},
   "outputs": [],
   "source": [
    " output_csv_file = 'audio_features_dataset.csv'"
   ]
  },
  {
   "cell_type": "markdown",
   "id": "edb7557f-0fd0-4db4-8fa1-07143cf24b9d",
   "metadata": {},
   "source": [
    "    Salvare le informazioni estratte in un file CSV"
   ]
  },
  {
   "cell_type": "code",
   "execution_count": null,
   "id": "253f50c1-50c1-4ed4-aa3b-8e4267fd7773",
   "metadata": {},
   "outputs": [],
   "source": [
    "    save_to_csv(extracted_features, output_csv_file)"
   ]
  },
  {
   "cell_type": "markdown",
   "id": "455a2a30-f8dc-40fc-a166-16e0ec8f015a",
   "metadata": {},
   "source": [
    "    Estrarre le liste di Durata e Frequenza per i grafici di distribuzione"
   ]
  },
  {
   "cell_type": "code",
   "execution_count": null,
   "id": "91131a4c-bacb-4ec2-874f-add5872c5867",
   "metadata": {},
   "outputs": [],
   "source": [
    "    durations = [item['Durata'] for item in extracted_features]\n",
    "    frequencies = [item['Frequenza'] for item in extracted_features]"
   ]
  },
  {
   "cell_type": "markdown",
   "id": "ad4f953f-bf55-47b6-8540-cedc42f5b990",
   "metadata": {},
   "source": [
    "  Genera i grafici di distribuzione per Durata e Frequenza"
   ]
  },
  {
   "cell_type": "code",
   "execution_count": null,
   "id": "dd91ce64-3206-4624-8e1d-8b89c5710efb",
   "metadata": {},
   "outputs": [],
   "source": [
    "\n",
    "    plot_distribution(durations, 'Distribuzione dei Valori di Durata')\n",
    "    plot_distribution(frequencies, 'Distribuzione dei Valori di Frequenza')\n",
    "\n",
    "    print(f\"Il file CSV '{output_csv_file}' è stato creato con successo.\")"
   ]
  }
 ],
 "metadata": {
  "kernelspec": {
   "display_name": "Python 3 (ipykernel)",
   "language": "python",
   "name": "python3"
  },
  "language_info": {
   "codemirror_mode": {
    "name": "ipython",
    "version": 3
   },
   "file_extension": ".py",
   "mimetype": "text/x-python",
   "name": "python",
   "nbconvert_exporter": "python",
   "pygments_lexer": "ipython3",
   "version": "3.10.0"
  }
 },
 "nbformat": 4,
 "nbformat_minor": 5
}
