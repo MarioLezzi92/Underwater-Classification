{
 "cells": [
  {
   "cell_type": "code",
   "id": "35178ba2aafdac3e",
   "metadata": {
    "collapsed": false,
    "ExecuteTime": {
     "end_time": "2024-11-24T08:08:29.503946Z",
     "start_time": "2024-11-24T08:08:23.097163Z"
    }
   },
   "source": [
    "import pandas as pd\n",
    "from oversampling_training.oversampling_binary import split_dataset, apply_smote, train_random_forest, rf_plot_confusion_matrices, train_svm, svm_plot_confusion_matrices, lightgbm_plot_confusion_matrices, train_lightgbm\n",
    "from features_extraction import features, exp1, exp2\n",
    "from preprocessing.resample import resample_dataset\n",
    "from features_extraction.features import extract_features_from_directory"
   ],
   "outputs": [],
   "execution_count": 1
  },
  {
   "metadata": {},
   "cell_type": "markdown",
   "source": "# CLASIFICAZIONE BINARIA",
   "id": "7c0fef22824ce879"
  },
  {
   "metadata": {
    "collapsed": false,
    "ExecuteTime": {
     "end_time": "2024-11-24T08:08:29.519132Z",
     "start_time": "2024-11-24T08:08:29.510466Z"
    }
   },
   "cell_type": "code",
   "source": "# Caricare il dataset e applicare lo split\n",
   "id": "382aa16a0179920d",
   "outputs": [],
   "execution_count": 2
  },
  {
   "metadata": {
    "ExecuteTime": {
     "end_time": "2024-11-24T08:08:29.922820Z",
     "start_time": "2024-11-24T08:08:29.908340Z"
    }
   },
   "cell_type": "code",
   "source": "#csv_file_path = 'C:/Users/mario/OneDrive/Desktop/Dataset_oversampled_2'",
   "id": "8558a9c9ee1c63be",
   "outputs": [],
   "execution_count": 3
  },
  {
   "metadata": {
    "ExecuteTime": {
     "end_time": "2024-11-24T08:08:29.953755Z",
     "start_time": "2024-11-24T08:08:29.939746Z"
    }
   },
   "cell_type": "code",
   "source": "csv_file_path = \"C:/underwater-classification/resample_experiments/resampling_192000/binary/Malfante_resampled_192000_binary.csv\"",
   "id": "7844a4b8e1fd6bec",
   "outputs": [],
   "execution_count": 4
  },
  {
   "metadata": {},
   "cell_type": "markdown",
   "source": "### Resampling a 192000",
   "id": "8013d35ea22b0858"
  },
  {
   "metadata": {
    "ExecuteTime": {
     "end_time": "2024-11-24T08:08:30.015144Z",
     "start_time": "2024-11-24T08:08:30.001061Z"
    }
   },
   "cell_type": "code",
   "source": "resample_dataset(csv_file_path, 192000)",
   "id": "1026332f35454a1e",
   "outputs": [],
   "execution_count": 5
  },
  {
   "metadata": {
    "ExecuteTime": {
     "end_time": "2024-11-24T08:08:30.046376Z",
     "start_time": "2024-11-24T08:08:30.032993Z"
    }
   },
   "cell_type": "code",
   "source": [
    "# Carica il file CSV in un DataFrame\n",
    "#df = extract_features_from_directory(csv_file_path)"
   ],
   "id": "fba819466fad270f",
   "outputs": [],
   "execution_count": 6
  },
  {
   "metadata": {
    "ExecuteTime": {
     "end_time": "2024-11-24T08:08:30.218237Z",
     "start_time": "2024-11-24T08:08:30.063607Z"
    }
   },
   "cell_type": "code",
   "source": "df = pd.read_csv(csv_file_path)",
   "id": "759f804ef4f6dc49",
   "outputs": [],
   "execution_count": 7
  },
  {
   "metadata": {
    "ExecuteTime": {
     "end_time": "2024-11-24T08:08:30.249435Z",
     "start_time": "2024-11-24T08:08:30.235994Z"
    }
   },
   "cell_type": "code",
   "source": "#df.to_csv(\"Malfante_resampled_192000_binary.csv\", index=False)",
   "id": "671ee4fac4c83b65",
   "outputs": [],
   "execution_count": 8
  },
  {
   "metadata": {
    "ExecuteTime": {
     "end_time": "2024-11-24T08:08:30.294406Z",
     "start_time": "2024-11-24T08:08:30.266159Z"
    }
   },
   "cell_type": "code",
   "source": "df",
   "id": "7687c6bd3146bd4b",
   "outputs": [
    {
     "data": {
      "text/plain": [
       "                                           File Name       Class  \\\n",
       "0      0f9867d8-fcf7-40d1-b846-3f7fb8100eb7_seg1.wav  Non-Target   \n",
       "1      0f9867d8-fcf7-40d1-b846-3f7fb8100eb7_seg2.wav  Non-Target   \n",
       "2      0f9867d8-fcf7-40d1-b846-3f7fb8100eb7_seg3.wav  Non-Target   \n",
       "3      0f9867d8-fcf7-40d1-b846-3f7fb8100eb7_seg4.wav  Non-Target   \n",
       "4      0f9867d8-fcf7-40d1-b846-3f7fb8100eb7_seg5.wav  Non-Target   \n",
       "...                                              ...         ...   \n",
       "50988                            ship_small_seg5.wav      Target   \n",
       "50989                            ship_small_seg6.wav      Target   \n",
       "50990                            ship_small_seg7.wav      Target   \n",
       "50991                            ship_small_seg8.wav      Target   \n",
       "50992                            ship_small_seg9.wav      Target   \n",
       "\n",
       "            Subclass  Spectral Centroid Mean  Spectral Bandwidth RMS  \\\n",
       "0      Ambient Noise             2365.986175             3626.559977   \n",
       "1      Ambient Noise             2758.993889             3910.784244   \n",
       "2      Ambient Noise             2129.882107             3525.266729   \n",
       "3      Ambient Noise             2578.399075             3808.768181   \n",
       "4      Ambient Noise             2397.596769             3693.559388   \n",
       "...              ...                     ...                     ...   \n",
       "50988         Vessel              454.204379             1544.897321   \n",
       "50989         Vessel              451.849415             1558.023055   \n",
       "50990         Vessel              450.678766             1588.301112   \n",
       "50991         Vessel              451.362679             1547.605982   \n",
       "50992         Vessel              451.545700             1515.150241   \n",
       "\n",
       "       Standard Deviation  Skewness  Kurtosis  Shannon Entropy  Renyi Entropy  \\\n",
       "0                0.226857  0.290664  0.892111         4.971782      -5.535341   \n",
       "1                0.108625 -0.005666 -0.569424         5.162490      -6.898327   \n",
       "2                0.247894 -0.276424  0.685545         4.945784      -5.216692   \n",
       "3                0.156887  0.579541  1.394189         4.977093      -6.244174   \n",
       "4                0.182233 -0.088012 -0.083008         5.107721      -5.867613   \n",
       "...                   ...       ...       ...              ...            ...   \n",
       "50988            0.194803  0.013843  0.040826         4.912185      -5.505466   \n",
       "50989            0.187102  0.015866  0.072826         4.923655      -5.597261   \n",
       "50990            0.179071  0.000758  0.094914         4.904687      -5.670881   \n",
       "50991            0.188441 -0.002944  0.136705         4.846846      -5.513505   \n",
       "50992            0.200761  0.015756  0.118569         4.865905      -5.406492   \n",
       "\n",
       "       Rate of Attack  Rate of Decay  Threshold Crossings  Silence Ratio  \\\n",
       "0          761.942857       0.001994                 4632       0.611801   \n",
       "1          740.150685       0.001977                 4950       0.634804   \n",
       "2          741.959459       0.001981                 2836       0.576946   \n",
       "3          741.291139       0.001975                 3886       0.676697   \n",
       "4          760.642857       0.001995                 4144       0.588086   \n",
       "...               ...            ...                  ...            ...   \n",
       "50988      747.387500       0.002098                 3257       0.502537   \n",
       "50989      747.362500       0.002021                 3284       0.500046   \n",
       "50990      747.387500       0.001921                 3248       0.500486   \n",
       "50991      747.362500       0.002026                 3283       0.495906   \n",
       "50992      747.387500       0.002148                 3248       0.500111   \n",
       "\n",
       "           Mean  Max Over Mean  Min Over Mean  Energy Measurements  \n",
       "0     -0.034183     -21.465580      23.616245             0.052632  \n",
       "1     -0.032954      -9.484909      10.162800             0.012885  \n",
       "2     -0.030722     -25.107834      32.549988             0.062395  \n",
       "3     -0.033154     -17.874725      14.261857             0.025713  \n",
       "4     -0.031111     -16.117334      20.706032             0.034177  \n",
       "...         ...            ...            ...                  ...  \n",
       "50988  0.010867      67.361890     -71.922520             0.038066  \n",
       "50989  0.010350      69.048370     -69.847420             0.035114  \n",
       "50990  0.011119      60.423195     -65.621540             0.032190  \n",
       "50991  0.010434      77.097830     -72.660736             0.035619  \n",
       "50992  0.010388      79.648620     -77.592110             0.040413  \n",
       "\n",
       "[50993 rows x 18 columns]"
      ],
      "text/html": [
       "<div>\n",
       "<style scoped>\n",
       "    .dataframe tbody tr th:only-of-type {\n",
       "        vertical-align: middle;\n",
       "    }\n",
       "\n",
       "    .dataframe tbody tr th {\n",
       "        vertical-align: top;\n",
       "    }\n",
       "\n",
       "    .dataframe thead th {\n",
       "        text-align: right;\n",
       "    }\n",
       "</style>\n",
       "<table border=\"1\" class=\"dataframe\">\n",
       "  <thead>\n",
       "    <tr style=\"text-align: right;\">\n",
       "      <th></th>\n",
       "      <th>File Name</th>\n",
       "      <th>Class</th>\n",
       "      <th>Subclass</th>\n",
       "      <th>Spectral Centroid Mean</th>\n",
       "      <th>Spectral Bandwidth RMS</th>\n",
       "      <th>Standard Deviation</th>\n",
       "      <th>Skewness</th>\n",
       "      <th>Kurtosis</th>\n",
       "      <th>Shannon Entropy</th>\n",
       "      <th>Renyi Entropy</th>\n",
       "      <th>Rate of Attack</th>\n",
       "      <th>Rate of Decay</th>\n",
       "      <th>Threshold Crossings</th>\n",
       "      <th>Silence Ratio</th>\n",
       "      <th>Mean</th>\n",
       "      <th>Max Over Mean</th>\n",
       "      <th>Min Over Mean</th>\n",
       "      <th>Energy Measurements</th>\n",
       "    </tr>\n",
       "  </thead>\n",
       "  <tbody>\n",
       "    <tr>\n",
       "      <th>0</th>\n",
       "      <td>0f9867d8-fcf7-40d1-b846-3f7fb8100eb7_seg1.wav</td>\n",
       "      <td>Non-Target</td>\n",
       "      <td>Ambient Noise</td>\n",
       "      <td>2365.986175</td>\n",
       "      <td>3626.559977</td>\n",
       "      <td>0.226857</td>\n",
       "      <td>0.290664</td>\n",
       "      <td>0.892111</td>\n",
       "      <td>4.971782</td>\n",
       "      <td>-5.535341</td>\n",
       "      <td>761.942857</td>\n",
       "      <td>0.001994</td>\n",
       "      <td>4632</td>\n",
       "      <td>0.611801</td>\n",
       "      <td>-0.034183</td>\n",
       "      <td>-21.465580</td>\n",
       "      <td>23.616245</td>\n",
       "      <td>0.052632</td>\n",
       "    </tr>\n",
       "    <tr>\n",
       "      <th>1</th>\n",
       "      <td>0f9867d8-fcf7-40d1-b846-3f7fb8100eb7_seg2.wav</td>\n",
       "      <td>Non-Target</td>\n",
       "      <td>Ambient Noise</td>\n",
       "      <td>2758.993889</td>\n",
       "      <td>3910.784244</td>\n",
       "      <td>0.108625</td>\n",
       "      <td>-0.005666</td>\n",
       "      <td>-0.569424</td>\n",
       "      <td>5.162490</td>\n",
       "      <td>-6.898327</td>\n",
       "      <td>740.150685</td>\n",
       "      <td>0.001977</td>\n",
       "      <td>4950</td>\n",
       "      <td>0.634804</td>\n",
       "      <td>-0.032954</td>\n",
       "      <td>-9.484909</td>\n",
       "      <td>10.162800</td>\n",
       "      <td>0.012885</td>\n",
       "    </tr>\n",
       "    <tr>\n",
       "      <th>2</th>\n",
       "      <td>0f9867d8-fcf7-40d1-b846-3f7fb8100eb7_seg3.wav</td>\n",
       "      <td>Non-Target</td>\n",
       "      <td>Ambient Noise</td>\n",
       "      <td>2129.882107</td>\n",
       "      <td>3525.266729</td>\n",
       "      <td>0.247894</td>\n",
       "      <td>-0.276424</td>\n",
       "      <td>0.685545</td>\n",
       "      <td>4.945784</td>\n",
       "      <td>-5.216692</td>\n",
       "      <td>741.959459</td>\n",
       "      <td>0.001981</td>\n",
       "      <td>2836</td>\n",
       "      <td>0.576946</td>\n",
       "      <td>-0.030722</td>\n",
       "      <td>-25.107834</td>\n",
       "      <td>32.549988</td>\n",
       "      <td>0.062395</td>\n",
       "    </tr>\n",
       "    <tr>\n",
       "      <th>3</th>\n",
       "      <td>0f9867d8-fcf7-40d1-b846-3f7fb8100eb7_seg4.wav</td>\n",
       "      <td>Non-Target</td>\n",
       "      <td>Ambient Noise</td>\n",
       "      <td>2578.399075</td>\n",
       "      <td>3808.768181</td>\n",
       "      <td>0.156887</td>\n",
       "      <td>0.579541</td>\n",
       "      <td>1.394189</td>\n",
       "      <td>4.977093</td>\n",
       "      <td>-6.244174</td>\n",
       "      <td>741.291139</td>\n",
       "      <td>0.001975</td>\n",
       "      <td>3886</td>\n",
       "      <td>0.676697</td>\n",
       "      <td>-0.033154</td>\n",
       "      <td>-17.874725</td>\n",
       "      <td>14.261857</td>\n",
       "      <td>0.025713</td>\n",
       "    </tr>\n",
       "    <tr>\n",
       "      <th>4</th>\n",
       "      <td>0f9867d8-fcf7-40d1-b846-3f7fb8100eb7_seg5.wav</td>\n",
       "      <td>Non-Target</td>\n",
       "      <td>Ambient Noise</td>\n",
       "      <td>2397.596769</td>\n",
       "      <td>3693.559388</td>\n",
       "      <td>0.182233</td>\n",
       "      <td>-0.088012</td>\n",
       "      <td>-0.083008</td>\n",
       "      <td>5.107721</td>\n",
       "      <td>-5.867613</td>\n",
       "      <td>760.642857</td>\n",
       "      <td>0.001995</td>\n",
       "      <td>4144</td>\n",
       "      <td>0.588086</td>\n",
       "      <td>-0.031111</td>\n",
       "      <td>-16.117334</td>\n",
       "      <td>20.706032</td>\n",
       "      <td>0.034177</td>\n",
       "    </tr>\n",
       "    <tr>\n",
       "      <th>...</th>\n",
       "      <td>...</td>\n",
       "      <td>...</td>\n",
       "      <td>...</td>\n",
       "      <td>...</td>\n",
       "      <td>...</td>\n",
       "      <td>...</td>\n",
       "      <td>...</td>\n",
       "      <td>...</td>\n",
       "      <td>...</td>\n",
       "      <td>...</td>\n",
       "      <td>...</td>\n",
       "      <td>...</td>\n",
       "      <td>...</td>\n",
       "      <td>...</td>\n",
       "      <td>...</td>\n",
       "      <td>...</td>\n",
       "      <td>...</td>\n",
       "      <td>...</td>\n",
       "    </tr>\n",
       "    <tr>\n",
       "      <th>50988</th>\n",
       "      <td>ship_small_seg5.wav</td>\n",
       "      <td>Target</td>\n",
       "      <td>Vessel</td>\n",
       "      <td>454.204379</td>\n",
       "      <td>1544.897321</td>\n",
       "      <td>0.194803</td>\n",
       "      <td>0.013843</td>\n",
       "      <td>0.040826</td>\n",
       "      <td>4.912185</td>\n",
       "      <td>-5.505466</td>\n",
       "      <td>747.387500</td>\n",
       "      <td>0.002098</td>\n",
       "      <td>3257</td>\n",
       "      <td>0.502537</td>\n",
       "      <td>0.010867</td>\n",
       "      <td>67.361890</td>\n",
       "      <td>-71.922520</td>\n",
       "      <td>0.038066</td>\n",
       "    </tr>\n",
       "    <tr>\n",
       "      <th>50989</th>\n",
       "      <td>ship_small_seg6.wav</td>\n",
       "      <td>Target</td>\n",
       "      <td>Vessel</td>\n",
       "      <td>451.849415</td>\n",
       "      <td>1558.023055</td>\n",
       "      <td>0.187102</td>\n",
       "      <td>0.015866</td>\n",
       "      <td>0.072826</td>\n",
       "      <td>4.923655</td>\n",
       "      <td>-5.597261</td>\n",
       "      <td>747.362500</td>\n",
       "      <td>0.002021</td>\n",
       "      <td>3284</td>\n",
       "      <td>0.500046</td>\n",
       "      <td>0.010350</td>\n",
       "      <td>69.048370</td>\n",
       "      <td>-69.847420</td>\n",
       "      <td>0.035114</td>\n",
       "    </tr>\n",
       "    <tr>\n",
       "      <th>50990</th>\n",
       "      <td>ship_small_seg7.wav</td>\n",
       "      <td>Target</td>\n",
       "      <td>Vessel</td>\n",
       "      <td>450.678766</td>\n",
       "      <td>1588.301112</td>\n",
       "      <td>0.179071</td>\n",
       "      <td>0.000758</td>\n",
       "      <td>0.094914</td>\n",
       "      <td>4.904687</td>\n",
       "      <td>-5.670881</td>\n",
       "      <td>747.387500</td>\n",
       "      <td>0.001921</td>\n",
       "      <td>3248</td>\n",
       "      <td>0.500486</td>\n",
       "      <td>0.011119</td>\n",
       "      <td>60.423195</td>\n",
       "      <td>-65.621540</td>\n",
       "      <td>0.032190</td>\n",
       "    </tr>\n",
       "    <tr>\n",
       "      <th>50991</th>\n",
       "      <td>ship_small_seg8.wav</td>\n",
       "      <td>Target</td>\n",
       "      <td>Vessel</td>\n",
       "      <td>451.362679</td>\n",
       "      <td>1547.605982</td>\n",
       "      <td>0.188441</td>\n",
       "      <td>-0.002944</td>\n",
       "      <td>0.136705</td>\n",
       "      <td>4.846846</td>\n",
       "      <td>-5.513505</td>\n",
       "      <td>747.362500</td>\n",
       "      <td>0.002026</td>\n",
       "      <td>3283</td>\n",
       "      <td>0.495906</td>\n",
       "      <td>0.010434</td>\n",
       "      <td>77.097830</td>\n",
       "      <td>-72.660736</td>\n",
       "      <td>0.035619</td>\n",
       "    </tr>\n",
       "    <tr>\n",
       "      <th>50992</th>\n",
       "      <td>ship_small_seg9.wav</td>\n",
       "      <td>Target</td>\n",
       "      <td>Vessel</td>\n",
       "      <td>451.545700</td>\n",
       "      <td>1515.150241</td>\n",
       "      <td>0.200761</td>\n",
       "      <td>0.015756</td>\n",
       "      <td>0.118569</td>\n",
       "      <td>4.865905</td>\n",
       "      <td>-5.406492</td>\n",
       "      <td>747.387500</td>\n",
       "      <td>0.002148</td>\n",
       "      <td>3248</td>\n",
       "      <td>0.500111</td>\n",
       "      <td>0.010388</td>\n",
       "      <td>79.648620</td>\n",
       "      <td>-77.592110</td>\n",
       "      <td>0.040413</td>\n",
       "    </tr>\n",
       "  </tbody>\n",
       "</table>\n",
       "<p>50993 rows × 18 columns</p>\n",
       "</div>"
      ]
     },
     "execution_count": 9,
     "metadata": {},
     "output_type": "execute_result"
    }
   ],
   "execution_count": 9
  },
  {
   "metadata": {
    "ExecuteTime": {
     "end_time": "2024-11-24T08:08:30.373607Z",
     "start_time": "2024-11-24T08:08:30.359216Z"
    }
   },
   "cell_type": "code",
   "source": [
    "print(\"Distribuzione delle Classi prima dello split:\")\n",
    "print(df['Class'].value_counts())"
   ],
   "id": "1819dd77de965d2c",
   "outputs": [
    {
     "name": "stdout",
     "output_type": "stream",
     "text": [
      "Distribuzione delle Classi prima dello split:\n",
      "Class\n",
      "Target        43181\n",
      "Non-Target     7812\n",
      "Name: count, dtype: int64\n"
     ]
    }
   ],
   "execution_count": 10
  },
  {
   "metadata": {
    "ExecuteTime": {
     "end_time": "2024-11-24T08:08:30.500073Z",
     "start_time": "2024-11-24T08:08:30.486063Z"
    }
   },
   "cell_type": "code",
   "source": [
    "df_Target = df[df['Class'] == 'Target']\n",
    "\n",
    "print(\"Distribuzione delle subclass in Target prima dello split:\")\n",
    "print(df_Target['Subclass'].value_counts())"
   ],
   "id": "93f4b73b31d7e805",
   "outputs": [
    {
     "name": "stdout",
     "output_type": "stream",
     "text": [
      "Distribuzione delle subclass in Target prima dello split:\n",
      "Subclass\n",
      "Passengership                       11728\n",
      "Tanker                              11221\n",
      "Tug                                 10162\n",
      "Cargo                                9671\n",
      "Vessel                                307\n",
      "Sonar                                  20\n",
      "Seismic airguns surveys                18\n",
      "Seal bomb                              17\n",
      "Echosounder                            14\n",
      "Underwater Communication Signals        6\n",
      "Scuba divers                            4\n",
      "Seafloor fossil fuel processing         4\n",
      "Acoustic release                        3\n",
      "Acoustic Harassment Devices             2\n",
      "Explosion                               2\n",
      "Fishing pinger                          2\n",
      "Name: count, dtype: int64\n"
     ]
    }
   ],
   "execution_count": 11
  },
  {
   "metadata": {
    "ExecuteTime": {
     "end_time": "2024-11-24T08:08:30.689897Z",
     "start_time": "2024-11-24T08:08:30.675760Z"
    }
   },
   "cell_type": "code",
   "source": [
    "df_NonTarget = df[df['Class'] == 'Non-Target']\n",
    "\n",
    "print(\"Distribuzione delle subclass in Non-Target prima dello split:\")\n",
    "print(df_NonTarget['Subclass'].value_counts())"
   ],
   "id": "95e951263168f5ce",
   "outputs": [
    {
     "name": "stdout",
     "output_type": "stream",
     "text": [
      "Distribuzione delle subclass in Non-Target prima dello split:\n",
      "Subclass\n",
      "Humpback Whale                1523\n",
      "Sperm Whale                   1107\n",
      "Fin, Finback Whale             803\n",
      "Pygmy Blue Whale               493\n",
      "Blue whale                     280\n",
      "                              ... \n",
      "Ringed Seal                      2\n",
      "Australian Snubfin Dolphin       1\n",
      "True_s beaked whale              1\n",
      "Harbor porpoise                  1\n",
      "Pygmy Right Whale                1\n",
      "Name: count, Length: 96, dtype: int64\n"
     ]
    }
   ],
   "execution_count": 12
  },
  {
   "metadata": {},
   "cell_type": "markdown",
   "source": "### Filtro dataframe",
   "id": "8c3db70c77705554"
  },
  {
   "metadata": {
    "ExecuteTime": {
     "end_time": "2024-11-24T08:08:31.019236Z",
     "start_time": "2024-11-24T08:08:30.797865Z"
    }
   },
   "cell_type": "code",
   "source": [
    "df['File Name'] = df['File Name'].str[:-4]\n",
    "# Aggiungi una colonna \"Parent\" che contiene il prefisso del file per mantenere i segmenti coesi\n",
    "df['Parent'] = df['File Name'].str.extract(r'^(.*?)(?=_seg)')\n",
    "\n",
    "# Filtra subclass con almeno 10 parent distinti\n",
    "parent_counts = df.groupby('Subclass')['Parent'].nunique()\n",
    "subclasses_to_keep = parent_counts[parent_counts >= 10].index\n",
    "df = df[df['Subclass'].isin(subclasses_to_keep)].copy()\n",
    "\n",
    "print(f\"Dimensione totale dopo il filtraggio: {df.shape[0]} campioni\")"
   ],
   "id": "f12cb7cad63ff7d",
   "outputs": [
    {
     "name": "stdout",
     "output_type": "stream",
     "text": [
      "Dimensione totale dopo il filtraggio: 49429 campioni\n"
     ]
    }
   ],
   "execution_count": 13
  },
  {
   "metadata": {},
   "cell_type": "markdown",
   "source": "## SPLIT",
   "id": "1ffddf1268457688"
  },
  {
   "metadata": {},
   "cell_type": "markdown",
   "source": [
    "Distribuzione delle subclass nel set di addestramento:\n",
    "Class\n",
    "Target 33872 ok\n",
    "Non-Target 4917 ok\n",
    "     \n",
    "Distribuzione delle subclass nel set di validazione:\n",
    "Class\n",
    "Target 4403 -> 4394 ha 9 campioni in più\n",
    "Non-Target 613 -> 528 ha 85 campioni in più\n",
    "\n",
    "Distribuzione delle subclass nel set di test: \n",
    "Class\n",
    "Target 4814 -> 4823 ha 9 campioni in meno\n",
    "Non-Target 810 -> 895 ha 85 campioni in meno"
   ],
   "id": "34578bc86fcc7e8"
  },
  {
   "metadata": {
    "ExecuteTime": {
     "end_time": "2024-11-24T08:08:31.741434Z",
     "start_time": "2024-11-24T08:08:31.052485Z"
    }
   },
   "cell_type": "code",
   "source": "X_train_imputed, X_val_imputed, X_test_imputed, y_train, y_val, y_test = split_dataset(df)",
   "id": "d80b838cbce47c83",
   "outputs": [
    {
     "name": "stdout",
     "output_type": "stream",
     "text": [
      "\n",
      "Dimensione del set di addestramento: 38789 campioni (78.47%)\n",
      "Dimensione del set di validazione: 5016 campioni (10.15%)\n",
      "Dimensione del set di test: 5624 campioni (11.38%)\n",
      "\n",
      "Distribuzione delle subclass nel set di addestramento:\n",
      "Class\n",
      "Target        33872\n",
      "Non-Target     4917\n",
      "Name: count, dtype: int64\n",
      "\n",
      "Distribuzione delle subclass nel set di validazione:\n",
      "Class\n",
      "Target        4403\n",
      "Non-Target     613\n",
      "Name: count, dtype: int64\n",
      "\n",
      "Distribuzione delle subclass nel set di test:\n",
      "Class\n",
      "Target        4814\n",
      "Non-Target     810\n",
      "Name: count, dtype: int64\n"
     ]
    }
   ],
   "execution_count": 14
  },
  {
   "metadata": {
    "ExecuteTime": {
     "end_time": "2024-11-24T08:09:03.447185Z",
     "start_time": "2024-11-24T08:08:31.856635Z"
    }
   },
   "cell_type": "code",
   "source": "X_train_imputed[['File Name', 'Parent', 'Class']].groupby(['Parent', 'File Name']).describe()",
   "id": "265146d08d07197c",
   "outputs": [
    {
     "data": {
      "text/plain": [
       "                                                                                Class  \\\n",
       "                                                                                count   \n",
       "Parent                               File Name                                          \n",
       "1cc5583b-fe72-4cb2-b64c-563bd87ad91b 1cc5583b-fe72-4cb2-b64c-563bd87ad91b_seg1      1   \n",
       "                                     1cc5583b-fe72-4cb2-b64c-563bd87ad91b_seg10     1   \n",
       "                                     1cc5583b-fe72-4cb2-b64c-563bd87ad91b_seg11     1   \n",
       "                                     1cc5583b-fe72-4cb2-b64c-563bd87ad91b_seg12     1   \n",
       "                                     1cc5583b-fe72-4cb2-b64c-563bd87ad91b_seg13     1   \n",
       "...                                                                               ...   \n",
       "ship_small                           ship_small_seg5                                1   \n",
       "                                     ship_small_seg6                                1   \n",
       "                                     ship_small_seg7                                1   \n",
       "                                     ship_small_seg8                                1   \n",
       "                                     ship_small_seg9                                1   \n",
       "\n",
       "                                                                                        \\\n",
       "                                                                                unique   \n",
       "Parent                               File Name                                           \n",
       "1cc5583b-fe72-4cb2-b64c-563bd87ad91b 1cc5583b-fe72-4cb2-b64c-563bd87ad91b_seg1       1   \n",
       "                                     1cc5583b-fe72-4cb2-b64c-563bd87ad91b_seg10      1   \n",
       "                                     1cc5583b-fe72-4cb2-b64c-563bd87ad91b_seg11      1   \n",
       "                                     1cc5583b-fe72-4cb2-b64c-563bd87ad91b_seg12      1   \n",
       "                                     1cc5583b-fe72-4cb2-b64c-563bd87ad91b_seg13      1   \n",
       "...                                                                                ...   \n",
       "ship_small                           ship_small_seg5                                 1   \n",
       "                                     ship_small_seg6                                 1   \n",
       "                                     ship_small_seg7                                 1   \n",
       "                                     ship_small_seg8                                 1   \n",
       "                                     ship_small_seg9                                 1   \n",
       "\n",
       "                                                                                         \\\n",
       "                                                                                    top   \n",
       "Parent                               File Name                                            \n",
       "1cc5583b-fe72-4cb2-b64c-563bd87ad91b 1cc5583b-fe72-4cb2-b64c-563bd87ad91b_seg1   Target   \n",
       "                                     1cc5583b-fe72-4cb2-b64c-563bd87ad91b_seg10  Target   \n",
       "                                     1cc5583b-fe72-4cb2-b64c-563bd87ad91b_seg11  Target   \n",
       "                                     1cc5583b-fe72-4cb2-b64c-563bd87ad91b_seg12  Target   \n",
       "                                     1cc5583b-fe72-4cb2-b64c-563bd87ad91b_seg13  Target   \n",
       "...                                                                                 ...   \n",
       "ship_small                           ship_small_seg5                             Target   \n",
       "                                     ship_small_seg6                             Target   \n",
       "                                     ship_small_seg7                             Target   \n",
       "                                     ship_small_seg8                             Target   \n",
       "                                     ship_small_seg9                             Target   \n",
       "\n",
       "                                                                                      \n",
       "                                                                                freq  \n",
       "Parent                               File Name                                        \n",
       "1cc5583b-fe72-4cb2-b64c-563bd87ad91b 1cc5583b-fe72-4cb2-b64c-563bd87ad91b_seg1     1  \n",
       "                                     1cc5583b-fe72-4cb2-b64c-563bd87ad91b_seg10    1  \n",
       "                                     1cc5583b-fe72-4cb2-b64c-563bd87ad91b_seg11    1  \n",
       "                                     1cc5583b-fe72-4cb2-b64c-563bd87ad91b_seg12    1  \n",
       "                                     1cc5583b-fe72-4cb2-b64c-563bd87ad91b_seg13    1  \n",
       "...                                                                              ...  \n",
       "ship_small                           ship_small_seg5                               1  \n",
       "                                     ship_small_seg6                               1  \n",
       "                                     ship_small_seg7                               1  \n",
       "                                     ship_small_seg8                               1  \n",
       "                                     ship_small_seg9                               1  \n",
       "\n",
       "[38789 rows x 4 columns]"
      ],
      "text/html": [
       "<div>\n",
       "<style scoped>\n",
       "    .dataframe tbody tr th:only-of-type {\n",
       "        vertical-align: middle;\n",
       "    }\n",
       "\n",
       "    .dataframe tbody tr th {\n",
       "        vertical-align: top;\n",
       "    }\n",
       "\n",
       "    .dataframe thead tr th {\n",
       "        text-align: left;\n",
       "    }\n",
       "\n",
       "    .dataframe thead tr:last-of-type th {\n",
       "        text-align: right;\n",
       "    }\n",
       "</style>\n",
       "<table border=\"1\" class=\"dataframe\">\n",
       "  <thead>\n",
       "    <tr>\n",
       "      <th></th>\n",
       "      <th></th>\n",
       "      <th colspan=\"4\" halign=\"left\">Class</th>\n",
       "    </tr>\n",
       "    <tr>\n",
       "      <th></th>\n",
       "      <th></th>\n",
       "      <th>count</th>\n",
       "      <th>unique</th>\n",
       "      <th>top</th>\n",
       "      <th>freq</th>\n",
       "    </tr>\n",
       "    <tr>\n",
       "      <th>Parent</th>\n",
       "      <th>File Name</th>\n",
       "      <th></th>\n",
       "      <th></th>\n",
       "      <th></th>\n",
       "      <th></th>\n",
       "    </tr>\n",
       "  </thead>\n",
       "  <tbody>\n",
       "    <tr>\n",
       "      <th rowspan=\"5\" valign=\"top\">1cc5583b-fe72-4cb2-b64c-563bd87ad91b</th>\n",
       "      <th>1cc5583b-fe72-4cb2-b64c-563bd87ad91b_seg1</th>\n",
       "      <td>1</td>\n",
       "      <td>1</td>\n",
       "      <td>Target</td>\n",
       "      <td>1</td>\n",
       "    </tr>\n",
       "    <tr>\n",
       "      <th>1cc5583b-fe72-4cb2-b64c-563bd87ad91b_seg10</th>\n",
       "      <td>1</td>\n",
       "      <td>1</td>\n",
       "      <td>Target</td>\n",
       "      <td>1</td>\n",
       "    </tr>\n",
       "    <tr>\n",
       "      <th>1cc5583b-fe72-4cb2-b64c-563bd87ad91b_seg11</th>\n",
       "      <td>1</td>\n",
       "      <td>1</td>\n",
       "      <td>Target</td>\n",
       "      <td>1</td>\n",
       "    </tr>\n",
       "    <tr>\n",
       "      <th>1cc5583b-fe72-4cb2-b64c-563bd87ad91b_seg12</th>\n",
       "      <td>1</td>\n",
       "      <td>1</td>\n",
       "      <td>Target</td>\n",
       "      <td>1</td>\n",
       "    </tr>\n",
       "    <tr>\n",
       "      <th>1cc5583b-fe72-4cb2-b64c-563bd87ad91b_seg13</th>\n",
       "      <td>1</td>\n",
       "      <td>1</td>\n",
       "      <td>Target</td>\n",
       "      <td>1</td>\n",
       "    </tr>\n",
       "    <tr>\n",
       "      <th>...</th>\n",
       "      <th>...</th>\n",
       "      <td>...</td>\n",
       "      <td>...</td>\n",
       "      <td>...</td>\n",
       "      <td>...</td>\n",
       "    </tr>\n",
       "    <tr>\n",
       "      <th rowspan=\"5\" valign=\"top\">ship_small</th>\n",
       "      <th>ship_small_seg5</th>\n",
       "      <td>1</td>\n",
       "      <td>1</td>\n",
       "      <td>Target</td>\n",
       "      <td>1</td>\n",
       "    </tr>\n",
       "    <tr>\n",
       "      <th>ship_small_seg6</th>\n",
       "      <td>1</td>\n",
       "      <td>1</td>\n",
       "      <td>Target</td>\n",
       "      <td>1</td>\n",
       "    </tr>\n",
       "    <tr>\n",
       "      <th>ship_small_seg7</th>\n",
       "      <td>1</td>\n",
       "      <td>1</td>\n",
       "      <td>Target</td>\n",
       "      <td>1</td>\n",
       "    </tr>\n",
       "    <tr>\n",
       "      <th>ship_small_seg8</th>\n",
       "      <td>1</td>\n",
       "      <td>1</td>\n",
       "      <td>Target</td>\n",
       "      <td>1</td>\n",
       "    </tr>\n",
       "    <tr>\n",
       "      <th>ship_small_seg9</th>\n",
       "      <td>1</td>\n",
       "      <td>1</td>\n",
       "      <td>Target</td>\n",
       "      <td>1</td>\n",
       "    </tr>\n",
       "  </tbody>\n",
       "</table>\n",
       "<p>38789 rows × 4 columns</p>\n",
       "</div>"
      ]
     },
     "execution_count": 15,
     "metadata": {},
     "output_type": "execute_result"
    }
   ],
   "execution_count": 15
  },
  {
   "metadata": {
    "ExecuteTime": {
     "end_time": "2024-11-24T08:09:07.668283Z",
     "start_time": "2024-11-24T08:09:03.509670Z"
    }
   },
   "cell_type": "code",
   "source": "X_val_imputed[['File Name', 'Parent', 'Class']].groupby(['Parent', 'File Name']).describe()",
   "id": "13ff5f5efd8e3e9f",
   "outputs": [
    {
     "data": {
      "text/plain": [
       "                                                                                                    Class  \\\n",
       "                                                                                                    count   \n",
       "Parent                                           File Name                                                  \n",
       "20160531-7_142749                                20160531-7_142749_seg1                                 1   \n",
       "                                                 20160531-7_142749_seg10                                1   \n",
       "                                                 20160531-7_142749_seg100                               1   \n",
       "                                                 20160531-7_142749_seg101                               1   \n",
       "                                                 20160531-7_142749_seg102                               1   \n",
       "...                                                                                                   ...   \n",
       "Striped-Dolphin-Whistles-PAM_20160206_015539_377 Striped-Dolphin-Whistles-PAM_20160206_015539_37...     1   \n",
       "                                                 Striped-Dolphin-Whistles-PAM_20160206_015539_37...     1   \n",
       "                                                 Striped-Dolphin-Whistles-PAM_20160206_015539_37...     1   \n",
       "                                                 Striped-Dolphin-Whistles-PAM_20160206_015539_37...     1   \n",
       "                                                 Striped-Dolphin-Whistles-PAM_20160206_015539_37...     1   \n",
       "\n",
       "                                                                                                            \\\n",
       "                                                                                                    unique   \n",
       "Parent                                           File Name                                                   \n",
       "20160531-7_142749                                20160531-7_142749_seg1                                  1   \n",
       "                                                 20160531-7_142749_seg10                                 1   \n",
       "                                                 20160531-7_142749_seg100                                1   \n",
       "                                                 20160531-7_142749_seg101                                1   \n",
       "                                                 20160531-7_142749_seg102                                1   \n",
       "...                                                                                                    ...   \n",
       "Striped-Dolphin-Whistles-PAM_20160206_015539_377 Striped-Dolphin-Whistles-PAM_20160206_015539_37...      1   \n",
       "                                                 Striped-Dolphin-Whistles-PAM_20160206_015539_37...      1   \n",
       "                                                 Striped-Dolphin-Whistles-PAM_20160206_015539_37...      1   \n",
       "                                                 Striped-Dolphin-Whistles-PAM_20160206_015539_37...      1   \n",
       "                                                 Striped-Dolphin-Whistles-PAM_20160206_015539_37...      1   \n",
       "\n",
       "                                                                                                                 \\\n",
       "                                                                                                            top   \n",
       "Parent                                           File Name                                                        \n",
       "20160531-7_142749                                20160531-7_142749_seg1                                  Target   \n",
       "                                                 20160531-7_142749_seg10                                 Target   \n",
       "                                                 20160531-7_142749_seg100                                Target   \n",
       "                                                 20160531-7_142749_seg101                                Target   \n",
       "                                                 20160531-7_142749_seg102                                Target   \n",
       "...                                                                                                         ...   \n",
       "Striped-Dolphin-Whistles-PAM_20160206_015539_377 Striped-Dolphin-Whistles-PAM_20160206_015539_37...  Non-Target   \n",
       "                                                 Striped-Dolphin-Whistles-PAM_20160206_015539_37...  Non-Target   \n",
       "                                                 Striped-Dolphin-Whistles-PAM_20160206_015539_37...  Non-Target   \n",
       "                                                 Striped-Dolphin-Whistles-PAM_20160206_015539_37...  Non-Target   \n",
       "                                                 Striped-Dolphin-Whistles-PAM_20160206_015539_37...  Non-Target   \n",
       "\n",
       "                                                                                                          \n",
       "                                                                                                    freq  \n",
       "Parent                                           File Name                                                \n",
       "20160531-7_142749                                20160531-7_142749_seg1                                1  \n",
       "                                                 20160531-7_142749_seg10                               1  \n",
       "                                                 20160531-7_142749_seg100                              1  \n",
       "                                                 20160531-7_142749_seg101                              1  \n",
       "                                                 20160531-7_142749_seg102                              1  \n",
       "...                                                                                                  ...  \n",
       "Striped-Dolphin-Whistles-PAM_20160206_015539_377 Striped-Dolphin-Whistles-PAM_20160206_015539_37...    1  \n",
       "                                                 Striped-Dolphin-Whistles-PAM_20160206_015539_37...    1  \n",
       "                                                 Striped-Dolphin-Whistles-PAM_20160206_015539_37...    1  \n",
       "                                                 Striped-Dolphin-Whistles-PAM_20160206_015539_37...    1  \n",
       "                                                 Striped-Dolphin-Whistles-PAM_20160206_015539_37...    1  \n",
       "\n",
       "[5016 rows x 4 columns]"
      ],
      "text/html": [
       "<div>\n",
       "<style scoped>\n",
       "    .dataframe tbody tr th:only-of-type {\n",
       "        vertical-align: middle;\n",
       "    }\n",
       "\n",
       "    .dataframe tbody tr th {\n",
       "        vertical-align: top;\n",
       "    }\n",
       "\n",
       "    .dataframe thead tr th {\n",
       "        text-align: left;\n",
       "    }\n",
       "\n",
       "    .dataframe thead tr:last-of-type th {\n",
       "        text-align: right;\n",
       "    }\n",
       "</style>\n",
       "<table border=\"1\" class=\"dataframe\">\n",
       "  <thead>\n",
       "    <tr>\n",
       "      <th></th>\n",
       "      <th></th>\n",
       "      <th colspan=\"4\" halign=\"left\">Class</th>\n",
       "    </tr>\n",
       "    <tr>\n",
       "      <th></th>\n",
       "      <th></th>\n",
       "      <th>count</th>\n",
       "      <th>unique</th>\n",
       "      <th>top</th>\n",
       "      <th>freq</th>\n",
       "    </tr>\n",
       "    <tr>\n",
       "      <th>Parent</th>\n",
       "      <th>File Name</th>\n",
       "      <th></th>\n",
       "      <th></th>\n",
       "      <th></th>\n",
       "      <th></th>\n",
       "    </tr>\n",
       "  </thead>\n",
       "  <tbody>\n",
       "    <tr>\n",
       "      <th rowspan=\"5\" valign=\"top\">20160531-7_142749</th>\n",
       "      <th>20160531-7_142749_seg1</th>\n",
       "      <td>1</td>\n",
       "      <td>1</td>\n",
       "      <td>Target</td>\n",
       "      <td>1</td>\n",
       "    </tr>\n",
       "    <tr>\n",
       "      <th>20160531-7_142749_seg10</th>\n",
       "      <td>1</td>\n",
       "      <td>1</td>\n",
       "      <td>Target</td>\n",
       "      <td>1</td>\n",
       "    </tr>\n",
       "    <tr>\n",
       "      <th>20160531-7_142749_seg100</th>\n",
       "      <td>1</td>\n",
       "      <td>1</td>\n",
       "      <td>Target</td>\n",
       "      <td>1</td>\n",
       "    </tr>\n",
       "    <tr>\n",
       "      <th>20160531-7_142749_seg101</th>\n",
       "      <td>1</td>\n",
       "      <td>1</td>\n",
       "      <td>Target</td>\n",
       "      <td>1</td>\n",
       "    </tr>\n",
       "    <tr>\n",
       "      <th>20160531-7_142749_seg102</th>\n",
       "      <td>1</td>\n",
       "      <td>1</td>\n",
       "      <td>Target</td>\n",
       "      <td>1</td>\n",
       "    </tr>\n",
       "    <tr>\n",
       "      <th>...</th>\n",
       "      <th>...</th>\n",
       "      <td>...</td>\n",
       "      <td>...</td>\n",
       "      <td>...</td>\n",
       "      <td>...</td>\n",
       "    </tr>\n",
       "    <tr>\n",
       "      <th rowspan=\"5\" valign=\"top\">Striped-Dolphin-Whistles-PAM_20160206_015539_377</th>\n",
       "      <th>Striped-Dolphin-Whistles-PAM_20160206_015539_377_seg5</th>\n",
       "      <td>1</td>\n",
       "      <td>1</td>\n",
       "      <td>Non-Target</td>\n",
       "      <td>1</td>\n",
       "    </tr>\n",
       "    <tr>\n",
       "      <th>Striped-Dolphin-Whistles-PAM_20160206_015539_377_seg6</th>\n",
       "      <td>1</td>\n",
       "      <td>1</td>\n",
       "      <td>Non-Target</td>\n",
       "      <td>1</td>\n",
       "    </tr>\n",
       "    <tr>\n",
       "      <th>Striped-Dolphin-Whistles-PAM_20160206_015539_377_seg7</th>\n",
       "      <td>1</td>\n",
       "      <td>1</td>\n",
       "      <td>Non-Target</td>\n",
       "      <td>1</td>\n",
       "    </tr>\n",
       "    <tr>\n",
       "      <th>Striped-Dolphin-Whistles-PAM_20160206_015539_377_seg8</th>\n",
       "      <td>1</td>\n",
       "      <td>1</td>\n",
       "      <td>Non-Target</td>\n",
       "      <td>1</td>\n",
       "    </tr>\n",
       "    <tr>\n",
       "      <th>Striped-Dolphin-Whistles-PAM_20160206_015539_377_seg9</th>\n",
       "      <td>1</td>\n",
       "      <td>1</td>\n",
       "      <td>Non-Target</td>\n",
       "      <td>1</td>\n",
       "    </tr>\n",
       "  </tbody>\n",
       "</table>\n",
       "<p>5016 rows × 4 columns</p>\n",
       "</div>"
      ]
     },
     "execution_count": 16,
     "metadata": {},
     "output_type": "execute_result"
    }
   ],
   "execution_count": 16
  },
  {
   "metadata": {
    "ExecuteTime": {
     "end_time": "2024-11-24T08:09:12.603504Z",
     "start_time": "2024-11-24T08:09:07.716662Z"
    }
   },
   "cell_type": "code",
   "source": "X_test_imputed[['File Name', 'Parent', 'Class']].groupby(['Parent', 'File Name']).describe()",
   "id": "8c2b872857460f5a",
   "outputs": [
    {
     "data": {
      "text/plain": [
       "                                                                               Class  \\\n",
       "                                                                               count   \n",
       "Parent                               File Name                                         \n",
       "20160516a-9_9                        20160516a-9_9_seg1                            1   \n",
       "                                     20160516a-9_9_seg2                            1   \n",
       "                                     20160516a-9_9_seg3                            1   \n",
       "20160616b-21_200904                  20160616b-21_200904_seg1                      1   \n",
       "                                     20160616b-21_200904_seg10                     1   \n",
       "...                                                                              ...   \n",
       "e60488c2-30fb-414b-bc9f-ee16f886a897 e60488c2-30fb-414b-bc9f-ee16f886a897_seg5     1   \n",
       "                                     e60488c2-30fb-414b-bc9f-ee16f886a897_seg6     1   \n",
       "                                     e60488c2-30fb-414b-bc9f-ee16f886a897_seg7     1   \n",
       "                                     e60488c2-30fb-414b-bc9f-ee16f886a897_seg8     1   \n",
       "                                     e60488c2-30fb-414b-bc9f-ee16f886a897_seg9     1   \n",
       "\n",
       "                                                                                       \\\n",
       "                                                                               unique   \n",
       "Parent                               File Name                                          \n",
       "20160516a-9_9                        20160516a-9_9_seg1                             1   \n",
       "                                     20160516a-9_9_seg2                             1   \n",
       "                                     20160516a-9_9_seg3                             1   \n",
       "20160616b-21_200904                  20160616b-21_200904_seg1                       1   \n",
       "                                     20160616b-21_200904_seg10                      1   \n",
       "...                                                                               ...   \n",
       "e60488c2-30fb-414b-bc9f-ee16f886a897 e60488c2-30fb-414b-bc9f-ee16f886a897_seg5      1   \n",
       "                                     e60488c2-30fb-414b-bc9f-ee16f886a897_seg6      1   \n",
       "                                     e60488c2-30fb-414b-bc9f-ee16f886a897_seg7      1   \n",
       "                                     e60488c2-30fb-414b-bc9f-ee16f886a897_seg8      1   \n",
       "                                     e60488c2-30fb-414b-bc9f-ee16f886a897_seg9      1   \n",
       "\n",
       "                                                                                            \\\n",
       "                                                                                       top   \n",
       "Parent                               File Name                                               \n",
       "20160516a-9_9                        20160516a-9_9_seg1                             Target   \n",
       "                                     20160516a-9_9_seg2                             Target   \n",
       "                                     20160516a-9_9_seg3                             Target   \n",
       "20160616b-21_200904                  20160616b-21_200904_seg1                       Target   \n",
       "                                     20160616b-21_200904_seg10                      Target   \n",
       "...                                                                                    ...   \n",
       "e60488c2-30fb-414b-bc9f-ee16f886a897 e60488c2-30fb-414b-bc9f-ee16f886a897_seg5  Non-Target   \n",
       "                                     e60488c2-30fb-414b-bc9f-ee16f886a897_seg6  Non-Target   \n",
       "                                     e60488c2-30fb-414b-bc9f-ee16f886a897_seg7  Non-Target   \n",
       "                                     e60488c2-30fb-414b-bc9f-ee16f886a897_seg8  Non-Target   \n",
       "                                     e60488c2-30fb-414b-bc9f-ee16f886a897_seg9  Non-Target   \n",
       "\n",
       "                                                                                     \n",
       "                                                                               freq  \n",
       "Parent                               File Name                                       \n",
       "20160516a-9_9                        20160516a-9_9_seg1                           1  \n",
       "                                     20160516a-9_9_seg2                           1  \n",
       "                                     20160516a-9_9_seg3                           1  \n",
       "20160616b-21_200904                  20160616b-21_200904_seg1                     1  \n",
       "                                     20160616b-21_200904_seg10                    1  \n",
       "...                                                                             ...  \n",
       "e60488c2-30fb-414b-bc9f-ee16f886a897 e60488c2-30fb-414b-bc9f-ee16f886a897_seg5    1  \n",
       "                                     e60488c2-30fb-414b-bc9f-ee16f886a897_seg6    1  \n",
       "                                     e60488c2-30fb-414b-bc9f-ee16f886a897_seg7    1  \n",
       "                                     e60488c2-30fb-414b-bc9f-ee16f886a897_seg8    1  \n",
       "                                     e60488c2-30fb-414b-bc9f-ee16f886a897_seg9    1  \n",
       "\n",
       "[5624 rows x 4 columns]"
      ],
      "text/html": [
       "<div>\n",
       "<style scoped>\n",
       "    .dataframe tbody tr th:only-of-type {\n",
       "        vertical-align: middle;\n",
       "    }\n",
       "\n",
       "    .dataframe tbody tr th {\n",
       "        vertical-align: top;\n",
       "    }\n",
       "\n",
       "    .dataframe thead tr th {\n",
       "        text-align: left;\n",
       "    }\n",
       "\n",
       "    .dataframe thead tr:last-of-type th {\n",
       "        text-align: right;\n",
       "    }\n",
       "</style>\n",
       "<table border=\"1\" class=\"dataframe\">\n",
       "  <thead>\n",
       "    <tr>\n",
       "      <th></th>\n",
       "      <th></th>\n",
       "      <th colspan=\"4\" halign=\"left\">Class</th>\n",
       "    </tr>\n",
       "    <tr>\n",
       "      <th></th>\n",
       "      <th></th>\n",
       "      <th>count</th>\n",
       "      <th>unique</th>\n",
       "      <th>top</th>\n",
       "      <th>freq</th>\n",
       "    </tr>\n",
       "    <tr>\n",
       "      <th>Parent</th>\n",
       "      <th>File Name</th>\n",
       "      <th></th>\n",
       "      <th></th>\n",
       "      <th></th>\n",
       "      <th></th>\n",
       "    </tr>\n",
       "  </thead>\n",
       "  <tbody>\n",
       "    <tr>\n",
       "      <th rowspan=\"3\" valign=\"top\">20160516a-9_9</th>\n",
       "      <th>20160516a-9_9_seg1</th>\n",
       "      <td>1</td>\n",
       "      <td>1</td>\n",
       "      <td>Target</td>\n",
       "      <td>1</td>\n",
       "    </tr>\n",
       "    <tr>\n",
       "      <th>20160516a-9_9_seg2</th>\n",
       "      <td>1</td>\n",
       "      <td>1</td>\n",
       "      <td>Target</td>\n",
       "      <td>1</td>\n",
       "    </tr>\n",
       "    <tr>\n",
       "      <th>20160516a-9_9_seg3</th>\n",
       "      <td>1</td>\n",
       "      <td>1</td>\n",
       "      <td>Target</td>\n",
       "      <td>1</td>\n",
       "    </tr>\n",
       "    <tr>\n",
       "      <th rowspan=\"2\" valign=\"top\">20160616b-21_200904</th>\n",
       "      <th>20160616b-21_200904_seg1</th>\n",
       "      <td>1</td>\n",
       "      <td>1</td>\n",
       "      <td>Target</td>\n",
       "      <td>1</td>\n",
       "    </tr>\n",
       "    <tr>\n",
       "      <th>20160616b-21_200904_seg10</th>\n",
       "      <td>1</td>\n",
       "      <td>1</td>\n",
       "      <td>Target</td>\n",
       "      <td>1</td>\n",
       "    </tr>\n",
       "    <tr>\n",
       "      <th>...</th>\n",
       "      <th>...</th>\n",
       "      <td>...</td>\n",
       "      <td>...</td>\n",
       "      <td>...</td>\n",
       "      <td>...</td>\n",
       "    </tr>\n",
       "    <tr>\n",
       "      <th rowspan=\"5\" valign=\"top\">e60488c2-30fb-414b-bc9f-ee16f886a897</th>\n",
       "      <th>e60488c2-30fb-414b-bc9f-ee16f886a897_seg5</th>\n",
       "      <td>1</td>\n",
       "      <td>1</td>\n",
       "      <td>Non-Target</td>\n",
       "      <td>1</td>\n",
       "    </tr>\n",
       "    <tr>\n",
       "      <th>e60488c2-30fb-414b-bc9f-ee16f886a897_seg6</th>\n",
       "      <td>1</td>\n",
       "      <td>1</td>\n",
       "      <td>Non-Target</td>\n",
       "      <td>1</td>\n",
       "    </tr>\n",
       "    <tr>\n",
       "      <th>e60488c2-30fb-414b-bc9f-ee16f886a897_seg7</th>\n",
       "      <td>1</td>\n",
       "      <td>1</td>\n",
       "      <td>Non-Target</td>\n",
       "      <td>1</td>\n",
       "    </tr>\n",
       "    <tr>\n",
       "      <th>e60488c2-30fb-414b-bc9f-ee16f886a897_seg8</th>\n",
       "      <td>1</td>\n",
       "      <td>1</td>\n",
       "      <td>Non-Target</td>\n",
       "      <td>1</td>\n",
       "    </tr>\n",
       "    <tr>\n",
       "      <th>e60488c2-30fb-414b-bc9f-ee16f886a897_seg9</th>\n",
       "      <td>1</td>\n",
       "      <td>1</td>\n",
       "      <td>Non-Target</td>\n",
       "      <td>1</td>\n",
       "    </tr>\n",
       "  </tbody>\n",
       "</table>\n",
       "<p>5624 rows × 4 columns</p>\n",
       "</div>"
      ]
     },
     "execution_count": 17,
     "metadata": {},
     "output_type": "execute_result"
    }
   ],
   "execution_count": 17
  },
  {
   "metadata": {},
   "cell_type": "markdown",
   "source": "## SMOTE",
   "id": "4252323a8c0c67f6"
  },
  {
   "metadata": {
    "ExecuteTime": {
     "end_time": "2024-11-24T08:09:12.713877Z",
     "start_time": "2024-11-24T08:09:12.700847Z"
    }
   },
   "cell_type": "code",
   "source": [
    "import os\n",
    "os.environ[\"LOKY_MAX_CPU_COUNT\"] = \"4\"  # Adatta questo valore al numero di core che desideri utilizzare"
   ],
   "id": "2a9054163900c0c",
   "outputs": [],
   "execution_count": 18
  },
  {
   "metadata": {
    "ExecuteTime": {
     "end_time": "2024-11-24T08:09:13.557963Z",
     "start_time": "2024-11-24T08:09:12.810061Z"
    }
   },
   "cell_type": "code",
   "source": "X_train_resampled, y_train_resampled = apply_smote(X_train_imputed, y_train, 1)",
   "id": "cba96aeaf171da0d",
   "outputs": [
    {
     "name": "stdout",
     "output_type": "stream",
     "text": [
      "\n",
      "Distribuzione delle subclass DOPO il primo livello di SMOTE:\n",
      "Subclass\n",
      "Killer Whale                          1163\n",
      "Minke Whale                           1163\n",
      "Odontocete                            1163\n",
      "Melon Headed Whale                    1163\n",
      "Fraser_s Dolphin                      1163\n",
      "Rough-Toothed Dolphin                 1163\n",
      "Clymene Dolphin                       1163\n",
      "Southern Right Whale                  1163\n",
      "Bowhead Whale                         1163\n",
      "Spinner Dolphin                       1163\n",
      "Narwhal                               1163\n",
      "Harp Seal                             1163\n",
      "Leopard Seal                          1163\n",
      "Bearded Seal                          1163\n",
      "Walrus                                1163\n",
      "Ross Seal                             1163\n",
      "Pantropical Spotted Dolphin           1163\n",
      "Long-Finned Pilot Whale               1163\n",
      "Sperm Whale                           1163\n",
      "Beluga, White Whale                   1163\n",
      "White-sided Dolphin                   1163\n",
      "Atlantic Spotted Dolphin              1163\n",
      "False Killer Whale                    1163\n",
      "Fin, Finback Whale                    1163\n",
      "White-beaked Dolphin                  1163\n",
      "Grampus, Risso_s Dolphin              1163\n",
      "Common Dolphin                        1163\n",
      "Striped Dolphin                       1163\n",
      "Short-Finned (Pacific) Pilot Whale    1163\n",
      "Northern Right Whale                  1163\n",
      "Bottlenose Dolphin                    1163\n",
      "Humpback Whale                        1163\n",
      "Soundscape                            1163\n",
      "Name: count, dtype: int64\n",
      "\n",
      "Distribuzione delle class DOPO SMOTE:\n",
      "1    44150\n",
      "0    44150\n",
      "Name: count, dtype: int64\n"
     ]
    }
   ],
   "execution_count": 19
  },
  {
   "metadata": {
    "ExecuteTime": {
     "end_time": "2024-11-24T08:09:13.650884Z",
     "start_time": "2024-11-24T08:09:13.637791Z"
    }
   },
   "cell_type": "code",
   "source": [
    "# Stampare le forme dei dataset\n",
    "print(\"\\nForme dei dataset:\")\n",
    "print(f\"Train: {X_train_imputed.shape}\") #validation\n",
    "print(f\"Validation: {X_val_imputed.shape}\") #validation\n",
    "print(f\"Test: {X_test_imputed.shape}\") #test\n",
    "print(f\"Train bilanciato e filtrato: {X_train_resampled.shape}\") #train dopo SMOTE"
   ],
   "id": "41e07c68abe09791",
   "outputs": [
    {
     "name": "stdout",
     "output_type": "stream",
     "text": [
      "\n",
      "Forme dei dataset:\n",
      "Train: (38789, 19)\n",
      "Validation: (5016, 19)\n",
      "Test: (5624, 19)\n",
      "Train bilanciato e filtrato: (88300, 15)\n"
     ]
    }
   ],
   "execution_count": 20
  },
  {
   "metadata": {},
   "cell_type": "markdown",
   "source": "# Esperimento 1",
   "id": "d5ff8fec5eafb803"
  },
  {
   "metadata": {},
   "cell_type": "markdown",
   "source": "Esperimento effettuato prendendo come riferimento alcune features numeriche da \"Malfante et al.\"",
   "id": "a050408e837f4c50"
  },
  {
   "metadata": {
    "ExecuteTime": {
     "end_time": "2024-11-24T08:09:13.713165Z",
     "start_time": "2024-11-24T08:09:13.696715Z"
    }
   },
   "cell_type": "code",
   "source": [
    "# Rimuovi le colonne non necessarie per evitare errori nei nomi delle feature\n",
    "X_val_imputed = X_val_imputed.drop(columns=[\"Class\", \"File Name\", \"Parent\", \"Subclass\"], errors='ignore')\n",
    "X_test_imputed = X_test_imputed.drop(columns=[\"Class\", \"File Name\", \"Parent\", \"Subclass\"], errors='ignore')"
   ],
   "id": "d8432d8e1572557a",
   "outputs": [],
   "execution_count": 21
  },
  {
   "metadata": {},
   "cell_type": "markdown",
   "source": "### 1.1 Random Forest Model",
   "id": "5b5c42beb434c835"
  },
  {
   "metadata": {
    "ExecuteTime": {
     "end_time": "2024-11-24T08:27:55.871136Z",
     "start_time": "2024-11-24T08:27:05.208751Z"
    }
   },
   "cell_type": "code",
   "source": "random_forest_model = train_random_forest(X_train_resampled, y_train_resampled, X_val_imputed, y_val, X_test_imputed, y_test)",
   "id": "82695120292730ec",
   "outputs": [
    {
     "name": "stdout",
     "output_type": "stream",
     "text": [
      "Accuratezza sul Validation Set: 0.9926\n",
      "Log Loss sul Validation Set: 0.0334\n",
      "\n",
      "=== Report di Classificazione - Validation Set ===\n",
      "              precision    recall  f1-score   support\n",
      "\n",
      "           0       0.95      1.00      0.97       613\n",
      "           1       1.00      0.99      1.00      4403\n",
      "\n",
      "    accuracy                           0.99      5016\n",
      "   macro avg       0.97      0.99      0.98      5016\n",
      "weighted avg       0.99      0.99      0.99      5016\n",
      "\n",
      "Accuratezza sul Test Set: 0.9860\n",
      "Log Loss sul Test Set: 0.0512\n",
      "\n",
      "=== Report di Classificazione - Test Set ===\n",
      "              precision    recall  f1-score   support\n",
      "\n",
      "           0       0.96      0.94      0.95       810\n",
      "           1       0.99      0.99      0.99      4814\n",
      "\n",
      "    accuracy                           0.99      5624\n",
      "   macro avg       0.98      0.97      0.97      5624\n",
      "weighted avg       0.99      0.99      0.99      5624\n",
      "\n"
     ]
    }
   ],
   "execution_count": 60
  },
  {
   "metadata": {
    "ExecuteTime": {
     "end_time": "2024-11-24T08:27:56.480747Z",
     "start_time": "2024-11-24T08:27:55.996017Z"
    }
   },
   "cell_type": "code",
   "source": "rf_plot_confusion_matrices(random_forest_model, X_val_imputed, y_val, X_test_imputed, y_test)",
   "id": "5b384e64929f3a5a",
   "outputs": [
    {
     "data": {
      "text/plain": [
       "<Figure size 1400x600 with 4 Axes>"
      ],
      "image/png": "[encoded data removed]"
     },
     "metadata": {},
     "output_type": "display_data"
    }
   ],
   "execution_count": 61
  },
  {
   "metadata": {},
   "cell_type": "markdown",
   "source": "### 1.2 SVM Model",
   "id": "e26b4bd0c13ca6d7"
  },
  {
   "metadata": {
    "ExecuteTime": {
     "end_time": "2024-11-24T08:11:23.994273Z",
     "start_time": "2024-11-24T08:09:58.829960Z"
    }
   },
   "cell_type": "code",
   "source": "svm_model = train_svm(X_train_resampled, y_train_resampled, X_val_imputed, y_val, X_test_imputed, y_test)",
   "id": "b000af22ed5bcf58",
   "outputs": [
    {
     "name": "stdout",
     "output_type": "stream",
     "text": [
      "Distribuzione delle classi reali nel set di validazione: [ 613 4403]\n",
      "Distribuzione delle classi predette nel set di validazione: [ 646 4370]\n",
      "Report di classificazione del set di validazione:\n",
      "              precision    recall  f1-score   support\n",
      "\n",
      "           0       0.76      0.80      0.78       613\n",
      "           1       0.97      0.96      0.97      4403\n",
      "\n",
      "    accuracy                           0.94      5016\n",
      "   macro avg       0.87      0.88      0.87      5016\n",
      "weighted avg       0.95      0.94      0.95      5016\n",
      "\n",
      "Accuratezza sul set di validazione: 0.9444\n",
      "Distribuzione delle classi reali nel set di test: [ 810 4814]\n",
      "Distribuzione delle classi predette nel set di test: [1059 4565]\n",
      "Report di classificazione del set di test:\n",
      "              precision    recall  f1-score   support\n",
      "\n",
      "           0       0.66      0.87      0.75       810\n",
      "           1       0.98      0.93      0.95      4814\n",
      "\n",
      "    accuracy                           0.92      5624\n",
      "   macro avg       0.82      0.90      0.85      5624\n",
      "weighted avg       0.93      0.92      0.92      5624\n",
      "\n",
      "Accuratezza sul set di test: 0.9180\n"
     ]
    }
   ],
   "execution_count": 24
  },
  {
   "metadata": {
    "ExecuteTime": {
     "end_time": "2024-11-24T08:11:37.227247Z",
     "start_time": "2024-11-24T08:11:24.042733Z"
    }
   },
   "cell_type": "code",
   "source": "svm_plot_confusion_matrices(svm_model, X_val_imputed, y_val, X_test_imputed, y_test)",
   "id": "cc59e99335016859",
   "outputs": [
    {
     "data": {
      "text/plain": [
       "<Figure size 1400x600 with 2 Axes>"
      ],
      "image/png": "[encoded data removed]"
     },
     "metadata": {},
     "output_type": "display_data"
    }
   ],
   "execution_count": 25
  },
  {
   "metadata": {},
   "cell_type": "markdown",
   "source": "### 1.3 LightGBM Model",
   "id": "3f6a6db84a4786c5"
  },
  {
   "metadata": {
    "ExecuteTime": {
     "end_time": "2024-11-24T08:11:44.162586Z",
     "start_time": "2024-11-24T08:11:37.275171Z"
    }
   },
   "cell_type": "code",
   "source": "lightgbm_model = train_lightgbm(X_train_resampled, y_train_resampled, X_val_imputed, y_val, X_test_imputed, y_test)",
   "id": "d983cdf36f44efa8",
   "outputs": [
    {
     "name": "stdout",
     "output_type": "stream",
     "text": [
      "Dimensioni dopo NaN nel set di addestramento: X_train: (88300, 15), y_train: (88300,)\n",
      "Dimensioni dopo NaN nel set di validazione: X_val: (5016, 15), y_val: (5016,)\n",
      "Dimensioni dopo NaN nel set di test: X_test: (5624, 15), y_test: (5624,)\n",
      "Classi nel set di addestramento: [0 1]\n",
      "Classi nel set di validazione: [0 1]\n",
      "Classi nel set di test: [0 1]\n",
      "Report di classificazione del set di validazione:\n",
      "              precision    recall  f1-score   support\n",
      "\n",
      "           0       0.95      1.00      0.97       613\n",
      "           1       1.00      0.99      1.00      4403\n",
      "\n",
      "    accuracy                           0.99      5016\n",
      "   macro avg       0.97      0.99      0.98      5016\n",
      "weighted avg       0.99      0.99      0.99      5016\n",
      "\n",
      "Accuratezza sul set di validazione: 0.9932\n",
      "Report di classificazione del set di test:\n",
      "              precision    recall  f1-score   support\n",
      "\n",
      "           0       0.97      0.94      0.95       810\n",
      "           1       0.99      0.99      0.99      4814\n",
      "\n",
      "    accuracy                           0.99      5624\n",
      "   macro avg       0.98      0.97      0.97      5624\n",
      "weighted avg       0.99      0.99      0.99      5624\n",
      "\n",
      "Accuratezza sul set di test: 0.9868\n"
     ]
    }
   ],
   "execution_count": 26
  },
  {
   "metadata": {
    "ExecuteTime": {
     "end_time": "2024-11-24T08:11:44.757250Z",
     "start_time": "2024-11-24T08:11:44.227762Z"
    }
   },
   "cell_type": "code",
   "source": "lightgbm_plot_confusion_matrices(lightgbm_model, X_val_imputed, y_val, X_test_imputed, y_test)",
   "id": "1f2de7edf392fc23",
   "outputs": [
    {
     "data": {
      "text/plain": [
       "<Figure size 1400x600 with 4 Axes>"
      ],
      "image/png": "[encoded data removed]"
     },
     "metadata": {},
     "output_type": "display_data"
    }
   ],
   "execution_count": 27
  },
  {
   "metadata": {},
   "cell_type": "markdown",
   "source": "## Esperimento 2",
   "id": "e2745cff5c0d0e15"
  },
  {
   "metadata": {},
   "cell_type": "markdown",
   "source": "Esperimento effettuato prendendo come riferimento alcune features numeriche da “BirdNet”",
   "id": "d54cfd26d0ca766b"
  },
  {
   "metadata": {
    "ExecuteTime": {
     "end_time": "2024-11-24T08:11:44.819811Z",
     "start_time": "2024-11-24T08:11:44.805761Z"
    }
   },
   "cell_type": "code",
   "source": "#csv_file_path_exp1 = \"C:/Users/mario/OneDrive/Desktop/Dataset_oversampled_2\"",
   "id": "c897c9f734180905",
   "outputs": [],
   "execution_count": 28
  },
  {
   "metadata": {
    "ExecuteTime": {
     "end_time": "2024-11-24T08:11:44.883076Z",
     "start_time": "2024-11-24T08:11:44.870142Z"
    }
   },
   "cell_type": "code",
   "source": "csv_file_path_exp1 = \"C:/underwater-classification/resample_experiments/resampling_192000/binary/BirdNet_resampled_192000_binary.csv\"",
   "id": "a20eb4d1dfd50678",
   "outputs": [],
   "execution_count": 29
  },
  {
   "metadata": {
    "ExecuteTime": {
     "end_time": "2024-11-24T08:11:44.945394Z",
     "start_time": "2024-11-24T08:11:44.931395Z"
    }
   },
   "cell_type": "code",
   "source": "resample_dataset(csv_file_path_exp1, 192000)",
   "id": "7328bd00ecd529d0",
   "outputs": [],
   "execution_count": 30
  },
  {
   "metadata": {
    "ExecuteTime": {
     "end_time": "2024-11-24T08:11:45.223192Z",
     "start_time": "2024-11-24T08:11:44.993726Z"
    }
   },
   "cell_type": "code",
   "source": "df_exp1 = pd.read_csv(csv_file_path_exp1)",
   "id": "479449a3e589c2cc",
   "outputs": [],
   "execution_count": 31
  },
  {
   "metadata": {
    "ExecuteTime": {
     "end_time": "2024-11-24T08:11:45.285858Z",
     "start_time": "2024-11-24T08:11:45.271613Z"
    }
   },
   "cell_type": "code",
   "source": "#df_exp1 = exp1.extract_features_from_directory(csv_file_path_exp1)",
   "id": "ab6e1d51c0e89aab",
   "outputs": [],
   "execution_count": 32
  },
  {
   "metadata": {
    "ExecuteTime": {
     "end_time": "2024-11-24T08:11:45.348217Z",
     "start_time": "2024-11-24T08:11:45.334218Z"
    }
   },
   "cell_type": "code",
   "source": "#df_exp1.to_csv(\"BirdNet_resampled_192000_binary.csv\", index=False)",
   "id": "56bf21d3c6c05311",
   "outputs": [],
   "execution_count": 33
  },
  {
   "metadata": {
    "ExecuteTime": {
     "end_time": "2024-11-24T08:11:45.537742Z",
     "start_time": "2024-11-24T08:11:45.398230Z"
    }
   },
   "cell_type": "code",
   "source": [
    "df_exp1['File Name'] = df_exp1['File Name'].str[:-4]\n",
    "# Aggiungi una colonna \"Parent\" che contiene il prefisso del file per mantenere i segmenti coesi\n",
    "df_exp1['Parent'] = df_exp1['File Name'].str.extract(r'^(.*?)(?=_seg)')\n",
    "\n",
    "# Filtra subclass con almeno 10 parent distinti\n",
    "parent_counts = df_exp1.groupby('Subclass')['Parent'].nunique()\n",
    "subclasses_to_keep = parent_counts[parent_counts >= 10].index\n",
    "df_exp1 = df_exp1[df_exp1['Subclass'].isin(subclasses_to_keep)].copy()\n",
    "\n",
    "print(f\"Dimensione totale dopo il filtraggio: {df_exp1.shape[0]} campioni\")"
   ],
   "id": "f6f28a9459055f76",
   "outputs": [
    {
     "name": "stdout",
     "output_type": "stream",
     "text": [
      "Dimensione totale dopo il filtraggio: 49429 campioni\n"
     ]
    }
   ],
   "execution_count": 34
  },
  {
   "metadata": {
    "ExecuteTime": {
     "end_time": "2024-11-24T08:11:46.214131Z",
     "start_time": "2024-11-24T08:11:45.585740Z"
    }
   },
   "cell_type": "code",
   "source": "X_train_imputed_exp1, X_val_imputed_exp1, X_test_imputed_exp1, y_train_encoded_exp1, y_val_encoded_exp1, y_test_encoded_exp1 = split_dataset(df_exp1)",
   "id": "aeb4b3ab46fb2eec",
   "outputs": [
    {
     "name": "stdout",
     "output_type": "stream",
     "text": [
      "\n",
      "Dimensione del set di addestramento: 38789 campioni (78.47%)\n",
      "Dimensione del set di validazione: 5016 campioni (10.15%)\n",
      "Dimensione del set di test: 5624 campioni (11.38%)\n",
      "\n",
      "Distribuzione delle subclass nel set di addestramento:\n",
      "Class\n",
      "Target        33872\n",
      "Non-Target     4917\n",
      "Name: count, dtype: int64\n",
      "\n",
      "Distribuzione delle subclass nel set di validazione:\n",
      "Class\n",
      "Target        4403\n",
      "Non-Target     613\n",
      "Name: count, dtype: int64\n",
      "\n",
      "Distribuzione delle subclass nel set di test:\n",
      "Class\n",
      "Target        4814\n",
      "Non-Target     810\n",
      "Name: count, dtype: int64\n"
     ]
    }
   ],
   "execution_count": 35
  },
  {
   "metadata": {
    "ExecuteTime": {
     "end_time": "2024-11-24T08:11:49.245525Z",
     "start_time": "2024-11-24T08:11:46.279730Z"
    }
   },
   "cell_type": "code",
   "source": "X_train_resampled_exp1, y_train_resampled_exp1 = apply_smote(X_train_imputed_exp1, y_train_encoded_exp1, 1)",
   "id": "b12f934aed2e8004",
   "outputs": [
    {
     "name": "stdout",
     "output_type": "stream",
     "text": [
      "\n",
      "Distribuzione delle subclass DOPO il primo livello di SMOTE:\n",
      "Subclass\n",
      "Killer Whale                          1163\n",
      "Minke Whale                           1163\n",
      "Odontocete                            1163\n",
      "Melon Headed Whale                    1163\n",
      "Fraser_s Dolphin                      1163\n",
      "Rough-Toothed Dolphin                 1163\n",
      "Clymene Dolphin                       1163\n",
      "Southern Right Whale                  1163\n",
      "Bowhead Whale                         1163\n",
      "Spinner Dolphin                       1163\n",
      "Narwhal                               1163\n",
      "Harp Seal                             1163\n",
      "Leopard Seal                          1163\n",
      "Bearded Seal                          1163\n",
      "Walrus                                1163\n",
      "Ross Seal                             1163\n",
      "Pantropical Spotted Dolphin           1163\n",
      "Long-Finned Pilot Whale               1163\n",
      "Sperm Whale                           1163\n",
      "Beluga, White Whale                   1163\n",
      "White-sided Dolphin                   1163\n",
      "Atlantic Spotted Dolphin              1163\n",
      "False Killer Whale                    1163\n",
      "Fin, Finback Whale                    1163\n",
      "White-beaked Dolphin                  1163\n",
      "Grampus, Risso_s Dolphin              1163\n",
      "Common Dolphin                        1163\n",
      "Striped Dolphin                       1163\n",
      "Short-Finned (Pacific) Pilot Whale    1163\n",
      "Northern Right Whale                  1163\n",
      "Bottlenose Dolphin                    1163\n",
      "Humpback Whale                        1163\n",
      "Soundscape                            1163\n",
      "Name: count, dtype: int64\n",
      "\n",
      "Distribuzione delle class DOPO SMOTE:\n",
      "1    44150\n",
      "0    44150\n",
      "Name: count, dtype: int64\n"
     ]
    }
   ],
   "execution_count": 36
  },
  {
   "metadata": {
    "ExecuteTime": {
     "end_time": "2024-11-24T08:11:49.340127Z",
     "start_time": "2024-11-24T08:11:49.326329Z"
    }
   },
   "cell_type": "code",
   "source": [
    "# Rimuovi le colonne non necessarie per evitare errori nei nomi delle feature\n",
    "X_val_imputed_exp1 = X_val_imputed_exp1.drop(columns=[\"Class\", \"File Name\", \"Parent\", \"Subclass\"], errors='ignore')\n",
    "X_test_imputed_exp1 = X_test_imputed_exp1.drop(columns=[\"Class\", \"File Name\", \"Parent\", \"Subclass\"], errors='ignore')"
   ],
   "id": "bd0f0d7d702212fa",
   "outputs": [],
   "execution_count": 37
  },
  {
   "metadata": {},
   "cell_type": "markdown",
   "source": "### 2.1 Random Forest Model",
   "id": "90c83b73dde084e4"
  },
  {
   "metadata": {
    "ExecuteTime": {
     "end_time": "2024-11-24T08:12:45.990348Z",
     "start_time": "2024-11-24T08:11:49.405682Z"
    }
   },
   "cell_type": "code",
   "source": "random_forest_model_exp1 = train_random_forest(X_train_resampled_exp1, y_train_resampled_exp1, X_val_imputed_exp1, y_val_encoded_exp1, X_test_imputed_exp1, y_test_encoded_exp1)",
   "id": "901d01ee574c8286",
   "outputs": [
    {
     "name": "stdout",
     "output_type": "stream",
     "text": [
      "Accuratezza sul Validation Set: 0.9908\n",
      "Log Loss sul Validation Set: 0.0318\n",
      "\n",
      "=== Report di Classificazione - Validation Set ===\n",
      "              precision    recall  f1-score   support\n",
      "\n",
      "           0       0.94      0.99      0.96       613\n",
      "           1       1.00      0.99      0.99      4403\n",
      "\n",
      "    accuracy                           0.99      5016\n",
      "   macro avg       0.97      0.99      0.98      5016\n",
      "weighted avg       0.99      0.99      0.99      5016\n",
      "\n",
      "Accuratezza sul Test Set: 0.9883\n",
      "Log Loss sul Test Set: 0.0401\n",
      "\n",
      "=== Report di Classificazione - Test Set ===\n",
      "              precision    recall  f1-score   support\n",
      "\n",
      "           0       0.94      0.99      0.96       810\n",
      "           1       1.00      0.99      0.99      4814\n",
      "\n",
      "    accuracy                           0.99      5624\n",
      "   macro avg       0.97      0.99      0.98      5624\n",
      "weighted avg       0.99      0.99      0.99      5624\n",
      "\n"
     ]
    }
   ],
   "execution_count": 38
  },
  {
   "metadata": {
    "ExecuteTime": {
     "end_time": "2024-11-24T08:12:46.648971Z",
     "start_time": "2024-11-24T08:12:46.119349Z"
    }
   },
   "cell_type": "code",
   "source": "rf_plot_confusion_matrices(random_forest_model_exp1, X_val_imputed_exp1, y_val_encoded_exp1, X_test_imputed_exp1, y_test_encoded_exp1)\n",
   "id": "c3337b2b32c86f27",
   "outputs": [
    {
     "data": {
      "text/plain": [
       "<Figure size 1400x600 with 4 Axes>"
      ],
      "image/png": "[encoded data removed]"
     },
     "metadata": {},
     "output_type": "display_data"
    }
   ],
   "execution_count": 39
  },
  {
   "metadata": {},
   "cell_type": "markdown",
   "source": "### 2.2 SVM Model",
   "id": "85b689328cc55ce0"
  },
  {
   "metadata": {
    "ExecuteTime": {
     "end_time": "2024-11-24T08:15:36.190224Z",
     "start_time": "2024-11-24T08:12:46.777250Z"
    }
   },
   "cell_type": "code",
   "source": "svm_model_exp1 = train_svm(X_train_resampled_exp1, y_train_resampled_exp1, X_val_imputed_exp1, y_val_encoded_exp1, X_test_imputed_exp1, y_test_encoded_exp1)\n",
   "id": "f9210217d67af87b",
   "outputs": [
    {
     "name": "stdout",
     "output_type": "stream",
     "text": [
      "Distribuzione delle classi reali nel set di validazione: [ 613 4403]\n",
      "Distribuzione delle classi predette nel set di validazione: [ 613 4403]\n",
      "Report di classificazione del set di validazione:\n",
      "              precision    recall  f1-score   support\n",
      "\n",
      "           0       0.92      0.92      0.92       613\n",
      "           1       0.99      0.99      0.99      4403\n",
      "\n",
      "    accuracy                           0.98      5016\n",
      "   macro avg       0.95      0.95      0.95      5016\n",
      "weighted avg       0.98      0.98      0.98      5016\n",
      "\n",
      "Accuratezza sul set di validazione: 0.9793\n",
      "Distribuzione delle classi reali nel set di test: [ 810 4814]\n",
      "Distribuzione delle classi predette nel set di test: [ 799 4825]\n",
      "Report di classificazione del set di test:\n",
      "              precision    recall  f1-score   support\n",
      "\n",
      "           0       0.88      0.87      0.87       810\n",
      "           1       0.98      0.98      0.98      4814\n",
      "\n",
      "    accuracy                           0.96      5624\n",
      "   macro avg       0.93      0.92      0.92      5624\n",
      "weighted avg       0.96      0.96      0.96      5624\n",
      "\n",
      "Accuratezza sul set di test: 0.9632\n"
     ]
    }
   ],
   "execution_count": 40
  },
  {
   "metadata": {
    "ExecuteTime": {
     "end_time": "2024-11-24T08:15:51.242766Z",
     "start_time": "2024-11-24T08:15:36.270329Z"
    }
   },
   "cell_type": "code",
   "source": "svm_plot_confusion_matrices(svm_model_exp1, X_val_imputed_exp1, y_val_encoded_exp1, X_test_imputed_exp1, y_test_encoded_exp1)",
   "id": "403cb794fb74e30e",
   "outputs": [
    {
     "data": {
      "text/plain": [
       "<Figure size 1400x600 with 2 Axes>"
      ],
      "image/png": "[encoded data removed]"
     },
     "metadata": {},
     "output_type": "display_data"
    }
   ],
   "execution_count": 41
  },
  {
   "metadata": {},
   "cell_type": "markdown",
   "source": "### 2.3 LightGBM Model",
   "id": "715019a8f06b39f1"
  },
  {
   "metadata": {
    "ExecuteTime": {
     "end_time": "2024-11-24T08:15:57.986Z",
     "start_time": "2024-11-24T08:15:51.321257Z"
    }
   },
   "cell_type": "code",
   "source": "lightgbm_model_exp1 = train_lightgbm(X_train_resampled_exp1, y_train_resampled_exp1, X_val_imputed_exp1, y_val_encoded_exp1, X_test_imputed_exp1, y_test_encoded_exp1)",
   "id": "89798041563248dc",
   "outputs": [
    {
     "name": "stdout",
     "output_type": "stream",
     "text": [
      "Dimensioni dopo NaN nel set di addestramento: X_train: (88300, 28), y_train: (88300,)\n",
      "Dimensioni dopo NaN nel set di validazione: X_val: (5016, 28), y_val: (5016,)\n",
      "Dimensioni dopo NaN nel set di test: X_test: (5624, 28), y_test: (5624,)\n",
      "Classi nel set di addestramento: [0 1]\n",
      "Classi nel set di validazione: [0 1]\n",
      "Classi nel set di test: [0 1]\n",
      "Report di classificazione del set di validazione:\n",
      "              precision    recall  f1-score   support\n",
      "\n",
      "           0       0.96      1.00      0.98       613\n",
      "           1       1.00      0.99      1.00      4403\n",
      "\n",
      "    accuracy                           0.99      5016\n",
      "   macro avg       0.98      0.99      0.99      5016\n",
      "weighted avg       0.99      0.99      0.99      5016\n",
      "\n",
      "Accuratezza sul set di validazione: 0.9944\n",
      "Report di classificazione del set di test:\n",
      "              precision    recall  f1-score   support\n",
      "\n",
      "           0       0.96      0.98      0.97       810\n",
      "           1       1.00      0.99      0.99      4814\n",
      "\n",
      "    accuracy                           0.99      5624\n",
      "   macro avg       0.98      0.99      0.98      5624\n",
      "weighted avg       0.99      0.99      0.99      5624\n",
      "\n",
      "Accuratezza sul set di test: 0.9911\n"
     ]
    }
   ],
   "execution_count": 42
  },
  {
   "metadata": {
    "ExecuteTime": {
     "end_time": "2024-11-24T08:15:58.696225Z",
     "start_time": "2024-11-24T08:15:58.081648Z"
    }
   },
   "cell_type": "code",
   "source": "lightgbm_plot_confusion_matrices(lightgbm_model_exp1, X_val_imputed_exp1, y_val_encoded_exp1, X_test_imputed_exp1, y_test_encoded_exp1)",
   "id": "cd818dcce48bf66",
   "outputs": [
    {
     "data": {
      "text/plain": [
       "<Figure size 1400x600 with 4 Axes>"
      ],
      "image/png": "[encoded data removed]"
     },
     "metadata": {},
     "output_type": "display_data"
    }
   ],
   "execution_count": 43
  },
  {
   "metadata": {},
   "cell_type": "markdown",
   "source": "## Esperimento 3",
   "id": "f1656a634ff8c47d"
  },
  {
   "metadata": {},
   "cell_type": "markdown",
   "source": "Esperimento effettuato prendendo come riferimento features numeriche da \"A Survey on Audio Feature Extraction for Automatic Music Genre Classification\" di Dhamodaran et al.",
   "id": "4950e46c43aea61e"
  },
  {
   "metadata": {
    "ExecuteTime": {
     "end_time": "2024-11-24T08:15:58.790101Z",
     "start_time": "2024-11-24T08:15:58.776127Z"
    }
   },
   "cell_type": "code",
   "source": "#csv_file_path_exp2 = 'C:/Users/mario/OneDrive/Desktop/Dataset_oversampled_2'\n",
   "id": "c78e13e9af7bbedb",
   "outputs": [],
   "execution_count": 44
  },
  {
   "metadata": {
    "ExecuteTime": {
     "end_time": "2024-11-24T08:15:58.868438Z",
     "start_time": "2024-11-24T08:15:58.854440Z"
    }
   },
   "cell_type": "code",
   "source": "csv_file_path_exp2 = \"C:/underwater-classification/resample_experiments/resampling_192000/binary/Dhamodaran_resampled_192000_binary.csv\"",
   "id": "8ae91b15bb8d68ae",
   "outputs": [],
   "execution_count": 45
  },
  {
   "metadata": {
    "ExecuteTime": {
     "end_time": "2024-11-24T08:15:58.946928Z",
     "start_time": "2024-11-24T08:15:58.933389Z"
    }
   },
   "cell_type": "code",
   "source": "resample_dataset(csv_file_path_exp2, 192000)",
   "id": "e72db64a4f169230",
   "outputs": [],
   "execution_count": 46
  },
  {
   "metadata": {
    "ExecuteTime": {
     "end_time": "2024-11-24T08:15:59.288271Z",
     "start_time": "2024-11-24T08:15:59.027289Z"
    }
   },
   "cell_type": "code",
   "source": "df_exp2 = pd.read_csv(csv_file_path_exp2)",
   "id": "e070f07b0769311",
   "outputs": [],
   "execution_count": 47
  },
  {
   "metadata": {
    "ExecuteTime": {
     "end_time": "2024-11-24T08:15:59.366648Z",
     "start_time": "2024-11-24T08:15:59.353362Z"
    }
   },
   "cell_type": "code",
   "source": "#df_exp2 = exp2.extract_features_from_directory(csv_file_path_exp2)",
   "id": "4acab928e64287d",
   "outputs": [],
   "execution_count": 48
  },
  {
   "metadata": {
    "ExecuteTime": {
     "end_time": "2024-11-24T08:15:59.444931Z",
     "start_time": "2024-11-24T08:15:59.431455Z"
    }
   },
   "cell_type": "code",
   "source": "#df_exp2.to_csv(\"Dhamodaran_resampled_192000_binary.csv\", index=False)",
   "id": "a24c8d59c945e157",
   "outputs": [],
   "execution_count": 49
  },
  {
   "metadata": {
    "ExecuteTime": {
     "end_time": "2024-11-24T08:15:59.650961Z",
     "start_time": "2024-11-24T08:15:59.509943Z"
    }
   },
   "cell_type": "code",
   "source": [
    "df_exp2['File Name'] = df_exp2['File Name'].str[:-4]\n",
    "# Aggiungi una colonna \"Parent\" che contiene il prefisso del file per mantenere i segmenti coesi\n",
    "df_exp2['Parent'] = df_exp2['File Name'].str.extract(r'^(.*?)(?=_seg)')\n",
    "\n",
    "# Filtra subclass con almeno 10 parent distinti\n",
    "parent_counts = df_exp2.groupby('Subclass')['Parent'].nunique()\n",
    "subclasses_to_keep = parent_counts[parent_counts >= 10].index\n",
    "df_exp2 = df_exp2[df_exp2['Subclass'].isin(subclasses_to_keep)].copy()\n",
    "\n",
    "print(f\"Dimensione totale dopo il filtraggio: {df_exp2.shape[0]} campioni\")"
   ],
   "id": "c747427624fe4094",
   "outputs": [
    {
     "name": "stdout",
     "output_type": "stream",
     "text": [
      "Dimensione totale dopo il filtraggio: 49429 campioni\n"
     ]
    }
   ],
   "execution_count": 50
  },
  {
   "metadata": {
    "ExecuteTime": {
     "end_time": "2024-11-24T08:16:00.454682Z",
     "start_time": "2024-11-24T08:15:59.747571Z"
    }
   },
   "cell_type": "code",
   "source": "X_train_imputed_exp2, X_val_imputed_exp2, X_test_imputed_exp2, y_train_encoded_exp2, y_val_encoded_exp2, y_test_encoded_exp2 = split_dataset(df_exp2)",
   "id": "ecc0e1438bdf5ce9",
   "outputs": [
    {
     "name": "stdout",
     "output_type": "stream",
     "text": [
      "\n",
      "Dimensione del set di addestramento: 38789 campioni (78.47%)\n",
      "Dimensione del set di validazione: 5016 campioni (10.15%)\n",
      "Dimensione del set di test: 5624 campioni (11.38%)\n",
      "\n",
      "Distribuzione delle subclass nel set di addestramento:\n",
      "Class\n",
      "Target        33872\n",
      "Non-Target     4917\n",
      "Name: count, dtype: int64\n",
      "\n",
      "Distribuzione delle subclass nel set di validazione:\n",
      "Class\n",
      "Target        4403\n",
      "Non-Target     613\n",
      "Name: count, dtype: int64\n",
      "\n",
      "Distribuzione delle subclass nel set di test:\n",
      "Class\n",
      "Target        4814\n",
      "Non-Target     810\n",
      "Name: count, dtype: int64\n"
     ]
    }
   ],
   "execution_count": 51
  },
  {
   "metadata": {
    "ExecuteTime": {
     "end_time": "2024-11-24T08:16:03.982009Z",
     "start_time": "2024-11-24T08:16:00.564821Z"
    }
   },
   "cell_type": "code",
   "source": "X_train_resampled_exp2, y_train_resampled_exp2 = apply_smote(X_train_imputed_exp2, y_train_encoded_exp2, 1)",
   "id": "949a1028e3364635",
   "outputs": [
    {
     "name": "stdout",
     "output_type": "stream",
     "text": [
      "\n",
      "Distribuzione delle subclass DOPO il primo livello di SMOTE:\n",
      "Subclass\n",
      "Killer Whale                          1163\n",
      "Minke Whale                           1163\n",
      "Odontocete                            1163\n",
      "Melon Headed Whale                    1163\n",
      "Fraser_s Dolphin                      1163\n",
      "Rough-Toothed Dolphin                 1163\n",
      "Clymene Dolphin                       1163\n",
      "Southern Right Whale                  1163\n",
      "Bowhead Whale                         1163\n",
      "Spinner Dolphin                       1163\n",
      "Narwhal                               1163\n",
      "Harp Seal                             1163\n",
      "Leopard Seal                          1163\n",
      "Bearded Seal                          1163\n",
      "Walrus                                1163\n",
      "Ross Seal                             1163\n",
      "Pantropical Spotted Dolphin           1163\n",
      "Long-Finned Pilot Whale               1163\n",
      "Sperm Whale                           1163\n",
      "Beluga, White Whale                   1163\n",
      "White-sided Dolphin                   1163\n",
      "Atlantic Spotted Dolphin              1163\n",
      "False Killer Whale                    1163\n",
      "Fin, Finback Whale                    1163\n",
      "White-beaked Dolphin                  1163\n",
      "Grampus, Risso_s Dolphin              1163\n",
      "Common Dolphin                        1163\n",
      "Striped Dolphin                       1163\n",
      "Short-Finned (Pacific) Pilot Whale    1163\n",
      "Northern Right Whale                  1163\n",
      "Bottlenose Dolphin                    1163\n",
      "Humpback Whale                        1163\n",
      "Soundscape                            1163\n",
      "Name: count, dtype: int64\n",
      "\n",
      "Distribuzione delle class DOPO SMOTE:\n",
      "1    44150\n",
      "0    44150\n",
      "Name: count, dtype: int64\n"
     ]
    }
   ],
   "execution_count": 52
  },
  {
   "metadata": {
    "ExecuteTime": {
     "end_time": "2024-11-24T08:16:04.091745Z",
     "start_time": "2024-11-24T08:16:04.078263Z"
    }
   },
   "cell_type": "code",
   "source": [
    "# Rimuovi le colonne non necessarie per evitare errori nei nomi delle feature\n",
    "X_val_imputed_exp2 = X_val_imputed_exp2.drop(columns=[\"Class\", \"File Name\", \"Parent\", \"Subclass\"], errors='ignore')\n",
    "X_test_imputed_exp2 = X_test_imputed_exp2.drop(columns=[\"Class\", \"File Name\", \"Parent\", \"Subclass\"], errors='ignore')"
   ],
   "id": "ffb70026b425b922",
   "outputs": [],
   "execution_count": 53
  },
  {
   "metadata": {},
   "cell_type": "markdown",
   "source": "### 3.1 Random Forest Model",
   "id": "b356ac4491203526"
  },
  {
   "metadata": {
    "ExecuteTime": {
     "end_time": "2024-11-24T08:17:04.173853Z",
     "start_time": "2024-11-24T08:16:04.189271Z"
    }
   },
   "cell_type": "code",
   "source": "random_forest_model_exp2 = train_random_forest(X_train_resampled_exp2, y_train_resampled_exp2, X_val_imputed_exp2, y_val_encoded_exp2, X_test_imputed_exp2, y_test_encoded_exp2)",
   "id": "bf17ebca25863afe",
   "outputs": [
    {
     "name": "stdout",
     "output_type": "stream",
     "text": [
      "Accuratezza sul Validation Set: 0.9862\n",
      "Log Loss sul Validation Set: 0.0371\n",
      "\n",
      "=== Report di Classificazione - Validation Set ===\n",
      "              precision    recall  f1-score   support\n",
      "\n",
      "           0       0.90      0.99      0.95       613\n",
      "           1       1.00      0.99      0.99      4403\n",
      "\n",
      "    accuracy                           0.99      5016\n",
      "   macro avg       0.95      0.99      0.97      5016\n",
      "weighted avg       0.99      0.99      0.99      5016\n",
      "\n",
      "Accuratezza sul Test Set: 0.9858\n",
      "Log Loss sul Test Set: 0.0431\n",
      "\n",
      "=== Report di Classificazione - Test Set ===\n",
      "              precision    recall  f1-score   support\n",
      "\n",
      "           0       0.93      0.98      0.95       810\n",
      "           1       1.00      0.99      0.99      4814\n",
      "\n",
      "    accuracy                           0.99      5624\n",
      "   macro avg       0.96      0.98      0.97      5624\n",
      "weighted avg       0.99      0.99      0.99      5624\n",
      "\n"
     ]
    }
   ],
   "execution_count": 54
  },
  {
   "metadata": {
    "ExecuteTime": {
     "end_time": "2024-11-24T08:17:04.647606Z",
     "start_time": "2024-11-24T08:17:04.317334Z"
    }
   },
   "cell_type": "code",
   "source": "rf_plot_confusion_matrices(random_forest_model_exp2, X_val_imputed_exp2, y_val_encoded_exp2, X_test_imputed_exp2, y_test_encoded_exp2)",
   "id": "621b47c23a711bf6",
   "outputs": [
    {
     "data": {
      "text/plain": [
       "<Figure size 1400x600 with 4 Axes>"
      ],
      "image/png": "[encoded data removed]"
     },
     "metadata": {},
     "output_type": "display_data"
    }
   ],
   "execution_count": 55
  },
  {
   "metadata": {},
   "cell_type": "markdown",
   "source": "### 3.2 SVM Model ",
   "id": "97ee91f816302bbf"
  },
  {
   "metadata": {
    "ExecuteTime": {
     "end_time": "2024-11-24T08:21:53.734860Z",
     "start_time": "2024-11-24T08:17:04.777527Z"
    }
   },
   "cell_type": "code",
   "source": "svm_model_exp2 = train_svm(X_train_resampled_exp2, y_train_resampled_exp2, X_val_imputed_exp2, y_val_encoded_exp2, X_test_imputed_exp2, y_test_encoded_exp2)",
   "id": "2a89f73774431758",
   "outputs": [
    {
     "name": "stdout",
     "output_type": "stream",
     "text": [
      "Distribuzione delle classi reali nel set di validazione: [ 613 4403]\n",
      "Distribuzione delle classi predette nel set di validazione: [ 635 4381]\n",
      "Report di classificazione del set di validazione:\n",
      "              precision    recall  f1-score   support\n",
      "\n",
      "           0       0.92      0.95      0.94       613\n",
      "           1       0.99      0.99      0.99      4403\n",
      "\n",
      "    accuracy                           0.98      5016\n",
      "   macro avg       0.96      0.97      0.96      5016\n",
      "weighted avg       0.98      0.98      0.98      5016\n",
      "\n",
      "Accuratezza sul set di validazione: 0.9841\n",
      "Distribuzione delle classi reali nel set di test: [ 810 4814]\n",
      "Distribuzione delle classi predette nel set di test: [ 795 4829]\n",
      "Report di classificazione del set di test:\n",
      "              precision    recall  f1-score   support\n",
      "\n",
      "           0       0.94      0.92      0.93       810\n",
      "           1       0.99      0.99      0.99      4814\n",
      "\n",
      "    accuracy                           0.98      5624\n",
      "   macro avg       0.96      0.95      0.96      5624\n",
      "weighted avg       0.98      0.98      0.98      5624\n",
      "\n",
      "Accuratezza sul set di test: 0.9792\n"
     ]
    }
   ],
   "execution_count": 56
  },
  {
   "metadata": {
    "ExecuteTime": {
     "end_time": "2024-11-24T08:22:06.075289Z",
     "start_time": "2024-11-24T08:21:53.847870Z"
    }
   },
   "cell_type": "code",
   "source": "svm_plot_confusion_matrices(svm_model_exp2, X_val_imputed_exp2, y_val_encoded_exp2, X_test_imputed_exp2, y_test_encoded_exp2)",
   "id": "8e8105212f914b7f",
   "outputs": [
    {
     "data": {
      "text/plain": [
       "<Figure size 1400x600 with 2 Axes>"
      ],
      "image/png": "[encoded data removed]"
     },
     "metadata": {},
     "output_type": "display_data"
    }
   ],
   "execution_count": 57
  },
  {
   "metadata": {},
   "cell_type": "markdown",
   "source": "### 3.3 LightGBM Model",
   "id": "485ac50efaf0f240"
  },
  {
   "metadata": {
    "ExecuteTime": {
     "end_time": "2024-11-24T08:22:13.977784Z",
     "start_time": "2024-11-24T08:22:06.187674Z"
    }
   },
   "cell_type": "code",
   "source": "lightgbm_model_exp2 = train_lightgbm(X_train_resampled_exp2, y_train_resampled_exp2, X_val_imputed_exp2, y_val_encoded_exp2, X_test_imputed_exp2, y_test_encoded_exp2)",
   "id": "977e5cf8740421e5",
   "outputs": [
    {
     "name": "stdout",
     "output_type": "stream",
     "text": [
      "Dimensioni dopo NaN nel set di addestramento: X_train: (88300, 34), y_train: (88300,)\n",
      "Dimensioni dopo NaN nel set di validazione: X_val: (5016, 34), y_val: (5016,)\n",
      "Dimensioni dopo NaN nel set di test: X_test: (5624, 34), y_test: (5624,)\n",
      "Classi nel set di addestramento: [0 1]\n",
      "Classi nel set di validazione: [0 1]\n",
      "Classi nel set di test: [0 1]\n",
      "Report di classificazione del set di validazione:\n",
      "              precision    recall  f1-score   support\n",
      "\n",
      "           0       0.95      0.99      0.97       613\n",
      "           1       1.00      0.99      1.00      4403\n",
      "\n",
      "    accuracy                           0.99      5016\n",
      "   macro avg       0.98      0.99      0.98      5016\n",
      "weighted avg       0.99      0.99      0.99      5016\n",
      "\n",
      "Accuratezza sul set di validazione: 0.9934\n",
      "Report di classificazione del set di test:\n",
      "              precision    recall  f1-score   support\n",
      "\n",
      "           0       0.98      0.99      0.98       810\n",
      "           1       1.00      1.00      1.00      4814\n",
      "\n",
      "    accuracy                           1.00      5624\n",
      "   macro avg       0.99      0.99      0.99      5624\n",
      "weighted avg       1.00      1.00      1.00      5624\n",
      "\n",
      "Accuratezza sul set di test: 0.9950\n"
     ]
    }
   ],
   "execution_count": 58
  },
  {
   "metadata": {
    "ExecuteTime": {
     "end_time": "2024-11-24T08:22:14.572832Z",
     "start_time": "2024-11-24T08:22:14.106014Z"
    }
   },
   "cell_type": "code",
   "source": "lightgbm_plot_confusion_matrices(lightgbm_model_exp2, X_val_imputed_exp2, y_val_encoded_exp2, X_test_imputed_exp2, y_test_encoded_exp2)",
   "id": "d166ad74b4b614cd",
   "outputs": [
    {
     "data": {
      "text/plain": [
       "<Figure size 1400x600 with 4 Axes>"
      ],
      "image/png": "[encoded data removed]"
     },
     "metadata": {},
     "output_type": "display_data"
    }
   ],
   "execution_count": 59
  }
 ],
 "metadata": {
  "kernelspec": {
   "display_name": "Python 3 (ipykernel)",
   "language": "python",
   "name": "python3"
  },
  "language_info": {
   "codemirror_mode": {
    "name": "ipython",
    "version": 3
   },
   "file_extension": ".py",
   "mimetype": "text/x-python",
   "name": "python",
   "nbconvert_exporter": "python",
   "pygments_lexer": "ipython3",
   "version": "3.10.0"
  }
 },
 "nbformat": 4,
 "nbformat_minor": 5
}
