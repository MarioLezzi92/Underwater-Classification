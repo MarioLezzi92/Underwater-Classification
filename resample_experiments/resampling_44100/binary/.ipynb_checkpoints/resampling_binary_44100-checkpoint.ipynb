{
 "cells": [
  {
   "cell_type": "code",
   "id": "35178ba2aafdac3e",
   "metadata": {
    "collapsed": false,
    "ExecuteTime": {
     "end_time": "2024-11-23T15:46:52.055681Z",
     "start_time": "2024-11-23T15:46:48.548237Z"
    }
   },
   "source": [
    "import pandas as pd\n",
    "from oversampling_training.oversampling_binary import split_dataset, apply_smote, train_random_forest, rf_plot_confusion_matrices, train_svm, svm_plot_confusion_matrices, lightgbm_plot_confusion_matrices, train_lightgbm\n",
    "from features_extraction import features, exp1, exp2\n",
    "from preprocessing.resample import resample_dataset\n",
    "from features_extraction.features import extract_features_from_directory"
   ],
   "outputs": [],
   "execution_count": 5
  },
  {
   "metadata": {},
   "cell_type": "markdown",
   "source": "# CLASIFICAZIONE BINARIA",
   "id": "7c0fef22824ce879"
  },
  {
   "metadata": {
    "collapsed": false,
    "ExecuteTime": {
     "end_time": "2024-11-23T15:46:52.593013Z",
     "start_time": "2024-11-23T15:46:52.581440Z"
    }
   },
   "cell_type": "code",
   "source": [
    "# Caricare il dataset e applicare lo split\n",
    "csv_file_path = 'C:/underwater-classification/resample_experiments/resampling_44100/binary/Malfante_resampled_44100_binary.csv'"
   ],
   "id": "382aa16a0179920d",
   "outputs": [],
   "execution_count": 6
  },
  {
   "metadata": {},
   "cell_type": "markdown",
   "source": "### Resampling a 44100",
   "id": "8013d35ea22b0858"
  },
  {
   "metadata": {
    "ExecuteTime": {
     "end_time": "2024-11-23T15:46:54.029095Z",
     "start_time": "2024-11-23T15:46:54.012070Z"
    }
   },
   "cell_type": "code",
   "source": "#resample_dataset(csv_file_path, 44100)",
   "id": "1026332f35454a1e",
   "outputs": [],
   "execution_count": 7
  },
  {
   "metadata": {
    "ExecuteTime": {
     "end_time": "2024-11-23T15:46:55.277822Z",
     "start_time": "2024-11-23T15:46:55.114360Z"
    }
   },
   "cell_type": "code",
   "source": "df = pd.read_csv(csv_file_path)",
   "id": "b7451dd29d2d2300",
   "outputs": [],
   "execution_count": 8
  },
  {
   "metadata": {},
   "cell_type": "code",
   "source": [
    "# Carica il file CSV in un DataFrame\n",
    "#df = extract_features_from_directory(csv_file_path)"
   ],
   "id": "fba819466fad270f",
   "outputs": [],
   "execution_count": null
  },
  {
   "metadata": {},
   "cell_type": "code",
   "source": "#df.to_csv(\"Malfante_resampled_44100_binary.csv\", index=False)",
   "id": "671ee4fac4c83b65",
   "outputs": [],
   "execution_count": null
  },
  {
   "metadata": {
    "ExecuteTime": {
     "end_time": "2024-11-23T15:46:57.784549Z",
     "start_time": "2024-11-23T15:46:57.756267Z"
    }
   },
   "cell_type": "code",
   "source": "df",
   "id": "7687c6bd3146bd4b",
   "outputs": [
    {
     "data": {
      "text/plain": [
       "                                           File Name       Class  \\\n",
       "0      0f9867d8-fcf7-40d1-b846-3f7fb8100eb7_seg1.wav  Non-Target   \n",
       "1      0f9867d8-fcf7-40d1-b846-3f7fb8100eb7_seg2.wav  Non-Target   \n",
       "2      0f9867d8-fcf7-40d1-b846-3f7fb8100eb7_seg3.wav  Non-Target   \n",
       "3      0f9867d8-fcf7-40d1-b846-3f7fb8100eb7_seg4.wav  Non-Target   \n",
       "4      0f9867d8-fcf7-40d1-b846-3f7fb8100eb7_seg5.wav  Non-Target   \n",
       "...                                              ...         ...   \n",
       "50988                            ship_small_seg5.wav      Target   \n",
       "50989                            ship_small_seg6.wav      Target   \n",
       "50990                            ship_small_seg7.wav      Target   \n",
       "50991                            ship_small_seg8.wav      Target   \n",
       "50992                            ship_small_seg9.wav      Target   \n",
       "\n",
       "            Subclass  Spectral Centroid Mean  Spectral Bandwidth RMS  \\\n",
       "0      Ambient Noise             2814.810139             3623.732736   \n",
       "1      Ambient Noise             3249.861847             3805.262450   \n",
       "2      Ambient Noise             2621.295333             3576.628987   \n",
       "3      Ambient Noise             3058.706239             3745.924108   \n",
       "4      Ambient Noise             2903.128537             3701.644532   \n",
       "...              ...                     ...                     ...   \n",
       "50988         Vessel              480.625127              548.006873   \n",
       "50989         Vessel              482.119528              558.672946   \n",
       "50990         Vessel              476.431546              548.728008   \n",
       "50991         Vessel              478.236515              546.012770   \n",
       "50992         Vessel              480.660940              546.953406   \n",
       "\n",
       "       Standard Deviation  Skewness  Kurtosis  Shannon Entropy  Renyi Entropy  \\\n",
       "0                0.226857  0.290667  0.892109         4.973875      -5.538038   \n",
       "1                0.108625 -0.005667 -0.569433         5.162824      -6.900361   \n",
       "2                0.247894 -0.276422  0.685542         4.946384      -5.217734   \n",
       "3                0.156887  0.579543  1.394187         4.977184      -6.244905   \n",
       "4                0.182234 -0.088014 -0.083022         5.107663      -5.868163   \n",
       "...                   ...       ...       ...              ...            ...   \n",
       "50988            0.194803  0.013838  0.040818         4.912233      -5.506029   \n",
       "50989            0.187102  0.015868  0.072814         4.923558      -5.597483   \n",
       "50990            0.179071  0.000760  0.094909         4.904596      -5.671142   \n",
       "50991            0.188441 -0.002945  0.136699         4.846771      -5.513667   \n",
       "50992            0.200762  0.015756  0.118560         4.865820      -5.406887   \n",
       "\n",
       "       Rate of Attack  Rate of Decay  Threshold Crossings  Silence Ratio  \\\n",
       "0          169.092308       0.008137                 4344       0.611757   \n",
       "1          159.187500       0.008056                 4652       0.634756   \n",
       "2          171.703125       0.008095                 2650       0.577143   \n",
       "3          171.128205       0.008055                 3648       0.676684   \n",
       "4          164.875000       0.008143                 3886       0.587954   \n",
       "...               ...            ...                  ...            ...   \n",
       "50988      174.620253       0.009097                 3257       0.502557   \n",
       "50989      173.717949       0.008768                 3284       0.499932   \n",
       "50990      174.620253       0.008328                 3247       0.500601   \n",
       "50991      172.924051       0.008789                 3283       0.495748   \n",
       "50992      174.205128       0.009318                 3248       0.500198   \n",
       "\n",
       "           Mean  Max Over Mean  Min Over Mean  Energy Measurements  \n",
       "0     -0.034168     -21.401657      23.592554             0.052632  \n",
       "1     -0.032938      -9.474487      10.161032             0.012884  \n",
       "2     -0.030707     -25.081358      32.558956             0.062394  \n",
       "3     -0.033139     -17.870926      14.267456             0.025712  \n",
       "4     -0.031096     -16.127235      20.705437             0.034176  \n",
       "...         ...            ...            ...                  ...  \n",
       "50988  0.010883      67.246010     -71.797320             0.038067  \n",
       "50989  0.010365      68.939610     -69.740450             0.035115  \n",
       "50990  0.011134      60.327410     -65.529655             0.032190  \n",
       "50991  0.010449      76.978740     -72.533554             0.035619  \n",
       "50992  0.010403      79.520570     -77.467060             0.040413  \n",
       "\n",
       "[50993 rows x 18 columns]"
      ],
      "text/html": [
       "<div>\n",
       "<style scoped>\n",
       "    .dataframe tbody tr th:only-of-type {\n",
       "        vertical-align: middle;\n",
       "    }\n",
       "\n",
       "    .dataframe tbody tr th {\n",
       "        vertical-align: top;\n",
       "    }\n",
       "\n",
       "    .dataframe thead th {\n",
       "        text-align: right;\n",
       "    }\n",
       "</style>\n",
       "<table border=\"1\" class=\"dataframe\">\n",
       "  <thead>\n",
       "    <tr style=\"text-align: right;\">\n",
       "      <th></th>\n",
       "      <th>File Name</th>\n",
       "      <th>Class</th>\n",
       "      <th>Subclass</th>\n",
       "      <th>Spectral Centroid Mean</th>\n",
       "      <th>Spectral Bandwidth RMS</th>\n",
       "      <th>Standard Deviation</th>\n",
       "      <th>Skewness</th>\n",
       "      <th>Kurtosis</th>\n",
       "      <th>Shannon Entropy</th>\n",
       "      <th>Renyi Entropy</th>\n",
       "      <th>Rate of Attack</th>\n",
       "      <th>Rate of Decay</th>\n",
       "      <th>Threshold Crossings</th>\n",
       "      <th>Silence Ratio</th>\n",
       "      <th>Mean</th>\n",
       "      <th>Max Over Mean</th>\n",
       "      <th>Min Over Mean</th>\n",
       "      <th>Energy Measurements</th>\n",
       "    </tr>\n",
       "  </thead>\n",
       "  <tbody>\n",
       "    <tr>\n",
       "      <th>0</th>\n",
       "      <td>0f9867d8-fcf7-40d1-b846-3f7fb8100eb7_seg1.wav</td>\n",
       "      <td>Non-Target</td>\n",
       "      <td>Ambient Noise</td>\n",
       "      <td>2814.810139</td>\n",
       "      <td>3623.732736</td>\n",
       "      <td>0.226857</td>\n",
       "      <td>0.290667</td>\n",
       "      <td>0.892109</td>\n",
       "      <td>4.973875</td>\n",
       "      <td>-5.538038</td>\n",
       "      <td>169.092308</td>\n",
       "      <td>0.008137</td>\n",
       "      <td>4344</td>\n",
       "      <td>0.611757</td>\n",
       "      <td>-0.034168</td>\n",
       "      <td>-21.401657</td>\n",
       "      <td>23.592554</td>\n",
       "      <td>0.052632</td>\n",
       "    </tr>\n",
       "    <tr>\n",
       "      <th>1</th>\n",
       "      <td>0f9867d8-fcf7-40d1-b846-3f7fb8100eb7_seg2.wav</td>\n",
       "      <td>Non-Target</td>\n",
       "      <td>Ambient Noise</td>\n",
       "      <td>3249.861847</td>\n",
       "      <td>3805.262450</td>\n",
       "      <td>0.108625</td>\n",
       "      <td>-0.005667</td>\n",
       "      <td>-0.569433</td>\n",
       "      <td>5.162824</td>\n",
       "      <td>-6.900361</td>\n",
       "      <td>159.187500</td>\n",
       "      <td>0.008056</td>\n",
       "      <td>4652</td>\n",
       "      <td>0.634756</td>\n",
       "      <td>-0.032938</td>\n",
       "      <td>-9.474487</td>\n",
       "      <td>10.161032</td>\n",
       "      <td>0.012884</td>\n",
       "    </tr>\n",
       "    <tr>\n",
       "      <th>2</th>\n",
       "      <td>0f9867d8-fcf7-40d1-b846-3f7fb8100eb7_seg3.wav</td>\n",
       "      <td>Non-Target</td>\n",
       "      <td>Ambient Noise</td>\n",
       "      <td>2621.295333</td>\n",
       "      <td>3576.628987</td>\n",
       "      <td>0.247894</td>\n",
       "      <td>-0.276422</td>\n",
       "      <td>0.685542</td>\n",
       "      <td>4.946384</td>\n",
       "      <td>-5.217734</td>\n",
       "      <td>171.703125</td>\n",
       "      <td>0.008095</td>\n",
       "      <td>2650</td>\n",
       "      <td>0.577143</td>\n",
       "      <td>-0.030707</td>\n",
       "      <td>-25.081358</td>\n",
       "      <td>32.558956</td>\n",
       "      <td>0.062394</td>\n",
       "    </tr>\n",
       "    <tr>\n",
       "      <th>3</th>\n",
       "      <td>0f9867d8-fcf7-40d1-b846-3f7fb8100eb7_seg4.wav</td>\n",
       "      <td>Non-Target</td>\n",
       "      <td>Ambient Noise</td>\n",
       "      <td>3058.706239</td>\n",
       "      <td>3745.924108</td>\n",
       "      <td>0.156887</td>\n",
       "      <td>0.579543</td>\n",
       "      <td>1.394187</td>\n",
       "      <td>4.977184</td>\n",
       "      <td>-6.244905</td>\n",
       "      <td>171.128205</td>\n",
       "      <td>0.008055</td>\n",
       "      <td>3648</td>\n",
       "      <td>0.676684</td>\n",
       "      <td>-0.033139</td>\n",
       "      <td>-17.870926</td>\n",
       "      <td>14.267456</td>\n",
       "      <td>0.025712</td>\n",
       "    </tr>\n",
       "    <tr>\n",
       "      <th>4</th>\n",
       "      <td>0f9867d8-fcf7-40d1-b846-3f7fb8100eb7_seg5.wav</td>\n",
       "      <td>Non-Target</td>\n",
       "      <td>Ambient Noise</td>\n",
       "      <td>2903.128537</td>\n",
       "      <td>3701.644532</td>\n",
       "      <td>0.182234</td>\n",
       "      <td>-0.088014</td>\n",
       "      <td>-0.083022</td>\n",
       "      <td>5.107663</td>\n",
       "      <td>-5.868163</td>\n",
       "      <td>164.875000</td>\n",
       "      <td>0.008143</td>\n",
       "      <td>3886</td>\n",
       "      <td>0.587954</td>\n",
       "      <td>-0.031096</td>\n",
       "      <td>-16.127235</td>\n",
       "      <td>20.705437</td>\n",
       "      <td>0.034176</td>\n",
       "    </tr>\n",
       "    <tr>\n",
       "      <th>...</th>\n",
       "      <td>...</td>\n",
       "      <td>...</td>\n",
       "      <td>...</td>\n",
       "      <td>...</td>\n",
       "      <td>...</td>\n",
       "      <td>...</td>\n",
       "      <td>...</td>\n",
       "      <td>...</td>\n",
       "      <td>...</td>\n",
       "      <td>...</td>\n",
       "      <td>...</td>\n",
       "      <td>...</td>\n",
       "      <td>...</td>\n",
       "      <td>...</td>\n",
       "      <td>...</td>\n",
       "      <td>...</td>\n",
       "      <td>...</td>\n",
       "      <td>...</td>\n",
       "    </tr>\n",
       "    <tr>\n",
       "      <th>50988</th>\n",
       "      <td>ship_small_seg5.wav</td>\n",
       "      <td>Target</td>\n",
       "      <td>Vessel</td>\n",
       "      <td>480.625127</td>\n",
       "      <td>548.006873</td>\n",
       "      <td>0.194803</td>\n",
       "      <td>0.013838</td>\n",
       "      <td>0.040818</td>\n",
       "      <td>4.912233</td>\n",
       "      <td>-5.506029</td>\n",
       "      <td>174.620253</td>\n",
       "      <td>0.009097</td>\n",
       "      <td>3257</td>\n",
       "      <td>0.502557</td>\n",
       "      <td>0.010883</td>\n",
       "      <td>67.246010</td>\n",
       "      <td>-71.797320</td>\n",
       "      <td>0.038067</td>\n",
       "    </tr>\n",
       "    <tr>\n",
       "      <th>50989</th>\n",
       "      <td>ship_small_seg6.wav</td>\n",
       "      <td>Target</td>\n",
       "      <td>Vessel</td>\n",
       "      <td>482.119528</td>\n",
       "      <td>558.672946</td>\n",
       "      <td>0.187102</td>\n",
       "      <td>0.015868</td>\n",
       "      <td>0.072814</td>\n",
       "      <td>4.923558</td>\n",
       "      <td>-5.597483</td>\n",
       "      <td>173.717949</td>\n",
       "      <td>0.008768</td>\n",
       "      <td>3284</td>\n",
       "      <td>0.499932</td>\n",
       "      <td>0.010365</td>\n",
       "      <td>68.939610</td>\n",
       "      <td>-69.740450</td>\n",
       "      <td>0.035115</td>\n",
       "    </tr>\n",
       "    <tr>\n",
       "      <th>50990</th>\n",
       "      <td>ship_small_seg7.wav</td>\n",
       "      <td>Target</td>\n",
       "      <td>Vessel</td>\n",
       "      <td>476.431546</td>\n",
       "      <td>548.728008</td>\n",
       "      <td>0.179071</td>\n",
       "      <td>0.000760</td>\n",
       "      <td>0.094909</td>\n",
       "      <td>4.904596</td>\n",
       "      <td>-5.671142</td>\n",
       "      <td>174.620253</td>\n",
       "      <td>0.008328</td>\n",
       "      <td>3247</td>\n",
       "      <td>0.500601</td>\n",
       "      <td>0.011134</td>\n",
       "      <td>60.327410</td>\n",
       "      <td>-65.529655</td>\n",
       "      <td>0.032190</td>\n",
       "    </tr>\n",
       "    <tr>\n",
       "      <th>50991</th>\n",
       "      <td>ship_small_seg8.wav</td>\n",
       "      <td>Target</td>\n",
       "      <td>Vessel</td>\n",
       "      <td>478.236515</td>\n",
       "      <td>546.012770</td>\n",
       "      <td>0.188441</td>\n",
       "      <td>-0.002945</td>\n",
       "      <td>0.136699</td>\n",
       "      <td>4.846771</td>\n",
       "      <td>-5.513667</td>\n",
       "      <td>172.924051</td>\n",
       "      <td>0.008789</td>\n",
       "      <td>3283</td>\n",
       "      <td>0.495748</td>\n",
       "      <td>0.010449</td>\n",
       "      <td>76.978740</td>\n",
       "      <td>-72.533554</td>\n",
       "      <td>0.035619</td>\n",
       "    </tr>\n",
       "    <tr>\n",
       "      <th>50992</th>\n",
       "      <td>ship_small_seg9.wav</td>\n",
       "      <td>Target</td>\n",
       "      <td>Vessel</td>\n",
       "      <td>480.660940</td>\n",
       "      <td>546.953406</td>\n",
       "      <td>0.200762</td>\n",
       "      <td>0.015756</td>\n",
       "      <td>0.118560</td>\n",
       "      <td>4.865820</td>\n",
       "      <td>-5.406887</td>\n",
       "      <td>174.205128</td>\n",
       "      <td>0.009318</td>\n",
       "      <td>3248</td>\n",
       "      <td>0.500198</td>\n",
       "      <td>0.010403</td>\n",
       "      <td>79.520570</td>\n",
       "      <td>-77.467060</td>\n",
       "      <td>0.040413</td>\n",
       "    </tr>\n",
       "  </tbody>\n",
       "</table>\n",
       "<p>50993 rows × 18 columns</p>\n",
       "</div>"
      ]
     },
     "execution_count": 9,
     "metadata": {},
     "output_type": "execute_result"
    }
   ],
   "execution_count": 9
  },
  {
   "metadata": {},
   "cell_type": "code",
   "source": [
    "print(\"Distribuzione delle Classi prima dello split:\")\n",
    "print(df['Class'].value_counts())"
   ],
   "id": "1819dd77de965d2c",
   "outputs": [],
   "execution_count": null
  },
  {
   "metadata": {},
   "cell_type": "code",
   "source": [
    "df_Target = df[df['Class'] == 'Target']\n",
    "\n",
    "print(\"Distribuzione delle subclass in Target prima dello split:\")\n",
    "print(df_Target['Subclass'].value_counts())"
   ],
   "id": "93f4b73b31d7e805",
   "outputs": [],
   "execution_count": null
  },
  {
   "metadata": {},
   "cell_type": "code",
   "source": [
    "df_NonTarget = df[df['Class'] == 'Non-Target']\n",
    "\n",
    "print(\"Distribuzione delle subclass in Non-Target prima dello split:\")\n",
    "print(df_NonTarget['Subclass'].value_counts())"
   ],
   "id": "95e951263168f5ce",
   "outputs": [],
   "execution_count": null
  },
  {
   "metadata": {},
   "cell_type": "markdown",
   "source": "### Filtro dataframe",
   "id": "8c3db70c77705554"
  },
  {
   "metadata": {
    "ExecuteTime": {
     "end_time": "2024-11-23T15:47:05.189988Z",
     "start_time": "2024-11-23T15:47:05.083988Z"
    }
   },
   "cell_type": "code",
   "source": [
    "df['File Name'] = df['File Name'].str[:-4]\n",
    "# Aggiungi una colonna \"Parent\" che contiene il prefisso del file per mantenere i segmenti coesi\n",
    "df['Parent'] = df['File Name'].str.extract(r'^(.*?)(?=_seg)')\n",
    "\n",
    "# Filtra subclass con almeno 10 parent distinti\n",
    "parent_counts = df.groupby('Subclass')['Parent'].nunique()\n",
    "subclasses_to_keep = parent_counts[parent_counts >= 10].index\n",
    "df = df[df['Subclass'].isin(subclasses_to_keep)].copy()\n",
    "\n",
    "print(f\"Dimensione totale dopo il filtraggio: {df.shape[0]} campioni\")"
   ],
   "id": "f12cb7cad63ff7d",
   "outputs": [
    {
     "name": "stdout",
     "output_type": "stream",
     "text": [
      "Dimensione totale dopo il filtraggio: 49429 campioni\n"
     ]
    }
   ],
   "execution_count": 10
  },
  {
   "metadata": {},
   "cell_type": "markdown",
   "source": "## SPLIT",
   "id": "1ffddf1268457688"
  },
  {
   "metadata": {},
   "cell_type": "markdown",
   "source": [
    "Distribuzione delle subclass nel set di addestramento:\n",
    "Class\n",
    "Target 33872 ok\n",
    "Non-Target 4917 ok\n",
    "     \n",
    "Distribuzione delle subclass nel set di validazione:\n",
    "Class\n",
    "Target 4403 -> 4394 ha 9 campioni in più\n",
    "Non-Target 613 -> 528 ha 85 campioni in più\n",
    "\n",
    "Distribuzione delle subclass nel set di test: \n",
    "Class\n",
    "Target 4814 -> 4823 ha 9 campioni in meno\n",
    "Non-Target 810 -> 895 ha 85 campioni in meno"
   ],
   "id": "34578bc86fcc7e8"
  },
  {
   "metadata": {
    "ExecuteTime": {
     "end_time": "2024-11-23T15:47:08.561297Z",
     "start_time": "2024-11-23T15:47:08.093475Z"
    }
   },
   "cell_type": "code",
   "source": "X_train_imputed, X_val_imputed, X_test_imputed, y_train, y_val, y_test = split_dataset(df)",
   "id": "d80b838cbce47c83",
   "outputs": [
    {
     "name": "stdout",
     "output_type": "stream",
     "text": [
      "\n",
      "Dimensione del set di addestramento: 38789 campioni (78.47%)\n",
      "Dimensione del set di validazione: 5016 campioni (10.15%)\n",
      "Dimensione del set di test: 5624 campioni (11.38%)\n",
      "\n",
      "Distribuzione delle subclass nel set di addestramento:\n",
      "Class\n",
      "Target        33872\n",
      "Non-Target     4917\n",
      "Name: count, dtype: int64\n",
      "\n",
      "Distribuzione delle subclass nel set di validazione:\n",
      "Class\n",
      "Target        4403\n",
      "Non-Target     613\n",
      "Name: count, dtype: int64\n",
      "\n",
      "Distribuzione delle subclass nel set di test:\n",
      "Class\n",
      "Target        4814\n",
      "Non-Target     810\n",
      "Name: count, dtype: int64\n"
     ]
    }
   ],
   "execution_count": 11
  },
  {
   "metadata": {},
   "cell_type": "code",
   "source": "X_train_imputed[['File Name', 'Parent', 'Class']].groupby(['Parent', 'File Name']).describe()",
   "id": "265146d08d07197c",
   "outputs": [],
   "execution_count": null
  },
  {
   "metadata": {},
   "cell_type": "code",
   "source": "X_val_imputed[['File Name', 'Parent', 'Class']].groupby(['Parent', 'File Name']).describe()",
   "id": "13ff5f5efd8e3e9f",
   "outputs": [],
   "execution_count": null
  },
  {
   "metadata": {},
   "cell_type": "code",
   "source": "X_test_imputed[['File Name', 'Parent', 'Class']].groupby(['Parent', 'File Name']).describe()",
   "id": "8c2b872857460f5a",
   "outputs": [],
   "execution_count": null
  },
  {
   "metadata": {},
   "cell_type": "markdown",
   "source": "## SMOTE",
   "id": "4252323a8c0c67f6"
  },
  {
   "metadata": {
    "ExecuteTime": {
     "end_time": "2024-11-23T15:47:19.696502Z",
     "start_time": "2024-11-23T15:47:19.691503Z"
    }
   },
   "cell_type": "code",
   "source": [
    "import os\n",
    "os.environ[\"LOKY_MAX_CPU_COUNT\"] = \"4\"  # Adatta questo valore al numero di core che desideri utilizzare"
   ],
   "id": "2a9054163900c0c",
   "outputs": [],
   "execution_count": 12
  },
  {
   "metadata": {
    "ExecuteTime": {
     "end_time": "2024-11-23T15:47:28.467648Z",
     "start_time": "2024-11-23T15:47:27.904459Z"
    }
   },
   "cell_type": "code",
   "source": "X_train_resampled, y_train_resampled = apply_smote(X_train_imputed, y_train, 1)",
   "id": "f9e9fae4d65b7d4d",
   "outputs": [
    {
     "name": "stdout",
     "output_type": "stream",
     "text": [
      "\n",
      "Distribuzione delle subclass DOPO il primo livello di SMOTE:\n",
      "Subclass\n",
      "Killer Whale                          1163\n",
      "Minke Whale                           1163\n",
      "Odontocete                            1163\n",
      "Melon Headed Whale                    1163\n",
      "Fraser_s Dolphin                      1163\n",
      "Rough-Toothed Dolphin                 1163\n",
      "Clymene Dolphin                       1163\n",
      "Southern Right Whale                  1163\n",
      "Bowhead Whale                         1163\n",
      "Spinner Dolphin                       1163\n",
      "Narwhal                               1163\n",
      "Harp Seal                             1163\n",
      "Leopard Seal                          1163\n",
      "Bearded Seal                          1163\n",
      "Walrus                                1163\n",
      "Ross Seal                             1163\n",
      "Pantropical Spotted Dolphin           1163\n",
      "Long-Finned Pilot Whale               1163\n",
      "Sperm Whale                           1163\n",
      "Beluga, White Whale                   1163\n",
      "White-sided Dolphin                   1163\n",
      "Atlantic Spotted Dolphin              1163\n",
      "False Killer Whale                    1163\n",
      "Fin, Finback Whale                    1163\n",
      "White-beaked Dolphin                  1163\n",
      "Grampus, Risso_s Dolphin              1163\n",
      "Common Dolphin                        1163\n",
      "Striped Dolphin                       1163\n",
      "Short-Finned (Pacific) Pilot Whale    1163\n",
      "Northern Right Whale                  1163\n",
      "Bottlenose Dolphin                    1163\n",
      "Humpback Whale                        1163\n",
      "Soundscape                            1163\n",
      "Name: count, dtype: int64\n",
      "\n",
      "Distribuzione delle class DOPO SMOTE:\n",
      "1    44150\n",
      "0    44150\n",
      "Name: count, dtype: int64\n"
     ]
    }
   ],
   "execution_count": 15
  },
  {
   "metadata": {
    "ExecuteTime": {
     "end_time": "2024-11-23T15:47:22.970049Z",
     "start_time": "2024-11-23T15:47:22.955696Z"
    }
   },
   "cell_type": "code",
   "source": [
    "# Stampare le forme dei dataset\n",
    "print(\"\\nForme dei dataset:\")\n",
    "print(f\"Train: {X_train_imputed.shape}\") #validation\n",
    "print(f\"Validation: {X_val_imputed.shape}\") #validation\n",
    "print(f\"Test: {X_test_imputed.shape}\") #test\n",
    "print(f\"Train bilanciato e filtrato: {X_train_resampled.shape}\") #train dopo SMOTE"
   ],
   "id": "41e07c68abe09791",
   "outputs": [
    {
     "name": "stdout",
     "output_type": "stream",
     "text": [
      "\n",
      "Forme dei dataset:\n",
      "Train: (38789, 19)\n",
      "Validation: (5016, 19)\n",
      "Test: (5624, 19)\n",
      "Train bilanciato e filtrato: (88300, 15)\n"
     ]
    }
   ],
   "execution_count": 14
  },
  {
   "metadata": {},
   "cell_type": "markdown",
   "source": "# Esperimento 1",
   "id": "d5ff8fec5eafb803"
  },
  {
   "metadata": {},
   "cell_type": "markdown",
   "source": "Esperimento effettuato prendendo come riferimento alcune features numeriche da \"Malfante et al.\"",
   "id": "a050408e837f4c50"
  },
  {
   "metadata": {},
   "cell_type": "code",
   "source": [
    "# Rimuovi le colonne non necessarie per evitare errori nei nomi delle feature\n",
    "X_val_imputed = X_val_imputed.drop(columns=[\"Class\", \"File Name\", \"Parent\", \"Subclass\"], errors='ignore')\n",
    "X_test_imputed = X_test_imputed.drop(columns=[\"Class\", \"File Name\", \"Parent\", \"Subclass\"], errors='ignore')"
   ],
   "id": "d8432d8e1572557a",
   "outputs": [],
   "execution_count": null
  },
  {
   "metadata": {},
   "cell_type": "markdown",
   "source": "### 1.1 Random Forest Model",
   "id": "5b5c42beb434c835"
  },
  {
   "metadata": {},
   "cell_type": "code",
   "source": "random_forest_model = train_random_forest(X_train_resampled, y_train_resampled, X_val_imputed, y_val, X_test_imputed, y_test)",
   "id": "82695120292730ec",
   "outputs": [],
   "execution_count": null
  },
  {
   "metadata": {},
   "cell_type": "code",
   "source": "rf_plot_confusion_matrices(random_forest_model, X_val_imputed, y_val, X_test_imputed, y_test)",
   "id": "5b384e64929f3a5a",
   "outputs": [],
   "execution_count": null
  },
  {
   "metadata": {},
   "cell_type": "markdown",
   "source": "### 1.2 SVM Model",
   "id": "e26b4bd0c13ca6d7"
  },
  {
   "metadata": {},
   "cell_type": "code",
   "source": "svm_model = train_svm(X_train_resampled, y_train_resampled, X_val_imputed, y_val, X_test_imputed, y_test)",
   "id": "b000af22ed5bcf58",
   "outputs": [],
   "execution_count": null
  },
  {
   "metadata": {},
   "cell_type": "code",
   "source": "svm_plot_confusion_matrices(svm_model, X_val_imputed, y_val, X_test_imputed, y_test)",
   "id": "cc59e99335016859",
   "outputs": [],
   "execution_count": null
  },
  {
   "metadata": {},
   "cell_type": "markdown",
   "source": "### 1.3 LightGBM Model",
   "id": "3f6a6db84a4786c5"
  },
  {
   "metadata": {},
   "cell_type": "code",
   "source": "lightgbm_model = train_lightgbm(X_train_resampled, y_train_resampled, X_val_imputed, y_val, X_test_imputed, y_test)",
   "id": "d983cdf36f44efa8",
   "outputs": [],
   "execution_count": null
  },
  {
   "metadata": {},
   "cell_type": "code",
   "source": "lightgbm_plot_confusion_matrices(lightgbm_model, X_val_imputed, y_val, X_test_imputed, y_test)",
   "id": "1f2de7edf392fc23",
   "outputs": [],
   "execution_count": null
  },
  {
   "metadata": {},
   "cell_type": "markdown",
   "source": "## Esperimento 2",
   "id": "e2745cff5c0d0e15"
  },
  {
   "metadata": {},
   "cell_type": "markdown",
   "source": "Esperimento effettuato prendendo come riferimento alcune features numeriche da “BirdNet”",
   "id": "d54cfd26d0ca766b"
  },
  {
   "metadata": {},
   "cell_type": "code",
   "source": "#csv_file_path_exp1 = \"C:/Users/mario/OneDrive/Desktop/Dataset_oversampled\"",
   "id": "c897c9f734180905",
   "outputs": [],
   "execution_count": null
  },
  {
   "metadata": {},
   "cell_type": "code",
   "source": "csv_file_path_exp1 = \"C:/underwater-classification/resample_experiments/resampling_44100/binary/BirdNet_resampled_44100_binary.csv\"",
   "id": "b99dac0fcd8d2a47",
   "outputs": [],
   "execution_count": null
  },
  {
   "metadata": {},
   "cell_type": "code",
   "source": "#resample_dataset(csv_file_path_exp1, 44100)",
   "id": "7328bd00ecd529d0",
   "outputs": [],
   "execution_count": null
  },
  {
   "metadata": {},
   "cell_type": "code",
   "source": "#df_exp1 = exp1.extract_features_from_directory(csv_file_path_exp1)",
   "id": "ab6e1d51c0e89aab",
   "outputs": [],
   "execution_count": null
  },
  {
   "metadata": {},
   "cell_type": "code",
   "source": "#df_exp1.to_csv(\"BirdNet_resampled_44100_binary.csv\", index=False)",
   "id": "56bf21d3c6c05311",
   "outputs": [],
   "execution_count": null
  },
  {
   "metadata": {},
   "cell_type": "code",
   "source": "df_exp1 = pd.read_csv(csv_file_path_exp1)",
   "id": "34a7a83748baa387",
   "outputs": [],
   "execution_count": null
  },
  {
   "metadata": {},
   "cell_type": "code",
   "source": [
    "df_exp1['File Name'] = df_exp1['File Name'].str[:-4]\n",
    "# Aggiungi una colonna \"Parent\" che contiene il prefisso del file per mantenere i segmenti coesi\n",
    "df_exp1['Parent'] = df_exp1['File Name'].str.extract(r'^(.*?)(?=_seg)')\n",
    "\n",
    "# Filtra subclass con almeno 10 parent distinti\n",
    "parent_counts = df_exp1.groupby('Subclass')['Parent'].nunique()\n",
    "subclasses_to_keep = parent_counts[parent_counts >= 10].index\n",
    "df_exp1 = df_exp1[df_exp1['Subclass'].isin(subclasses_to_keep)].copy()\n",
    "\n",
    "print(f\"Dimensione totale dopo il filtraggio: {df_exp1.shape[0]} campioni\")"
   ],
   "id": "f6f28a9459055f76",
   "outputs": [],
   "execution_count": null
  },
  {
   "metadata": {},
   "cell_type": "code",
   "source": "X_train_imputed_exp1, X_val_imputed_exp1, X_test_imputed_exp1, y_train_encoded_exp1, y_val_encoded_exp1, y_test_encoded_exp1 = split_dataset(df_exp1)",
   "id": "aeb4b3ab46fb2eec",
   "outputs": [],
   "execution_count": null
  },
  {
   "metadata": {},
   "cell_type": "code",
   "source": [
    "\n",
    "X_train_resampled_exp1, y_train_resampled_exp1 = apply_smote(X_train_imputed_exp1, y_train_encoded_exp1, 1)"
   ],
   "id": "b12f934aed2e8004",
   "outputs": [],
   "execution_count": null
  },
  {
   "metadata": {},
   "cell_type": "code",
   "source": [
    "# Rimuovi le colonne non necessarie per evitare errori nei nomi delle feature\n",
    "X_val_imputed_exp1 = X_val_imputed_exp1.drop(columns=[\"Class\", \"File Name\", \"Parent\", \"Subclass\"], errors='ignore')\n",
    "X_test_imputed_exp1 = X_test_imputed_exp1.drop(columns=[\"Class\", \"File Name\", \"Parent\", \"Subclass\"], errors='ignore')"
   ],
   "id": "bd0f0d7d702212fa",
   "outputs": [],
   "execution_count": null
  },
  {
   "metadata": {},
   "cell_type": "markdown",
   "source": "### 2.1 Random Forest Model",
   "id": "90c83b73dde084e4"
  },
  {
   "metadata": {},
   "cell_type": "code",
   "source": "random_forest_model_exp1 = train_random_forest(X_train_resampled_exp1, y_train_resampled_exp1, X_val_imputed_exp1, y_val_encoded_exp1, X_test_imputed_exp1, y_test_encoded_exp1)",
   "id": "901d01ee574c8286",
   "outputs": [],
   "execution_count": null
  },
  {
   "metadata": {},
   "cell_type": "code",
   "source": "rf_plot_confusion_matrices(random_forest_model_exp1, X_val_imputed_exp1, y_val_encoded_exp1, X_test_imputed_exp1, y_test_encoded_exp1)\n",
   "id": "c3337b2b32c86f27",
   "outputs": [],
   "execution_count": null
  },
  {
   "metadata": {},
   "cell_type": "markdown",
   "source": "### 2.2 SVM Model",
   "id": "85b689328cc55ce0"
  },
  {
   "metadata": {},
   "cell_type": "code",
   "source": "svm_model_exp1 = train_svm(X_train_resampled_exp1, y_train_resampled_exp1, X_val_imputed_exp1, y_val_encoded_exp1, X_test_imputed_exp1, y_test_encoded_exp1)",
   "id": "f9210217d67af87b",
   "outputs": [],
   "execution_count": null
  },
  {
   "metadata": {},
   "cell_type": "code",
   "source": "svm_plot_confusion_matrices(svm_model_exp1, X_val_imputed_exp1, y_val_encoded_exp1, X_test_imputed_exp1, y_test_encoded_exp1)",
   "id": "403cb794fb74e30e",
   "outputs": [],
   "execution_count": null
  },
  {
   "metadata": {},
   "cell_type": "markdown",
   "source": "### 2.3 LightGBM Model",
   "id": "715019a8f06b39f1"
  },
  {
   "metadata": {},
   "cell_type": "code",
   "source": "lightgbm_model_exp1 = train_lightgbm(X_train_resampled_exp1, y_train_resampled_exp1, X_val_imputed_exp1, y_val_encoded_exp1, X_test_imputed_exp1, y_test_encoded_exp1)",
   "id": "89798041563248dc",
   "outputs": [],
   "execution_count": null
  },
  {
   "metadata": {},
   "cell_type": "code",
   "source": "lightgbm_plot_confusion_matrices(lightgbm_model_exp1, X_val_imputed_exp1, y_val_encoded_exp1, X_test_imputed_exp1, y_test_encoded_exp1)",
   "id": "cd818dcce48bf66",
   "outputs": [],
   "execution_count": null
  },
  {
   "metadata": {},
   "cell_type": "markdown",
   "source": "## Esperimento 3",
   "id": "f1656a634ff8c47d"
  },
  {
   "metadata": {},
   "cell_type": "markdown",
   "source": "Esperimento effettuato prendendo come riferimento features numeriche da \"A Survey on Audio Feature Extraction for Automatic Music Genre Classification\" di Dhamodaran et al.",
   "id": "4950e46c43aea61e"
  },
  {
   "metadata": {},
   "cell_type": "code",
   "source": "csv_file_path_exp2 = 'C:/underwater-classification/resample_experiments/resampling_44100/binary/Dhamodaran_resampled_44100_binary.csv'\n",
   "id": "c78e13e9af7bbedb",
   "outputs": [],
   "execution_count": null
  },
  {
   "metadata": {},
   "cell_type": "code",
   "source": "#resample_dataset(csv_file_path_exp2, 44100)",
   "id": "e72db64a4f169230",
   "outputs": [],
   "execution_count": null
  },
  {
   "metadata": {},
   "cell_type": "code",
   "source": "#df_exp2 = exp2.extract_features_from_directory(csv_file_path_exp2)",
   "id": "4acab928e64287d",
   "outputs": [],
   "execution_count": null
  },
  {
   "metadata": {},
   "cell_type": "code",
   "source": "#df_exp2.to_csv(\"Dhamodaran_resampled_44100_binary.csv\", index=False)",
   "id": "a24c8d59c945e157",
   "outputs": [],
   "execution_count": null
  },
  {
   "metadata": {},
   "cell_type": "code",
   "source": "df_exp2 = pd.read_csv(csv_file_path_exp2)",
   "id": "5d2e9a8d0006babf",
   "outputs": [],
   "execution_count": null
  },
  {
   "metadata": {},
   "cell_type": "code",
   "source": [
    "df_exp2['File Name'] = df_exp2['File Name'].str[:-4]\n",
    "# Aggiungi una colonna \"Parent\" che contiene il prefisso del file per mantenere i segmenti coesi\n",
    "df_exp2['Parent'] = df_exp2['File Name'].str.extract(r'^(.*?)(?=_seg)')\n",
    "\n",
    "# Filtra subclass con almeno 10 parent distinti\n",
    "parent_counts = df_exp2.groupby('Subclass')['Parent'].nunique()\n",
    "subclasses_to_keep = parent_counts[parent_counts >= 10].index\n",
    "df_exp2 = df_exp2[df_exp2['Subclass'].isin(subclasses_to_keep)].copy()\n",
    "\n",
    "print(f\"Dimensione totale dopo il filtraggio: {df_exp2.shape[0]} campioni\")"
   ],
   "id": "c747427624fe4094",
   "outputs": [],
   "execution_count": null
  },
  {
   "metadata": {},
   "cell_type": "code",
   "source": "X_train_imputed_exp2, X_val_imputed_exp2, X_test_imputed_exp2, y_train_encoded_exp2, y_val_encoded_exp2, y_test_encoded_exp2 = split_dataset(df_exp2)",
   "id": "ecc0e1438bdf5ce9",
   "outputs": [],
   "execution_count": null
  },
  {
   "metadata": {},
   "cell_type": "code",
   "source": [
    "\n",
    "X_train_resampled_exp2, y_train_resampled_exp2 = apply_smote(X_train_imputed_exp2, y_train_encoded_exp2, 1)"
   ],
   "id": "949a1028e3364635",
   "outputs": [],
   "execution_count": null
  },
  {
   "metadata": {},
   "cell_type": "code",
   "source": [
    "# Rimuovi le colonne non necessarie per evitare errori nei nomi delle feature\n",
    "X_val_imputed_exp2 = X_val_imputed_exp2.drop(columns=[\"Class\", \"File Name\", \"Parent\", \"Subclass\"], errors='ignore')\n",
    "X_test_imputed_exp2 = X_test_imputed_exp2.drop(columns=[\"Class\", \"File Name\", \"Parent\", \"Subclass\"], errors='ignore')"
   ],
   "id": "ffb70026b425b922",
   "outputs": [],
   "execution_count": null
  },
  {
   "metadata": {},
   "cell_type": "markdown",
   "source": "### 3.1 Random Forest Model",
   "id": "b356ac4491203526"
  },
  {
   "metadata": {},
   "cell_type": "code",
   "source": "random_forest_model_exp2 = train_random_forest(X_train_resampled_exp2, y_train_resampled_exp2, X_val_imputed_exp2, y_val_encoded_exp2, X_test_imputed_exp2, y_test_encoded_exp2)",
   "id": "bf17ebca25863afe",
   "outputs": [],
   "execution_count": null
  },
  {
   "metadata": {},
   "cell_type": "code",
   "source": "rf_plot_confusion_matrices(random_forest_model_exp2, X_val_imputed_exp2, y_val_encoded_exp2, X_test_imputed_exp2, y_test_encoded_exp2)",
   "id": "621b47c23a711bf6",
   "outputs": [],
   "execution_count": null
  },
  {
   "metadata": {},
   "cell_type": "markdown",
   "source": "### 3.2 SVM Model ",
   "id": "97ee91f816302bbf"
  },
  {
   "metadata": {},
   "cell_type": "code",
   "source": "svm_model_exp2 = train_svm(X_train_resampled_exp2, y_train_resampled_exp2, X_val_imputed_exp2, y_val_encoded_exp2, X_test_imputed_exp2, y_test_encoded_exp2)",
   "id": "2a89f73774431758",
   "outputs": [],
   "execution_count": null
  },
  {
   "metadata": {},
   "cell_type": "code",
   "source": "svm_plot_confusion_matrices(svm_model_exp2, X_val_imputed_exp2, y_val_encoded_exp2, X_test_imputed_exp2, y_test_encoded_exp2)",
   "id": "8e8105212f914b7f",
   "outputs": [],
   "execution_count": null
  },
  {
   "metadata": {},
   "cell_type": "markdown",
   "source": "### 3.3 LightGBM Model",
   "id": "485ac50efaf0f240"
  },
  {
   "metadata": {},
   "cell_type": "code",
   "source": "lightgbm_model_exp2 = train_lightgbm(X_train_resampled_exp2, y_train_resampled_exp2, X_val_imputed_exp2, y_val_encoded_exp2, X_test_imputed_exp2, y_test_encoded_exp2)",
   "id": "977e5cf8740421e5",
   "outputs": [],
   "execution_count": null
  },
  {
   "metadata": {},
   "cell_type": "code",
   "source": "lightgbm_plot_confusion_matrices(lightgbm_model_exp2, X_val_imputed_exp2, y_val_encoded_exp2, X_test_imputed_exp2, y_test_encoded_exp2)",
   "id": "d166ad74b4b614cd",
   "outputs": [],
   "execution_count": null
  }
 ],
 "metadata": {
  "kernelspec": {
   "display_name": "Python 3 (ipykernel)",
   "language": "python",
   "name": "python3"
  },
  "language_info": {
   "codemirror_mode": {
    "name": "ipython",
    "version": 3
   },
   "file_extension": ".py",
   "mimetype": "text/x-python",
   "name": "python",
   "nbconvert_exporter": "python",
   "pygments_lexer": "ipython3",
   "version": "3.10.0"
  }
 },
 "nbformat": 4,
 "nbformat_minor": 5
}
