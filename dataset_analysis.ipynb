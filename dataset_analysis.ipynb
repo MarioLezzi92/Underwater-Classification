{
 "cells": [
  {
   "cell_type": "code",
   "execution_count": null,
   "id": "10c3850d5ca314",
   "metadata": {
    "collapsed": false
   },
   "outputs": [],
   "source": [
    "\n",
    "import matplotlib.pyplot as plt\n",
    "import seaborn as sns\n",
    "import pandas as pd\n",
    "from collections import Counter\n",
    "import helper\n",
    "import soundfile as sf\n"
   ]
  },
  {
   "cell_type": "markdown",
   "id": "c005f012cbb5b7c5",
   "metadata": {
    "collapsed": false
   },
   "source": [
    "# Anlisi inziale csv\n"
   ]
  },
  {
   "cell_type": "markdown",
   "id": "a0e62eba1f2327ef",
   "metadata": {
    "collapsed": false
   },
   "source": [
    "ricerca e rimozione di file audio duplicati. Lettura file csv originale."
   ]
  },
  {
   "cell_type": "code",
   "execution_count": null,
   "id": "2f167796062a2b47",
   "metadata": {
    "collapsed": false
   },
   "outputs": [],
   "source": [
    "audio_df = pd.read_csv('audio_features_dataset.csv')"
   ]
  },
  {
   "cell_type": "markdown",
   "id": "b425483500e4c14d",
   "metadata": {
    "collapsed": false
   },
   "source": [
    "stampa file audio"
   ]
  },
  {
   "cell_type": "code",
   "execution_count": null,
   "id": "e4fb44e6e0ea944c",
   "metadata": {
    "collapsed": false
   },
   "outputs": [],
   "source": [
    "audio_df"
   ]
  },
  {
   "cell_type": "markdown",
   "id": "aa3b5f4ce390521b",
   "metadata": {
    "collapsed": false
   },
   "source": [
    "ricerca duplicati"
   ]
  },
  {
   "cell_type": "code",
   "execution_count": null,
   "id": "2511cb1e992988f5",
   "metadata": {
    "collapsed": false
   },
   "outputs": [],
   "source": [
    "duplicates = audio_df[audio_df.duplicated(subset=['Nome file'],keep=False)]\n",
    "duplicates"
   ]
  },
  {
   "cell_type": "markdown",
   "id": "fc3c7b5979f541e9",
   "metadata": {
    "collapsed": false
   },
   "source": [
    "risultano 50 file audio duplicati. Procedere con la rimozione"
   ]
  },
  {
   "cell_type": "code",
   "execution_count": null,
   "id": "e26a2c7d392b3cc3",
   "metadata": {
    "collapsed": false
   },
   "outputs": [],
   "source": [
    "audio_df.drop_duplicates(subset=['Nome file'], keep=False, inplace=True)"
   ]
  },
  {
   "cell_type": "code",
   "outputs": [],
   "source": [
    "audio_df.to_csv(\"audio_features_dataset_no_duplicates.csv\")"
   ],
   "metadata": {
    "collapsed": false
   },
   "id": "b470013de95bdaf",
   "execution_count": null
  },
  {
   "cell_type": "markdown",
   "id": "79426c11ae848a7a",
   "metadata": {
    "collapsed": false
   },
   "source": [
    "stampa dataframe finale senza duplicati."
   ]
  },
  {
   "cell_type": "code",
   "execution_count": null,
   "id": "22d38e58d721f3ff",
   "metadata": {
    "collapsed": false
   },
   "outputs": [],
   "source": [
    "audio_df"
   ]
  },
  {
   "cell_type": "markdown",
   "id": "e39dd3b3f192501e",
   "metadata": {
    "collapsed": false
   },
   "source": [
    "# Analisi dataset"
   ]
  },
  {
   "cell_type": "markdown",
   "id": "16b6e8052b59c0cd",
   "metadata": {
    "collapsed": false
   },
   "source": [
    "lettura file csv e conversione in un dataframe pandas\n"
   ]
  },
  {
   "cell_type": "code",
   "execution_count": null,
   "id": "84fa9b1d643aed19",
   "metadata": {
    "collapsed": false
   },
   "outputs": [],
   "source": [
    "df = pd.read_csv(\"audio_features_dataset_no_duplicates.csv\")"
   ]
  },
  {
   "cell_type": "markdown",
   "id": "315e4d8ec3b1fe68",
   "metadata": {
    "collapsed": false
   },
   "source": [
    "estrarre informazioni dal dataframe"
   ]
  },
  {
   "cell_type": "code",
   "execution_count": null,
   "id": "b10bf453b219dce7",
   "metadata": {
    "collapsed": false
   },
   "outputs": [],
   "source": [
    "amplitudes = df['Ampiezza del segnale'].tolist()\n",
    "durations = df['Durata'].tolist()\n",
    "frequencies = df['Frequenza'].tolist()\n",
    "num_channels_list = df['Numero di canali'].tolist()\n",
    "phases = df['Fase'].tolist()\n",
    "max_internal_frequencies = df['Frequenza massima interna'].tolist()\n",
    "bit_depths = df['Bit Depth'].tolist()"
   ]
  },
  {
   "cell_type": "markdown",
   "id": "937dc8a0247d5ec4",
   "metadata": {
    "collapsed": false
   },
   "source": []
  },
  {
   "cell_type": "markdown",
   "id": "6657ae56530a225d",
   "metadata": {
    "collapsed": false
   },
   "source": [
    "funzione per creazione grafiici generici"
   ]
  },
  {
   "cell_type": "code",
   "execution_count": null,
   "id": "466babe8e78a071e",
   "metadata": {
    "collapsed": false
   },
   "outputs": [],
   "source": [
    "def plot_distribution(values, title, x_label):\n",
    "    counter = Counter(values)\n",
    "    unique_values = sorted(counter.keys())\n",
    "    counts = [counter[value] for value in unique_values]\n",
    "\n",
    "    plt.figure(figsize=(12, 8))\n",
    "    bar_width = 0.8  \n",
    "    indices = range(len(unique_values))\n",
    "\n",
    "    bars = plt.bar(indices, counts, color='skyblue', edgecolor='black', width=bar_width)\n",
    "\n",
    "    for bar, count in zip(bars, counts):\n",
    "        height = bar.get_height()\n",
    "        plt.text(bar.get_x() + bar.get_width() / 2, height, str(count), ha='center', va='bottom', fontsize=10)\n",
    "\n",
    "    plt.title(title, fontsize=16)\n",
    "    plt.xlabel(x_label, fontsize=14)\n",
    "    plt.ylabel('Occorrenze', fontsize=14)\n",
    "    plt.xticks(indices, unique_values, rotation=45, ha='right')\n",
    "    plt.grid(True, axis='y', linestyle='--', alpha=0.7)\n",
    "    plt.tight_layout()\n",
    "    plt.show()"
   ]
  },
  {
   "cell_type": "markdown",
   "id": "29c43e64ebc364c3",
   "metadata": {
    "collapsed": false
   },
   "source": [
    "# Distribuzione ampiezze del segnale"
   ]
  },
  {
   "cell_type": "code",
   "execution_count": null,
   "id": "f2412798e22a9eaa",
   "metadata": {
    "collapsed": false
   },
   "outputs": [],
   "source": [
    "def plot_distribution_boxplot(values, title):\n",
    "    plt.figure(figsize=(10, 6))\n",
    "    plt.plot(values)\n",
    "    plt.title(title)\n",
    "    plt.xlabel('Indice')\n",
    "    plt.ylabel('Valore')\n",
    "    plt.grid(True)\n",
    "    plt.show()"
   ]
  },
  {
   "cell_type": "code",
   "execution_count": null,
   "id": "93a0254f06899afe",
   "metadata": {
    "collapsed": false
   },
   "outputs": [],
   "source": [
    "plot_distribution_boxplot(amplitudes, 'Distribuzione dei Valori di Ampiezza del Segnale')"
   ]
  },
  {
   "cell_type": "markdown",
   "id": "e0db1976a80ccbf4",
   "metadata": {
    "collapsed": false
   },
   "source": [
    "# Distribuzione dei valori di numero di canali"
   ]
  },
  {
   "cell_type": "code",
   "execution_count": null,
   "id": "43bfbc3b74d33403",
   "metadata": {
    "collapsed": false
   },
   "outputs": [],
   "source": [
    "plot_distribution(num_channels_list, 'Distribuzione dei Valori di Numero di Canali', 'Numero di Canali')"
   ]
  },
  {
   "cell_type": "markdown",
   "id": "87212d01e8d5e8d7",
   "metadata": {
    "collapsed": false
   },
   "source": [
    "# Bit Depth"
   ]
  },
  {
   "cell_type": "code",
   "execution_count": null,
   "id": "16f4500dca7b1708",
   "metadata": {
    "collapsed": false
   },
   "outputs": [],
   "source": [
    "plot_distribution(bit_depths, 'Distribuzione dei Valori di Bit Depth', 'Bit Depth')"
   ]
  },
  {
   "cell_type": "markdown",
   "id": "55437628f553f72b",
   "metadata": {
    "collapsed": false
   },
   "source": [
    "# Statistiche sulle classi"
   ]
  },
  {
   "cell_type": "code",
   "execution_count": null,
   "id": "cbf76d486ec6e288",
   "metadata": {
    "collapsed": false
   },
   "outputs": [],
   "source": [
    "df_target = helper.estrai_classe_target(df)\n",
    "df_target"
   ]
  },
  {
   "cell_type": "markdown",
   "id": "625c537ab396e549",
   "metadata": {
    "collapsed": false
   },
   "source": []
  },
  {
   "cell_type": "code",
   "execution_count": null,
   "id": "ed92335c9e6a4867",
   "metadata": {
    "collapsed": false
   },
   "outputs": [],
   "source": [
    "df_notarget = helper.estrai_classe_noTarget(df)\n",
    "df_notarget"
   ]
  },
  {
   "cell_type": "markdown",
   "id": "4554f99be269c7b",
   "metadata": {
    "collapsed": false
   },
   "source": [
    "Sample in Target"
   ]
  },
  {
   "cell_type": "code",
   "execution_count": null,
   "id": "e5b42ebc693cd381",
   "metadata": {
    "collapsed": false
   },
   "outputs": [],
   "source": [
    "helper.sample_counter(df_target)"
   ]
  },
  {
   "cell_type": "markdown",
   "id": "9af143f9e5e53504",
   "metadata": {
    "collapsed": false
   },
   "source": [
    "Sample in Not-Target"
   ]
  },
  {
   "cell_type": "code",
   "execution_count": null,
   "id": "2f836195e46c8744",
   "metadata": {
    "collapsed": false
   },
   "outputs": [],
   "source": [
    "helper.sample_counterNot(df_notarget)"
   ]
  },
  {
   "cell_type": "markdown",
   "id": "d9c00e0c9f7ce1ab",
   "metadata": {
    "collapsed": false
   },
   "source": [
    "# Sample rates"
   ]
  },
  {
   "cell_type": "code",
   "execution_count": null,
   "id": "e2f548281f6944d3",
   "metadata": {
    "collapsed": false
   },
   "outputs": [],
   "source": [
    "plot_distribution(frequencies, 'Distribuzione dei Valori di Frequenza', 'Frequenza (Hz)')"
   ]
  },
  {
   "cell_type": "markdown",
   "id": "44f0b95d60db264a",
   "metadata": {
    "collapsed": false
   },
   "source": [
    "Sample rates nella classe Target"
   ]
  },
  {
   "cell_type": "code",
   "execution_count": null,
   "id": "35103f19ff39a952",
   "metadata": {
    "collapsed": false
   },
   "outputs": [],
   "source": [
    "helper.plot_frequency_distribution(df_target)"
   ]
  },
  {
   "cell_type": "markdown",
   "id": "714ffe961b3c0b89",
   "metadata": {
    "collapsed": false
   },
   "source": [
    "sample rates nella classe Non-Target"
   ]
  },
  {
   "cell_type": "code",
   "execution_count": null,
   "id": "2c809aaaf1dcd771",
   "metadata": {
    "collapsed": false
   },
   "outputs": [],
   "source": [
    "helper.plot_frequency_distribution_not(df_notarget)\n"
   ]
  },
  {
   "cell_type": "code",
   "execution_count": null,
   "id": "5a3077c815c7c5a",
   "metadata": {
    "collapsed": false
   },
   "outputs": [],
   "source": [
    "helper.plot_combined_frequency_distribution(df_target,df_notarget)"
   ]
  },
  {
   "cell_type": "markdown",
   "id": "d1a7d2bb48fb50a9",
   "metadata": {
    "collapsed": false
   },
   "source": [
    "# Distribuzione durate audio"
   ]
  },
  {
   "cell_type": "code",
   "execution_count": null,
   "id": "3e7757b2e24f5290",
   "metadata": {
    "collapsed": false
   },
   "outputs": [],
   "source": [
    "def plot_audio_durations_histogram(durations, bins=30):\n",
    "    plt.figure(figsize=(12, 8))\n",
    "    sns.histplot(durations, bins=bins, kde=True)\n",
    "    plt.title('Distribuzione delle durate degli audio')\n",
    "    plt.xlabel('Durata (secondi)')\n",
    "    plt.ylabel('Frequenza')\n",
    "    plt.grid(True)\n",
    "    plt.show()"
   ]
  },
  {
   "cell_type": "code",
   "execution_count": null,
   "id": "a24942449a82feda",
   "metadata": {
    "collapsed": false
   },
   "outputs": [],
   "source": [
    "plot_audio_durations_histogram(durations)"
   ]
  },
  {
   "cell_type": "markdown",
   "id": "8f4de098a4f05acf",
   "metadata": {
    "collapsed": false
   },
   "source": [
    "distribuzione durate audio in Target"
   ]
  },
  {
   "cell_type": "code",
   "execution_count": null,
   "id": "6a1958193e4b1e9c",
   "metadata": {
    "collapsed": false
   },
   "outputs": [],
   "source": [
    "helper.plot_duration_target(df_target)"
   ]
  },
  {
   "cell_type": "markdown",
   "id": "c4002413c875d45b",
   "metadata": {
    "collapsed": false
   },
   "source": [
    "distribuzione durate audio in Non-Target"
   ]
  },
  {
   "cell_type": "code",
   "execution_count": null,
   "id": "6a0c90e4cb4c38e8",
   "metadata": {
    "collapsed": false
   },
   "outputs": [],
   "source": [
    "helper.plot_duration_target(df_notarget)"
   ]
  },
  {
   "cell_type": "markdown",
   "id": "7ce48d71694f6056",
   "metadata": {
    "collapsed": false
   },
   "source": [
    "Distribuzione delle durate per entrambe le classi, con calcolo della mediana"
   ]
  },
  {
   "cell_type": "code",
   "execution_count": null,
   "id": "39d0765a66c3b4e2",
   "metadata": {
    "collapsed": false
   },
   "outputs": [],
   "source": [
    "helper.plot_combined_duration_distribution(df_target, df_notarget)"
   ]
  }
 ],
 "metadata": {
  "kernelspec": {
   "display_name": "Python 3 (ipykernel)",
   "language": "python",
   "name": "python3"
  },
  "language_info": {
   "codemirror_mode": {
    "name": "ipython",
    "version": 3
   },
   "file_extension": ".py",
   "mimetype": "text/x-python",
   "name": "python",
   "nbconvert_exporter": "python",
   "pygments_lexer": "ipython3",
   "version": "3.10.0"
  }
 },
 "nbformat": 4,
 "nbformat_minor": 5
}
