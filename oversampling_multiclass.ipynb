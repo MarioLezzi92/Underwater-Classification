{
 "cells": [
  {
   "cell_type": "code",
   "outputs": [],
   "source": [
    "import pandas as pd\n",
    "\n",
    "import oversampling_binary\n",
    "import oversampling_multiclass"
   ],
   "metadata": {
    "collapsed": false,
    "ExecuteTime": {
     "end_time": "2024-08-29T08:04:37.752739Z",
     "start_time": "2024-08-29T08:04:36.649043Z"
    }
   },
   "id": "21849e8ea4e24616",
   "execution_count": 1
  },
  {
   "cell_type": "markdown",
   "source": [
    "# CLASSIFICAZIONE MULTICLASSE"
   ],
   "metadata": {
    "collapsed": false
   },
   "id": "9c1cc82f5a26fb65"
  },
  {
   "cell_type": "code",
   "outputs": [],
   "source": [
    "# Caricare il dataset e applicare lo split\n",
    "csv_file_path = 'audio_features.csv'\n",
    "X_train_imputed, X_val_imputed, X_test_imputed, y_train_encoded, y_val_encoded, y_test_encoded, subclass_encoder = oversampling_multiclass.split_dataset(csv_file_path)"
   ],
   "metadata": {
    "collapsed": false,
    "ExecuteTime": {
     "end_time": "2024-08-29T08:04:37.939922Z",
     "start_time": "2024-08-29T08:04:37.754307Z"
    }
   },
   "id": "c9ef5c3a3ae78ff4",
   "execution_count": 2
  },
  {
   "cell_type": "code",
   "outputs": [
    {
     "name": "stdout",
     "output_type": "stream",
     "text": [
      "Distribuzione delle classi nel set di addestramento:\n",
      "Tanker                              9181\n",
      "Passengership                       8847\n",
      "Tug                                 8539\n",
      "Cargo                               7705\n",
      "Vessel                               282\n",
      "Seismic airguns surveys               18\n",
      "Seal bomb                             17\n",
      "Sonar                                 16\n",
      "Echosounder                            7\n",
      "Underwater Communication Signals       6\n",
      "Scuba divers                           4\n",
      "Seafloor fossil fuel processing        4\n",
      "Acoustic release                       3\n",
      "Acoustic Harassment Devices            2\n",
      "Explosion                              2\n",
      "Fishing pinger                         2\n",
      "Name: count, dtype: int64\n"
     ]
    }
   ],
   "source": [
    "# Stampare la distribuzione delle classi\n",
    "print(\"Distribuzione delle classi nel set di addestramento:\")\n",
    "print(pd.Series(subclass_encoder.inverse_transform(y_train_encoded)).value_counts())"
   ],
   "metadata": {
    "collapsed": false,
    "ExecuteTime": {
     "end_time": "2024-08-29T08:04:37.954670Z",
     "start_time": "2024-08-29T08:04:37.941275Z"
    }
   },
   "id": "feaf8ef7e406cd2c",
   "execution_count": 3
  },
  {
   "cell_type": "code",
   "outputs": [
    {
     "name": "stdout",
     "output_type": "stream",
     "text": [
      "\n",
      "Contenuto del set di addestramento prima di SMOTE:\n"
     ]
    },
    {
     "data": {
      "text/plain": "         Feature_0    Feature_1  Feature_2  Feature_3   Feature_4  Feature_5  \\\n0      4477.358083  4252.395919   0.052583  -0.065835   23.613643   3.186076   \n1      2623.478284  2626.760521   0.041744  -0.095743   81.076911   2.165237   \n2      3509.880580  5613.858656   0.060189   1.121935  145.730186   2.333120   \n3      2521.859074  5201.373090   0.067112   0.740150  134.817244   2.341261   \n4      1209.973836  2659.503763   0.043428   1.686207  264.717755   1.846858   \n...            ...          ...        ...        ...         ...        ...   \n34630   456.747011   797.837269   0.194804   0.013841    0.040806   4.912163   \n34631   452.009912   804.062723   0.187102   0.015867    0.072808   4.923598   \n34632   446.388360   808.959976   0.179071   0.000758    0.094906   4.904681   \n34633   451.316540   794.817133   0.188441  -0.002943    0.136695   4.846811   \n34634   452.374762   782.092929   0.200762   0.015758    0.118552   4.865919   \n\n       Feature_6  Feature_7  Feature_8                     Subclass  \n0     -371.23227    23776.0   0.698419  Acoustic Harassment Devices  \n1     -475.12302    13548.0   0.815664  Acoustic Harassment Devices  \n2     -582.94653     1912.0   0.815846             Acoustic release  \n3     -581.94150     4383.0   0.757898             Acoustic release  \n4     -595.79376     1761.0   0.909339             Acoustic release  \n...          ...        ...        ...                          ...  \n34630 -420.84280     3257.0   0.502427                       Vessel  \n34631 -419.22150     3284.0   0.499966                       Vessel  \n34632 -423.88705     3247.0   0.500477                       Vessel  \n34633 -406.76170     3283.0   0.495841                       Vessel  \n34634 -417.80942     3248.0   0.500070                       Vessel  \n\n[34635 rows x 10 columns]",
      "text/html": "<div>\n<style scoped>\n    .dataframe tbody tr th:only-of-type {\n        vertical-align: middle;\n    }\n\n    .dataframe tbody tr th {\n        vertical-align: top;\n    }\n\n    .dataframe thead th {\n        text-align: right;\n    }\n</style>\n<table border=\"1\" class=\"dataframe\">\n  <thead>\n    <tr style=\"text-align: right;\">\n      <th></th>\n      <th>Feature_0</th>\n      <th>Feature_1</th>\n      <th>Feature_2</th>\n      <th>Feature_3</th>\n      <th>Feature_4</th>\n      <th>Feature_5</th>\n      <th>Feature_6</th>\n      <th>Feature_7</th>\n      <th>Feature_8</th>\n      <th>Subclass</th>\n    </tr>\n  </thead>\n  <tbody>\n    <tr>\n      <th>0</th>\n      <td>4477.358083</td>\n      <td>4252.395919</td>\n      <td>0.052583</td>\n      <td>-0.065835</td>\n      <td>23.613643</td>\n      <td>3.186076</td>\n      <td>-371.23227</td>\n      <td>23776.0</td>\n      <td>0.698419</td>\n      <td>Acoustic Harassment Devices</td>\n    </tr>\n    <tr>\n      <th>1</th>\n      <td>2623.478284</td>\n      <td>2626.760521</td>\n      <td>0.041744</td>\n      <td>-0.095743</td>\n      <td>81.076911</td>\n      <td>2.165237</td>\n      <td>-475.12302</td>\n      <td>13548.0</td>\n      <td>0.815664</td>\n      <td>Acoustic Harassment Devices</td>\n    </tr>\n    <tr>\n      <th>2</th>\n      <td>3509.880580</td>\n      <td>5613.858656</td>\n      <td>0.060189</td>\n      <td>1.121935</td>\n      <td>145.730186</td>\n      <td>2.333120</td>\n      <td>-582.94653</td>\n      <td>1912.0</td>\n      <td>0.815846</td>\n      <td>Acoustic release</td>\n    </tr>\n    <tr>\n      <th>3</th>\n      <td>2521.859074</td>\n      <td>5201.373090</td>\n      <td>0.067112</td>\n      <td>0.740150</td>\n      <td>134.817244</td>\n      <td>2.341261</td>\n      <td>-581.94150</td>\n      <td>4383.0</td>\n      <td>0.757898</td>\n      <td>Acoustic release</td>\n    </tr>\n    <tr>\n      <th>4</th>\n      <td>1209.973836</td>\n      <td>2659.503763</td>\n      <td>0.043428</td>\n      <td>1.686207</td>\n      <td>264.717755</td>\n      <td>1.846858</td>\n      <td>-595.79376</td>\n      <td>1761.0</td>\n      <td>0.909339</td>\n      <td>Acoustic release</td>\n    </tr>\n    <tr>\n      <th>...</th>\n      <td>...</td>\n      <td>...</td>\n      <td>...</td>\n      <td>...</td>\n      <td>...</td>\n      <td>...</td>\n      <td>...</td>\n      <td>...</td>\n      <td>...</td>\n      <td>...</td>\n    </tr>\n    <tr>\n      <th>34630</th>\n      <td>456.747011</td>\n      <td>797.837269</td>\n      <td>0.194804</td>\n      <td>0.013841</td>\n      <td>0.040806</td>\n      <td>4.912163</td>\n      <td>-420.84280</td>\n      <td>3257.0</td>\n      <td>0.502427</td>\n      <td>Vessel</td>\n    </tr>\n    <tr>\n      <th>34631</th>\n      <td>452.009912</td>\n      <td>804.062723</td>\n      <td>0.187102</td>\n      <td>0.015867</td>\n      <td>0.072808</td>\n      <td>4.923598</td>\n      <td>-419.22150</td>\n      <td>3284.0</td>\n      <td>0.499966</td>\n      <td>Vessel</td>\n    </tr>\n    <tr>\n      <th>34632</th>\n      <td>446.388360</td>\n      <td>808.959976</td>\n      <td>0.179071</td>\n      <td>0.000758</td>\n      <td>0.094906</td>\n      <td>4.904681</td>\n      <td>-423.88705</td>\n      <td>3247.0</td>\n      <td>0.500477</td>\n      <td>Vessel</td>\n    </tr>\n    <tr>\n      <th>34633</th>\n      <td>451.316540</td>\n      <td>794.817133</td>\n      <td>0.188441</td>\n      <td>-0.002943</td>\n      <td>0.136695</td>\n      <td>4.846811</td>\n      <td>-406.76170</td>\n      <td>3283.0</td>\n      <td>0.495841</td>\n      <td>Vessel</td>\n    </tr>\n    <tr>\n      <th>34634</th>\n      <td>452.374762</td>\n      <td>782.092929</td>\n      <td>0.200762</td>\n      <td>0.015758</td>\n      <td>0.118552</td>\n      <td>4.865919</td>\n      <td>-417.80942</td>\n      <td>3248.0</td>\n      <td>0.500070</td>\n      <td>Vessel</td>\n    </tr>\n  </tbody>\n</table>\n<p>34635 rows × 10 columns</p>\n</div>"
     },
     "metadata": {},
     "output_type": "display_data"
    }
   ],
   "source": [
    "print(\"\\nContenuto del set di addestramento prima di SMOTE:\")\n",
    "train_df_before_smote = pd.DataFrame(X_train_imputed, columns=[f'Feature_{i}' for i in range(X_train_imputed.shape[1])])\n",
    "train_df_before_smote['Subclass'] = subclass_encoder.inverse_transform(y_train_encoded)\n",
    "display(train_df_before_smote)"
   ],
   "metadata": {
    "collapsed": false,
    "ExecuteTime": {
     "end_time": "2024-08-29T08:04:37.985761Z",
     "start_time": "2024-08-29T08:04:37.955668Z"
    }
   },
   "id": "d8fbbfcf8388f7ed",
   "execution_count": 4
  },
  {
   "cell_type": "code",
   "outputs": [
    {
     "name": "stdout",
     "output_type": "stream",
     "text": [
      "\n",
      "Distribuzione delle classi nel set di validazione:\n",
      "Passengership    1010\n",
      "Cargo             923\n",
      "Tanker            911\n",
      "Tug               560\n",
      "Vessel             20\n",
      "Echosounder         3\n",
      "Name: count, dtype: int64\n"
     ]
    }
   ],
   "source": [
    "print(\"\\nDistribuzione delle classi nel set di validazione:\")\n",
    "print(pd.Series(subclass_encoder.inverse_transform(y_val_encoded)).value_counts())"
   ],
   "metadata": {
    "collapsed": false,
    "ExecuteTime": {
     "end_time": "2024-08-29T08:04:38.001081Z",
     "start_time": "2024-08-29T08:04:37.988077Z"
    }
   },
   "id": "9eabbea9d78ae02b",
   "execution_count": 5
  },
  {
   "cell_type": "code",
   "outputs": [
    {
     "name": "stdout",
     "output_type": "stream",
     "text": [
      "\n",
      "Distribuzione delle classi nel set di test:\n",
      "Passengership    1871\n",
      "Tanker           1129\n",
      "Tug              1063\n",
      "Cargo            1043\n",
      "Vessel              5\n",
      "Echosounder         4\n",
      "Sonar               4\n",
      "Name: count, dtype: int64\n"
     ]
    }
   ],
   "source": [
    "print(\"\\nDistribuzione delle classi nel set di test:\")\n",
    "print(pd.Series(subclass_encoder.inverse_transform(y_test_encoded)).value_counts())"
   ],
   "metadata": {
    "collapsed": false,
    "ExecuteTime": {
     "end_time": "2024-08-29T08:04:38.016120Z",
     "start_time": "2024-08-29T08:04:38.002596Z"
    }
   },
   "id": "56f3644f422a071e",
   "execution_count": 6
  },
  {
   "cell_type": "code",
   "outputs": [],
   "source": [
    "import os\n",
    "os.environ[\"LOKY_MAX_CPU_COUNT\"] = \"4\"  # Adatta questo valore al numero di core che desideri utilizzare"
   ],
   "metadata": {
    "collapsed": false,
    "ExecuteTime": {
     "end_time": "2024-08-29T08:04:38.032030Z",
     "start_time": "2024-08-29T08:04:38.017122Z"
    }
   },
   "id": "75d8d3b61d345a61",
   "execution_count": 7
  },
  {
   "cell_type": "code",
   "outputs": [
    {
     "name": "stdout",
     "output_type": "stream",
     "text": [
      "Attenzione: Il numero di vicini (4) è maggiore del numero di campioni nella classe meno rappresentata (2). Ridurre k_neighbors.\n",
      "Distribuzione delle classi nel set di training dopo SMOTE:\n",
      "0     9181\n",
      "1     9181\n",
      "2     9181\n",
      "3     9181\n",
      "4     9181\n",
      "5     9181\n",
      "6     9181\n",
      "7     9181\n",
      "8     9181\n",
      "9     9181\n",
      "10    9181\n",
      "11    9181\n",
      "12    9181\n",
      "13    9181\n",
      "14    9181\n",
      "15    9181\n",
      "Name: count, dtype: int64\n"
     ]
    }
   ],
   "source": [
    "# Applicare SMOTE\n",
    "X_train_resampled, y_train_resampled = oversampling_multiclass.apply_smote_multiclass(X_train_imputed, y_train_encoded, 4)"
   ],
   "metadata": {
    "collapsed": false,
    "ExecuteTime": {
     "end_time": "2024-08-29T08:04:38.311639Z",
     "start_time": "2024-08-29T08:04:38.033982Z"
    }
   },
   "id": "5b4963aa594a882e",
   "execution_count": 8
  },
  {
   "cell_type": "code",
   "outputs": [
    {
     "name": "stdout",
     "output_type": "stream",
     "text": [
      "\n",
      "Distribuzione delle classi nel set di training dopo SMOTE:\n",
      "Acoustic Harassment Devices         9181\n",
      "Acoustic release                    9181\n",
      "Cargo                               9181\n",
      "Echosounder                         9181\n",
      "Explosion                           9181\n",
      "Fishing pinger                      9181\n",
      "Passengership                       9181\n",
      "Scuba divers                        9181\n",
      "Seafloor fossil fuel processing     9181\n",
      "Seal bomb                           9181\n",
      "Seismic airguns surveys             9181\n",
      "Sonar                               9181\n",
      "Tanker                              9181\n",
      "Tug                                 9181\n",
      "Underwater Communication Signals    9181\n",
      "Vessel                              9181\n",
      "Name: count, dtype: int64\n"
     ]
    }
   ],
   "source": [
    "# Stampare la distribuzione delle classi dopo SMOTE\n",
    "print(\"\\nDistribuzione delle classi nel set di training dopo SMOTE:\")\n",
    "print(pd.Series(subclass_encoder.inverse_transform(y_train_resampled)).value_counts())"
   ],
   "metadata": {
    "collapsed": false,
    "ExecuteTime": {
     "end_time": "2024-08-29T08:04:38.326852Z",
     "start_time": "2024-08-29T08:04:38.313153Z"
    }
   },
   "id": "e164c4cac28fa6c2",
   "execution_count": 9
  },
  {
   "cell_type": "code",
   "outputs": [
    {
     "name": "stdout",
     "output_type": "stream",
     "text": [
      "\n",
      "Contenuto del set di addestramento dopo SMOTE:\n"
     ]
    },
    {
     "data": {
      "text/plain": "           Feature_0     Feature_1  Feature_2  Feature_3   Feature_4  \\\n0        4477.358083   4252.395919   0.052583  -0.065835   23.613643   \n1        2623.478284   2626.760521   0.041744  -0.095743   81.076911   \n2        3509.880580   5613.858656   0.060189   1.121935  145.730186   \n3        2521.859074   5201.373090   0.067112   0.740150  134.817244   \n4        1209.973836   2659.503763   0.043428   1.686207  264.717755   \n...              ...           ...        ...        ...         ...   \n146891   4069.548725   4810.489456   0.055798   0.058212    1.015592   \n146892   1805.872086   4061.731231   0.015967  -0.020603   -0.020222   \n146893  11820.275264  11540.016909   0.043590   0.018912    2.751272   \n146894   2456.658173   4982.190082   0.075606  -0.012942    0.211998   \n146895  11522.868471  11474.821152   0.053790  -0.011294    2.001330   \n\n        Feature_5   Feature_6     Feature_7  Feature_8  \\\n0        3.186076 -371.232270  23776.000000   0.698419   \n1        2.165237 -475.123020  13548.000000   0.815664   \n2        2.333120 -582.946530   1912.000000   0.815846   \n3        2.341261 -581.941500   4383.000000   0.757898   \n4        1.846858 -595.793760   1761.000000   0.909339   \n...           ...         ...           ...        ...   \n146891   3.827063 -237.869733  15638.560686   0.543016   \n146892   4.821025 -308.643320      0.000000   1.000000   \n146893   3.600472 -160.830469  54021.148340   0.363999   \n146894   4.769933 -192.790204      0.281760   0.999999   \n146895   3.865873 -141.405548  52031.217629   0.387011   \n\n                           Subclass  \n0       Acoustic Harassment Devices  \n1       Acoustic Harassment Devices  \n2                  Acoustic release  \n3                  Acoustic release  \n4                  Acoustic release  \n...                             ...  \n146891                       Vessel  \n146892                       Vessel  \n146893                       Vessel  \n146894                       Vessel  \n146895                       Vessel  \n\n[146896 rows x 10 columns]",
      "text/html": "<div>\n<style scoped>\n    .dataframe tbody tr th:only-of-type {\n        vertical-align: middle;\n    }\n\n    .dataframe tbody tr th {\n        vertical-align: top;\n    }\n\n    .dataframe thead th {\n        text-align: right;\n    }\n</style>\n<table border=\"1\" class=\"dataframe\">\n  <thead>\n    <tr style=\"text-align: right;\">\n      <th></th>\n      <th>Feature_0</th>\n      <th>Feature_1</th>\n      <th>Feature_2</th>\n      <th>Feature_3</th>\n      <th>Feature_4</th>\n      <th>Feature_5</th>\n      <th>Feature_6</th>\n      <th>Feature_7</th>\n      <th>Feature_8</th>\n      <th>Subclass</th>\n    </tr>\n  </thead>\n  <tbody>\n    <tr>\n      <th>0</th>\n      <td>4477.358083</td>\n      <td>4252.395919</td>\n      <td>0.052583</td>\n      <td>-0.065835</td>\n      <td>23.613643</td>\n      <td>3.186076</td>\n      <td>-371.232270</td>\n      <td>23776.000000</td>\n      <td>0.698419</td>\n      <td>Acoustic Harassment Devices</td>\n    </tr>\n    <tr>\n      <th>1</th>\n      <td>2623.478284</td>\n      <td>2626.760521</td>\n      <td>0.041744</td>\n      <td>-0.095743</td>\n      <td>81.076911</td>\n      <td>2.165237</td>\n      <td>-475.123020</td>\n      <td>13548.000000</td>\n      <td>0.815664</td>\n      <td>Acoustic Harassment Devices</td>\n    </tr>\n    <tr>\n      <th>2</th>\n      <td>3509.880580</td>\n      <td>5613.858656</td>\n      <td>0.060189</td>\n      <td>1.121935</td>\n      <td>145.730186</td>\n      <td>2.333120</td>\n      <td>-582.946530</td>\n      <td>1912.000000</td>\n      <td>0.815846</td>\n      <td>Acoustic release</td>\n    </tr>\n    <tr>\n      <th>3</th>\n      <td>2521.859074</td>\n      <td>5201.373090</td>\n      <td>0.067112</td>\n      <td>0.740150</td>\n      <td>134.817244</td>\n      <td>2.341261</td>\n      <td>-581.941500</td>\n      <td>4383.000000</td>\n      <td>0.757898</td>\n      <td>Acoustic release</td>\n    </tr>\n    <tr>\n      <th>4</th>\n      <td>1209.973836</td>\n      <td>2659.503763</td>\n      <td>0.043428</td>\n      <td>1.686207</td>\n      <td>264.717755</td>\n      <td>1.846858</td>\n      <td>-595.793760</td>\n      <td>1761.000000</td>\n      <td>0.909339</td>\n      <td>Acoustic release</td>\n    </tr>\n    <tr>\n      <th>...</th>\n      <td>...</td>\n      <td>...</td>\n      <td>...</td>\n      <td>...</td>\n      <td>...</td>\n      <td>...</td>\n      <td>...</td>\n      <td>...</td>\n      <td>...</td>\n      <td>...</td>\n    </tr>\n    <tr>\n      <th>146891</th>\n      <td>4069.548725</td>\n      <td>4810.489456</td>\n      <td>0.055798</td>\n      <td>0.058212</td>\n      <td>1.015592</td>\n      <td>3.827063</td>\n      <td>-237.869733</td>\n      <td>15638.560686</td>\n      <td>0.543016</td>\n      <td>Vessel</td>\n    </tr>\n    <tr>\n      <th>146892</th>\n      <td>1805.872086</td>\n      <td>4061.731231</td>\n      <td>0.015967</td>\n      <td>-0.020603</td>\n      <td>-0.020222</td>\n      <td>4.821025</td>\n      <td>-308.643320</td>\n      <td>0.000000</td>\n      <td>1.000000</td>\n      <td>Vessel</td>\n    </tr>\n    <tr>\n      <th>146893</th>\n      <td>11820.275264</td>\n      <td>11540.016909</td>\n      <td>0.043590</td>\n      <td>0.018912</td>\n      <td>2.751272</td>\n      <td>3.600472</td>\n      <td>-160.830469</td>\n      <td>54021.148340</td>\n      <td>0.363999</td>\n      <td>Vessel</td>\n    </tr>\n    <tr>\n      <th>146894</th>\n      <td>2456.658173</td>\n      <td>4982.190082</td>\n      <td>0.075606</td>\n      <td>-0.012942</td>\n      <td>0.211998</td>\n      <td>4.769933</td>\n      <td>-192.790204</td>\n      <td>0.281760</td>\n      <td>0.999999</td>\n      <td>Vessel</td>\n    </tr>\n    <tr>\n      <th>146895</th>\n      <td>11522.868471</td>\n      <td>11474.821152</td>\n      <td>0.053790</td>\n      <td>-0.011294</td>\n      <td>2.001330</td>\n      <td>3.865873</td>\n      <td>-141.405548</td>\n      <td>52031.217629</td>\n      <td>0.387011</td>\n      <td>Vessel</td>\n    </tr>\n  </tbody>\n</table>\n<p>146896 rows × 10 columns</p>\n</div>"
     },
     "metadata": {},
     "output_type": "display_data"
    }
   ],
   "source": [
    "# Stampare tutto il set di addestramento dopo SMOTE\n",
    "print(\"\\nContenuto del set di addestramento dopo SMOTE:\")\n",
    "train_df_after_smote = pd.DataFrame(X_train_resampled, columns=[f'Feature_{i}' for i in range(X_train_resampled.shape[1])])\n",
    "train_df_after_smote['Subclass'] = subclass_encoder.inverse_transform(y_train_resampled)\n",
    "display(train_df_after_smote)"
   ],
   "metadata": {
    "collapsed": false,
    "ExecuteTime": {
     "end_time": "2024-08-29T08:04:38.357355Z",
     "start_time": "2024-08-29T08:04:38.328602Z"
    }
   },
   "id": "e7e196dbf914435a",
   "execution_count": 10
  },
  {
   "cell_type": "code",
   "outputs": [
    {
     "name": "stdout",
     "output_type": "stream",
     "text": [
      "\n",
      "Forme dei dataset:\n",
      "X_train_imputed: (34635, 9)\n",
      "X_val_imputed: (3427, 9)\n",
      "X_test_imputed: (5119, 9)\n",
      "X_train_resampled: (146896, 9)\n"
     ]
    }
   ],
   "source": [
    "# Stampare le forme dei dataset\n",
    "print(\"\\nForme dei dataset:\")\n",
    "print(f\"X_train_imputed: {X_train_imputed.shape}\")\n",
    "print(f\"X_val_imputed: {X_val_imputed.shape}\")\n",
    "print(f\"X_test_imputed: {X_test_imputed.shape}\")\n",
    "print(f\"X_train_resampled: {X_train_resampled.shape}\")"
   ],
   "metadata": {
    "collapsed": false,
    "ExecuteTime": {
     "end_time": "2024-08-29T08:04:38.373113Z",
     "start_time": "2024-08-29T08:04:38.359506Z"
    }
   },
   "id": "5e3e48e199bfe938",
   "execution_count": 11
  },
  {
   "cell_type": "code",
   "outputs": [
    {
     "name": "stderr",
     "output_type": "stream",
     "text": [
      "Training Progress:   0%|          | 0/10 [00:00<?, ?it/s]"
     ]
    },
    {
     "name": "stdout",
     "output_type": "stream",
     "text": [
      "Fitting 2 folds for each of 24 candidates, totalling 48 fits\n"
     ]
    },
    {
     "name": "stderr",
     "output_type": "stream",
     "text": [
      "Training Progress:  10%|█         | 1/10 [00:48<07:16, 48.47s/it]"
     ]
    },
    {
     "name": "stdout",
     "output_type": "stream",
     "text": [
      "Fitting 2 folds for each of 24 candidates, totalling 48 fits\n"
     ]
    },
    {
     "name": "stderr",
     "output_type": "stream",
     "text": [
      "Training Progress:  20%|██        | 2/10 [02:53<12:26, 93.28s/it]"
     ]
    },
    {
     "name": "stdout",
     "output_type": "stream",
     "text": [
      "Fitting 2 folds for each of 24 candidates, totalling 48 fits\n"
     ]
    },
    {
     "name": "stderr",
     "output_type": "stream",
     "text": [
      "Training Progress:  30%|███       | 3/10 [06:16<16:44, 143.43s/it]"
     ]
    },
    {
     "name": "stdout",
     "output_type": "stream",
     "text": [
      "Fitting 2 folds for each of 24 candidates, totalling 48 fits\n"
     ]
    }
   ],
   "source": [
    "random_forest_model = oversampling_multiclass.train_random_forest_multiclass(X_train_resampled, y_train_resampled, X_val_imputed, y_val_encoded, 10)"
   ],
   "metadata": {
    "collapsed": false,
    "is_executing": true,
    "ExecuteTime": {
     "start_time": "2024-08-29T08:04:38.375236Z"
    }
   },
   "id": "eb2bc0074285ff3d",
   "execution_count": null
  }
 ],
 "metadata": {
  "kernelspec": {
   "display_name": "Python 3",
   "language": "python",
   "name": "python3"
  },
  "language_info": {
   "codemirror_mode": {
    "name": "ipython",
    "version": 2
   },
   "file_extension": ".py",
   "mimetype": "text/x-python",
   "name": "python",
   "nbconvert_exporter": "python",
   "pygments_lexer": "ipython2",
   "version": "2.7.6"
  }
 },
 "nbformat": 4,
 "nbformat_minor": 5
}
